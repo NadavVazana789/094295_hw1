{
 "cells": [
  {
   "cell_type": "code",
   "execution_count": 63,
   "metadata": {},
   "outputs": [],
   "source": [
    "import pandas as pd\n",
    "import numpy as np\n",
    "import torch\n",
    "import os\n",
    "import optuna\n",
    "import xgboost as xgb\n",
    "from torch import nn\n",
    "from torch.utils.data import Dataset, DataLoader\n",
    "from matplotlib import pyplot as plt\n",
    "from sklearn.metrics import f1_score"
   ]
  },
  {
   "cell_type": "code",
   "execution_count": 2,
   "metadata": {},
   "outputs": [],
   "source": [
    "TRAIN_PATH = 'data/train/'\n",
    "TEST_PATH = 'data/test/'\n",
    "device = torch.device('cuda' if torch.cuda.is_available() else 'cpu')\n",
    "def warn(*args, **kwargs):\n",
    "    pass\n",
    "import warnings\n",
    "warnings.warn = warn"
   ]
  },
  {
   "attachments": {},
   "cell_type": "markdown",
   "metadata": {},
   "source": [
    "# Baseline Model\n",
    "### Dataset"
   ]
  },
  {
   "cell_type": "code",
   "execution_count": 79,
   "metadata": {},
   "outputs": [],
   "source": [
    "class BaselineDataset(Dataset):\n",
    "    def __init__(self, path=TRAIN_PATH):\n",
    "        self.data = []\n",
    "        self.target = []\n",
    "        for file in os.listdir(path):\n",
    "            df = pd.read_csv(path + file, sep='|')\n",
    "            df = df.fillna(method='ffill') # if possible fill with previous value\n",
    "            df = df.fillna(0) # else fill with 0\n",
    "            sepsis_index = df[df['SepsisLabel'] == 1].first_valid_index()\n",
    "            self.target.append(1 if sepsis_index else 0)\n",
    "            self.data.append(torch.Tensor(df.drop('SepsisLabel', axis=1).iloc[-1] if sepsis_index is None else df.drop('SepsisLabel', axis=1).iloc[sepsis_index]))\n",
    "\n",
    "    def __len__(self):\n",
    "        return len(self.data)\n",
    "\n",
    "    def __getitem__(self, idx):\n",
    "        return self.data[idx], self.target[idx]"
   ]
  },
  {
   "attachments": {},
   "cell_type": "markdown",
   "metadata": {},
   "source": [
    "### Model"
   ]
  },
  {
   "cell_type": "code",
   "execution_count": 119,
   "metadata": {},
   "outputs": [],
   "source": [
    "class Model(nn.Module):\n",
    "    def __init__(self, input_size=40, hidden_size=128, output_size=2, activation='ReLU', dropout=0.2):\n",
    "        super(Model, self).__init__()\n",
    "        self.fc1 = nn.Linear(input_size, hidden_size)\n",
    "        self.fc2 = nn.Linear(hidden_size, int(hidden_size/2))\n",
    "        self.fc3 = nn.Linear(int(hidden_size/2), output_size)\n",
    "        self.sequence = nn.Sequential(self.fc1, getattr(nn, activation)(), nn.Dropout(p=dropout), self.fc2, \n",
    "                                      getattr(nn, activation)(), nn.Dropout(p=dropout), self.fc3, getattr(nn, activation)())\n",
    "\n",
    "    def forward(self, x):\n",
    "        return self.sequence(x)"
   ]
  },
  {
   "attachments": {},
   "cell_type": "markdown",
   "metadata": {},
   "source": [
    "### Hyperparameter Tuning"
   ]
  },
  {
   "cell_type": "code",
   "execution_count": 80,
   "metadata": {},
   "outputs": [],
   "source": [
    "train_set = BaselineDataset()\n",
    "test_set = BaselineDataset(path=TEST_PATH)\n",
    "train_dataloader = DataLoader(train_set, batch_size=32, shuffle=True)\n",
    "test_dataloader = DataLoader(test_set, batch_size=32, shuffle=True)"
   ]
  },
  {
   "cell_type": "code",
   "execution_count": 81,
   "metadata": {},
   "outputs": [
    {
     "data": {
      "text/plain": [
       "torch.Size([40])"
      ]
     },
     "execution_count": 81,
     "metadata": {},
     "output_type": "execute_result"
    }
   ],
   "source": [
    "train_set[0][0].shape"
   ]
  },
  {
   "cell_type": "code",
   "execution_count": null,
   "metadata": {},
   "outputs": [],
   "source": [
    "count_zero = sum([1 for i in train_set.target if i == 0])\n",
    "count_one = 20000 - count_zero"
   ]
  },
  {
   "cell_type": "code",
   "execution_count": 21,
   "metadata": {},
   "outputs": [],
   "source": [
    "def train(loss_fn, optimizer, model,  train_dataloader, test_dataloader, device=device, epochs=20, save_best=False, save_name='best_baseline_model.pt', accumulate_grad=False, batch_size=32):\n",
    "    train_losses = []\n",
    "    test_losses = []\n",
    "    train_f1_scores = []\n",
    "    test_f1_scores = []\n",
    "    max_f1_score = 0\n",
    "    optimizer.zero_grad()\n",
    "    for i in range(epochs):\n",
    "        model.train()\n",
    "        train_loss = 0\n",
    "        train_f1_score = 0\n",
    "        for j, data in enumerate(train_dataloader):\n",
    "            input, target = data\n",
    "            input = input.to(device)\n",
    "            target = target.to(device)\n",
    "            output = model(input)\n",
    "            pred = torch.argmax(output, dim=1)\n",
    "            train_f1_score += f1_score(target.to(torch.device('cpu')), pred.to(torch.device('cpu')))\n",
    "            loss = loss_fn(output, target)\n",
    "            train_loss += loss.item()\n",
    "            if accumulate_grad:\n",
    "                loss = loss/batch_size\n",
    "            loss.backward()\n",
    "            if not accumulate_grad or j+1 % batch_size == 0:\n",
    "                optimizer.step()\n",
    "                optimizer.zero_grad()\n",
    "        if accumulate_grad and j+1 % batch_size != 0:\n",
    "            optimizer.step()\n",
    "            optimizer.zero_grad()\n",
    "        train_f1_scores.append(train_f1_score/len(train_dataloader))\n",
    "        train_losses.append(train_loss/len(train_dataloader))\n",
    "        test_loss, test_f1_score = activity(model, test_dataloader, loss_fn, device)\n",
    "        test_losses.append(test_loss)\n",
    "        test_f1_scores.append(test_f1_score)\n",
    "        if save_best and test_f1_score > max_f1_score:\n",
    "            max_f1_score = test_f1_score\n",
    "            torch.save(model, save_name)\n",
    "        if ((i+1) % 1) == 0:\n",
    "            print('Epoch: {} Train Loss: {} Test Loss: {}'.format(i+1, train_losses[-1], test_losses[-1]))\n",
    "    return train_losses, test_losses, train_f1_scores, test_f1_scores\n",
    "\n",
    "def activity(model, test_dataloader, loss_fn, device):\n",
    "    model.eval()\n",
    "    preds = []\n",
    "    targets = []\n",
    "    test_loss = 0\n",
    "    test_f1_score = 0\n",
    "    with torch.no_grad():\n",
    "        for data in test_dataloader:\n",
    "            input, target = data\n",
    "            input = input.to(device)\n",
    "            target = target.to(device)\n",
    "            output = model(input)\n",
    "            pred = torch.argmax(output, dim=1)\n",
    "            preds.append(pred)\n",
    "            targets.append(target)\n",
    "            loss = loss_fn(output, target)\n",
    "            test_loss += loss.item()\n",
    "        return test_loss/len(test_dataloader), f1_score(torch.cat(targets).to(torch.device('cpu')), torch.cat(preds).to(torch.device('cpu')))\n"
   ]
  },
  {
   "cell_type": "code",
   "execution_count": 123,
   "metadata": {},
   "outputs": [
    {
     "name": "stderr",
     "output_type": "stream",
     "text": [
      "\u001b[32m[I 2023-05-07 14:47:03,546]\u001b[0m A new study created in memory with name: no-name-6b3cb849-f54f-44fb-aad5-190f9ea65d84\u001b[0m\n"
     ]
    },
    {
     "name": "stdout",
     "output_type": "stream",
     "text": [
      "Epoch: 1 Train Loss: 0.6751265309333802 Test Loss: 0.673073904963728\n",
      "Epoch: 2 Train Loss: 0.667969174194336 Test Loss: 0.668050794365307\n",
      "Epoch: 3 Train Loss: 0.6630003866195678 Test Loss: 0.658397915169073\n",
      "Epoch: 4 Train Loss: 0.6520833705902099 Test Loss: 0.64939831678098\n",
      "Epoch: 5 Train Loss: 0.6400787606716156 Test Loss: 0.6322405216412041\n",
      "Epoch: 6 Train Loss: 0.6305445245742798 Test Loss: 0.6173921596889679\n",
      "Epoch: 7 Train Loss: 0.6142606265068055 Test Loss: 0.609592998465791\n",
      "Epoch: 8 Train Loss: 0.6054944540023803 Test Loss: 0.5979381280775649\n",
      "Epoch: 9 Train Loss: 0.5984105907440186 Test Loss: 0.5913386371569892\n",
      "Epoch: 10 Train Loss: 0.5908998592853546 Test Loss: 0.5847886587484196\n",
      "Epoch: 11 Train Loss: 0.5856277533531189 Test Loss: 0.5888432189108084\n",
      "Epoch: 12 Train Loss: 0.5840074746131897 Test Loss: 0.5856352486549475\n",
      "Epoch: 13 Train Loss: 0.5811905416965485 Test Loss: 0.5834909512783392\n",
      "Epoch: 14 Train Loss: 0.5791740300178528 Test Loss: 0.573745244988999\n"
     ]
    },
    {
     "name": "stderr",
     "output_type": "stream",
     "text": [
      "\u001b[32m[I 2023-05-07 14:47:31,051]\u001b[0m Trial 0 finished with value: 0.36338028169014086 and parameters: {'hidden_size': 299, 'activation': 'Sigmoid', 'dropout': 0.2341313081583729, 'optimizer': 'SGD', 'lr': 0.02308771797142592}. Best is trial 0 with value: 0.36338028169014086.\u001b[0m\n"
     ]
    },
    {
     "name": "stdout",
     "output_type": "stream",
     "text": [
      "Epoch: 15 Train Loss: 0.5766406905174255 Test Loss: 0.5723576614270195\n",
      "Epoch: 1 Train Loss: 0.9837821280479431 Test Loss: 0.693147187225354\n",
      "Epoch: 2 Train Loss: 0.6929858085632324 Test Loss: 0.6931472066492318\n",
      "Epoch: 3 Train Loss: 0.7011253905296325 Test Loss: 0.6931471904626669\n",
      "Epoch: 4 Train Loss: 0.6928465410232544 Test Loss: 0.6931471836071806\n",
      "Epoch: 5 Train Loss: 0.69263890209198 Test Loss: 0.6931471836071806\n",
      "Epoch: 6 Train Loss: 0.7234750700950623 Test Loss: 0.693147188367935\n",
      "Epoch: 7 Train Loss: 0.6927200839996338 Test Loss: 0.6931471965564325\n",
      "Epoch: 8 Train Loss: 0.6926566619873047 Test Loss: 0.6931471815124487\n",
      "Epoch: 9 Train Loss: 0.6919147536277771 Test Loss: 0.6931471855114824\n",
      "Epoch: 10 Train Loss: 0.6911592943191528 Test Loss: 0.6909729794572337\n",
      "Epoch: 11 Train Loss: 1.1489763630867005 Test Loss: 0.6931471900818066\n",
      "Epoch: 12 Train Loss: 0.6930349601745606 Test Loss: 0.6931471830358902\n",
      "Epoch: 13 Train Loss: 0.6929283584594726 Test Loss: 0.6931471830358902\n",
      "Epoch: 14 Train Loss: 0.6928101053237915 Test Loss: 0.6931471902722368\n"
     ]
    },
    {
     "name": "stderr",
     "output_type": "stream",
     "text": [
      "\u001b[32m[I 2023-05-07 14:48:04,408]\u001b[0m Trial 1 finished with value: 0.0 and parameters: {'hidden_size': 99, 'activation': 'ReLU', 'dropout': 0.3783250000412074, 'optimizer': 'Adagrad', 'lr': 0.07091959441780465}. Best is trial 0 with value: 0.36338028169014086.\u001b[0m\n"
     ]
    },
    {
     "name": "stdout",
     "output_type": "stream",
     "text": [
      "Epoch: 15 Train Loss: 0.6927705614089966 Test Loss: 0.6931471879870746\n",
      "Epoch: 1 Train Loss: nan Test Loss: nan\n",
      "Epoch: 2 Train Loss: nan Test Loss: nan\n",
      "Epoch: 3 Train Loss: nan Test Loss: nan\n",
      "Epoch: 4 Train Loss: nan Test Loss: nan\n",
      "Epoch: 5 Train Loss: nan Test Loss: nan\n",
      "Epoch: 6 Train Loss: nan Test Loss: nan\n",
      "Epoch: 7 Train Loss: nan Test Loss: nan\n",
      "Epoch: 8 Train Loss: nan Test Loss: nan\n",
      "Epoch: 9 Train Loss: nan Test Loss: nan\n",
      "Epoch: 10 Train Loss: nan Test Loss: nan\n",
      "Epoch: 11 Train Loss: nan Test Loss: nan\n",
      "Epoch: 12 Train Loss: nan Test Loss: nan\n",
      "Epoch: 13 Train Loss: nan Test Loss: nan\n",
      "Epoch: 14 Train Loss: nan Test Loss: nan\n"
     ]
    },
    {
     "name": "stderr",
     "output_type": "stream",
     "text": [
      "\u001b[32m[I 2023-05-07 14:48:48,225]\u001b[0m Trial 2 finished with value: 0.0 and parameters: {'hidden_size': 333, 'activation': 'LeakyReLU', 'dropout': 0.06483083388750893, 'optimizer': 'SGD', 'lr': 0.09730790591633032}. Best is trial 0 with value: 0.36338028169014086.\u001b[0m\n"
     ]
    },
    {
     "name": "stdout",
     "output_type": "stream",
     "text": [
      "Epoch: 15 Train Loss: nan Test Loss: nan\n",
      "Epoch: 1 Train Loss: 16.648108158814907 Test Loss: 0.6475539198889139\n",
      "Epoch: 2 Train Loss: 0.7684777076244355 Test Loss: 0.6590500396851915\n",
      "Epoch: 3 Train Loss: 0.697176564502716 Test Loss: 0.6476276667354206\n",
      "Epoch: 4 Train Loss: 0.6661272836208344 Test Loss: 0.6209361778851896\n",
      "Epoch: 5 Train Loss: 0.6511888924598694 Test Loss: 0.603329001524197\n",
      "Epoch: 6 Train Loss: 0.650271574497223 Test Loss: 0.5898727732725417\n",
      "Epoch: 7 Train Loss: 0.6311310454845428 Test Loss: 0.600722116974596\n",
      "Epoch: 8 Train Loss: 0.6192474018096924 Test Loss: 0.5699023716746808\n",
      "Epoch: 9 Train Loss: 0.6052192871570587 Test Loss: 0.5592536210252074\n",
      "Epoch: 10 Train Loss: 0.5957872455835342 Test Loss: 0.5632694408821222\n",
      "Epoch: 11 Train Loss: 0.6419300121545791 Test Loss: 0.6094560723620862\n",
      "Epoch: 12 Train Loss: 0.5966368093371391 Test Loss: 0.5559623614667704\n",
      "Epoch: 13 Train Loss: 0.5839209097027779 Test Loss: 0.5292681625095038\n",
      "Epoch: 14 Train Loss: 0.5776288018465042 Test Loss: 0.5221080960461888\n"
     ]
    },
    {
     "name": "stderr",
     "output_type": "stream",
     "text": [
      "\u001b[32m[I 2023-05-07 14:49:37,834]\u001b[0m Trial 3 finished with value: 0.4226006191950465 and parameters: {'hidden_size': 348, 'activation': 'LeakyReLU', 'dropout': 0.3749369512512472, 'optimizer': 'Adagrad', 'lr': 0.09813681742416254}. Best is trial 3 with value: 0.4226006191950465.\u001b[0m\n"
     ]
    },
    {
     "name": "stdout",
     "output_type": "stream",
     "text": [
      "Epoch: 15 Train Loss: 0.5553154793262481 Test Loss: 0.5137230589652595\n",
      "Epoch: 1 Train Loss: nan Test Loss: nan\n",
      "Epoch: 2 Train Loss: nan Test Loss: nan\n",
      "Epoch: 3 Train Loss: nan Test Loss: nan\n",
      "Epoch: 4 Train Loss: nan Test Loss: nan\n",
      "Epoch: 5 Train Loss: nan Test Loss: nan\n",
      "Epoch: 6 Train Loss: nan Test Loss: nan\n",
      "Epoch: 7 Train Loss: nan Test Loss: nan\n",
      "Epoch: 8 Train Loss: nan Test Loss: nan\n",
      "Epoch: 9 Train Loss: nan Test Loss: nan\n",
      "Epoch: 10 Train Loss: nan Test Loss: nan\n",
      "Epoch: 11 Train Loss: nan Test Loss: nan\n",
      "Epoch: 12 Train Loss: nan Test Loss: nan\n",
      "Epoch: 13 Train Loss: nan Test Loss: nan\n",
      "Epoch: 14 Train Loss: nan Test Loss: nan\n"
     ]
    },
    {
     "name": "stderr",
     "output_type": "stream",
     "text": [
      "\u001b[32m[I 2023-05-07 14:50:19,842]\u001b[0m Trial 4 finished with value: 0.0 and parameters: {'hidden_size': 116, 'activation': 'LeakyReLU', 'dropout': 0.44324000819674536, 'optimizer': 'SGD', 'lr': 0.06418977012439024}. Best is trial 3 with value: 0.4226006191950465.\u001b[0m\n"
     ]
    },
    {
     "name": "stdout",
     "output_type": "stream",
     "text": [
      "Epoch: 15 Train Loss: nan Test Loss: nan\n",
      "Epoch: 1 Train Loss: 0.7361323916435242 Test Loss: 0.6901021034191972\n",
      "Epoch: 2 Train Loss: 0.698334628868103 Test Loss: 0.6893320287378452\n",
      "Epoch: 3 Train Loss: 0.6952689609527588 Test Loss: 0.6907699885078893\n",
      "Epoch: 4 Train Loss: 0.6901608064651489 Test Loss: 0.6904982840672088\n",
      "Epoch: 5 Train Loss: 0.6902372616767883 Test Loss: 0.690287566603944\n",
      "Epoch: 6 Train Loss: 0.6905527740478515 Test Loss: 0.6904604067436804\n",
      "Epoch: 7 Train Loss: 0.6900041229248047 Test Loss: 0.6903185648278306\n",
      "Epoch: 8 Train Loss: 0.6901034066200257 Test Loss: 0.6899383706025803\n",
      "Epoch: 9 Train Loss: 0.689834018611908 Test Loss: 0.6903633568614436\n",
      "Epoch: 10 Train Loss: 0.6896419122695923 Test Loss: 0.6901441191712888\n",
      "Epoch: 11 Train Loss: 0.6922256068229675 Test Loss: 0.6902245286935434\n",
      "Epoch: 12 Train Loss: 0.6935029104232788 Test Loss: 0.6904015270665812\n",
      "Epoch: 13 Train Loss: 0.6901192391395569 Test Loss: 0.690200402523382\n",
      "Epoch: 14 Train Loss: 0.6913886754989624 Test Loss: 0.6903140108806257\n"
     ]
    },
    {
     "name": "stderr",
     "output_type": "stream",
     "text": [
      "\u001b[32m[I 2023-05-07 14:51:12,664]\u001b[0m Trial 5 finished with value: 0.0 and parameters: {'hidden_size': 468, 'activation': 'ReLU', 'dropout': 0.2781181102277802, 'optimizer': 'Adagrad', 'lr': 0.0024865792354025014}. Best is trial 3 with value: 0.4226006191950465.\u001b[0m\n"
     ]
    },
    {
     "name": "stdout",
     "output_type": "stream",
     "text": [
      "Epoch: 15 Train Loss: 0.6900909375190735 Test Loss: 0.6903943945043765\n",
      "Epoch: 1 Train Loss: 0.6953423962593078 Test Loss: 0.6931471729430908\n",
      "Epoch: 2 Train Loss: 0.6931471952438355 Test Loss: 0.6931471936999799\n",
      "Epoch: 3 Train Loss: 0.6931471956253051 Test Loss: 0.6931471857019126\n",
      "Epoch: 4 Train Loss: 0.6931472010612488 Test Loss: 0.693147187225354\n",
      "Epoch: 5 Train Loss: 0.6931471967697144 Test Loss: 0.6931471904626669\n",
      "Epoch: 6 Train Loss: 0.6931472030639648 Test Loss: 0.6931471797985772\n",
      "Epoch: 7 Train Loss: 0.6931471845626831 Test Loss: 0.6931471870349238\n",
      "Epoch: 8 Train Loss: 0.6931471925735474 Test Loss: 0.6931471847497617\n",
      "Epoch: 9 Train Loss: 0.6931471927642823 Test Loss: 0.6931471853210522\n",
      "Epoch: 10 Train Loss: 0.6931471970558166 Test Loss: 0.6931471902722368\n",
      "Epoch: 11 Train Loss: 0.6931471893310547 Test Loss: 0.6931471904626669\n",
      "Epoch: 12 Train Loss: 0.6931471950531006 Test Loss: 0.6931471786559961\n",
      "Epoch: 13 Train Loss: 0.6931471985816956 Test Loss: 0.6931471868444936\n",
      "Epoch: 14 Train Loss: 0.6931471940994263 Test Loss: 0.6931471801794375\n"
     ]
    },
    {
     "name": "stderr",
     "output_type": "stream",
     "text": [
      "\u001b[32m[I 2023-05-07 14:51:42,511]\u001b[0m Trial 6 finished with value: 0.0 and parameters: {'hidden_size': 102, 'activation': 'ReLU', 'dropout': 0.07548412712871988, 'optimizer': 'SGD', 'lr': 0.01153739196097976}. Best is trial 3 with value: 0.4226006191950465.\u001b[0m\n"
     ]
    },
    {
     "name": "stdout",
     "output_type": "stream",
     "text": [
      "Epoch: 15 Train Loss: 0.6931471861839295 Test Loss: 0.6931471746569624\n",
      "Epoch: 1 Train Loss: 0.6997095768928527 Test Loss: 0.6931472011267568\n",
      "Epoch: 2 Train Loss: 0.6931472012519836 Test Loss: 0.6931471936999799\n",
      "Epoch: 3 Train Loss: 0.6931472032546997 Test Loss: 0.6931471809411582\n",
      "Epoch: 4 Train Loss: 0.6931471954345703 Test Loss: 0.6931471870349238\n",
      "Epoch: 5 Train Loss: 0.6931471955299378 Test Loss: 0.6931472001746058\n",
      "Epoch: 6 Train Loss: 0.693157495212555 Test Loss: 0.6931472011267568\n",
      "Epoch: 7 Train Loss: 0.6931471961021424 Test Loss: 0.6931471761804038\n",
      "Epoch: 8 Train Loss: 0.6931472031593323 Test Loss: 0.6931471855114824\n",
      "Epoch: 9 Train Loss: 0.6931471955299378 Test Loss: 0.6931471792272866\n",
      "Epoch: 10 Train Loss: 0.6931471895217896 Test Loss: 0.693147185130622\n",
      "Epoch: 11 Train Loss: 0.6931472031593323 Test Loss: 0.6931471893200859\n",
      "Epoch: 12 Train Loss: 0.6931471990585327 Test Loss: 0.693147188367935\n",
      "Epoch: 13 Train Loss: 0.6931471954345703 Test Loss: 0.6931471889392256\n",
      "Epoch: 14 Train Loss: 0.6931472026824951 Test Loss: 0.6931471866540635\n"
     ]
    },
    {
     "name": "stderr",
     "output_type": "stream",
     "text": [
      "\u001b[32m[I 2023-05-07 14:52:08,433]\u001b[0m Trial 7 finished with value: 0.0 and parameters: {'hidden_size': 40, 'activation': 'ReLU', 'dropout': 0.0250136750941074, 'optimizer': 'SGD', 'lr': 0.03834933098678228}. Best is trial 3 with value: 0.4226006191950465.\u001b[0m\n"
     ]
    },
    {
     "name": "stdout",
     "output_type": "stream",
     "text": [
      "Epoch: 15 Train Loss: 0.6931471912384033 Test Loss: 0.6931471744665323\n",
      "Epoch: 1 Train Loss: 0.8785837010383606 Test Loss: 0.6931471761804038\n",
      "Epoch: 2 Train Loss: 0.693147199344635 Test Loss: 0.6931471952234214\n",
      "Epoch: 3 Train Loss: 0.6931472054481507 Test Loss: 0.6931471874157842\n",
      "Epoch: 4 Train Loss: 0.6931471926689148 Test Loss: 0.6931471864636333\n",
      "Epoch: 5 Train Loss: 0.6931471961021424 Test Loss: 0.6931471938904101\n",
      "Epoch: 6 Train Loss: 0.6931471988677979 Test Loss: 0.6931471874157842\n",
      "Epoch: 7 Train Loss: 0.6931471886634827 Test Loss: 0.6931471868444936\n",
      "Epoch: 8 Train Loss: 0.6931471998214722 Test Loss: 0.6931471933191196\n",
      "Epoch: 9 Train Loss: 0.6931471974372864 Test Loss: 0.6931471822741694\n",
      "Epoch: 10 Train Loss: 0.6931472004890442 Test Loss: 0.6931471870349238\n",
      "Epoch: 11 Train Loss: 0.6931471927642823 Test Loss: 0.6931471849401919\n",
      "Epoch: 12 Train Loss: 0.6931471899986267 Test Loss: 0.6931471931286894\n",
      "Epoch: 13 Train Loss: 0.6931471966743469 Test Loss: 0.6931471830358902\n",
      "Epoch: 14 Train Loss: 0.6931472033500672 Test Loss: 0.693147178465566\n"
     ]
    },
    {
     "name": "stderr",
     "output_type": "stream",
     "text": [
      "\u001b[32m[I 2023-05-07 14:52:34,739]\u001b[0m Trial 8 finished with value: 0.0 and parameters: {'hidden_size': 326, 'activation': 'ReLU', 'dropout': 0.43067573458487757, 'optimizer': 'SGD', 'lr': 0.0819612354758466}. Best is trial 3 with value: 0.4226006191950465.\u001b[0m\n"
     ]
    },
    {
     "name": "stdout",
     "output_type": "stream",
     "text": [
      "Epoch: 15 Train Loss: 0.6931471975326539 Test Loss: 0.693147179608147\n",
      "Epoch: 1 Train Loss: 0.8608809113740921 Test Loss: 0.6415132640268856\n",
      "Epoch: 2 Train Loss: 0.6868420143246651 Test Loss: 0.5544015735673448\n",
      "Epoch: 3 Train Loss: 0.6916369832590222 Test Loss: 0.5460408627986908\n",
      "Epoch: 4 Train Loss: 0.5679392099738121 Test Loss: 0.5155034851723205\n",
      "Epoch: 5 Train Loss: 0.5194523096323014 Test Loss: 0.44964438862503525\n",
      "Epoch: 6 Train Loss: 0.47694170483350756 Test Loss: 0.4370422705103414\n",
      "Epoch: 7 Train Loss: 0.7210135119952261 Test Loss: 0.5572674541046825\n",
      "Epoch: 8 Train Loss: 0.9062768333315849 Test Loss: 0.4806315165024977\n",
      "Epoch: 9 Train Loss: 0.5345996333241463 Test Loss: 0.4464474072376379\n",
      "Epoch: 10 Train Loss: 0.7750850825101138 Test Loss: 0.4719287546964499\n",
      "Epoch: 11 Train Loss: 0.9093102917551994 Test Loss: 0.8621568012411316\n",
      "Epoch: 12 Train Loss: 0.6069487644702196 Test Loss: 0.48420340948687574\n",
      "Epoch: 13 Train Loss: 0.5786562337577343 Test Loss: 0.49436934011431927\n",
      "Epoch: 14 Train Loss: 1.161370578569174 Test Loss: 0.561719332259303\n"
     ]
    },
    {
     "name": "stderr",
     "output_type": "stream",
     "text": [
      "\u001b[32m[I 2023-05-07 14:53:01,698]\u001b[0m Trial 9 finished with value: 0.5322338830584709 and parameters: {'hidden_size': 188, 'activation': 'LeakyReLU', 'dropout': 0.05482411525590847, 'optimizer': 'Adam', 'lr': 0.010733295315660883}. Best is trial 9 with value: 0.5322338830584709.\u001b[0m\n"
     ]
    },
    {
     "name": "stdout",
     "output_type": "stream",
     "text": [
      "Epoch: 15 Train Loss: 0.729429311516881 Test Loss: 0.5054259839625405\n",
      "Epoch: 1 Train Loss: 0.6968555593729019 Test Loss: 0.6931476621582104\n",
      "Epoch: 2 Train Loss: 0.6931483422279358 Test Loss: 0.6931470703012266\n",
      "Epoch: 3 Train Loss: 0.6931475896835327 Test Loss: 0.693147143807274\n",
      "Epoch: 4 Train Loss: 0.693147382736206 Test Loss: 0.6931471672301857\n",
      "Epoch: 5 Train Loss: 0.693147301197052 Test Loss: 0.6931471704674986\n",
      "Epoch: 6 Train Loss: 0.6931472516059876 Test Loss: 0.6931471582799674\n",
      "Epoch: 7 Train Loss: 0.6931472185134888 Test Loss: 0.6931471959851421\n",
      "Epoch: 8 Train Loss: 0.6931472180366516 Test Loss: 0.6931471997937455\n",
      "Epoch: 9 Train Loss: 0.6931471977233886 Test Loss: 0.693147187225354\n",
      "Epoch: 10 Train Loss: 0.6931472182273865 Test Loss: 0.6931471967468628\n",
      "Epoch: 11 Train Loss: 0.6931472121238709 Test Loss: 0.6931471834167505\n",
      "Epoch: 12 Train Loss: 0.6931471876144409 Test Loss: 0.6931471767516943\n",
      "Epoch: 13 Train Loss: 0.69314719581604 Test Loss: 0.6931471874157842\n",
      "Epoch: 14 Train Loss: 0.693147203540802 Test Loss: 0.6931471860827729\n"
     ]
    },
    {
     "name": "stderr",
     "output_type": "stream",
     "text": [
      "\u001b[32m[I 2023-05-07 14:53:29,468]\u001b[0m Trial 10 finished with value: 0.11959383226776983 and parameters: {'hidden_size': 202, 'activation': 'Tanh', 'dropout': 0.1448765941072913, 'optimizer': 'Adam', 'lr': 0.03514604306100587}. Best is trial 9 with value: 0.5322338830584709.\u001b[0m\n"
     ]
    },
    {
     "name": "stdout",
     "output_type": "stream",
     "text": [
      "Epoch: 15 Train Loss: 0.6931472006797791 Test Loss: 0.6931471830358902\n",
      "Epoch: 1 Train Loss: 28.236159990119933 Test Loss: 5.49026634468778\n",
      "Epoch: 2 Train Loss: 21.28240127914846 Test Loss: 10.826694670583496\n",
      "Epoch: 3 Train Loss: 40.181599429430065 Test Loss: 10.515543422942683\n",
      "Epoch: 4 Train Loss: 24.89036120858173 Test Loss: 24.26935120976627\n",
      "Epoch: 5 Train Loss: 66.27176673760738 Test Loss: 3.74189630693521\n",
      "Epoch: 6 Train Loss: 35.2307970028969 Test Loss: 5.527954966877215\n",
      "Epoch: 7 Train Loss: 30.551063126064733 Test Loss: 32.02348664991663\n",
      "Epoch: 8 Train Loss: 41.95348660746277 Test Loss: 7.521858666461116\n",
      "Epoch: 9 Train Loss: 35.14126416813135 Test Loss: 5.859880057386697\n",
      "Epoch: 10 Train Loss: 38.1138382717669 Test Loss: 160.2547201683727\n",
      "Epoch: 11 Train Loss: 35.78523335197568 Test Loss: 23.25144850809495\n",
      "Epoch: 12 Train Loss: 446.7760536672889 Test Loss: 292.37010653653084\n",
      "Epoch: 13 Train Loss: 305.21594651870726 Test Loss: 516.9592440087997\n",
      "Epoch: 14 Train Loss: 215.28848025894166 Test Loss: 70.04274959990772\n"
     ]
    },
    {
     "name": "stderr",
     "output_type": "stream",
     "text": [
      "\u001b[32m[I 2023-05-07 14:53:56,231]\u001b[0m Trial 11 finished with value: 0.19783873649210307 and parameters: {'hidden_size': 430, 'activation': 'LeakyReLU', 'dropout': 0.3256095416651454, 'optimizer': 'Adam', 'lr': 0.05091049622981506}. Best is trial 9 with value: 0.5322338830584709.\u001b[0m\n"
     ]
    },
    {
     "name": "stdout",
     "output_type": "stream",
     "text": [
      "Epoch: 15 Train Loss: 74.99637922100068 Test Loss: 9.385576552857225\n",
      "Epoch: 1 Train Loss: 37.81405816106258 Test Loss: 33.242679423819936\n",
      "Epoch: 2 Train Loss: 13.765610689967312 Test Loss: 1.6241843566155663\n",
      "Epoch: 3 Train Loss: 2017.4743265474915 Test Loss: 284.8245054494839\n",
      "Epoch: 4 Train Loss: 1457.0034162506104 Test Loss: 416.9351553383727\n",
      "Epoch: 5 Train Loss: 302.2052875782013 Test Loss: 340.74073177252336\n",
      "Epoch: 6 Train Loss: 121.11549195559174 Test Loss: 78.58892163504382\n",
      "Epoch: 7 Train Loss: 83.22046321142614 Test Loss: 48.29836766178997\n",
      "Epoch: 8 Train Loss: 471.3771789671271 Test Loss: 335.0103920641037\n",
      "Epoch: 9 Train Loss: 591.9502550367594 Test Loss: 232.06662861150676\n",
      "Epoch: 10 Train Loss: 973.8607169496782 Test Loss: 1254.1136732985037\n",
      "Epoch: 11 Train Loss: 453.62217741851805 Test Loss: 104.9815155959044\n",
      "Epoch: 12 Train Loss: 221.9717433634095 Test Loss: 79.4679970891328\n",
      "Epoch: 13 Train Loss: 330.55016140735745 Test Loss: 22.003401131433588\n",
      "Epoch: 14 Train Loss: 251.48247894190092 Test Loss: 559.0230635865428\n"
     ]
    },
    {
     "name": "stderr",
     "output_type": "stream",
     "text": [
      "\u001b[32m[I 2023-05-07 14:54:19,879]\u001b[0m Trial 12 finished with value: 0.1928523263654754 and parameters: {'hidden_size': 220, 'activation': 'LeakyReLU', 'dropout': 0.18481569657425467, 'optimizer': 'Adam', 'lr': 0.09826700007054436}. Best is trial 9 with value: 0.5322338830584709.\u001b[0m\n"
     ]
    },
    {
     "name": "stdout",
     "output_type": "stream",
     "text": [
      "Epoch: 15 Train Loss: 301.58742188796094 Test Loss: 259.2931185110737\n",
      "Epoch: 1 Train Loss: 0.8595316846370697 Test Loss: 0.6090889119873413\n",
      "Epoch: 2 Train Loss: 0.6212402194976807 Test Loss: 0.5713943162569984\n",
      "Epoch: 3 Train Loss: 0.6025411036014557 Test Loss: 0.5522514455996382\n",
      "Epoch: 4 Train Loss: 0.5914539196014404 Test Loss: 0.5491015306962564\n",
      "Epoch: 5 Train Loss: 0.5662025769472122 Test Loss: 0.552534787656781\n",
      "Epoch: 6 Train Loss: 0.5573732820272446 Test Loss: 0.5351354342680008\n",
      "Epoch: 7 Train Loss: 0.5541309153795242 Test Loss: 0.5284128430457161\n",
      "Epoch: 8 Train Loss: 0.5480400368928909 Test Loss: 0.525352597474671\n",
      "Epoch: 9 Train Loss: 0.5403576728582382 Test Loss: 0.520244839520881\n",
      "Epoch: 10 Train Loss: 0.5292377823114395 Test Loss: 0.5318457602312009\n",
      "Epoch: 11 Train Loss: 0.5240062274694443 Test Loss: 0.5034506060540105\n",
      "Epoch: 12 Train Loss: 0.5170921011924744 Test Loss: 0.4953285167678096\n",
      "Epoch: 13 Train Loss: 0.511580733203888 Test Loss: 0.4985768451286962\n",
      "Epoch: 14 Train Loss: 0.5011675901651382 Test Loss: 0.47959478746968714\n"
     ]
    },
    {
     "name": "stderr",
     "output_type": "stream",
     "text": [
      "\u001b[32m[I 2023-05-07 14:54:46,290]\u001b[0m Trial 13 finished with value: 0.46368305209097577 and parameters: {'hidden_size': 382, 'activation': 'LeakyReLU', 'dropout': 0.4843711058515886, 'optimizer': 'Adagrad', 'lr': 0.020715724608797212}. Best is trial 9 with value: 0.5322338830584709.\u001b[0m\n"
     ]
    },
    {
     "name": "stdout",
     "output_type": "stream",
     "text": [
      "Epoch: 15 Train Loss: 0.49507236564159396 Test Loss: 0.4724745236265774\n",
      "Epoch: 1 Train Loss: 0.642440547990799 Test Loss: 0.6057714386679494\n",
      "Epoch: 2 Train Loss: 0.5981297822952271 Test Loss: 0.5694787828876569\n",
      "Epoch: 3 Train Loss: 0.5891893066167831 Test Loss: 0.5430782467793351\n",
      "Epoch: 4 Train Loss: 0.5657966897726059 Test Loss: 0.5318145739575164\n",
      "Epoch: 5 Train Loss: 0.5660060240268707 Test Loss: 0.5262131660034101\n",
      "Epoch: 6 Train Loss: 0.5492452099323273 Test Loss: 0.5440470266361206\n",
      "Epoch: 7 Train Loss: 0.5531998517274856 Test Loss: 0.5426243603610383\n",
      "Epoch: 8 Train Loss: 0.5430585720062255 Test Loss: 0.5134378728775171\n",
      "Epoch: 9 Train Loss: 0.5410989238023758 Test Loss: 0.5077507402569341\n",
      "Epoch: 10 Train Loss: 0.5322634410858155 Test Loss: 0.5031045758590912\n",
      "Epoch: 11 Train Loss: 0.5272172116041184 Test Loss: 0.5070095526429411\n",
      "Epoch: 12 Train Loss: 0.5091967457532882 Test Loss: 0.49825924268355387\n",
      "Epoch: 13 Train Loss: 0.5173205603122711 Test Loss: 0.503633968365459\n",
      "Epoch: 14 Train Loss: 0.5252567351818085 Test Loss: 0.4973110108615491\n"
     ]
    },
    {
     "name": "stderr",
     "output_type": "stream",
     "text": [
      "\u001b[32m[I 2023-05-07 14:55:18,066]\u001b[0m Trial 14 finished with value: 0.48653846153846153 and parameters: {'hidden_size': 393, 'activation': 'Tanh', 'dropout': 0.4774610136839839, 'optimizer': 'Adam', 'lr': 0.00046260777273726336}. Best is trial 9 with value: 0.5322338830584709.\u001b[0m\n"
     ]
    },
    {
     "name": "stdout",
     "output_type": "stream",
     "text": [
      "Epoch: 15 Train Loss: 0.5109203462600708 Test Loss: 0.4960469783971104\n",
      "Epoch: 1 Train Loss: 0.646653755736351 Test Loss: 0.6186287989155553\n",
      "Epoch: 2 Train Loss: 0.5817292373657227 Test Loss: 0.5781108020974425\n",
      "Epoch: 3 Train Loss: 0.5540208314418793 Test Loss: 0.5260536313628237\n",
      "Epoch: 4 Train Loss: 0.5384225158691406 Test Loss: 0.5223391321234809\n",
      "Epoch: 5 Train Loss: 0.5197996362924576 Test Loss: 0.5111704628688459\n",
      "Epoch: 6 Train Loss: 0.5218777968168259 Test Loss: 0.5169449782314391\n",
      "Epoch: 7 Train Loss: 0.5079837850809097 Test Loss: 0.4862093510814368\n",
      "Epoch: 8 Train Loss: 0.5091888068199157 Test Loss: 0.5146090438762031\n",
      "Epoch: 9 Train Loss: 0.4925888386726379 Test Loss: 0.5509300719434842\n",
      "Epoch: 10 Train Loss: 0.4827581548690796 Test Loss: 0.46254794794720966\n",
      "Epoch: 11 Train Loss: 0.4765388329744339 Test Loss: 0.4592401805205848\n",
      "Epoch: 12 Train Loss: 0.4798684800863266 Test Loss: 0.47089900495335696\n",
      "Epoch: 13 Train Loss: 0.46909606573581697 Test Loss: 0.4603874430107994\n",
      "Epoch: 14 Train Loss: 0.4572363934755325 Test Loss: 0.4803257592665121\n"
     ]
    },
    {
     "name": "stderr",
     "output_type": "stream",
     "text": [
      "\u001b[32m[I 2023-05-07 14:56:05,744]\u001b[0m Trial 15 finished with value: 0.4965517241379311 and parameters: {'hidden_size': 510, 'activation': 'Tanh', 'dropout': 0.0016025988079678352, 'optimizer': 'Adam', 'lr': 0.0007673775543008839}. Best is trial 9 with value: 0.5322338830584709.\u001b[0m\n"
     ]
    },
    {
     "name": "stdout",
     "output_type": "stream",
     "text": [
      "Epoch: 15 Train Loss: 0.4698383548736572 Test Loss: 0.46560536377346173\n",
      "Epoch: 1 Train Loss: 0.8393814307928086 Test Loss: 0.9570314107706752\n",
      "Epoch: 2 Train Loss: 0.9396484868526459 Test Loss: 0.9590698306362468\n",
      "Epoch: 3 Train Loss: 0.9287711283922195 Test Loss: 0.9569892847595124\n",
      "Epoch: 4 Train Loss: 0.9326904340744019 Test Loss: 0.955587766279047\n",
      "Epoch: 5 Train Loss: 0.9347439979553223 Test Loss: 0.9539089449487936\n",
      "Epoch: 6 Train Loss: 0.9334378678321839 Test Loss: 0.9542389466834906\n",
      "Epoch: 7 Train Loss: 0.9306014468669891 Test Loss: 0.9834688122565753\n",
      "Epoch: 8 Train Loss: 0.9387183602571487 Test Loss: 0.9621017978499873\n",
      "Epoch: 9 Train Loss: 0.9309052769422531 Test Loss: 0.9514044247591458\n",
      "Epoch: 10 Train Loss: 0.9332745045423507 Test Loss: 0.9637397084944546\n",
      "Epoch: 11 Train Loss: 0.9354012517690659 Test Loss: 0.9620730005704556\n",
      "Epoch: 12 Train Loss: 0.9379640849113464 Test Loss: 0.9659100411513362\n",
      "Epoch: 13 Train Loss: 0.9319502618312836 Test Loss: 0.9684025619071893\n",
      "Epoch: 14 Train Loss: 0.9278276163339615 Test Loss: 0.9508779060345488\n"
     ]
    },
    {
     "name": "stderr",
     "output_type": "stream",
     "text": [
      "\u001b[32m[I 2023-05-07 14:56:54,714]\u001b[0m Trial 16 finished with value: 0.0 and parameters: {'hidden_size': 512, 'activation': 'Tanh', 'dropout': 0.010182671669464894, 'optimizer': 'Adam', 'lr': 0.01691281849498289}. Best is trial 9 with value: 0.5322338830584709.\u001b[0m\n"
     ]
    },
    {
     "name": "stdout",
     "output_type": "stream",
     "text": [
      "Epoch: 15 Train Loss: 0.9422052430868149 Test Loss: 0.968640796197489\n",
      "Epoch: 1 Train Loss: 0.6785303439617157 Test Loss: 0.6798673468275954\n",
      "Epoch: 2 Train Loss: 0.6792499269008636 Test Loss: 0.6791957719638325\n",
      "Epoch: 3 Train Loss: 0.6790315723419189 Test Loss: 0.677233707219267\n",
      "Epoch: 4 Train Loss: 0.679512339925766 Test Loss: 0.6801549493314359\n",
      "Epoch: 5 Train Loss: 0.6771221239089966 Test Loss: 0.681601464177092\n",
      "Epoch: 6 Train Loss: 0.6774833141326905 Test Loss: 0.6837629371176893\n",
      "Epoch: 7 Train Loss: 0.6786652827739715 Test Loss: 0.6834662042486782\n",
      "Epoch: 8 Train Loss: 0.6785798956871033 Test Loss: 0.678905839737231\n",
      "Epoch: 9 Train Loss: 0.6776750181674958 Test Loss: 0.6985214599214804\n",
      "Epoch: 10 Train Loss: 0.6773408569335938 Test Loss: 0.6900166497824672\n",
      "Epoch: 11 Train Loss: 0.6799819088935852 Test Loss: 0.680854750327028\n",
      "Epoch: 12 Train Loss: 0.6790641941070557 Test Loss: 0.6931346807236107\n",
      "Epoch: 13 Train Loss: 0.680736573934555 Test Loss: 0.6793711891951272\n",
      "Epoch: 14 Train Loss: 0.6773320902824402 Test Loss: 0.6816911009934764\n"
     ]
    },
    {
     "name": "stderr",
     "output_type": "stream",
     "text": [
      "\u001b[32m[I 2023-05-07 14:57:44,425]\u001b[0m Trial 17 finished with value: 0.0 and parameters: {'hidden_size': 221, 'activation': 'Sigmoid', 'dropout': 0.11190693767891796, 'optimizer': 'Adam', 'lr': 0.00845510063693325}. Best is trial 9 with value: 0.5322338830584709.\u001b[0m\n"
     ]
    },
    {
     "name": "stdout",
     "output_type": "stream",
     "text": [
      "Epoch: 15 Train Loss: 0.6776770570755005 Test Loss: 0.6799576132061382\n",
      "Epoch: 1 Train Loss: 0.6216010893821716 Test Loss: 0.5845455740587399\n",
      "Epoch: 2 Train Loss: 0.5790437124729156 Test Loss: 0.57615603682713\n",
      "Epoch: 3 Train Loss: 0.5611667800426483 Test Loss: 0.5671480213300869\n",
      "Epoch: 4 Train Loss: 0.5429575583934784 Test Loss: 0.5591785816338878\n",
      "Epoch: 5 Train Loss: 0.5294424083709717 Test Loss: 0.5618538064316819\n",
      "Epoch: 6 Train Loss: 0.5166068641901016 Test Loss: 0.5567203252650679\n",
      "Epoch: 7 Train Loss: 0.5068305584430695 Test Loss: 0.5418314561485863\n",
      "Epoch: 8 Train Loss: 0.4957812617063522 Test Loss: 0.5403377652263489\n",
      "Epoch: 9 Train Loss: 0.4914408725500107 Test Loss: 0.5407760191363649\n",
      "Epoch: 10 Train Loss: 0.4831134770154953 Test Loss: 0.5387607507241039\n",
      "Epoch: 11 Train Loss: 0.4736264332532883 Test Loss: 0.5335949374654423\n",
      "Epoch: 12 Train Loss: 0.4646539757490158 Test Loss: 0.5452016118330697\n",
      "Epoch: 13 Train Loss: 0.4600523419618607 Test Loss: 0.5334854757728668\n",
      "Epoch: 14 Train Loss: 0.45596018016338347 Test Loss: 0.5432145303240219\n"
     ]
    },
    {
     "name": "stderr",
     "output_type": "stream",
     "text": [
      "\u001b[32m[I 2023-05-07 14:58:31,940]\u001b[0m Trial 18 finished with value: 0.34490740740740744 and parameters: {'hidden_size': 165, 'activation': 'Tanh', 'dropout': 0.009603705660070627, 'optimizer': 'Adam', 'lr': 0.00016983095673223265}. Best is trial 9 with value: 0.5322338830584709.\u001b[0m\n"
     ]
    },
    {
     "name": "stdout",
     "output_type": "stream",
     "text": [
      "Epoch: 15 Train Loss: 0.452381609916687 Test Loss: 0.5365582466982424\n",
      "Epoch: 1 Train Loss: 0.6947954248428345 Test Loss: 0.6931471849401919\n",
      "Epoch: 2 Train Loss: 0.6931471999168396 Test Loss: 0.6931471750378227\n",
      "Epoch: 3 Train Loss: 0.6931472047805786 Test Loss: 0.6931471803698677\n",
      "Epoch: 4 Train Loss: 0.693147198009491 Test Loss: 0.6931471887487954\n",
      "Epoch: 5 Train Loss: 0.6931472024917602 Test Loss: 0.6931471904626669\n",
      "Epoch: 6 Train Loss: 0.6931471957206726 Test Loss: 0.6931471877966445\n",
      "Epoch: 7 Train Loss: 0.6931471942901611 Test Loss: 0.6931471729430908\n",
      "Epoch: 8 Train Loss: 0.6931471966743469 Test Loss: 0.6931471830358902\n",
      "Epoch: 9 Train Loss: 0.6931471976280212 Test Loss: 0.6931471959851421\n",
      "Epoch: 10 Train Loss: 0.6931471936225891 Test Loss: 0.6931471902722368\n",
      "Epoch: 11 Train Loss: 0.6931472040176392 Test Loss: 0.6931471982703041\n",
      "Epoch: 12 Train Loss: 0.6931472023010254 Test Loss: 0.6931471954138515\n",
      "Epoch: 13 Train Loss: 0.6931471948623658 Test Loss: 0.6931471877966445\n",
      "Epoch: 14 Train Loss: 0.6931471979141235 Test Loss: 0.6931471845593316\n"
     ]
    },
    {
     "name": "stderr",
     "output_type": "stream",
     "text": [
      "\u001b[32m[I 2023-05-07 14:59:17,724]\u001b[0m Trial 19 finished with value: 0.0 and parameters: {'hidden_size': 262, 'activation': 'Tanh', 'dropout': 0.08021013255778806, 'optimizer': 'Adam', 'lr': 0.02690875937566595}. Best is trial 9 with value: 0.5322338830584709.\u001b[0m\n"
     ]
    },
    {
     "name": "stdout",
     "output_type": "stream",
     "text": [
      "Epoch: 15 Train Loss: 0.6931471933364868 Test Loss: 0.6931471904626669\n",
      "Epoch: 1 Train Loss: 0.6854788092136384 Test Loss: 0.7015231406917206\n",
      "Epoch: 2 Train Loss: 0.6882708956241608 Test Loss: 0.6871800672131986\n",
      "Epoch: 3 Train Loss: 0.6853747725963593 Test Loss: 0.6781732184818378\n",
      "Epoch: 4 Train Loss: 0.6827545349597931 Test Loss: 0.6965967383438025\n",
      "Epoch: 5 Train Loss: 0.6845756262302398 Test Loss: 0.6817159033811893\n",
      "Epoch: 6 Train Loss: 0.6873991650104523 Test Loss: 0.6902199065723358\n",
      "Epoch: 7 Train Loss: 0.6875368729114533 Test Loss: 0.6783932279854917\n",
      "Epoch: 8 Train Loss: 0.6880980621337891 Test Loss: 0.6764566490825373\n",
      "Epoch: 9 Train Loss: 0.6868812846183777 Test Loss: 0.6791266593308495\n",
      "Epoch: 10 Train Loss: 0.6873643667697906 Test Loss: 0.6896225023574342\n",
      "Epoch: 11 Train Loss: 0.6863862144947052 Test Loss: 0.690296830270237\n",
      "Epoch: 12 Train Loss: 0.6896479893684387 Test Loss: 0.6935170492805993\n",
      "Epoch: 13 Train Loss: 0.688990412569046 Test Loss: 0.6796703332910141\n",
      "Epoch: 14 Train Loss: 0.6857884258270264 Test Loss: 0.6816833238251293\n"
     ]
    },
    {
     "name": "stderr",
     "output_type": "stream",
     "text": [
      "\u001b[32m[I 2023-05-07 14:59:56,884]\u001b[0m Trial 20 finished with value: 0.0 and parameters: {'hidden_size': 272, 'activation': 'Sigmoid', 'dropout': 0.15840343543002092, 'optimizer': 'Adam', 'lr': 0.012509058515611007}. Best is trial 9 with value: 0.5322338830584709.\u001b[0m\n"
     ]
    },
    {
     "name": "stdout",
     "output_type": "stream",
     "text": [
      "Epoch: 15 Train Loss: 0.686942562007904 Test Loss: 0.6849089337233156\n",
      "Epoch: 1 Train Loss: 0.6977355296850204 Test Loss: 0.6931517773542922\n",
      "Epoch: 2 Train Loss: 0.6931499676704407 Test Loss: 0.6931476905323065\n",
      "Epoch: 3 Train Loss: 0.6931475726127625 Test Loss: 0.6931470324056217\n",
      "Epoch: 4 Train Loss: 0.6931460339546204 Test Loss: 0.6931397120792645\n",
      "Epoch: 5 Train Loss: 0.6933104263305664 Test Loss: 0.6931471912243876\n",
      "Epoch: 6 Train Loss: 0.693147190952301 Test Loss: 0.6931471788464263\n",
      "Epoch: 7 Train Loss: 0.6931472005844116 Test Loss: 0.6931471788464263\n",
      "Epoch: 8 Train Loss: 0.6931471976280212 Test Loss: 0.6931472003650361\n",
      "Epoch: 9 Train Loss: 0.6931471989631652 Test Loss: 0.6931471923669688\n",
      "Epoch: 10 Train Loss: 0.6931471948623658 Test Loss: 0.6931471853210522\n",
      "Epoch: 11 Train Loss: 0.6931472016334533 Test Loss: 0.6931471849401919\n",
      "Epoch: 12 Train Loss: 0.6931472002983093 Test Loss: 0.6931471832263203\n",
      "Epoch: 13 Train Loss: 0.6931471959114075 Test Loss: 0.6931471868444936\n",
      "Epoch: 14 Train Loss: 0.6931471915245057 Test Loss: 0.69314718284546\n"
     ]
    },
    {
     "name": "stderr",
     "output_type": "stream",
     "text": [
      "\u001b[32m[I 2023-05-07 15:00:49,382]\u001b[0m Trial 21 finished with value: 0.11959383226776983 and parameters: {'hidden_size': 406, 'activation': 'Tanh', 'dropout': 0.20879786252897364, 'optimizer': 'Adam', 'lr': 0.004527212587591858}. Best is trial 9 with value: 0.5322338830584709.\u001b[0m\n"
     ]
    },
    {
     "name": "stdout",
     "output_type": "stream",
     "text": [
      "Epoch: 15 Train Loss: 0.6931471959114075 Test Loss: 0.6931471822741694\n",
      "Epoch: 1 Train Loss: 0.6939507734298707 Test Loss: 0.6875952476510605\n",
      "Epoch: 2 Train Loss: 0.683239315032959 Test Loss: 0.686479994664177\n",
      "Epoch: 3 Train Loss: 0.6840271916389465 Test Loss: 0.6796927369250276\n",
      "Epoch: 4 Train Loss: 0.6802998171329498 Test Loss: 0.6834306058030539\n",
      "Epoch: 5 Train Loss: 0.678691426563263 Test Loss: 0.6794149649981112\n",
      "Epoch: 6 Train Loss: 0.6733688381195069 Test Loss: 0.6835640228975314\n",
      "Epoch: 7 Train Loss: 0.6746441252708435 Test Loss: 0.6721567925744163\n",
      "Epoch: 8 Train Loss: 0.6716758255720139 Test Loss: 0.6722298210230879\n",
      "Epoch: 9 Train Loss: 0.6720097010612488 Test Loss: 0.6769288426961381\n",
      "Epoch: 10 Train Loss: 0.6732032871246338 Test Loss: 0.67590140515623\n",
      "Epoch: 11 Train Loss: 0.6722179318904876 Test Loss: 0.6735551651483908\n",
      "Epoch: 12 Train Loss: 0.6709971451759338 Test Loss: 0.670766211260622\n",
      "Epoch: 13 Train Loss: 0.6712764744758606 Test Loss: 0.6754137512784415\n",
      "Epoch: 14 Train Loss: 0.6870044312715531 Test Loss: 0.6930823699353983\n"
     ]
    },
    {
     "name": "stderr",
     "output_type": "stream",
     "text": [
      "\u001b[32m[I 2023-05-07 15:01:16,651]\u001b[0m Trial 22 finished with value: 0.1782544378698225 and parameters: {'hidden_size': 490, 'activation': 'Tanh', 'dropout': 0.12149328763140374, 'optimizer': 'Adam', 'lr': 0.001326929462119852}. Best is trial 9 with value: 0.5322338830584709.\u001b[0m\n"
     ]
    },
    {
     "name": "stdout",
     "output_type": "stream",
     "text": [
      "Epoch: 15 Train Loss: 0.6812744544029236 Test Loss: 0.6749494605171033\n",
      "Epoch: 1 Train Loss: 0.869485167336464 Test Loss: 0.9578969873273715\n",
      "Epoch: 2 Train Loss: 0.9392686658859253 Test Loss: 0.9644759019342856\n",
      "Epoch: 3 Train Loss: 0.9366882150411606 Test Loss: 0.9694627885715649\n",
      "Epoch: 4 Train Loss: 0.9409368642568589 Test Loss: 0.953674340305237\n",
      "Epoch: 5 Train Loss: 0.9374090286970138 Test Loss: 0.9479267073991581\n",
      "Epoch: 6 Train Loss: 0.9383287809610367 Test Loss: 0.9536563839775305\n",
      "Epoch: 7 Train Loss: 0.9315274935722351 Test Loss: 0.9337334489098753\n",
      "Epoch: 8 Train Loss: 0.9374396369457245 Test Loss: 0.9556189597890781\n",
      "Epoch: 9 Train Loss: 0.9361984591722489 Test Loss: 0.961307744819897\n",
      "Epoch: 10 Train Loss: 0.9292127873182296 Test Loss: 0.9553747934083969\n",
      "Epoch: 11 Train Loss: 0.9362702295780182 Test Loss: 0.948708820219238\n",
      "Epoch: 12 Train Loss: 0.9332772651910782 Test Loss: 0.9485817924855997\n",
      "Epoch: 13 Train Loss: 0.9371715564489365 Test Loss: 0.9543707786371913\n",
      "Epoch: 14 Train Loss: 0.9387022706985474 Test Loss: 0.9637359486410793\n"
     ]
    },
    {
     "name": "stderr",
     "output_type": "stream",
     "text": [
      "\u001b[32m[I 2023-05-07 15:01:42,161]\u001b[0m Trial 23 finished with value: 0.0 and parameters: {'hidden_size': 427, 'activation': 'Tanh', 'dropout': 0.25842802177196816, 'optimizer': 'Adam', 'lr': 0.011599360359287783}. Best is trial 9 with value: 0.5322338830584709.\u001b[0m\n"
     ]
    },
    {
     "name": "stdout",
     "output_type": "stream",
     "text": [
      "Epoch: 15 Train Loss: 0.9393762513875962 Test Loss: 0.9402717432846277\n",
      "Epoch: 1 Train Loss: 0.7018789322853088 Test Loss: 0.6931472055066508\n",
      "Epoch: 2 Train Loss: 0.6931471981048584 Test Loss: 0.6931471817028789\n",
      "Epoch: 3 Train Loss: 0.693147197341919 Test Loss: 0.6931471879870746\n",
      "Epoch: 4 Train Loss: 0.693147193813324 Test Loss: 0.6931471929382592\n",
      "Epoch: 5 Train Loss: 0.6931472073554993 Test Loss: 0.6931471853210522\n",
      "Epoch: 6 Train Loss: 0.6931471969604492 Test Loss: 0.6931471917956782\n",
      "Epoch: 7 Train Loss: 0.6931472019195557 Test Loss: 0.6931471874157842\n",
      "Epoch: 8 Train Loss: 0.6931471955299378 Test Loss: 0.693147180750728\n",
      "Epoch: 9 Train Loss: 0.6931471992492676 Test Loss: 0.693147187225354\n",
      "Epoch: 10 Train Loss: 0.6931471908569335 Test Loss: 0.6931471965564325\n",
      "Epoch: 11 Train Loss: 0.6931471977233886 Test Loss: 0.6931471876062143\n",
      "Epoch: 12 Train Loss: 0.6931471983909607 Test Loss: 0.6931471929382592\n",
      "Epoch: 13 Train Loss: 0.6931471964836121 Test Loss: 0.6931471759899737\n",
      "Epoch: 14 Train Loss: 0.6931471935272217 Test Loss: 0.6931471971277231\n"
     ]
    },
    {
     "name": "stderr",
     "output_type": "stream",
     "text": [
      "\u001b[32m[I 2023-05-07 15:02:07,712]\u001b[0m Trial 24 finished with value: 0.0 and parameters: {'hidden_size': 443, 'activation': 'Tanh', 'dropout': 0.04384947908620059, 'optimizer': 'Adam', 'lr': 0.016185119139466936}. Best is trial 9 with value: 0.5322338830584709.\u001b[0m\n"
     ]
    },
    {
     "name": "stdout",
     "output_type": "stream",
     "text": [
      "Epoch: 15 Train Loss: 0.6931471952438355 Test Loss: 0.6931471849401919\n",
      "Epoch: 1 Train Loss: 0.7016174017906189 Test Loss: 0.6931473843205851\n",
      "Epoch: 2 Train Loss: 0.6929082057952881 Test Loss: 0.6931471735143814\n",
      "Epoch: 3 Train Loss: 0.6931471961975098 Test Loss: 0.6931471881775049\n",
      "Epoch: 4 Train Loss: 0.6931472023010254 Test Loss: 0.6931471790368564\n",
      "Epoch: 5 Train Loss: 0.6931471898078918 Test Loss: 0.693147179608147\n",
      "Epoch: 6 Train Loss: 0.6931471963882446 Test Loss: 0.6931471778942754\n",
      "Epoch: 7 Train Loss: 0.6931471907615662 Test Loss: 0.6931471870349238\n",
      "Epoch: 8 Train Loss: 0.6931471963882446 Test Loss: 0.6931471917956782\n",
      "Epoch: 9 Train Loss: 0.6931471926689148 Test Loss: 0.6931471885583652\n",
      "Epoch: 10 Train Loss: 0.6931471995353699 Test Loss: 0.693147202459768\n",
      "Epoch: 11 Train Loss: 0.6931472001075745 Test Loss: 0.6931471864636333\n",
      "Epoch: 12 Train Loss: 0.6931471979141235 Test Loss: 0.6931471900818066\n",
      "Epoch: 13 Train Loss: 0.6931471927642823 Test Loss: 0.6931471769421246\n",
      "Epoch: 14 Train Loss: 0.693147194480896 Test Loss: 0.6931471912243876\n"
     ]
    },
    {
     "name": "stderr",
     "output_type": "stream",
     "text": [
      "\u001b[32m[I 2023-05-07 15:02:33,093]\u001b[0m Trial 25 finished with value: 0.11959383226776983 and parameters: {'hidden_size': 376, 'activation': 'Tanh', 'dropout': 0.0035885539705787814, 'optimizer': 'Adam', 'lr': 0.008438709223137376}. Best is trial 9 with value: 0.5322338830584709.\u001b[0m\n"
     ]
    },
    {
     "name": "stdout",
     "output_type": "stream",
     "text": [
      "Epoch: 15 Train Loss: 0.6931471970558166 Test Loss: 0.6931471855114824\n",
      "Epoch: 1 Train Loss: 0.628910877752304 Test Loss: 0.5857000905103957\n",
      "Epoch: 2 Train Loss: 0.5863831581354141 Test Loss: 0.5543045970007253\n",
      "Epoch: 3 Train Loss: 0.5684639060258866 Test Loss: 0.5389089335839208\n",
      "Epoch: 4 Train Loss: 0.5465762714385987 Test Loss: 0.5271022333123814\n",
      "Epoch: 5 Train Loss: 0.5387685566425323 Test Loss: 0.5098463052187484\n",
      "Epoch: 6 Train Loss: 0.526663229060173 Test Loss: 0.522137460998072\n",
      "Epoch: 7 Train Loss: 0.5155451105594635 Test Loss: 0.5064869892959016\n",
      "Epoch: 8 Train Loss: 0.5175846064567566 Test Loss: 0.49127135113976633\n",
      "Epoch: 9 Train Loss: 0.5209155312299728 Test Loss: 0.48429197120590334\n",
      "Epoch: 10 Train Loss: 0.5038564776659011 Test Loss: 0.49820672180325076\n",
      "Epoch: 11 Train Loss: 0.5064252554893494 Test Loss: 0.48519214825889173\n",
      "Epoch: 12 Train Loss: 0.5022317051887513 Test Loss: 0.4855329038236088\n",
      "Epoch: 13 Train Loss: 0.4906262561559677 Test Loss: 0.4791657337651085\n",
      "Epoch: 14 Train Loss: 0.48371789739131926 Test Loss: 0.48997066205682843\n"
     ]
    },
    {
     "name": "stderr",
     "output_type": "stream",
     "text": [
      "\u001b[32m[I 2023-05-07 15:02:58,533]\u001b[0m Trial 26 finished with value: 0.48049921996879874 and parameters: {'hidden_size': 167, 'activation': 'Tanh', 'dropout': 0.196156172353664, 'optimizer': 'Adam', 'lr': 0.0005484672808929}. Best is trial 9 with value: 0.5322338830584709.\u001b[0m\n"
     ]
    },
    {
     "name": "stdout",
     "output_type": "stream",
     "text": [
      "Epoch: 15 Train Loss: 0.48643973433971405 Test Loss: 0.47523251518654747\n",
      "Epoch: 1 Train Loss: 1.6153566347749904 Test Loss: 1.2606539527257792\n",
      "Epoch: 2 Train Loss: 22.52440053022 Test Loss: 6.729192382882614\n",
      "Epoch: 3 Train Loss: 3.897031881635636 Test Loss: 1.2859224270517453\n",
      "Epoch: 4 Train Loss: 3.0901084531694614 Test Loss: 3.18462479212644\n",
      "Epoch: 5 Train Loss: 2.1115262611831773 Test Loss: 1.4004356740860822\n",
      "Epoch: 6 Train Loss: 4.794419019106636 Test Loss: 2.1441017926310577\n",
      "Epoch: 7 Train Loss: 2.1743006741864868 Test Loss: 4.116687407508826\n",
      "Epoch: 8 Train Loss: 5.266515187529509 Test Loss: 26.87594384768198\n",
      "Epoch: 9 Train Loss: 91.85753564789539 Test Loss: 9.67121635159473\n",
      "Epoch: 10 Train Loss: 14.281962831569626 Test Loss: 3.2752657818407886\n",
      "Epoch: 11 Train Loss: 9.264768432871065 Test Loss: 9.561299815345496\n",
      "Epoch: 12 Train Loss: 10.909553244851418 Test Loss: 2.582537004240631\n",
      "Epoch: 13 Train Loss: 5.524184353533891 Test Loss: 1.6811308946249226\n",
      "Epoch: 14 Train Loss: 6.53034683305171 Test Loss: 3.3522515937626984\n"
     ]
    },
    {
     "name": "stderr",
     "output_type": "stream",
     "text": [
      "\u001b[32m[I 2023-05-07 15:03:25,374]\u001b[0m Trial 27 finished with value: 0.4457341845618108 and parameters: {'hidden_size': 482, 'activation': 'LeakyReLU', 'dropout': 0.10327258901342912, 'optimizer': 'Adam', 'lr': 0.02724482851254102}. Best is trial 9 with value: 0.5322338830584709.\u001b[0m\n"
     ]
    },
    {
     "name": "stdout",
     "output_type": "stream",
     "text": [
      "Epoch: 15 Train Loss: 8.969204380981893 Test Loss: 7.390518146873919\n",
      "Epoch: 1 Train Loss: 0.680452726650238 Test Loss: 0.6800639216130534\n",
      "Epoch: 2 Train Loss: 0.6758012370109558 Test Loss: 0.6800313565296868\n",
      "Epoch: 3 Train Loss: 0.6767609961986542 Test Loss: 0.6765492880306305\n",
      "Epoch: 4 Train Loss: 0.6752582476139068 Test Loss: 0.6766217248127483\n",
      "Epoch: 5 Train Loss: 0.6842425216197967 Test Loss: 0.6788499909467971\n",
      "Epoch: 6 Train Loss: 0.6861994674682618 Test Loss: 0.7227859739868786\n",
      "Epoch: 7 Train Loss: 0.6878525887489318 Test Loss: 0.6903737276887741\n",
      "Epoch: 8 Train Loss: 0.6846637008666993 Test Loss: 0.6900776826535551\n",
      "Epoch: 9 Train Loss: 0.6809272544384003 Test Loss: 0.7286735888296804\n",
      "Epoch: 10 Train Loss: 0.6859401226997376 Test Loss: 0.6791056666892177\n",
      "Epoch: 11 Train Loss: 0.6887755914688111 Test Loss: 0.6850432058492788\n",
      "Epoch: 12 Train Loss: 0.6840164489269257 Test Loss: 0.6837848537265302\n",
      "Epoch: 13 Train Loss: 0.6846823990821839 Test Loss: 0.6907455189921223\n",
      "Epoch: 14 Train Loss: 0.6864549909591675 Test Loss: 0.6789019730525275\n"
     ]
    },
    {
     "name": "stderr",
     "output_type": "stream",
     "text": [
      "\u001b[32m[I 2023-05-07 15:03:52,010]\u001b[0m Trial 28 finished with value: 0.0 and parameters: {'hidden_size': 385, 'activation': 'Sigmoid', 'dropout': 0.05554707971709123, 'optimizer': 'Adam', 'lr': 0.008965587265854445}. Best is trial 9 with value: 0.5322338830584709.\u001b[0m\n"
     ]
    },
    {
     "name": "stdout",
     "output_type": "stream",
     "text": [
      "Epoch: 15 Train Loss: 0.6834649888992309 Test Loss: 0.6761981582108397\n",
      "Epoch: 1 Train Loss: 0.6416687435626983 Test Loss: 0.5854501598559249\n",
      "Epoch: 2 Train Loss: 0.5819310406208038 Test Loss: 0.5800521484198281\n",
      "Epoch: 3 Train Loss: 0.5598554900169372 Test Loss: 0.5641924255191327\n",
      "Epoch: 4 Train Loss: 0.5560498588085174 Test Loss: 0.5536254171174936\n",
      "Epoch: 5 Train Loss: 0.5439932808876038 Test Loss: 0.5652239626398483\n",
      "Epoch: 6 Train Loss: 0.5415284661293029 Test Loss: 0.5622116228262075\n",
      "Epoch: 7 Train Loss: 0.5360241373538971 Test Loss: 0.5338030783132243\n",
      "Epoch: 8 Train Loss: 0.5267592849731445 Test Loss: 0.5335556916154611\n",
      "Epoch: 9 Train Loss: 0.5226161778450013 Test Loss: 0.5257099837350389\n",
      "Epoch: 10 Train Loss: 0.5138009922504425 Test Loss: 0.528195425915642\n",
      "Epoch: 11 Train Loss: 0.506848139333725 Test Loss: 0.5205411944336023\n",
      "Epoch: 12 Train Loss: 0.5045896062850952 Test Loss: 0.5206144724410182\n",
      "Epoch: 13 Train Loss: 0.4968664406776428 Test Loss: 0.5141435879678391\n",
      "Epoch: 14 Train Loss: 0.4980923948287964 Test Loss: 0.5107516745408884\n"
     ]
    },
    {
     "name": "stderr",
     "output_type": "stream",
     "text": [
      "\u001b[32m[I 2023-05-07 15:04:19,227]\u001b[0m Trial 29 finished with value: 0.42811501597444085 and parameters: {'hidden_size': 271, 'activation': 'Sigmoid', 'dropout': 0.042568652297803204, 'optimizer': 'Adagrad', 'lr': 0.021283507387552737}. Best is trial 9 with value: 0.5322338830584709.\u001b[0m\n"
     ]
    },
    {
     "name": "stdout",
     "output_type": "stream",
     "text": [
      "Epoch: 15 Train Loss: 0.4952301507472992 Test Loss: 0.5110185112054355\n",
      "Epoch: 1 Train Loss: 0.7049928164958954 Test Loss: 0.6931473445206785\n",
      "Epoch: 2 Train Loss: 0.6931475112915039 Test Loss: 0.6931470790610146\n",
      "Epoch: 3 Train Loss: 0.693147285747528 Test Loss: 0.6931471706579287\n",
      "Epoch: 4 Train Loss: 0.6931472210884094 Test Loss: 0.6931471748473926\n",
      "Epoch: 5 Train Loss: 0.693147200870514 Test Loss: 0.6931471738952417\n",
      "Epoch: 6 Train Loss: 0.6931471888542176 Test Loss: 0.6931472009363265\n",
      "Epoch: 7 Train Loss: 0.6931471900939942 Test Loss: 0.6931471866540635\n",
      "Epoch: 8 Train Loss: 0.6931471872329712 Test Loss: 0.6931471954138515\n",
      "Epoch: 9 Train Loss: 0.6931471961975098 Test Loss: 0.6931471898913765\n",
      "Epoch: 10 Train Loss: 0.6931471933364868 Test Loss: 0.6931471786559961\n",
      "Epoch: 11 Train Loss: 0.6931471879005432 Test Loss: 0.6931471914148178\n",
      "Epoch: 12 Train Loss: 0.6931471872329712 Test Loss: 0.6931471900818066\n",
      "Epoch: 13 Train Loss: 0.693147192287445 Test Loss: 0.6931471879870746\n",
      "Epoch: 14 Train Loss: 0.6931471962928772 Test Loss: 0.6931471849401919\n"
     ]
    },
    {
     "name": "stderr",
     "output_type": "stream",
     "text": [
      "\u001b[32m[I 2023-05-07 15:04:44,944]\u001b[0m Trial 30 finished with value: 0.11959383226776983 and parameters: {'hidden_size': 302, 'activation': 'Tanh', 'dropout': 0.21942795425452374, 'optimizer': 'Adam', 'lr': 0.015089104926598927}. Best is trial 9 with value: 0.5322338830584709.\u001b[0m\n"
     ]
    },
    {
     "name": "stdout",
     "output_type": "stream",
     "text": [
      "Epoch: 15 Train Loss: 0.6931471998214722 Test Loss: 0.6931471908435273\n",
      "Epoch: 1 Train Loss: 0.6470967831134796 Test Loss: 0.6444720053634705\n",
      "Epoch: 2 Train Loss: 0.6162488353252411 Test Loss: 0.6317433039791668\n",
      "Epoch: 3 Train Loss: 0.6052637023925781 Test Loss: 0.5654404958406576\n",
      "Epoch: 4 Train Loss: 0.5933873901844025 Test Loss: 0.5535448258296369\n",
      "Epoch: 5 Train Loss: 0.5835391141176224 Test Loss: 0.5730882672646556\n",
      "Epoch: 6 Train Loss: 0.5759684262990952 Test Loss: 0.6209872231696741\n",
      "Epoch: 7 Train Loss: 0.5701749489307404 Test Loss: 0.5822159407999569\n",
      "Epoch: 8 Train Loss: 0.5684752270460128 Test Loss: 0.5786199493530079\n",
      "Epoch: 9 Train Loss: 0.573851137137413 Test Loss: 0.5937369204462527\n",
      "Epoch: 10 Train Loss: 0.5683264377593994 Test Loss: 0.5262073107039966\n",
      "Epoch: 11 Train Loss: 0.5540225706577301 Test Loss: 0.53626665401573\n",
      "Epoch: 12 Train Loss: 0.5552435117244721 Test Loss: 0.5335993169309994\n",
      "Epoch: 13 Train Loss: 0.554161546087265 Test Loss: 0.5357157380912251\n",
      "Epoch: 14 Train Loss: 0.5515681931495666 Test Loss: 0.5544723235189725\n"
     ]
    },
    {
     "name": "stderr",
     "output_type": "stream",
     "text": [
      "\u001b[32m[I 2023-05-07 15:05:10,997]\u001b[0m Trial 31 finished with value: 0.47619047619047616 and parameters: {'hidden_size': 182, 'activation': 'Tanh', 'dropout': 0.17335850863496644, 'optimizer': 'Adam', 'lr': 0.001649779634667828}. Best is trial 9 with value: 0.5322338830584709.\u001b[0m\n"
     ]
    },
    {
     "name": "stdout",
     "output_type": "stream",
     "text": [
      "Epoch: 15 Train Loss: 0.5551979355096817 Test Loss: 0.518631456378169\n",
      "Epoch: 1 Train Loss: 0.7059386029720306 Test Loss: 0.6858659464711199\n",
      "Epoch: 2 Train Loss: 0.6848353610038758 Test Loss: 0.750297794707667\n",
      "Epoch: 3 Train Loss: 0.69070747256279 Test Loss: 0.6900595554147666\n",
      "Epoch: 4 Train Loss: 0.6910730880737305 Test Loss: 0.6893209375131625\n",
      "Epoch: 5 Train Loss: 0.6912643235921859 Test Loss: 0.690175283259858\n",
      "Epoch: 6 Train Loss: 0.6904114667892456 Test Loss: 0.6901439525448857\n",
      "Epoch: 7 Train Loss: 0.6905770799636841 Test Loss: 0.6899861350607949\n",
      "Epoch: 8 Train Loss: 0.6905558238983154 Test Loss: 0.6901686513385834\n",
      "Epoch: 9 Train Loss: 0.690583200263977 Test Loss: 0.690114836913709\n",
      "Epoch: 10 Train Loss: 0.690444915676117 Test Loss: 0.6900243532543365\n",
      "Epoch: 11 Train Loss: 0.6904125783920289 Test Loss: 0.6900360772784907\n",
      "Epoch: 12 Train Loss: 0.6904436057090759 Test Loss: 0.6907055547443061\n",
      "Epoch: 13 Train Loss: 0.6906831519126893 Test Loss: 0.6900945342006013\n",
      "Epoch: 14 Train Loss: 0.690467039680481 Test Loss: 0.690134267075755\n"
     ]
    },
    {
     "name": "stderr",
     "output_type": "stream",
     "text": [
      "\u001b[32m[I 2023-05-07 15:05:36,086]\u001b[0m Trial 32 finished with value: 0.12058014977723007 and parameters: {'hidden_size': 155, 'activation': 'Tanh', 'dropout': 0.13051169028692886, 'optimizer': 'Adam', 'lr': 0.005685833996837074}. Best is trial 9 with value: 0.5322338830584709.\u001b[0m\n"
     ]
    },
    {
     "name": "stdout",
     "output_type": "stream",
     "text": [
      "Epoch: 15 Train Loss: 0.6907402952194214 Test Loss: 0.6902528144300174\n",
      "Epoch: 1 Train Loss: 0.615893950843811 Test Loss: 0.6324170254670773\n",
      "Epoch: 2 Train Loss: 0.5807296002864838 Test Loss: 0.5602124494295151\n",
      "Epoch: 3 Train Loss: 0.5635945354223252 Test Loss: 0.5547331768674211\n",
      "Epoch: 4 Train Loss: 0.5551686750173569 Test Loss: 0.5566580310321083\n",
      "Epoch: 5 Train Loss: 0.5419657605171203 Test Loss: 0.5545935790759687\n",
      "Epoch: 6 Train Loss: 0.53979278922081 Test Loss: 0.5273455741306463\n",
      "Epoch: 7 Train Loss: 0.534746928191185 Test Loss: 0.5380428350581148\n",
      "Epoch: 8 Train Loss: 0.5335538772344589 Test Loss: 0.5361879079486616\n",
      "Epoch: 9 Train Loss: 0.530475503563881 Test Loss: 0.5268083638466966\n",
      "Epoch: 10 Train Loss: 0.5284449722290039 Test Loss: 0.5256298156306386\n",
      "Epoch: 11 Train Loss: 0.5076367420434952 Test Loss: 0.5413338964739547\n",
      "Epoch: 12 Train Loss: 0.5100495478153229 Test Loss: 0.5232808035783494\n",
      "Epoch: 13 Train Loss: 0.5149843930482865 Test Loss: 0.5059007899448894\n",
      "Epoch: 14 Train Loss: 0.51041991481781 Test Loss: 0.5240691380854994\n"
     ]
    },
    {
     "name": "stderr",
     "output_type": "stream",
     "text": [
      "\u001b[32m[I 2023-05-07 15:06:01,566]\u001b[0m Trial 33 finished with value: 0.43676069153776165 and parameters: {'hidden_size': 138, 'activation': 'Tanh', 'dropout': 0.08816740864218331, 'optimizer': 'Adam', 'lr': 0.0006262860427647043}. Best is trial 9 with value: 0.5322338830584709.\u001b[0m\n"
     ]
    },
    {
     "name": "stdout",
     "output_type": "stream",
     "text": [
      "Epoch: 15 Train Loss: 0.49765302884578705 Test Loss: 0.5031379023775125\n",
      "Epoch: 1 Train Loss: 0.6944194090366363 Test Loss: 0.6300335881618646\n",
      "Epoch: 2 Train Loss: 0.6443036700725555 Test Loss: 0.5946696450154241\n",
      "Epoch: 3 Train Loss: 0.6072706466674804 Test Loss: 0.5595801113703\n",
      "Epoch: 4 Train Loss: 0.6281937415838241 Test Loss: 0.5662572484808608\n",
      "Epoch: 5 Train Loss: 0.58156413230896 Test Loss: 0.5220640491182431\n",
      "Epoch: 6 Train Loss: 0.5604400073289871 Test Loss: 0.5310848267695394\n",
      "Epoch: 7 Train Loss: 0.5615622972249985 Test Loss: 0.5033959903941748\n",
      "Epoch: 8 Train Loss: 0.6307472805738449 Test Loss: 0.512098021543445\n",
      "Epoch: 9 Train Loss: 0.5289726130247117 Test Loss: 0.46794479723555593\n",
      "Epoch: 10 Train Loss: 0.5062199051618576 Test Loss: 0.44536752156175363\n",
      "Epoch: 11 Train Loss: 0.5101292276501656 Test Loss: 0.4377902963290961\n",
      "Epoch: 12 Train Loss: 0.48605701711177823 Test Loss: 0.4703772628840547\n",
      "Epoch: 13 Train Loss: 0.5181904815077781 Test Loss: 0.457400918625795\n",
      "Epoch: 14 Train Loss: 0.5178210271835327 Test Loss: 0.4714945921549401\n"
     ]
    },
    {
     "name": "stderr",
     "output_type": "stream",
     "text": [
      "\u001b[32m[I 2023-05-07 15:06:28,110]\u001b[0m Trial 34 finished with value: 0.5383542538354253 and parameters: {'hidden_size': 46, 'activation': 'LeakyReLU', 'dropout': 0.27581117810879546, 'optimizer': 'Adam', 'lr': 0.007182466976896125}. Best is trial 34 with value: 0.5383542538354253.\u001b[0m\n"
     ]
    },
    {
     "name": "stdout",
     "output_type": "stream",
     "text": [
      "Epoch: 15 Train Loss: 0.48519404423236845 Test Loss: 0.4415304039042598\n",
      "Epoch: 1 Train Loss: 0.7742051452636719 Test Loss: 0.6888486358304374\n",
      "Epoch: 2 Train Loss: 0.6949436111450196 Test Loss: 0.6865527637469502\n",
      "Epoch: 3 Train Loss: 0.6836757712364196 Test Loss: 0.6830644912232225\n",
      "Epoch: 4 Train Loss: 0.7016427226066589 Test Loss: 0.6820193567215064\n",
      "Epoch: 5 Train Loss: 0.683826538848877 Test Loss: 0.6798467268578161\n",
      "Epoch: 6 Train Loss: 0.6802820022583008 Test Loss: 0.6781069125992041\n",
      "Epoch: 7 Train Loss: 0.6762732256889343 Test Loss: 0.6744579352890722\n",
      "Epoch: 8 Train Loss: 0.6789285099983215 Test Loss: 0.6733676288455439\n",
      "Epoch: 9 Train Loss: 0.6722527636528015 Test Loss: 0.672320805799466\n",
      "Epoch: 10 Train Loss: 0.675799739742279 Test Loss: 0.670815311491299\n",
      "Epoch: 11 Train Loss: 0.6743209337234497 Test Loss: 0.6685398838009697\n",
      "Epoch: 12 Train Loss: 0.6673465031623841 Test Loss: 0.6662823474064422\n",
      "Epoch: 13 Train Loss: 0.6707198626518249 Test Loss: 0.6628332219946499\n",
      "Epoch: 14 Train Loss: 0.6662296607017517 Test Loss: 0.6629497835430475\n"
     ]
    },
    {
     "name": "stderr",
     "output_type": "stream",
     "text": [
      "\u001b[32m[I 2023-05-07 15:06:55,832]\u001b[0m Trial 35 finished with value: 0.10840108401084012 and parameters: {'hidden_size': 38, 'activation': 'LeakyReLU', 'dropout': 0.3071161758770283, 'optimizer': 'Adagrad', 'lr': 0.007578589824471824}. Best is trial 34 with value: 0.5383542538354253.\u001b[0m\n"
     ]
    },
    {
     "name": "stdout",
     "output_type": "stream",
     "text": [
      "Epoch: 15 Train Loss: 0.667096838760376 Test Loss: 0.6615343556617396\n",
      "Epoch: 1 Train Loss: 0.6672185703754425 Test Loss: 0.6279994620682713\n",
      "Epoch: 2 Train Loss: 0.6574599332332611 Test Loss: 0.6147308958985935\n",
      "Epoch: 3 Train Loss: 0.6258544264316559 Test Loss: 0.593987122035255\n",
      "Epoch: 4 Train Loss: 0.6095954438686371 Test Loss: 0.5783076915687646\n",
      "Epoch: 5 Train Loss: 0.6024006350755692 Test Loss: 0.5741248891566889\n",
      "Epoch: 6 Train Loss: 0.5713153809547424 Test Loss: 0.5590156768076717\n",
      "Epoch: 7 Train Loss: 0.5614807547807693 Test Loss: 0.5416454591880591\n",
      "Epoch: 8 Train Loss: 0.5548470035791397 Test Loss: 0.5464991282064694\n",
      "Epoch: 9 Train Loss: 0.5403835559368133 Test Loss: 0.521341679576106\n",
      "Epoch: 10 Train Loss: 0.5279472730398178 Test Loss: 0.5117718603569098\n",
      "Epoch: 11 Train Loss: 0.5141662672758103 Test Loss: 0.5187361698847609\n",
      "Epoch: 12 Train Loss: 0.4988099335193634 Test Loss: 0.5009530066682127\n",
      "Epoch: 13 Train Loss: 0.4887506636619568 Test Loss: 0.4691261715306261\n",
      "Epoch: 14 Train Loss: 0.47920067485570905 Test Loss: 0.4611142818539287\n"
     ]
    },
    {
     "name": "stderr",
     "output_type": "stream",
     "text": [
      "\u001b[32m[I 2023-05-07 15:07:13,832]\u001b[0m Trial 36 finished with value: 0.5020576131687243 and parameters: {'hidden_size': 303, 'activation': 'LeakyReLU', 'dropout': 0.24563565903634993, 'optimizer': 'SGD', 'lr': 0.018026301161032182}. Best is trial 34 with value: 0.5383542538354253.\u001b[0m\n"
     ]
    },
    {
     "name": "stdout",
     "output_type": "stream",
     "text": [
      "Epoch: 15 Train Loss: 0.4791765988588333 Test Loss: 0.4612633935845317\n",
      "Epoch: 1 Train Loss: 0.7032288516696542 Test Loss: 0.6683069438980029\n",
      "Epoch: 2 Train Loss: 0.6644054647922516 Test Loss: 0.6561601969380729\n",
      "Epoch: 3 Train Loss: 0.6488380338191986 Test Loss: 0.6322125464963456\n",
      "Epoch: 4 Train Loss: 0.6321537976264954 Test Loss: 0.6104137454741299\n",
      "Epoch: 5 Train Loss: 0.6168086120128632 Test Loss: 0.606106638717956\n",
      "Epoch: 6 Train Loss: 0.6076100818157196 Test Loss: 0.5918159261107826\n",
      "Epoch: 7 Train Loss: nan Test Loss: nan\n",
      "Epoch: 8 Train Loss: nan Test Loss: nan\n",
      "Epoch: 9 Train Loss: nan Test Loss: nan\n",
      "Epoch: 10 Train Loss: nan Test Loss: nan\n",
      "Epoch: 11 Train Loss: nan Test Loss: nan\n",
      "Epoch: 12 Train Loss: nan Test Loss: nan\n",
      "Epoch: 13 Train Loss: nan Test Loss: nan\n",
      "Epoch: 14 Train Loss: nan Test Loss: nan\n"
     ]
    },
    {
     "name": "stderr",
     "output_type": "stream",
     "text": [
      "\u001b[32m[I 2023-05-07 15:07:30,849]\u001b[0m Trial 37 finished with value: 0.30230414746543777 and parameters: {'hidden_size': 74, 'activation': 'LeakyReLU', 'dropout': 0.2302513163625132, 'optimizer': 'SGD', 'lr': 0.01822578272210209}. Best is trial 34 with value: 0.5383542538354253.\u001b[0m\n"
     ]
    },
    {
     "name": "stdout",
     "output_type": "stream",
     "text": [
      "Epoch: 15 Train Loss: nan Test Loss: nan\n",
      "Epoch: 1 Train Loss: 0.6909463474273682 Test Loss: 0.6709023441750401\n",
      "Epoch: 2 Train Loss: 0.6656162649154663 Test Loss: 0.6620466659625117\n",
      "Epoch: 3 Train Loss: 0.6611379940509796 Test Loss: 0.6490257534737023\n",
      "Epoch: 4 Train Loss: 0.6561487932682037 Test Loss: 0.6419759126136098\n",
      "Epoch: 5 Train Loss: 0.6520002331256867 Test Loss: 0.6292343149169947\n",
      "Epoch: 6 Train Loss: 0.6340420691013336 Test Loss: 0.615326573007023\n",
      "Epoch: 7 Train Loss: 0.6242311084270478 Test Loss: 0.6012945258960175\n",
      "Epoch: 8 Train Loss: 0.6085505439758301 Test Loss: 0.5830392863232488\n",
      "Epoch: 9 Train Loss: 0.593897168970108 Test Loss: 0.5756246127640477\n",
      "Epoch: 10 Train Loss: 0.5894603927612305 Test Loss: 0.5712904577818922\n",
      "Epoch: 11 Train Loss: 0.5758263972997666 Test Loss: 0.5607797418253871\n",
      "Epoch: 12 Train Loss: 0.5650771555185318 Test Loss: 0.551085422499873\n",
      "Epoch: 13 Train Loss: 0.554148761510849 Test Loss: 0.5364624208059555\n",
      "Epoch: 14 Train Loss: 0.5409055931329727 Test Loss: 0.5353282631014864\n"
     ]
    },
    {
     "name": "stderr",
     "output_type": "stream",
     "text": [
      "\u001b[32m[I 2023-05-07 15:07:52,267]\u001b[0m Trial 38 finished with value: 0.4094488188976378 and parameters: {'hidden_size': 62, 'activation': 'LeakyReLU', 'dropout': 0.24844742873329542, 'optimizer': 'SGD', 'lr': 0.013133304965048258}. Best is trial 34 with value: 0.5383542538354253.\u001b[0m\n"
     ]
    },
    {
     "name": "stdout",
     "output_type": "stream",
     "text": [
      "Epoch: 15 Train Loss: 0.5433236289978027 Test Loss: 0.5320601778955886\n",
      "Epoch: 1 Train Loss: 0.7152882211685181 Test Loss: 0.6203947157715075\n",
      "Epoch: 2 Train Loss: 0.616039420080185 Test Loss: 0.5833758057687229\n",
      "Epoch: 3 Train Loss: 0.6004606780529023 Test Loss: 0.5777305356039407\n",
      "Epoch: 4 Train Loss: 0.5820568929672241 Test Loss: 0.56098623245288\n",
      "Epoch: 5 Train Loss: 0.5617513014554978 Test Loss: 0.5348986058760756\n",
      "Epoch: 6 Train Loss: 0.5528851809501648 Test Loss: 0.5298438627784625\n",
      "Epoch: 7 Train Loss: 0.5266826256871223 Test Loss: 0.526672439977003\n",
      "Epoch: 8 Train Loss: 0.5157854768037796 Test Loss: 0.5598253173807177\n",
      "Epoch: 9 Train Loss: 0.5057843147754669 Test Loss: 0.4955094819918227\n",
      "Epoch: 10 Train Loss: 0.49541200382709505 Test Loss: 0.47391779420855706\n",
      "Epoch: 11 Train Loss: 0.49346880465745924 Test Loss: 0.46768848183817757\n",
      "Epoch: 12 Train Loss: 0.6639623674631119 Test Loss: 0.5015020207665599\n",
      "Epoch: 13 Train Loss: 0.5360010811328888 Test Loss: 0.505947604965859\n",
      "Epoch: 14 Train Loss: 0.4715355344414711 Test Loss: 0.48246821839683735\n"
     ]
    },
    {
     "name": "stderr",
     "output_type": "stream",
     "text": [
      "\u001b[32m[I 2023-05-07 15:08:17,453]\u001b[0m Trial 39 finished with value: 0.48992248062015503 and parameters: {'hidden_size': 246, 'activation': 'LeakyReLU', 'dropout': 0.16175240911256572, 'optimizer': 'SGD', 'lr': 0.025093997999958897}. Best is trial 34 with value: 0.5383542538354253.\u001b[0m\n"
     ]
    },
    {
     "name": "stdout",
     "output_type": "stream",
     "text": [
      "Epoch: 15 Train Loss: 0.4685542618870735 Test Loss: 0.45188795306240787\n",
      "Epoch: 1 Train Loss: 0.7741119656085969 Test Loss: 0.6350922111314706\n",
      "Epoch: 2 Train Loss: 0.6414167184352875 Test Loss: 0.6018027381394238\n",
      "Epoch: 3 Train Loss: 0.6266414120674133 Test Loss: 0.633151565592129\n",
      "Epoch: 4 Train Loss: 0.5833908315420151 Test Loss: 0.5605336839969928\n",
      "Epoch: 5 Train Loss: 0.5609894919872284 Test Loss: 0.5415030600735173\n",
      "Epoch: 6 Train Loss: 0.5418810568332673 Test Loss: 0.5244208078224438\n",
      "Epoch: 7 Train Loss: 0.519175286602974 Test Loss: 0.5065960819347979\n",
      "Epoch: 8 Train Loss: 0.511614969265461 Test Loss: 0.5212079859294069\n",
      "Epoch: 9 Train Loss: 0.497002965760231 Test Loss: 0.4843326402119935\n",
      "Epoch: 10 Train Loss: 0.4826629337191582 Test Loss: 0.48854696855377466\n",
      "Epoch: 11 Train Loss: 0.47550481915473936 Test Loss: 0.4738291361080572\n",
      "Epoch: 12 Train Loss: 0.46098130900859835 Test Loss: 0.4593747154401895\n",
      "Epoch: 13 Train Loss: 0.4608676097929478 Test Loss: 0.4688601534777937\n",
      "Epoch: 14 Train Loss: 0.4562794112503529 Test Loss: 0.4679099916459653\n"
     ]
    },
    {
     "name": "stderr",
     "output_type": "stream",
     "text": [
      "\u001b[32m[I 2023-05-07 15:08:42,381]\u001b[0m Trial 40 finished with value: 0.5620715917745622 and parameters: {'hidden_size': 125, 'activation': 'LeakyReLU', 'dropout': 0.03642065745221738, 'optimizer': 'SGD', 'lr': 0.031010726136659846}. Best is trial 40 with value: 0.5620715917745622.\u001b[0m\n"
     ]
    },
    {
     "name": "stdout",
     "output_type": "stream",
     "text": [
      "Epoch: 15 Train Loss: 0.4517361631155014 Test Loss: 0.4500698960674837\n",
      "Epoch: 1 Train Loss: 0.7161746377468109 Test Loss: 0.671457053373416\n",
      "Epoch: 2 Train Loss: 0.6582099014759064 Test Loss: 0.6523783265973051\n",
      "Epoch: 3 Train Loss: 0.6287758817195892 Test Loss: 0.601602667436813\n",
      "Epoch: 4 Train Loss: 0.6087855680942535 Test Loss: 0.6000570984313283\n",
      "Epoch: 5 Train Loss: 0.5878930191040039 Test Loss: 0.5851499415910282\n",
      "Epoch: 6 Train Loss: 0.5731036059141159 Test Loss: 0.5604720218969991\n",
      "Epoch: 7 Train Loss: 0.5532601107120514 Test Loss: 0.5898179701818064\n",
      "Epoch: 8 Train Loss: 0.5379944510221482 Test Loss: 0.5263330905963057\n",
      "Epoch: 9 Train Loss: 0.5228780874252319 Test Loss: 0.5053894437920933\n",
      "Epoch: 10 Train Loss: 0.4841267889261246 Test Loss: 0.48592589600398517\n",
      "Epoch: 11 Train Loss: 0.47746628140211106 Test Loss: 0.4936627932726004\n",
      "Epoch: 12 Train Loss: 0.5090407458886504 Test Loss: 0.5819589334269302\n",
      "Epoch: 13 Train Loss: 0.5194233011007309 Test Loss: 0.484248710897403\n",
      "Epoch: 14 Train Loss: 0.4738471725821495 Test Loss: 0.5071723647296619\n"
     ]
    },
    {
     "name": "stderr",
     "output_type": "stream",
     "text": [
      "\u001b[32m[I 2023-05-07 15:09:07,648]\u001b[0m Trial 41 finished with value: 0.4283646888567294 and parameters: {'hidden_size': 75, 'activation': 'LeakyReLU', 'dropout': 0.03316432738759719, 'optimizer': 'SGD', 'lr': 0.03125841667786371}. Best is trial 40 with value: 0.5620715917745622.\u001b[0m\n"
     ]
    },
    {
     "name": "stdout",
     "output_type": "stream",
     "text": [
      "Epoch: 15 Train Loss: 0.47146774424314497 Test Loss: 0.5516155992929166\n",
      "Epoch: 1 Train Loss: 0.7485314070224762 Test Loss: 0.6613538701313372\n",
      "Epoch: 2 Train Loss: 0.6378790036201477 Test Loss: 0.603928056768716\n",
      "Epoch: 3 Train Loss: 0.5965846756458283 Test Loss: 0.5829791693260875\n",
      "Epoch: 4 Train Loss: 0.5940414945602417 Test Loss: 0.5760417281629179\n",
      "Epoch: 5 Train Loss: 0.5737274940490723 Test Loss: 0.5854175847749741\n",
      "Epoch: 6 Train Loss: 0.5638342868566513 Test Loss: 0.5747639393558899\n",
      "Epoch: 7 Train Loss: 0.5442955503702164 Test Loss: 0.5510386043844132\n",
      "Epoch: 8 Train Loss: 0.53565932700634 Test Loss: 0.5273326721530371\n",
      "Epoch: 9 Train Loss: 0.5142448416233063 Test Loss: 0.5100658818270071\n",
      "Epoch: 10 Train Loss: 0.4962107999563217 Test Loss: 0.49984389105543925\n",
      "Epoch: 11 Train Loss: 0.49529126517772676 Test Loss: 0.5147731513165819\n",
      "Epoch: 12 Train Loss: 0.5500910757541656 Test Loss: 0.5062207372043841\n",
      "Epoch: 13 Train Loss: 0.5252241314888001 Test Loss: 0.47023642320221604\n",
      "Epoch: 14 Train Loss: 0.4664774092555046 Test Loss: 0.47116825620111186\n"
     ]
    },
    {
     "name": "stderr",
     "output_type": "stream",
     "text": [
      "\u001b[32m[I 2023-05-07 15:09:43,288]\u001b[0m Trial 42 finished with value: 0.5176132278936016 and parameters: {'hidden_size': 124, 'activation': 'LeakyReLU', 'dropout': 0.0543316755328858, 'optimizer': 'SGD', 'lr': 0.020947129112472453}. Best is trial 40 with value: 0.5620715917745622.\u001b[0m\n"
     ]
    },
    {
     "name": "stdout",
     "output_type": "stream",
     "text": [
      "Epoch: 15 Train Loss: 0.461178939640522 Test Loss: 0.44876294987746324\n",
      "Epoch: 1 Train Loss: 0.6787279502868653 Test Loss: 0.6388391491513663\n",
      "Epoch: 2 Train Loss: 0.6531750564575195 Test Loss: 0.6086011146204159\n",
      "Epoch: 3 Train Loss: 0.6028583690166474 Test Loss: 0.5786679628938912\n",
      "Epoch: 4 Train Loss: 0.5865772483587265 Test Loss: 0.5656427232602153\n",
      "Epoch: 5 Train Loss: 0.5619425503253936 Test Loss: 0.5582206914790522\n",
      "Epoch: 6 Train Loss: 0.5508752533197403 Test Loss: 0.5286643955939875\n",
      "Epoch: 7 Train Loss: 0.5261494221687317 Test Loss: 0.508567877232838\n",
      "Epoch: 8 Train Loss: 0.49197196321487424 Test Loss: 0.5037924350022127\n",
      "Epoch: 9 Train Loss: 0.480575185739994 Test Loss: 0.4865991470341484\n",
      "Epoch: 10 Train Loss: 0.48620987850427627 Test Loss: 0.592098510446259\n",
      "Epoch: 11 Train Loss: 0.5046957018613816 Test Loss: 0.4743078952780166\n",
      "Epoch: 12 Train Loss: 0.47238893746137617 Test Loss: 0.4502687832465568\n",
      "Epoch: 13 Train Loss: 0.45627788691520693 Test Loss: 0.5016831275754081\n",
      "Epoch: 14 Train Loss: 0.4549626602649689 Test Loss: 0.4458022281146659\n"
     ]
    },
    {
     "name": "stderr",
     "output_type": "stream",
     "text": [
      "\u001b[32m[I 2023-05-07 15:10:26,335]\u001b[0m Trial 43 finished with value: 0.5558441558441559 and parameters: {'hidden_size': 108, 'activation': 'LeakyReLU', 'dropout': 0.0578486167745796, 'optimizer': 'SGD', 'lr': 0.023642992756010905}. Best is trial 40 with value: 0.5620715917745622.\u001b[0m\n"
     ]
    },
    {
     "name": "stdout",
     "output_type": "stream",
     "text": [
      "Epoch: 15 Train Loss: 0.44347441804409027 Test Loss: 0.44153749788055024\n",
      "Epoch: 1 Train Loss: 0.6797960591077804 Test Loss: 0.6597453161550406\n",
      "Epoch: 2 Train Loss: 0.6417820491313935 Test Loss: 0.6107540558130977\n",
      "Epoch: 3 Train Loss: 0.6075493075847626 Test Loss: 0.5859076158878521\n",
      "Epoch: 4 Train Loss: 0.5886678946495056 Test Loss: 0.5822043243688516\n",
      "Epoch: 5 Train Loss: 0.5717302418708802 Test Loss: 0.5599120148835471\n",
      "Epoch: 6 Train Loss: 0.5541762565135956 Test Loss: 0.5351017869223421\n",
      "Epoch: 7 Train Loss: 0.5397842012166977 Test Loss: 0.5327980766376368\n",
      "Epoch: 8 Train Loss: 0.5196193619251251 Test Loss: 0.5210365300266125\n",
      "Epoch: 9 Train Loss: 0.5015117491722106 Test Loss: 0.4958462080064292\n",
      "Epoch: 10 Train Loss: 0.5546482226133347 Test Loss: 0.5194312998185904\n",
      "Epoch: 11 Train Loss: 0.5126792698621749 Test Loss: 0.48254921794318545\n",
      "Epoch: 12 Train Loss: 0.4884405227065086 Test Loss: 0.4827244198931673\n",
      "Epoch: 13 Train Loss: 0.47282678639888764 Test Loss: 0.4570298949940898\n",
      "Epoch: 14 Train Loss: 0.49112695984840393 Test Loss: 0.4744676212057138\n"
     ]
    },
    {
     "name": "stderr",
     "output_type": "stream",
     "text": [
      "\u001b[32m[I 2023-05-07 15:11:09,350]\u001b[0m Trial 44 finished with value: 0.5163204747774481 and parameters: {'hidden_size': 118, 'activation': 'LeakyReLU', 'dropout': 0.06345596571918909, 'optimizer': 'SGD', 'lr': 0.022830262747050988}. Best is trial 40 with value: 0.5620715917745622.\u001b[0m\n"
     ]
    },
    {
     "name": "stdout",
     "output_type": "stream",
     "text": [
      "Epoch: 15 Train Loss: 0.46025430855751037 Test Loss: 0.45350755203646215\n",
      "Epoch: 1 Train Loss: 0.7761419322013855 Test Loss: 0.6882047887427357\n",
      "Epoch: 2 Train Loss: 0.7103887578964233 Test Loss: 0.6271937685652663\n",
      "Epoch: 3 Train Loss: nan Test Loss: nan\n",
      "Epoch: 4 Train Loss: nan Test Loss: nan\n",
      "Epoch: 5 Train Loss: nan Test Loss: nan\n",
      "Epoch: 6 Train Loss: nan Test Loss: nan\n",
      "Epoch: 7 Train Loss: nan Test Loss: nan\n",
      "Epoch: 8 Train Loss: nan Test Loss: nan\n",
      "Epoch: 9 Train Loss: nan Test Loss: nan\n",
      "Epoch: 10 Train Loss: nan Test Loss: nan\n",
      "Epoch: 11 Train Loss: nan Test Loss: nan\n",
      "Epoch: 12 Train Loss: nan Test Loss: nan\n",
      "Epoch: 13 Train Loss: nan Test Loss: nan\n",
      "Epoch: 14 Train Loss: nan Test Loss: nan\n"
     ]
    },
    {
     "name": "stderr",
     "output_type": "stream",
     "text": [
      "\u001b[32m[I 2023-05-07 15:11:52,756]\u001b[0m Trial 45 finished with value: 0.24464409122322048 and parameters: {'hidden_size': 104, 'activation': 'LeakyReLU', 'dropout': 0.08850036762625334, 'optimizer': 'SGD', 'lr': 0.04104715082282904}. Best is trial 40 with value: 0.5620715917745622.\u001b[0m\n"
     ]
    },
    {
     "name": "stdout",
     "output_type": "stream",
     "text": [
      "Epoch: 15 Train Loss: nan Test Loss: nan\n",
      "Epoch: 1 Train Loss: 0.9500440165996552 Test Loss: 0.6348111267668751\n",
      "Epoch: 2 Train Loss: nan Test Loss: nan\n",
      "Epoch: 3 Train Loss: nan Test Loss: nan\n",
      "Epoch: 4 Train Loss: nan Test Loss: nan\n",
      "Epoch: 5 Train Loss: nan Test Loss: nan\n",
      "Epoch: 6 Train Loss: nan Test Loss: nan\n",
      "Epoch: 7 Train Loss: nan Test Loss: nan\n",
      "Epoch: 8 Train Loss: nan Test Loss: nan\n",
      "Epoch: 9 Train Loss: nan Test Loss: nan\n",
      "Epoch: 10 Train Loss: nan Test Loss: nan\n",
      "Epoch: 11 Train Loss: nan Test Loss: nan\n",
      "Epoch: 12 Train Loss: nan Test Loss: nan\n",
      "Epoch: 13 Train Loss: nan Test Loss: nan\n",
      "Epoch: 14 Train Loss: nan Test Loss: nan\n"
     ]
    },
    {
     "name": "stderr",
     "output_type": "stream",
     "text": [
      "\u001b[32m[I 2023-05-07 15:12:35,624]\u001b[0m Trial 46 finished with value: 0.24292007551919445 and parameters: {'hidden_size': 141, 'activation': 'LeakyReLU', 'dropout': 0.05551598064141332, 'optimizer': 'SGD', 'lr': 0.030684121819209924}. Best is trial 40 with value: 0.5620715917745622.\u001b[0m\n"
     ]
    },
    {
     "name": "stdout",
     "output_type": "stream",
     "text": [
      "Epoch: 15 Train Loss: nan Test Loss: nan\n",
      "Epoch: 1 Train Loss: 0.661020277261734 Test Loss: 0.6323320847540237\n",
      "Epoch: 2 Train Loss: 0.6311713507652282 Test Loss: 0.6128330736305005\n",
      "Epoch: 3 Train Loss: 0.7131477978970128 Test Loss: 0.6553547304278364\n",
      "Epoch: 4 Train Loss: 0.6387583686351777 Test Loss: 0.621087119792597\n",
      "Epoch: 5 Train Loss: 0.6124229969024658 Test Loss: 0.5906346076593613\n",
      "Epoch: 6 Train Loss: 0.6172546486377716 Test Loss: 0.5849862985146312\n",
      "Epoch: 7 Train Loss: 0.5867074773311615 Test Loss: 0.6042369463192389\n",
      "Epoch: 8 Train Loss: 0.6035774919509888 Test Loss: 0.5723119234315123\n",
      "Epoch: 9 Train Loss: 0.569905419421196 Test Loss: 0.5509375477560793\n",
      "Epoch: 10 Train Loss: 0.5518039253473281 Test Loss: 0.5374017504457468\n",
      "Epoch: 11 Train Loss: 0.5406643020629883 Test Loss: 0.5113391821948103\n",
      "Epoch: 12 Train Loss: 0.5233160184621811 Test Loss: 0.5245382973370841\n",
      "Epoch: 13 Train Loss: 0.5094327095270157 Test Loss: 0.5356287560619104\n",
      "Epoch: 14 Train Loss: 0.5105837764024734 Test Loss: 0.5102830638710302\n"
     ]
    },
    {
     "name": "stderr",
     "output_type": "stream",
     "text": [
      "\u001b[32m[I 2023-05-07 15:13:20,039]\u001b[0m Trial 47 finished with value: 0.46387832699619774 and parameters: {'hidden_size': 84, 'activation': 'LeakyReLU', 'dropout': 0.03555571497400346, 'optimizer': 'SGD', 'lr': 0.021231102368044708}. Best is trial 40 with value: 0.5620715917745622.\u001b[0m\n"
     ]
    },
    {
     "name": "stdout",
     "output_type": "stream",
     "text": [
      "Epoch: 15 Train Loss: 0.4896736733675003 Test Loss: 0.5931547445753893\n",
      "Epoch: 1 Train Loss: 0.7582151905059814 Test Loss: 0.6931471889392256\n",
      "Epoch: 2 Train Loss: 0.6931472098350525 Test Loss: 0.6931471978894438\n",
      "Epoch: 3 Train Loss: 0.6931471994400025 Test Loss: 0.6931471881775049\n",
      "Epoch: 4 Train Loss: 0.6931471940994263 Test Loss: 0.693147176370834\n",
      "Epoch: 5 Train Loss: 0.6931471969604492 Test Loss: 0.6931471815124487\n",
      "Epoch: 6 Train Loss: 0.6931471964836121 Test Loss: 0.6931471857019126\n",
      "Epoch: 7 Train Loss: 0.6931471933364868 Test Loss: 0.6931471904626669\n",
      "Epoch: 8 Train Loss: 0.6931471982955932 Test Loss: 0.6931471914148178\n",
      "Epoch: 9 Train Loss: 0.6931472002029418 Test Loss: 0.6931471849401919\n",
      "Epoch: 10 Train Loss: 0.693147184753418 Test Loss: 0.6931471857019126\n",
      "Epoch: 11 Train Loss: 0.6931471934318543 Test Loss: 0.6931471853210522\n",
      "Epoch: 12 Train Loss: 0.6931471941947936 Test Loss: 0.6931471820837393\n",
      "Epoch: 13 Train Loss: 0.6931471927642823 Test Loss: 0.6931471881775049\n",
      "Epoch: 14 Train Loss: 0.6931471969604492 Test Loss: 0.6931471940808402\n"
     ]
    },
    {
     "name": "stderr",
     "output_type": "stream",
     "text": [
      "\u001b[32m[I 2023-05-07 15:14:06,243]\u001b[0m Trial 48 finished with value: 0.0 and parameters: {'hidden_size': 117, 'activation': 'ReLU', 'dropout': 0.07672632452346552, 'optimizer': 'SGD', 'lr': 0.039716680758464525}. Best is trial 40 with value: 0.5620715917745622.\u001b[0m\n"
     ]
    },
    {
     "name": "stdout",
     "output_type": "stream",
     "text": [
      "Epoch: 15 Train Loss: 0.6931472014427185 Test Loss: 0.6931471805602979\n",
      "Epoch: 1 Train Loss: 0.833874282503128 Test Loss: 0.6460375477330753\n",
      "Epoch: 2 Train Loss: 0.6365566272258758 Test Loss: 0.6245729226273851\n",
      "Epoch: 3 Train Loss: 0.6171650257110596 Test Loss: 0.6059623351112341\n",
      "Epoch: 4 Train Loss: 0.5944255877494812 Test Loss: 0.5695015291055552\n",
      "Epoch: 5 Train Loss: 0.5735876321792602 Test Loss: 0.5470554006937594\n",
      "Epoch: 6 Train Loss: 0.5641370133876801 Test Loss: 0.545629767564158\n",
      "Epoch: 7 Train Loss: 0.5390706342220306 Test Loss: 0.530469475843655\n",
      "Epoch: 8 Train Loss: 0.5272861818552017 Test Loss: 0.5599306261006255\n",
      "Epoch: 9 Train Loss: 0.5171128443717956 Test Loss: 0.5073915927078777\n",
      "Epoch: 10 Train Loss: 0.4957659663081169 Test Loss: 0.4769479196768599\n",
      "Epoch: 11 Train Loss: 0.49900128737688065 Test Loss: 0.4749192773058011\n",
      "Epoch: 12 Train Loss: 0.4817571445703506 Test Loss: 0.47190453297794815\n",
      "Epoch: 13 Train Loss: 0.48072646920681 Test Loss: 0.4632480240667971\n",
      "Epoch: 14 Train Loss: 0.4679833089828491 Test Loss: 0.4516322662274297\n"
     ]
    },
    {
     "name": "stderr",
     "output_type": "stream",
     "text": [
      "\u001b[32m[I 2023-05-07 15:14:50,844]\u001b[0m Trial 49 finished with value: 0.4796044499381953 and parameters: {'hidden_size': 136, 'activation': 'LeakyReLU', 'dropout': 0.14264058174750374, 'optimizer': 'SGD', 'lr': 0.0245520191790827}. Best is trial 40 with value: 0.5620715917745622.\u001b[0m\n"
     ]
    },
    {
     "name": "stdout",
     "output_type": "stream",
     "text": [
      "Epoch: 15 Train Loss: 0.4588396166205406 Test Loss: 0.460510559951345\n",
      "Epoch: 1 Train Loss: 0.6853796173572541 Test Loss: 0.6611302953939469\n",
      "Epoch: 2 Train Loss: 0.6488618492603302 Test Loss: 0.6321323353071182\n",
      "Epoch: 3 Train Loss: 0.6226194085597992 Test Loss: 0.6145575288385628\n",
      "Epoch: 4 Train Loss: 0.622864350605011 Test Loss: 0.6082779317618178\n",
      "Epoch: 5 Train Loss: 0.5960115084648132 Test Loss: 0.5880917866770833\n",
      "Epoch: 6 Train Loss: 0.5862558996200562 Test Loss: 0.573819464816453\n",
      "Epoch: 7 Train Loss: 0.5818066798210144 Test Loss: 0.5928675824651322\n",
      "Epoch: 8 Train Loss: 0.5665830674409866 Test Loss: 0.5618648200560683\n",
      "Epoch: 9 Train Loss: 0.5576039850711823 Test Loss: 0.5528037788959357\n",
      "Epoch: 10 Train Loss: 0.5476893500566482 Test Loss: 0.5484054158099543\n",
      "Epoch: 11 Train Loss: 0.5446349482297898 Test Loss: 0.5362846643779986\n",
      "Epoch: 12 Train Loss: 0.530612295126915 Test Loss: 0.524537280916025\n",
      "Epoch: 13 Train Loss: 0.5196417190074921 Test Loss: 0.5621486297145057\n",
      "Epoch: 14 Train Loss: 0.5123938161849976 Test Loss: 0.5082653742343092\n"
     ]
    },
    {
     "name": "stderr",
     "output_type": "stream",
     "text": [
      "\u001b[32m[I 2023-05-07 15:15:34,899]\u001b[0m Trial 50 finished with value: 0.43026435733819507 and parameters: {'hidden_size': 50, 'activation': 'LeakyReLU', 'dropout': 0.024239426552106435, 'optimizer': 'SGD', 'lr': 0.013411107206685764}. Best is trial 40 with value: 0.5620715917745622.\u001b[0m\n"
     ]
    },
    {
     "name": "stdout",
     "output_type": "stream",
     "text": [
      "Epoch: 15 Train Loss: 0.5658019698143005 Test Loss: 0.5344473833378892\n",
      "Epoch: 1 Train Loss: 0.7404330508232116 Test Loss: 0.6672784495658387\n",
      "Epoch: 2 Train Loss: 0.656060741186142 Test Loss: 0.628161188036489\n",
      "Epoch: 3 Train Loss: 0.6204015603780747 Test Loss: 0.618013634563635\n",
      "Epoch: 4 Train Loss: 0.5852588685512543 Test Loss: 0.5768689338962871\n",
      "Epoch: 5 Train Loss: 0.5716279399156571 Test Loss: 0.5559826547059769\n",
      "Epoch: 6 Train Loss: 0.552543119430542 Test Loss: 0.5417694281846189\n",
      "Epoch: 7 Train Loss: 0.5347896682739258 Test Loss: 0.5340723092563617\n",
      "Epoch: 8 Train Loss: 0.5374699944019318 Test Loss: 0.530943515201727\n",
      "Epoch: 9 Train Loss: 0.5142789423465729 Test Loss: 0.5044605001188315\n",
      "Epoch: 10 Train Loss: 0.5070304064035416 Test Loss: 0.4978804452636371\n",
      "Epoch: 11 Train Loss: 0.4889624750375748 Test Loss: 0.4879519456682114\n",
      "Epoch: 12 Train Loss: 0.4783651467561722 Test Loss: 0.4808056368804968\n",
      "Epoch: 13 Train Loss: 0.4708470499753952 Test Loss: 0.4759569451355706\n",
      "Epoch: 14 Train Loss: 0.4604806036233902 Test Loss: 0.47992752297236896\n"
     ]
    },
    {
     "name": "stderr",
     "output_type": "stream",
     "text": [
      "\u001b[32m[I 2023-05-07 15:16:18,993]\u001b[0m Trial 51 finished with value: 0.4981949458483755 and parameters: {'hidden_size': 118, 'activation': 'LeakyReLU', 'dropout': 0.06329027561534198, 'optimizer': 'SGD', 'lr': 0.021652946097065112}. Best is trial 40 with value: 0.5620715917745622.\u001b[0m\n"
     ]
    },
    {
     "name": "stdout",
     "output_type": "stream",
     "text": [
      "Epoch: 15 Train Loss: 0.49726546911001207 Test Loss: 0.4747665634932229\n",
      "Epoch: 1 Train Loss: 0.6828858276367188 Test Loss: 0.6681938581763746\n",
      "Epoch: 2 Train Loss: 0.6532557854652404 Test Loss: 0.6272766314946805\n",
      "Epoch: 3 Train Loss: 0.6221274855613709 Test Loss: 0.5986636156281724\n",
      "Epoch: 4 Train Loss: 0.6042123142242432 Test Loss: 0.5843560207194795\n",
      "Epoch: 5 Train Loss: 0.5921618595838547 Test Loss: 0.5729150344578984\n",
      "Epoch: 6 Train Loss: 0.5769632825136185 Test Loss: 0.5574605536822694\n",
      "Epoch: 7 Train Loss: 0.5651073722839356 Test Loss: 0.5509756009418744\n",
      "Epoch: 8 Train Loss: 0.5581909272909165 Test Loss: 0.5566183714249644\n",
      "Epoch: 9 Train Loss: 0.5447512468338013 Test Loss: 0.5288687733510813\n",
      "Epoch: 10 Train Loss: 0.5323635453701019 Test Loss: 0.5167938141872327\n",
      "Epoch: 11 Train Loss: 0.5215059482097626 Test Loss: 0.5097019669061271\n",
      "Epoch: 12 Train Loss: 0.5481428340196609 Test Loss: 0.5433801727744337\n",
      "Epoch: 13 Train Loss: 0.5330356262207031 Test Loss: 0.5125312722338655\n",
      "Epoch: 14 Train Loss: 0.5097447566747665 Test Loss: 0.5032652452254829\n"
     ]
    },
    {
     "name": "stderr",
     "output_type": "stream",
     "text": [
      "\u001b[32m[I 2023-05-07 15:16:58,641]\u001b[0m Trial 52 finished with value: 0.4395256916996047 and parameters: {'hidden_size': 95, 'activation': 'LeakyReLU', 'dropout': 0.10218857515008477, 'optimizer': 'SGD', 'lr': 0.017835136131702185}. Best is trial 40 with value: 0.5620715917745622.\u001b[0m\n"
     ]
    },
    {
     "name": "stdout",
     "output_type": "stream",
     "text": [
      "Epoch: 15 Train Loss: 0.5030484228610993 Test Loss: 0.49985956064999676\n",
      "Epoch: 1 Train Loss: 0.6891254683017731 Test Loss: 0.5873571116322527\n",
      "Epoch: 2 Train Loss: 0.5802229166746139 Test Loss: 0.5555995112409988\n",
      "Epoch: 3 Train Loss: 0.5416016395807266 Test Loss: 0.5068199684539922\n",
      "Epoch: 4 Train Loss: 0.5149418800354004 Test Loss: 0.478395562916518\n",
      "Epoch: 5 Train Loss: 0.5071430640220642 Test Loss: 0.4970675146046538\n",
      "Epoch: 6 Train Loss: 0.4792830016136169 Test Loss: 0.5204278843376202\n",
      "Epoch: 7 Train Loss: 0.4669956472039223 Test Loss: 0.4784442942839461\n",
      "Epoch: 8 Train Loss: 0.46085474894046785 Test Loss: 0.4821561980552186\n",
      "Epoch: 9 Train Loss: 0.44758357627391815 Test Loss: 0.4515105315719169\n",
      "Epoch: 10 Train Loss: 0.44162444936037065 Test Loss: 0.4575878155593293\n",
      "Epoch: 11 Train Loss: 0.4452862139105797 Test Loss: 0.493368939945873\n",
      "Epoch: 12 Train Loss: 0.43772462599277495 Test Loss: 0.43519302279042743\n",
      "Epoch: 13 Train Loss: 0.4338150336742401 Test Loss: 0.4278191239022599\n",
      "Epoch: 14 Train Loss: 0.4281931439638138 Test Loss: 0.45092949813928085\n"
     ]
    },
    {
     "name": "stderr",
     "output_type": "stream",
     "text": [
      "\u001b[32m[I 2023-05-07 15:17:43,290]\u001b[0m Trial 53 finished with value: 0.5652818991097923 and parameters: {'hidden_size': 195, 'activation': 'LeakyReLU', 'dropout': 0.06465062776632993, 'optimizer': 'SGD', 'lr': 0.030249613813201796}. Best is trial 53 with value: 0.5652818991097923.\u001b[0m\n"
     ]
    },
    {
     "name": "stdout",
     "output_type": "stream",
     "text": [
      "Epoch: 15 Train Loss: 0.4233491631269455 Test Loss: 0.43572085895858254\n",
      "Epoch: 1 Train Loss: 0.7145101267034188 Test Loss: 0.6032295137548599\n",
      "Epoch: 2 Train Loss: 0.6068015928268433 Test Loss: 0.5926068880306646\n",
      "Epoch: 3 Train Loss: 0.5744978843212127 Test Loss: 0.5695251965770325\n",
      "Epoch: 4 Train Loss: 0.5495533101081849 Test Loss: 0.5156639801522794\n",
      "Epoch: 5 Train Loss: 0.5283998068809509 Test Loss: 0.5886149262420286\n",
      "Epoch: 6 Train Loss: 0.513765838432312 Test Loss: 0.4993003263069799\n",
      "Epoch: 7 Train Loss: 0.4997886851072311 Test Loss: 0.5005113469621244\n",
      "Epoch: 8 Train Loss: 0.49028611290454865 Test Loss: 0.48128313595018446\n",
      "Epoch: 9 Train Loss: 0.47813559901714325 Test Loss: 0.4698921006422835\n",
      "Epoch: 10 Train Loss: 0.47353645737171174 Test Loss: 0.47986635960900365\n",
      "Epoch: 11 Train Loss: 0.460293035531044 Test Loss: 0.46010926104010863\n",
      "Epoch: 12 Train Loss: 0.47315177175998685 Test Loss: 0.4586319954345782\n",
      "Epoch: 13 Train Loss: 0.4627275936961174 Test Loss: 0.4530961010783625\n",
      "Epoch: 14 Train Loss: 0.4628489709854126 Test Loss: 0.48089368505694996\n"
     ]
    },
    {
     "name": "stderr",
     "output_type": "stream",
     "text": [
      "\u001b[32m[I 2023-05-07 15:18:27,854]\u001b[0m Trial 54 finished with value: 0.51979841612671 and parameters: {'hidden_size': 185, 'activation': 'LeakyReLU', 'dropout': 0.09932618921531833, 'optimizer': 'SGD', 'lr': 0.03387740500882124}. Best is trial 53 with value: 0.5652818991097923.\u001b[0m\n"
     ]
    },
    {
     "name": "stdout",
     "output_type": "stream",
     "text": [
      "Epoch: 15 Train Loss: 0.4588962331652641 Test Loss: 0.4595938227332819\n",
      "Epoch: 1 Train Loss: 0.7545178843021393 Test Loss: 0.5499437729390665\n",
      "Epoch: 2 Train Loss: 0.5377051233768463 Test Loss: 0.5015110174021401\n",
      "Epoch: 3 Train Loss: 0.49303980746269227 Test Loss: 0.4611309025996028\n",
      "Epoch: 4 Train Loss: 0.45216206433773043 Test Loss: 0.44559660373023524\n",
      "Epoch: 5 Train Loss: 0.43651539047956467 Test Loss: 0.4455579688278631\n",
      "Epoch: 6 Train Loss: 0.42262864809036255 Test Loss: 0.4290321399799932\n",
      "Epoch: 7 Train Loss: 0.4169613007903099 Test Loss: 0.42866915081160517\n",
      "Epoch: 8 Train Loss: 0.4037871687412262 Test Loss: 0.4300506836214005\n",
      "Epoch: 9 Train Loss: 0.3953219756960869 Test Loss: 0.4237773175390003\n",
      "Epoch: 10 Train Loss: 0.3910672185063362 Test Loss: 0.41278520747781183\n",
      "Epoch: 11 Train Loss: 0.38667721045017245 Test Loss: 0.41079261699042763\n",
      "Epoch: 12 Train Loss: 0.3798433141231537 Test Loss: 0.416464418410874\n",
      "Epoch: 13 Train Loss: 0.3785053339719772 Test Loss: 0.43365145603212685\n",
      "Epoch: 14 Train Loss: 0.37431413054466245 Test Loss: 0.4150298677218227\n"
     ]
    },
    {
     "name": "stderr",
     "output_type": "stream",
     "text": [
      "\u001b[32m[I 2023-05-07 15:19:18,877]\u001b[0m Trial 55 finished with value: 0.5494661921708185 and parameters: {'hidden_size': 194, 'activation': 'LeakyReLU', 'dropout': 0.02565518243780708, 'optimizer': 'Adagrad', 'lr': 0.03567580516616868}. Best is trial 53 with value: 0.5652818991097923.\u001b[0m\n"
     ]
    },
    {
     "name": "stdout",
     "output_type": "stream",
     "text": [
      "Epoch: 15 Train Loss: 0.36852375267744064 Test Loss: 0.426821072713826\n",
      "Epoch: 1 Train Loss: 0.880908641242981 Test Loss: 0.6931471963660024\n",
      "Epoch: 2 Train Loss: 0.6931472017288208 Test Loss: 0.6931471879870746\n",
      "Epoch: 3 Train Loss: 0.693147200870514 Test Loss: 0.6931471830358902\n",
      "Epoch: 4 Train Loss: 0.6931471941947936 Test Loss: 0.6931471877966445\n",
      "Epoch: 5 Train Loss: 0.6931472018241882 Test Loss: 0.6931471902722368\n",
      "Epoch: 6 Train Loss: 0.6931471984863281 Test Loss: 0.6931471849401919\n",
      "Epoch: 7 Train Loss: 0.6931472036361694 Test Loss: 0.6931471845593316\n",
      "Epoch: 8 Train Loss: 0.6931471945762634 Test Loss: 0.6931472016980473\n",
      "Epoch: 9 Train Loss: 0.6931471899986267 Test Loss: 0.6931471820837393\n",
      "Epoch: 10 Train Loss: 0.6931471942901611 Test Loss: 0.6931471857019126\n",
      "Epoch: 11 Train Loss: 0.6931471988677979 Test Loss: 0.6931471940808402\n",
      "Epoch: 12 Train Loss: 0.693147203540802 Test Loss: 0.6931471803698677\n",
      "Epoch: 13 Train Loss: 0.6931471991539001 Test Loss: 0.6931471902722368\n",
      "Epoch: 14 Train Loss: 0.693147193813324 Test Loss: 0.6931471857019126\n"
     ]
    },
    {
     "name": "stderr",
     "output_type": "stream",
     "text": [
      "\u001b[32m[I 2023-05-07 15:20:11,636]\u001b[0m Trial 56 finished with value: 0.0 and parameters: {'hidden_size': 217, 'activation': 'ReLU', 'dropout': 0.00021644519157163616, 'optimizer': 'Adagrad', 'lr': 0.04296975529628854}. Best is trial 53 with value: 0.5652818991097923.\u001b[0m\n"
     ]
    },
    {
     "name": "stdout",
     "output_type": "stream",
     "text": [
      "Epoch: 15 Train Loss: 0.6931472047805786 Test Loss: 0.693147191605248\n",
      "Epoch: 1 Train Loss: 0.6506271922588348 Test Loss: 0.5511326404234853\n",
      "Epoch: 2 Train Loss: 0.5433284779787063 Test Loss: 0.5198242510088716\n",
      "Epoch: 3 Train Loss: 0.50377442009449 Test Loss: 0.48746297763178525\n",
      "Epoch: 4 Train Loss: 0.46546752462387087 Test Loss: 0.4692813209689463\n",
      "Epoch: 5 Train Loss: 0.45138719531297683 Test Loss: 0.44064845044772843\n",
      "Epoch: 6 Train Loss: 0.4197765510559082 Test Loss: 0.4226145193266412\n",
      "Epoch: 7 Train Loss: 0.41334340665340424 Test Loss: 0.4519477727504584\n",
      "Epoch: 8 Train Loss: 0.40283939381837847 Test Loss: 0.43237764288346986\n",
      "Epoch: 9 Train Loss: 0.40158708560466766 Test Loss: 0.42034542534393243\n",
      "Epoch: 10 Train Loss: 0.4018325455188751 Test Loss: 0.413704083869442\n",
      "Epoch: 11 Train Loss: 0.39185011789798735 Test Loss: 0.40160356450099916\n",
      "Epoch: 12 Train Loss: 0.3836622007846832 Test Loss: 0.4005943070442532\n",
      "Epoch: 13 Train Loss: 0.3767861088573933 Test Loss: 0.3949322561486461\n",
      "Epoch: 14 Train Loss: 0.3742541148543358 Test Loss: 0.42745047103101835\n"
     ]
    },
    {
     "name": "stderr",
     "output_type": "stream",
     "text": [
      "\u001b[32m[I 2023-05-07 15:21:03,557]\u001b[0m Trial 57 finished with value: 0.5154379332073094 and parameters: {'hidden_size': 192, 'activation': 'LeakyReLU', 'dropout': 0.021062687208836195, 'optimizer': 'Adagrad', 'lr': 0.03645750673595657}. Best is trial 53 with value: 0.5652818991097923.\u001b[0m\n"
     ]
    },
    {
     "name": "stdout",
     "output_type": "stream",
     "text": [
      "Epoch: 15 Train Loss: 0.36932994726896284 Test Loss: 0.4105466825131791\n",
      "Epoch: 1 Train Loss: 1.0265048772096634 Test Loss: 0.568050074025084\n",
      "Epoch: 2 Train Loss: 0.5503713961362838 Test Loss: 0.5211288006351398\n",
      "Epoch: 3 Train Loss: 0.5210949917316436 Test Loss: 0.5007576314976421\n",
      "Epoch: 4 Train Loss: 0.49774335064888 Test Loss: 0.48315826329750755\n",
      "Epoch: 5 Train Loss: 0.4569522255301475 Test Loss: 0.4502021786027823\n",
      "Epoch: 6 Train Loss: 0.4316856050014496 Test Loss: 0.44452614249131933\n",
      "Epoch: 7 Train Loss: 0.42118705236911774 Test Loss: 0.4268011030868981\n",
      "Epoch: 8 Train Loss: 0.41345089045763017 Test Loss: 0.42121460486334356\n",
      "Epoch: 9 Train Loss: 0.4011488695502281 Test Loss: 0.4178689796084794\n",
      "Epoch: 10 Train Loss: 0.40423249002695083 Test Loss: 0.42872225029019123\n",
      "Epoch: 11 Train Loss: 0.4011740494608879 Test Loss: 0.4332073735781371\n",
      "Epoch: 12 Train Loss: 0.3861601824760437 Test Loss: 0.41447406112195584\n",
      "Epoch: 13 Train Loss: 0.386538414645195 Test Loss: 0.40235210633792057\n",
      "Epoch: 14 Train Loss: 0.3757965625286102 Test Loss: 0.4181029654253786\n"
     ]
    },
    {
     "name": "stderr",
     "output_type": "stream",
     "text": [
      "\u001b[32m[I 2023-05-07 15:21:56,610]\u001b[0m Trial 58 finished with value: 0.56973293768546 and parameters: {'hidden_size': 241, 'activation': 'LeakyReLU', 'dropout': 0.07588244213160053, 'optimizer': 'Adagrad', 'lr': 0.028858521110796787}. Best is trial 58 with value: 0.56973293768546.\u001b[0m\n"
     ]
    },
    {
     "name": "stdout",
     "output_type": "stream",
     "text": [
      "Epoch: 15 Train Loss: 0.3742852457165718 Test Loss: 0.4069686871938431\n",
      "Epoch: 1 Train Loss: 0.7772937716245651 Test Loss: 0.5793574534285183\n",
      "Epoch: 2 Train Loss: 0.5662521848917007 Test Loss: 0.5552749124388344\n",
      "Epoch: 3 Train Loss: 0.5331747514486312 Test Loss: 0.5111354362374296\n",
      "Epoch: 4 Train Loss: 0.4999382318735123 Test Loss: 0.5482929163752273\n",
      "Epoch: 5 Train Loss: 0.46964181621074674 Test Loss: 0.6409542615802143\n",
      "Epoch: 6 Train Loss: 0.46488851317167285 Test Loss: 0.43956276360220803\n",
      "Epoch: 7 Train Loss: 0.4437883400917053 Test Loss: 0.44293240257821526\n",
      "Epoch: 8 Train Loss: 0.43129224218130113 Test Loss: 0.42355701248771466\n",
      "Epoch: 9 Train Loss: 0.4234746593236923 Test Loss: 0.44728103996560975\n",
      "Epoch: 10 Train Loss: 0.4091963134407997 Test Loss: 0.4410348940438356\n",
      "Epoch: 11 Train Loss: 0.406784272480011 Test Loss: 0.4238424141186114\n",
      "Epoch: 12 Train Loss: 0.4074602882862091 Test Loss: 0.42343530154075865\n",
      "Epoch: 13 Train Loss: 0.3971443591952324 Test Loss: 0.4190988474236891\n",
      "Epoch: 14 Train Loss: 0.3942925970554352 Test Loss: 0.4143622751338794\n"
     ]
    },
    {
     "name": "stderr",
     "output_type": "stream",
     "text": [
      "\u001b[32m[I 2023-05-07 15:22:44,757]\u001b[0m Trial 59 finished with value: 0.5405017921146954 and parameters: {'hidden_size': 240, 'activation': 'LeakyReLU', 'dropout': 0.07592032136771383, 'optimizer': 'Adagrad', 'lr': 0.02852494826435948}. Best is trial 58 with value: 0.56973293768546.\u001b[0m\n"
     ]
    },
    {
     "name": "stdout",
     "output_type": "stream",
     "text": [
      "Epoch: 15 Train Loss: 0.39508417258262635 Test Loss: 0.4140638287741536\n",
      "Epoch: 1 Train Loss: 0.7403704889535904 Test Loss: 0.5920330220327591\n",
      "Epoch: 2 Train Loss: 0.5581305800676346 Test Loss: 0.5421924048338455\n",
      "Epoch: 3 Train Loss: 0.5255342727899551 Test Loss: 0.4943956004830595\n",
      "Epoch: 4 Train Loss: 0.48917736120224 Test Loss: 0.47341734466080465\n",
      "Epoch: 5 Train Loss: 0.47712573156356813 Test Loss: 0.4562413884808842\n",
      "Epoch: 6 Train Loss: 0.44082190968990326 Test Loss: 0.4440261689237893\n",
      "Epoch: 7 Train Loss: 0.4342164056658745 Test Loss: 0.4313958660482218\n",
      "Epoch: 8 Train Loss: 0.4211266971230507 Test Loss: 0.4367585532343426\n",
      "Epoch: 9 Train Loss: 0.41038621754646304 Test Loss: 0.42210791183831975\n",
      "Epoch: 10 Train Loss: 0.4060963708043098 Test Loss: 0.4331176634699392\n",
      "Epoch: 11 Train Loss: 0.4037994668483734 Test Loss: 0.41684019820282636\n",
      "Epoch: 12 Train Loss: 0.39376454894542695 Test Loss: 0.4189221629033835\n",
      "Epoch: 13 Train Loss: 0.39686765652894973 Test Loss: 0.4181406762653265\n",
      "Epoch: 14 Train Loss: 0.38549086072444916 Test Loss: 0.4096450073936115\n"
     ]
    },
    {
     "name": "stderr",
     "output_type": "stream",
     "text": [
      "\u001b[32m[I 2023-05-07 15:23:13,509]\u001b[0m Trial 60 finished with value: 0.5594808940158617 and parameters: {'hidden_size': 244, 'activation': 'LeakyReLU', 'dropout': 0.07176129654858154, 'optimizer': 'Adagrad', 'lr': 0.029059521542120294}. Best is trial 58 with value: 0.56973293768546.\u001b[0m\n"
     ]
    },
    {
     "name": "stdout",
     "output_type": "stream",
     "text": [
      "Epoch: 15 Train Loss: 0.3862101931452751 Test Loss: 0.40828335306610164\n",
      "Epoch: 1 Train Loss: 0.6528860036373139 Test Loss: 0.5712938544849238\n",
      "Epoch: 2 Train Loss: 0.5723810209989548 Test Loss: 0.5448126990955097\n",
      "Epoch: 3 Train Loss: 0.5441023391485215 Test Loss: 0.5231489731480901\n",
      "Epoch: 4 Train Loss: 0.5091914333105088 Test Loss: 0.5012357963350254\n",
      "Epoch: 5 Train Loss: 0.48023757939338685 Test Loss: 0.4735234636849108\n",
      "Epoch: 6 Train Loss: 0.45780836157798765 Test Loss: 0.43841301456998333\n",
      "Epoch: 7 Train Loss: 0.43450407571792604 Test Loss: 0.45163584112549743\n",
      "Epoch: 8 Train Loss: 0.4245426573872566 Test Loss: 0.42839733727823814\n",
      "Epoch: 9 Train Loss: 0.4184746228814125 Test Loss: 0.5228128230181365\n",
      "Epoch: 10 Train Loss: 0.4139369197010994 Test Loss: 0.42258882703491674\n",
      "Epoch: 11 Train Loss: 0.4084912962436676 Test Loss: 0.5105999559640123\n",
      "Epoch: 12 Train Loss: 0.39753896288871765 Test Loss: 0.43531587493781465\n",
      "Epoch: 13 Train Loss: 0.4046357349872589 Test Loss: 0.41695341363120764\n",
      "Epoch: 14 Train Loss: 0.3952519138455391 Test Loss: 0.4173737559170007\n"
     ]
    },
    {
     "name": "stderr",
     "output_type": "stream",
     "text": [
      "\u001b[32m[I 2023-05-07 15:23:55,150]\u001b[0m Trial 61 finished with value: 0.5449146250927989 and parameters: {'hidden_size': 242, 'activation': 'LeakyReLU', 'dropout': 0.07807726460852703, 'optimizer': 'Adagrad', 'lr': 0.028794257582763414}. Best is trial 58 with value: 0.56973293768546.\u001b[0m\n"
     ]
    },
    {
     "name": "stdout",
     "output_type": "stream",
     "text": [
      "Epoch: 15 Train Loss: 0.39144091827869415 Test Loss: 0.4170246187585611\n",
      "Epoch: 1 Train Loss: 0.6537674611568451 Test Loss: 0.5790301300466251\n",
      "Epoch: 2 Train Loss: 0.5607754497289658 Test Loss: 0.532744223745867\n",
      "Epoch: 3 Train Loss: 0.5201249945402145 Test Loss: 0.5000972869201971\n",
      "Epoch: 4 Train Loss: 0.5064061561703682 Test Loss: 0.4712109851856201\n",
      "Epoch: 5 Train Loss: 0.45579403314590455 Test Loss: 0.44936751543332976\n",
      "Epoch: 6 Train Loss: 0.43427646619081495 Test Loss: 0.44066934430370697\n",
      "Epoch: 7 Train Loss: 0.41949471356868745 Test Loss: 0.428348661944889\n",
      "Epoch: 8 Train Loss: 0.41063275644779207 Test Loss: 0.4580319251734228\n",
      "Epoch: 9 Train Loss: 0.4026488846242428 Test Loss: 0.4324811745089845\n",
      "Epoch: 10 Train Loss: 0.3971726802110672 Test Loss: 0.41480802047176485\n",
      "Epoch: 11 Train Loss: 0.3907582180261612 Test Loss: 0.4287348975436375\n",
      "Epoch: 12 Train Loss: 0.3882954806923866 Test Loss: 0.4417880304252949\n",
      "Epoch: 13 Train Loss: 0.37831167172193525 Test Loss: 0.4344223698797508\n",
      "Epoch: 14 Train Loss: 0.38302343065738675 Test Loss: 0.4149588809464686\n"
     ]
    },
    {
     "name": "stderr",
     "output_type": "stream",
     "text": [
      "\u001b[32m[I 2023-05-07 15:24:42,378]\u001b[0m Trial 62 finished with value: 0.5790273556231004 and parameters: {'hidden_size': 242, 'activation': 'LeakyReLU', 'dropout': 0.021289305945869925, 'optimizer': 'Adagrad', 'lr': 0.03220501433661435}. Best is trial 62 with value: 0.5790273556231004.\u001b[0m\n"
     ]
    },
    {
     "name": "stdout",
     "output_type": "stream",
     "text": [
      "Epoch: 15 Train Loss: 0.37317791749238965 Test Loss: 0.4134592881884438\n",
      "Epoch: 1 Train Loss: 0.6381278709411621 Test Loss: 0.5606117496094384\n",
      "Epoch: 2 Train Loss: 0.5391874980449677 Test Loss: 0.5176976428340418\n",
      "Epoch: 3 Train Loss: 0.48719168012142183 Test Loss: 0.46036948244602155\n",
      "Epoch: 4 Train Loss: 0.44935277643203736 Test Loss: 0.45456552793518806\n",
      "Epoch: 5 Train Loss: 0.42887969708442686 Test Loss: 0.43324031464208046\n",
      "Epoch: 6 Train Loss: 0.4169646835923195 Test Loss: 0.4267343281747434\n",
      "Epoch: 7 Train Loss: 0.40752593590021136 Test Loss: 0.42183349288690586\n",
      "Epoch: 8 Train Loss: 0.39920450788736345 Test Loss: 0.41486830083421244\n",
      "Epoch: 9 Train Loss: 0.3996385257601738 Test Loss: 0.4205878099408774\n",
      "Epoch: 10 Train Loss: 0.390369486951828 Test Loss: 0.4158601952722659\n",
      "Epoch: 11 Train Loss: 0.38842944014072417 Test Loss: 0.4136000985202317\n",
      "Epoch: 12 Train Loss: 0.3825598994612694 Test Loss: 0.4152636677740862\n",
      "Epoch: 13 Train Loss: 0.3811597986459732 Test Loss: 0.41223063491308654\n",
      "Epoch: 14 Train Loss: 0.3782112196803093 Test Loss: 0.4069225942364897\n"
     ]
    },
    {
     "name": "stderr",
     "output_type": "stream",
     "text": [
      "\u001b[32m[I 2023-05-07 15:25:32,902]\u001b[0m Trial 63 finished with value: 0.5374449339207049 and parameters: {'hidden_size': 207, 'activation': 'LeakyReLU', 'dropout': 0.023200386977139935, 'optimizer': 'Adagrad', 'lr': 0.031636973203366704}. Best is trial 62 with value: 0.5790273556231004.\u001b[0m\n"
     ]
    },
    {
     "name": "stdout",
     "output_type": "stream",
     "text": [
      "Epoch: 15 Train Loss: 0.37264656156897547 Test Loss: 0.4017042456248317\n",
      "Epoch: 1 Train Loss: 1.5394585764169693 Test Loss: 0.5856509255334592\n",
      "Epoch: 2 Train Loss: 0.5695618578910827 Test Loss: 0.5467591275231907\n",
      "Epoch: 3 Train Loss: 0.5371781192541123 Test Loss: 0.5263960130584125\n",
      "Epoch: 4 Train Loss: 0.497516002869606 Test Loss: 0.47720523659413616\n",
      "Epoch: 5 Train Loss: 0.4727440448641777 Test Loss: 0.48257823450306353\n",
      "Epoch: 6 Train Loss: 0.4487923381686211 Test Loss: 0.4440004919854978\n",
      "Epoch: 7 Train Loss: 0.42817191572189334 Test Loss: 0.4354785818118638\n",
      "Epoch: 8 Train Loss: 0.4224380905151367 Test Loss: 0.4322563838749267\n",
      "Epoch: 9 Train Loss: 0.4145645968914032 Test Loss: 0.4249026080766044\n",
      "Epoch: 10 Train Loss: 0.4072611970543861 Test Loss: 0.4374951734281957\n",
      "Epoch: 11 Train Loss: 0.3971254646897316 Test Loss: 0.4437941700315323\n",
      "Epoch: 12 Train Loss: 0.39685590158700945 Test Loss: 0.4256692621083305\n",
      "Epoch: 13 Train Loss: 0.39031775743961333 Test Loss: 0.44723076825610364\n",
      "Epoch: 14 Train Loss: 0.3800822788596153 Test Loss: 0.4289762966882307\n"
     ]
    },
    {
     "name": "stderr",
     "output_type": "stream",
     "text": [
      "\u001b[32m[I 2023-05-07 15:26:20,473]\u001b[0m Trial 64 finished with value: 0.5623678646934461 and parameters: {'hidden_size': 329, 'activation': 'LeakyReLU', 'dropout': 0.03857785140284322, 'optimizer': 'Adagrad', 'lr': 0.034463482948119045}. Best is trial 62 with value: 0.5790273556231004.\u001b[0m\n"
     ]
    },
    {
     "name": "stdout",
     "output_type": "stream",
     "text": [
      "Epoch: 15 Train Loss: 0.37945042707920074 Test Loss: 0.4216784944359106\n",
      "Epoch: 1 Train Loss: 1.261701297879219 Test Loss: 0.5479186084895088\n",
      "Epoch: 2 Train Loss: 0.5367217460870742 Test Loss: 0.594560861635132\n",
      "Epoch: 3 Train Loss: 0.6151406987667084 Test Loss: 0.45558953261413515\n",
      "Epoch: 4 Train Loss: 0.45618562237024307 Test Loss: 0.45398485410613376\n",
      "Epoch: 5 Train Loss: 0.45160907040834425 Test Loss: 0.42666053264952314\n",
      "Epoch: 6 Train Loss: 0.4344534182071686 Test Loss: 0.4381625463311284\n",
      "Epoch: 7 Train Loss: 0.44730568009614946 Test Loss: 0.42480870886161304\n",
      "Epoch: 8 Train Loss: 0.41353531248569486 Test Loss: 0.44743761898705753\n",
      "Epoch: 9 Train Loss: 0.4033683485627174 Test Loss: 0.42978308352228173\n",
      "Epoch: 10 Train Loss: 0.4079341288566589 Test Loss: 0.4120095643324974\n",
      "Epoch: 11 Train Loss: 0.39277521184682845 Test Loss: 0.42693979312151004\n",
      "Epoch: 12 Train Loss: 0.3943230589389801 Test Loss: 0.4171455903603627\n",
      "Epoch: 13 Train Loss: 0.3874035349011421 Test Loss: 0.3979415817620655\n",
      "Epoch: 14 Train Loss: 0.3872102878808975 Test Loss: 0.4049303289086293\n"
     ]
    },
    {
     "name": "stderr",
     "output_type": "stream",
     "text": [
      "\u001b[32m[I 2023-05-07 15:27:02,447]\u001b[0m Trial 65 finished with value: 0.5627214741318214 and parameters: {'hidden_size': 346, 'activation': 'LeakyReLU', 'dropout': 0.049474236297315975, 'optimizer': 'Adagrad', 'lr': 0.04514494684668665}. Best is trial 62 with value: 0.5790273556231004.\u001b[0m\n"
     ]
    },
    {
     "name": "stdout",
     "output_type": "stream",
     "text": [
      "Epoch: 15 Train Loss: 0.3822018663287163 Test Loss: 0.41470903155807487\n",
      "Epoch: 1 Train Loss: 0.6736267812728882 Test Loss: 0.6451640309045871\n",
      "Epoch: 2 Train Loss: 0.6205010432720184 Test Loss: 0.6250283625750496\n",
      "Epoch: 3 Train Loss: 0.5930582741260528 Test Loss: 0.5957924772184878\n",
      "Epoch: 4 Train Loss: 0.5812621252059936 Test Loss: 0.5694736389877697\n",
      "Epoch: 5 Train Loss: 0.5653269497394562 Test Loss: 0.5738963451438819\n",
      "Epoch: 6 Train Loss: 0.5578242485523224 Test Loss: 0.5589063151385456\n",
      "Epoch: 7 Train Loss: 0.5478400742053986 Test Loss: 0.5601384546429204\n",
      "Epoch: 8 Train Loss: 0.5434206031799317 Test Loss: 0.5595499327578864\n",
      "Epoch: 9 Train Loss: 0.5393554308414459 Test Loss: 0.5580269597208919\n",
      "Epoch: 10 Train Loss: 0.5365033166408539 Test Loss: 0.5581215557198935\n",
      "Epoch: 11 Train Loss: 0.5337989567756652 Test Loss: 0.5427590427688136\n",
      "Epoch: 12 Train Loss: 0.5300575080394745 Test Loss: 0.5451101882579609\n",
      "Epoch: 13 Train Loss: 0.5241897804260254 Test Loss: 0.5293752048343134\n",
      "Epoch: 14 Train Loss: 0.5262864311218262 Test Loss: 0.5367872742608714\n"
     ]
    },
    {
     "name": "stderr",
     "output_type": "stream",
     "text": [
      "\u001b[32m[I 2023-05-07 15:27:32,553]\u001b[0m Trial 66 finished with value: 0.46496815286624205 and parameters: {'hidden_size': 342, 'activation': 'Sigmoid', 'dropout': 0.042853943638474064, 'optimizer': 'Adagrad', 'lr': 0.04415873349366312}. Best is trial 62 with value: 0.5790273556231004.\u001b[0m\n"
     ]
    },
    {
     "name": "stdout",
     "output_type": "stream",
     "text": [
      "Epoch: 15 Train Loss: 0.5226735439777375 Test Loss: 0.5265708046789748\n",
      "Epoch: 1 Train Loss: 1.7532512477874755 Test Loss: 0.6931471906530972\n",
      "Epoch: 2 Train Loss: 0.6931472069740295 Test Loss: 0.6931471811315884\n",
      "Epoch: 3 Train Loss: 0.693147198677063 Test Loss: 0.6931471978894438\n",
      "Epoch: 4 Train Loss: 0.6931472007751465 Test Loss: 0.693147178465566\n",
      "Epoch: 5 Train Loss: 0.6931471975326539 Test Loss: 0.6931471801794375\n",
      "Epoch: 6 Train Loss: 0.69314719581604 Test Loss: 0.6931471767516943\n",
      "Epoch: 7 Train Loss: 0.6931471937179565 Test Loss: 0.6931471860827729\n",
      "Epoch: 8 Train Loss: 0.6931472036361694 Test Loss: 0.6931471830358902\n",
      "Epoch: 9 Train Loss: 0.6931471955299378 Test Loss: 0.6931471864636333\n",
      "Epoch: 10 Train Loss: 0.6931471927642823 Test Loss: 0.6931471900818066\n",
      "Epoch: 11 Train Loss: 0.6931472051620483 Test Loss: 0.6931471904626669\n",
      "Epoch: 12 Train Loss: 0.6931472004890442 Test Loss: 0.693147177513415\n",
      "Epoch: 13 Train Loss: 0.6931471861839295 Test Loss: 0.6931471876062143\n",
      "Epoch: 14 Train Loss: 0.692089699459076 Test Loss: 0.6908997070675079\n"
     ]
    },
    {
     "name": "stderr",
     "output_type": "stream",
     "text": [
      "\u001b[32m[I 2023-05-07 15:28:11,908]\u001b[0m Trial 67 finished with value: 0.0 and parameters: {'hidden_size': 317, 'activation': 'ReLU', 'dropout': 0.1098819875671207, 'optimizer': 'Adagrad', 'lr': 0.03768727315182638}. Best is trial 62 with value: 0.5790273556231004.\u001b[0m\n"
     ]
    },
    {
     "name": "stdout",
     "output_type": "stream",
     "text": [
      "Epoch: 15 Train Loss: 0.6903258428573609 Test Loss: 0.689987776188043\n",
      "Epoch: 1 Train Loss: 0.8007642913386226 Test Loss: 0.5919821997420095\n",
      "Epoch: 2 Train Loss: 0.5558157220602036 Test Loss: 0.5283818220178159\n",
      "Epoch: 3 Train Loss: 0.515053214263916 Test Loss: 0.47191488538115933\n",
      "Epoch: 4 Train Loss: 0.4626373196363449 Test Loss: 0.45000306842997434\n",
      "Epoch: 5 Train Loss: 0.44023796166181567 Test Loss: 0.43544058687389847\n",
      "Epoch: 6 Train Loss: 0.41927228952646256 Test Loss: 0.43041001417385505\n",
      "Epoch: 7 Train Loss: 0.41070665739774703 Test Loss: 0.4151569667953653\n",
      "Epoch: 8 Train Loss: 0.4025646699309349 Test Loss: 0.4283202215315054\n",
      "Epoch: 9 Train Loss: 0.39312080116271975 Test Loss: 0.42041898968692026\n",
      "Epoch: 10 Train Loss: 0.3897690841317177 Test Loss: 0.4283848263966009\n",
      "Epoch: 11 Train Loss: 0.38179674096107485 Test Loss: 0.4157488985707204\n",
      "Epoch: 12 Train Loss: 0.38040572577118875 Test Loss: 0.40436368611769175\n",
      "Epoch: 13 Train Loss: 0.3709981697440147 Test Loss: 0.41193226234505353\n",
      "Epoch: 14 Train Loss: 0.3650920333504677 Test Loss: 0.4214111740073076\n"
     ]
    },
    {
     "name": "stderr",
     "output_type": "stream",
     "text": [
      "\u001b[32m[I 2023-05-07 15:28:52,833]\u001b[0m Trial 68 finished with value: 0.5511363636363636 and parameters: {'hidden_size': 356, 'activation': 'LeakyReLU', 'dropout': 0.04321452662504347, 'optimizer': 'Adagrad', 'lr': 0.03278592695965143}. Best is trial 62 with value: 0.5790273556231004.\u001b[0m\n"
     ]
    },
    {
     "name": "stdout",
     "output_type": "stream",
     "text": [
      "Epoch: 15 Train Loss: 0.35848536013960836 Test Loss: 0.42773786130042885\n",
      "Epoch: 1 Train Loss: 1.0719737903118134 Test Loss: 0.5599068527023632\n",
      "Epoch: 2 Train Loss: 0.5513386778831482 Test Loss: 0.5188719063711623\n",
      "Epoch: 3 Train Loss: 0.4984262538909912 Test Loss: 0.4897567795012325\n",
      "Epoch: 4 Train Loss: 0.5679459519147873 Test Loss: 0.49220370346555314\n",
      "Epoch: 5 Train Loss: 0.4701455513238907 Test Loss: 0.4501843923292221\n",
      "Epoch: 6 Train Loss: 0.4464325407981873 Test Loss: 0.4461555173888374\n",
      "Epoch: 7 Train Loss: 0.43097610936164854 Test Loss: 0.42726664028514305\n",
      "Epoch: 8 Train Loss: 0.4201762628674507 Test Loss: 0.4171494851573207\n",
      "Epoch: 9 Train Loss: 0.40859565848112106 Test Loss: 0.4698168309732748\n",
      "Epoch: 10 Train Loss: 0.40051036311388016 Test Loss: 0.4118203646220719\n",
      "Epoch: 11 Train Loss: 0.3961274041891098 Test Loss: 0.4167298064254724\n",
      "Epoch: 12 Train Loss: 0.3878184472322464 Test Loss: 0.4116147613515869\n",
      "Epoch: 13 Train Loss: 0.38503706641197205 Test Loss: 0.4042818764813792\n",
      "Epoch: 14 Train Loss: 0.3782357205092907 Test Loss: 0.412008676808863\n"
     ]
    },
    {
     "name": "stderr",
     "output_type": "stream",
     "text": [
      "\u001b[32m[I 2023-05-07 15:29:19,684]\u001b[0m Trial 69 finished with value: 0.5230574857864814 and parameters: {'hidden_size': 276, 'activation': 'LeakyReLU', 'dropout': 0.008165110476886527, 'optimizer': 'Adagrad', 'lr': 0.04738832976533831}. Best is trial 62 with value: 0.5790273556231004.\u001b[0m\n"
     ]
    },
    {
     "name": "stdout",
     "output_type": "stream",
     "text": [
      "Epoch: 15 Train Loss: 0.3781976456999779 Test Loss: 0.3961433619498826\n",
      "Epoch: 1 Train Loss: 1.1183094219207763 Test Loss: 0.5858047214178993\n",
      "Epoch: 2 Train Loss: 0.5866446992635727 Test Loss: 0.5505102806197949\n",
      "Epoch: 3 Train Loss: 0.5609850465059281 Test Loss: 0.5445777362527938\n",
      "Epoch: 4 Train Loss: 0.5343756593227387 Test Loss: 0.5078585489203755\n",
      "Epoch: 5 Train Loss: 0.5154036362171173 Test Loss: 0.4915156171630366\n",
      "Epoch: 6 Train Loss: 0.492616702747345 Test Loss: 0.4768496229054448\n",
      "Epoch: 7 Train Loss: 0.4717908749818802 Test Loss: 0.45792397928123657\n",
      "Epoch: 8 Train Loss: 0.457951197719574 Test Loss: 0.45916369857308204\n",
      "Epoch: 9 Train Loss: 0.448453700709343 Test Loss: 0.43703112767908137\n",
      "Epoch: 10 Train Loss: 0.44283103992938994 Test Loss: 0.4267802340344499\n",
      "Epoch: 11 Train Loss: 0.44629966995716097 Test Loss: 0.4227894760739689\n",
      "Epoch: 12 Train Loss: 0.4283415496468544 Test Loss: 0.4210911326515027\n",
      "Epoch: 13 Train Loss: 0.42369020173549654 Test Loss: 0.42955145646874515\n",
      "Epoch: 14 Train Loss: 0.4185645649790764 Test Loss: 0.4200255680150879\n"
     ]
    },
    {
     "name": "stderr",
     "output_type": "stream",
     "text": [
      "\u001b[32m[I 2023-05-07 15:29:45,589]\u001b[0m Trial 70 finished with value: 0.5480427046263345 and parameters: {'hidden_size': 287, 'activation': 'LeakyReLU', 'dropout': 0.12384253389112382, 'optimizer': 'Adagrad', 'lr': 0.034538452256960846}. Best is trial 62 with value: 0.5790273556231004.\u001b[0m\n"
     ]
    },
    {
     "name": "stdout",
     "output_type": "stream",
     "text": [
      "Epoch: 15 Train Loss: 0.4217372079372406 Test Loss: 0.41504029148874194\n",
      "Epoch: 1 Train Loss: 1.6183522508621215 Test Loss: 0.6071896885340207\n",
      "Epoch: 2 Train Loss: 0.568243369626999 Test Loss: 0.5581653409967788\n",
      "Epoch: 3 Train Loss: 0.5385980728149414 Test Loss: 0.5300424221795969\n",
      "Epoch: 4 Train Loss: 0.5130481289863587 Test Loss: 0.4884724134263901\n",
      "Epoch: 5 Train Loss: 0.48472763001918795 Test Loss: 0.4784396332673752\n",
      "Epoch: 6 Train Loss: 0.46191401363611223 Test Loss: 0.46839391123562957\n",
      "Epoch: 7 Train Loss: 0.4419126932263374 Test Loss: 0.4464621328222104\n",
      "Epoch: 8 Train Loss: 0.4269277024269104 Test Loss: 0.43195083411261675\n",
      "Epoch: 9 Train Loss: 0.42328060183525085 Test Loss: 0.4343388579047907\n",
      "Epoch: 10 Train Loss: 0.41557826234102246 Test Loss: 0.435636007652496\n",
      "Epoch: 11 Train Loss: 0.4094013477802277 Test Loss: 0.4226731254745977\n",
      "Epoch: 12 Train Loss: 0.4015593447804451 Test Loss: 0.41526878846529575\n",
      "Epoch: 13 Train Loss: 0.4027073530435562 Test Loss: 0.4139498019466004\n",
      "Epoch: 14 Train Loss: 0.39482205865383146 Test Loss: 0.40910471654452457\n"
     ]
    },
    {
     "name": "stderr",
     "output_type": "stream",
     "text": [
      "\u001b[32m[I 2023-05-07 15:30:14,792]\u001b[0m Trial 71 finished with value: 0.5371120107962213 and parameters: {'hidden_size': 363, 'activation': 'LeakyReLU', 'dropout': 0.06666583160412651, 'optimizer': 'Adagrad', 'lr': 0.025896678116923845}. Best is trial 62 with value: 0.5790273556231004.\u001b[0m\n"
     ]
    },
    {
     "name": "stdout",
     "output_type": "stream",
     "text": [
      "Epoch: 15 Train Loss: 0.3883980853676796 Test Loss: 0.41363785913386664\n",
      "Epoch: 1 Train Loss: 0.9448469167232514 Test Loss: 0.6139349654650155\n",
      "Epoch: 2 Train Loss: 0.5844734828472138 Test Loss: 0.5631244852900886\n",
      "Epoch: 3 Train Loss: 0.558158679819107 Test Loss: 0.5452513168223749\n",
      "Epoch: 4 Train Loss: 0.5535994028091431 Test Loss: 0.5331068474549455\n",
      "Epoch: 5 Train Loss: 0.5354103557348251 Test Loss: 0.5297908659179371\n",
      "Epoch: 6 Train Loss: 0.5304074787616729 Test Loss: 0.5113739581725087\n",
      "Epoch: 7 Train Loss: 0.5124462858200073 Test Loss: 0.4985786785904211\n",
      "Epoch: 8 Train Loss: 0.4967551459789276 Test Loss: 0.48604239161593465\n",
      "Epoch: 9 Train Loss: 0.47555841131210325 Test Loss: 0.4765435164681258\n",
      "Epoch: 10 Train Loss: 0.4644631127595901 Test Loss: 0.46208622780280373\n",
      "Epoch: 11 Train Loss: 0.45257844982147216 Test Loss: 0.4435509655136651\n",
      "Epoch: 12 Train Loss: 0.4431909041523933 Test Loss: 0.45100756741750736\n",
      "Epoch: 13 Train Loss: 0.4268108070850372 Test Loss: 0.45816552550933615\n",
      "Epoch: 14 Train Loss: 0.422810870552063 Test Loss: 0.46812495084616323\n"
     ]
    },
    {
     "name": "stderr",
     "output_type": "stream",
     "text": [
      "\u001b[32m[I 2023-05-07 15:30:39,786]\u001b[0m Trial 72 finished with value: 0.5358778625954199 and parameters: {'hidden_size': 230, 'activation': 'LeakyReLU', 'dropout': 0.09370202281568374, 'optimizer': 'Adagrad', 'lr': 0.029126757916593957}. Best is trial 62 with value: 0.5790273556231004.\u001b[0m\n"
     ]
    },
    {
     "name": "stdout",
     "output_type": "stream",
     "text": [
      "Epoch: 15 Train Loss: 0.41795931158065797 Test Loss: 0.4345053048750844\n",
      "Epoch: 1 Train Loss: 1.0428138542890548 Test Loss: 0.5908183468797337\n",
      "Epoch: 2 Train Loss: 0.5753098492860794 Test Loss: 0.5461411721790179\n",
      "Epoch: 3 Train Loss: 0.5607034409999847 Test Loss: 0.5412546878995986\n",
      "Epoch: 4 Train Loss: 0.5369060624599457 Test Loss: 0.5192987011453976\n",
      "Epoch: 5 Train Loss: 0.5104544991016388 Test Loss: 0.5119576310863891\n",
      "Epoch: 6 Train Loss: 0.48077660143375395 Test Loss: 0.47473298403592157\n",
      "Epoch: 7 Train Loss: 0.4559300140976906 Test Loss: 0.44381352968680593\n",
      "Epoch: 8 Train Loss: 0.43796685292720794 Test Loss: 0.4374675842138906\n",
      "Epoch: 9 Train Loss: 0.42677038143873214 Test Loss: 0.43154646918034784\n",
      "Epoch: 10 Train Loss: 0.41487766588926317 Test Loss: 0.4438928479489427\n",
      "Epoch: 11 Train Loss: 0.4107655098795891 Test Loss: 0.4296998809130428\n",
      "Epoch: 12 Train Loss: 0.40366603815555574 Test Loss: 0.4234245142426354\n",
      "Epoch: 13 Train Loss: 0.3991231840133667 Test Loss: 0.41452046240956636\n",
      "Epoch: 14 Train Loss: 0.3931199142575264 Test Loss: 0.4156178115560605\n"
     ]
    },
    {
     "name": "stderr",
     "output_type": "stream",
     "text": [
      "\u001b[32m[I 2023-05-07 15:31:17,152]\u001b[0m Trial 73 finished with value: 0.4748858447488584 and parameters: {'hidden_size': 253, 'activation': 'LeakyReLU', 'dropout': 0.04780840971894498, 'optimizer': 'Adagrad', 'lr': 0.03793203242130233}. Best is trial 62 with value: 0.5790273556231004.\u001b[0m\n"
     ]
    },
    {
     "name": "stdout",
     "output_type": "stream",
     "text": [
      "Epoch: 15 Train Loss: 0.39382448992729185 Test Loss: 0.4168625697255515\n",
      "Epoch: 1 Train Loss: 2.0212271862745284 Test Loss: 0.5780569868156323\n",
      "Epoch: 2 Train Loss: 0.57791387488842 Test Loss: 0.5546204081644266\n",
      "Epoch: 3 Train Loss: 0.5496136065721512 Test Loss: 0.5318393081712266\n",
      "Epoch: 4 Train Loss: 0.5197242732524872 Test Loss: 0.5139007909705464\n",
      "Epoch: 5 Train Loss: 0.4977399460077286 Test Loss: 0.47287428126738856\n",
      "Epoch: 6 Train Loss: 0.4890795790195465 Test Loss: 0.48796639460534713\n",
      "Epoch: 7 Train Loss: 0.4614336285352707 Test Loss: 0.4520856135617049\n",
      "Epoch: 8 Train Loss: 0.44061651955842973 Test Loss: 0.4337177052379797\n",
      "Epoch: 9 Train Loss: 0.4278655710339546 Test Loss: 0.4450972651521238\n",
      "Epoch: 10 Train Loss: 0.4253413159132004 Test Loss: 0.4263715781152439\n",
      "Epoch: 11 Train Loss: 0.41318331093788147 Test Loss: 0.4887382836101916\n",
      "Epoch: 12 Train Loss: 0.4101782288312912 Test Loss: 0.4325080804598217\n",
      "Epoch: 13 Train Loss: 0.4022785040140152 Test Loss: 0.41667558428959345\n",
      "Epoch: 14 Train Loss: 0.40958822289705277 Test Loss: 0.4365447613473137\n"
     ]
    },
    {
     "name": "stderr",
     "output_type": "stream",
     "text": [
      "\u001b[32m[I 2023-05-07 15:32:06,370]\u001b[0m Trial 74 finished with value: 0.5259562841530054 and parameters: {'hidden_size': 324, 'activation': 'LeakyReLU', 'dropout': 0.06621812756036655, 'optimizer': 'Adagrad', 'lr': 0.02597135174870732}. Best is trial 62 with value: 0.5790273556231004.\u001b[0m\n"
     ]
    },
    {
     "name": "stdout",
     "output_type": "stream",
     "text": [
      "Epoch: 15 Train Loss: 0.4006435898900032 Test Loss: 0.42708648565097357\n",
      "Epoch: 1 Train Loss: 0.6539476647138596 Test Loss: 0.5770391988963746\n",
      "Epoch: 2 Train Loss: 0.5522977313518525 Test Loss: 0.5351412839973315\n",
      "Epoch: 3 Train Loss: 0.5280215836763382 Test Loss: 0.5063487745035952\n",
      "Epoch: 4 Train Loss: 0.5069950914621353 Test Loss: 0.5462218448519707\n",
      "Epoch: 5 Train Loss: 0.47784103227853775 Test Loss: 0.45937259890400944\n",
      "Epoch: 6 Train Loss: 0.44608603035211564 Test Loss: 0.4488910549460128\n",
      "Epoch: 7 Train Loss: 0.42300474597215654 Test Loss: 0.42994994458299096\n",
      "Epoch: 8 Train Loss: 0.41431619839668277 Test Loss: 0.44412486474163615\n",
      "Epoch: 9 Train Loss: 0.40198123378753664 Test Loss: 0.41831122545864635\n",
      "Epoch: 10 Train Loss: 0.4017085044026375 Test Loss: 0.43949249032111215\n",
      "Epoch: 11 Train Loss: 0.39352259895801545 Test Loss: 0.4107188788799051\n",
      "Epoch: 12 Train Loss: 0.3853097630381584 Test Loss: 0.4136726758398187\n",
      "Epoch: 13 Train Loss: 0.3872802838921547 Test Loss: 0.41356950086621813\n",
      "Epoch: 14 Train Loss: 0.37371217988729477 Test Loss: 0.40973027010028734\n"
     ]
    },
    {
     "name": "stderr",
     "output_type": "stream",
     "text": [
      "\u001b[32m[I 2023-05-07 15:32:53,736]\u001b[0m Trial 75 finished with value: 0.5508021390374332 and parameters: {'hidden_size': 172, 'activation': 'LeakyReLU', 'dropout': 0.014797562257449593, 'optimizer': 'Adagrad', 'lr': 0.032092046090628136}. Best is trial 62 with value: 0.5790273556231004.\u001b[0m\n"
     ]
    },
    {
     "name": "stdout",
     "output_type": "stream",
     "text": [
      "Epoch: 15 Train Loss: 0.38070546884536743 Test Loss: 0.42455831762796015\n",
      "Epoch: 1 Train Loss: 0.6605873578071594 Test Loss: 0.6145586490440673\n",
      "Epoch: 2 Train Loss: 0.5957786160945893 Test Loss: 0.5954473111004875\n",
      "Epoch: 3 Train Loss: 0.5796513731956482 Test Loss: 0.5721717614906664\n",
      "Epoch: 4 Train Loss: 0.5624715508937835 Test Loss: 0.5654248957055065\n",
      "Epoch: 5 Train Loss: 0.5526538475513458 Test Loss: 0.5690371496037553\n",
      "Epoch: 6 Train Loss: 0.5537567526340484 Test Loss: 0.5553662457976478\n",
      "Epoch: 7 Train Loss: 0.5450898339271545 Test Loss: 0.5593113252720513\n",
      "Epoch: 8 Train Loss: 0.5434395925998687 Test Loss: 0.5549347899592342\n",
      "Epoch: 9 Train Loss: 0.539629930305481 Test Loss: 0.5442412512751814\n",
      "Epoch: 10 Train Loss: 0.5383517714500428 Test Loss: 0.55181766689395\n",
      "Epoch: 11 Train Loss: 0.5303031736373901 Test Loss: 0.5438250547019057\n",
      "Epoch: 12 Train Loss: 0.524925058889389 Test Loss: 0.5300042547356968\n",
      "Epoch: 13 Train Loss: 0.5220062552452087 Test Loss: 0.5416878529440481\n",
      "Epoch: 14 Train Loss: 0.5177933130741119 Test Loss: 0.5361685038755496\n"
     ]
    },
    {
     "name": "stderr",
     "output_type": "stream",
     "text": [
      "\u001b[32m[I 2023-05-07 15:33:41,105]\u001b[0m Trial 76 finished with value: 0.44521019986216404 and parameters: {'hidden_size': 257, 'activation': 'Sigmoid', 'dropout': 0.03698298641610821, 'optimizer': 'Adagrad', 'lr': 0.03471634926005118}. Best is trial 62 with value: 0.5790273556231004.\u001b[0m\n"
     ]
    },
    {
     "name": "stdout",
     "output_type": "stream",
     "text": [
      "Epoch: 15 Train Loss: 0.5121841516017914 Test Loss: 0.5216759511837944\n",
      "Epoch: 1 Train Loss: 4.208683922290802 Test Loss: 0.5586346173629212\n",
      "Epoch: 2 Train Loss: 0.5629846256017685 Test Loss: 0.5380816222570194\n",
      "Epoch: 3 Train Loss: 0.5318218451738358 Test Loss: 0.5127859530738368\n",
      "Epoch: 4 Train Loss: 0.5051234304189682 Test Loss: 0.48926082163001783\n",
      "Epoch: 5 Train Loss: 0.48380229878425596 Test Loss: 0.4809669920811638\n",
      "Epoch: 6 Train Loss: 0.4625532031059265 Test Loss: 0.4454799950979769\n",
      "Epoch: 7 Train Loss: 0.44429647264480593 Test Loss: 0.4459653729067062\n",
      "Epoch: 8 Train Loss: 0.4282345746397972 Test Loss: 0.4397109229915058\n",
      "Epoch: 9 Train Loss: 0.42056178414821627 Test Loss: 0.4321321071908116\n",
      "Epoch: 10 Train Loss: 0.4186715259552002 Test Loss: 0.41767246164262484\n",
      "Epoch: 11 Train Loss: 0.410324218916893 Test Loss: 0.41851903424381065\n",
      "Epoch: 12 Train Loss: 0.4009976778030396 Test Loss: 0.4185602792535727\n",
      "Epoch: 13 Train Loss: 0.39938426532745364 Test Loss: 0.42806023825852635\n",
      "Epoch: 14 Train Loss: 0.4010514743208885 Test Loss: 0.41580489782479624\n"
     ]
    },
    {
     "name": "stderr",
     "output_type": "stream",
     "text": [
      "\u001b[32m[I 2023-05-07 15:34:28,377]\u001b[0m Trial 77 finished with value: 0.5093996361431171 and parameters: {'hidden_size': 312, 'activation': 'LeakyReLU', 'dropout': 0.08882045227267976, 'optimizer': 'Adagrad', 'lr': 0.029498752501399862}. Best is trial 62 with value: 0.5790273556231004.\u001b[0m\n"
     ]
    },
    {
     "name": "stdout",
     "output_type": "stream",
     "text": [
      "Epoch: 15 Train Loss: 0.397288802087307 Test Loss: 0.4119461117127833\n",
      "Epoch: 1 Train Loss: 0.9258658320188522 Test Loss: 0.5687854842256053\n",
      "Epoch: 2 Train Loss: 0.5517592325925827 Test Loss: 0.5288566936509678\n",
      "Epoch: 3 Train Loss: 0.5132647586584091 Test Loss: 0.49590061305049127\n",
      "Epoch: 4 Train Loss: 0.49930132466554644 Test Loss: 0.47225582090239177\n",
      "Epoch: 5 Train Loss: 0.4586192422509193 Test Loss: 0.456016211083141\n",
      "Epoch: 6 Train Loss: 0.43554694356918333 Test Loss: 0.43080412091824194\n",
      "Epoch: 7 Train Loss: 0.42392957834005357 Test Loss: 0.4302527869042878\n",
      "Epoch: 8 Train Loss: 0.4139676827430725 Test Loss: 0.4401487449106698\n",
      "Epoch: 9 Train Loss: 0.4022831791996956 Test Loss: 0.4338127952128554\n",
      "Epoch: 10 Train Loss: 0.4056450802564621 Test Loss: 0.42357009351729585\n",
      "Epoch: 11 Train Loss: 0.3971640528917313 Test Loss: 0.42011114678824674\n",
      "Epoch: 12 Train Loss: 0.39966182099580766 Test Loss: 0.4220377922105713\n",
      "Epoch: 13 Train Loss: 0.38637490507364275 Test Loss: 0.41116979282599286\n",
      "Epoch: 14 Train Loss: 0.391173044192791 Test Loss: 0.41650759338285215\n"
     ]
    },
    {
     "name": "stderr",
     "output_type": "stream",
     "text": [
      "\u001b[32m[I 2023-05-07 15:35:15,718]\u001b[0m Trial 78 finished with value: 0.5363881401617251 and parameters: {'hidden_size': 287, 'activation': 'LeakyReLU', 'dropout': 0.05454547366310197, 'optimizer': 'Adagrad', 'lr': 0.02685858234176783}. Best is trial 62 with value: 0.5790273556231004.\u001b[0m\n"
     ]
    },
    {
     "name": "stdout",
     "output_type": "stream",
     "text": [
      "Epoch: 15 Train Loss: 0.38645910197496414 Test Loss: 0.4322346970676995\n",
      "Epoch: 1 Train Loss: 0.622004715204239 Test Loss: 0.5613757372378542\n",
      "Epoch: 2 Train Loss: 0.5503126321077347 Test Loss: 0.5312403871323734\n",
      "Epoch: 3 Train Loss: 0.5155502809762955 Test Loss: 0.4909117723615786\n",
      "Epoch: 4 Train Loss: 0.47782141442298887 Test Loss: 0.46472718626165543\n",
      "Epoch: 5 Train Loss: 0.44250927982330324 Test Loss: 0.45564060455884414\n",
      "Epoch: 6 Train Loss: 0.43214800350666044 Test Loss: 0.4290563784087428\n",
      "Epoch: 7 Train Loss: 0.4147982208251953 Test Loss: 0.41742543830943946\n",
      "Epoch: 8 Train Loss: 0.41042865900993347 Test Loss: 0.42259324839511236\n",
      "Epoch: 9 Train Loss: 0.4070703229546547 Test Loss: 0.4237207598484362\n",
      "Epoch: 10 Train Loss: 0.4060055436253548 Test Loss: 0.41794032858202634\n",
      "Epoch: 11 Train Loss: 0.391573972094059 Test Loss: 0.420233474181483\n",
      "Epoch: 12 Train Loss: 0.39033328311443327 Test Loss: 0.4194322251283323\n",
      "Epoch: 13 Train Loss: 0.3819081049561501 Test Loss: 0.41922931175548045\n",
      "Epoch: 14 Train Loss: 0.38156739037036896 Test Loss: 0.4259845642997815\n"
     ]
    },
    {
     "name": "stderr",
     "output_type": "stream",
     "text": [
      "\u001b[32m[I 2023-05-07 15:36:03,990]\u001b[0m Trial 79 finished with value: 0.5482781904118839 and parameters: {'hidden_size': 209, 'activation': 'LeakyReLU', 'dropout': 0.028154290649499147, 'optimizer': 'Adagrad', 'lr': 0.02398056267323068}. Best is trial 62 with value: 0.5790273556231004.\u001b[0m\n"
     ]
    },
    {
     "name": "stdout",
     "output_type": "stream",
     "text": [
      "Epoch: 15 Train Loss: 0.3741723899841309 Test Loss: 0.41082393044766524\n",
      "Epoch: 1 Train Loss: 1.2171321947097777 Test Loss: 0.6931471898913765\n",
      "Epoch: 2 Train Loss: 0.6931472023963928 Test Loss: 0.6931471889392256\n",
      "Epoch: 3 Train Loss: 0.6931471985816956 Test Loss: 0.693147185130622\n",
      "Epoch: 4 Train Loss: 0.6931471982002259 Test Loss: 0.6931471780847056\n",
      "Epoch: 5 Train Loss: 0.6931471869468689 Test Loss: 0.6931471938904101\n",
      "Epoch: 6 Train Loss: 0.6931471960067749 Test Loss: 0.6931471874157842\n",
      "Epoch: 7 Train Loss: 0.6931471992492676 Test Loss: 0.6931471847497617\n",
      "Epoch: 8 Train Loss: 0.6931472004890442 Test Loss: 0.6931471754186831\n",
      "Epoch: 9 Train Loss: 0.6931471933364868 Test Loss: 0.6931471912243876\n",
      "Epoch: 10 Train Loss: 0.6931471976280212 Test Loss: 0.6931471902722368\n",
      "Epoch: 11 Train Loss: 0.6931471920013428 Test Loss: 0.6931471841784712\n",
      "Epoch: 12 Train Loss: 0.6931471877098083 Test Loss: 0.6931471847497617\n",
      "Epoch: 13 Train Loss: 0.6931471935272217 Test Loss: 0.6931471895105161\n",
      "Epoch: 14 Train Loss: 0.6931472046852112 Test Loss: 0.6931471959851421\n"
     ]
    },
    {
     "name": "stderr",
     "output_type": "stream",
     "text": [
      "\u001b[32m[I 2023-05-07 15:36:52,424]\u001b[0m Trial 80 finished with value: 0.0 and parameters: {'hidden_size': 229, 'activation': 'ReLU', 'dropout': 0.012221243415291523, 'optimizer': 'Adagrad', 'lr': 0.04097808847662876}. Best is trial 62 with value: 0.5790273556231004.\u001b[0m\n"
     ]
    },
    {
     "name": "stdout",
     "output_type": "stream",
     "text": [
      "Epoch: 15 Train Loss: 0.6931471957206726 Test Loss: 0.6931471936999799\n",
      "Epoch: 1 Train Loss: 1.667826258969307 Test Loss: 0.5504667082438454\n",
      "Epoch: 2 Train Loss: 0.5308222485780716 Test Loss: 0.4967385157704734\n",
      "Epoch: 3 Train Loss: 0.48501615200042725 Test Loss: 0.4629448683688435\n",
      "Epoch: 4 Train Loss: 0.4429110143065453 Test Loss: 0.436892782870573\n",
      "Epoch: 5 Train Loss: 0.4413301471114159 Test Loss: 0.43197162784993076\n",
      "Epoch: 6 Train Loss: 0.42368894593715667 Test Loss: 0.4240273211044244\n",
      "Epoch: 7 Train Loss: 0.4083027629494667 Test Loss: 0.4290281157857313\n",
      "Epoch: 8 Train Loss: 0.4080332039952278 Test Loss: 0.4195332584289697\n",
      "Epoch: 9 Train Loss: 0.39680893446207044 Test Loss: 0.41588888536341273\n",
      "Epoch: 10 Train Loss: 0.39459159642457964 Test Loss: 0.42406782153220224\n",
      "Epoch: 11 Train Loss: 0.3897108452320099 Test Loss: 0.44322386764870664\n",
      "Epoch: 12 Train Loss: 0.387523817718029 Test Loss: 0.4020512002630356\n",
      "Epoch: 13 Train Loss: 0.37794436843395235 Test Loss: 0.4100227297875828\n",
      "Epoch: 14 Train Loss: 0.3775871677517891 Test Loss: 0.4185738320977162\n"
     ]
    },
    {
     "name": "stderr",
     "output_type": "stream",
     "text": [
      "\u001b[32m[I 2023-05-07 15:37:26,110]\u001b[0m Trial 81 finished with value: 0.579799537393986 and parameters: {'hidden_size': 358, 'activation': 'LeakyReLU', 'dropout': 0.0432551830098223, 'optimizer': 'Adagrad', 'lr': 0.03334428970711653}. Best is trial 81 with value: 0.579799537393986.\u001b[0m\n"
     ]
    },
    {
     "name": "stdout",
     "output_type": "stream",
     "text": [
      "Epoch: 15 Train Loss: 0.3726785393118858 Test Loss: 0.4087348247345644\n",
      "Epoch: 1 Train Loss: 0.7107536925733089 Test Loss: 0.5763920181856369\n",
      "Epoch: 2 Train Loss: 0.5754231857061386 Test Loss: 0.5558940779667693\n",
      "Epoch: 3 Train Loss: 0.5419174543619156 Test Loss: 0.5384195286530656\n",
      "Epoch: 4 Train Loss: 0.5142211037874221 Test Loss: 0.48573895598562383\n",
      "Epoch: 5 Train Loss: 0.4777534996747971 Test Loss: 0.4523338773570503\n",
      "Epoch: 6 Train Loss: 0.44832233139276506 Test Loss: 0.44518249993697523\n",
      "Epoch: 7 Train Loss: 0.45184982887506486 Test Loss: 0.4466452484789748\n",
      "Epoch: 8 Train Loss: 0.4202295118093491 Test Loss: 0.4315522066748942\n",
      "Epoch: 9 Train Loss: 0.41831010376214983 Test Loss: 0.41722215516879535\n",
      "Epoch: 10 Train Loss: 0.41302699338197707 Test Loss: 0.41761285652177405\n",
      "Epoch: 11 Train Loss: 0.4032397707462311 Test Loss: 0.4278360223903443\n",
      "Epoch: 12 Train Loss: 0.44737300851345063 Test Loss: 0.4109947698089642\n",
      "Epoch: 13 Train Loss: 0.3951763384819031 Test Loss: 0.4137059054768885\n",
      "Epoch: 14 Train Loss: 0.39326607611179354 Test Loss: 0.42125483956961585\n"
     ]
    },
    {
     "name": "stderr",
     "output_type": "stream",
     "text": [
      "\u001b[32m[I 2023-05-07 15:37:51,416]\u001b[0m Trial 82 finished with value: 0.499672988881622 and parameters: {'hidden_size': 336, 'activation': 'LeakyReLU', 'dropout': 0.06883335849245867, 'optimizer': 'Adagrad', 'lr': 0.03226842895883256}. Best is trial 81 with value: 0.579799537393986.\u001b[0m\n"
     ]
    },
    {
     "name": "stdout",
     "output_type": "stream",
     "text": [
      "Epoch: 15 Train Loss: 0.391562221121788 Test Loss: 0.4024528574448424\n",
      "Epoch: 1 Train Loss: 0.8883302042722702 Test Loss: 0.5668238568039367\n",
      "Epoch: 2 Train Loss: 0.5656913066387177 Test Loss: 0.5327844023704529\n",
      "Epoch: 3 Train Loss: 0.5181842937231064 Test Loss: 0.4996158110733611\n",
      "Epoch: 4 Train Loss: 0.47883188247680664 Test Loss: 0.46700703935882154\n",
      "Epoch: 5 Train Loss: 0.4614424097299576 Test Loss: 0.44007685356818066\n",
      "Epoch: 6 Train Loss: 0.44186258971691134 Test Loss: 0.47730776931816776\n",
      "Epoch: 7 Train Loss: 0.4236497923731804 Test Loss: 0.43785101965593454\n",
      "Epoch: 8 Train Loss: 0.41824551337957383 Test Loss: 0.42053400779874944\n",
      "Epoch: 9 Train Loss: 0.406411809027195 Test Loss: 0.4260108224785747\n",
      "Epoch: 10 Train Loss: 0.3930999764919281 Test Loss: 0.41614321795420145\n",
      "Epoch: 11 Train Loss: 0.392795919829607 Test Loss: 0.4125924986153365\n",
      "Epoch: 12 Train Loss: 0.3971544733047485 Test Loss: 0.4270586173493451\n",
      "Epoch: 13 Train Loss: 0.38243203155994415 Test Loss: 0.414142140565208\n",
      "Epoch: 14 Train Loss: 0.38019951241016386 Test Loss: 0.4146601685795921\n"
     ]
    },
    {
     "name": "stderr",
     "output_type": "stream",
     "text": [
      "\u001b[32m[I 2023-05-07 15:38:20,209]\u001b[0m Trial 83 finished with value: 0.5607940446650125 and parameters: {'hidden_size': 402, 'activation': 'LeakyReLU', 'dropout': 0.034808487941118925, 'optimizer': 'Adagrad', 'lr': 0.03517018065357532}. Best is trial 81 with value: 0.579799537393986.\u001b[0m\n"
     ]
    },
    {
     "name": "stdout",
     "output_type": "stream",
     "text": [
      "Epoch: 15 Train Loss: 0.37577240471839907 Test Loss: 0.4101224522621106\n",
      "Epoch: 1 Train Loss: 1.2692127574682235 Test Loss: 0.5784194221892677\n",
      "Epoch: 2 Train Loss: 0.5654192890167237 Test Loss: 0.54811960468277\n",
      "Epoch: 3 Train Loss: 0.5197416872262954 Test Loss: 0.49127475198465415\n",
      "Epoch: 4 Train Loss: 0.47835274773836134 Test Loss: 0.44379971611994906\n",
      "Epoch: 5 Train Loss: 0.45397053607702254 Test Loss: 0.4249411508583794\n",
      "Epoch: 6 Train Loss: 0.45619903764724734 Test Loss: 0.44007044290296565\n",
      "Epoch: 7 Train Loss: 0.42801110332012177 Test Loss: 0.4261232363149381\n",
      "Epoch: 8 Train Loss: 0.4223798691034317 Test Loss: 0.43983219625850833\n",
      "Epoch: 9 Train Loss: 0.41460339361429216 Test Loss: 0.4211964887171127\n",
      "Epoch: 10 Train Loss: 0.41000086114406586 Test Loss: 0.4193388952519566\n",
      "Epoch: 11 Train Loss: 0.3979237833857536 Test Loss: 0.41534406989336775\n",
      "Epoch: 12 Train Loss: 0.3977033862113953 Test Loss: 0.4129459590386278\n",
      "Epoch: 13 Train Loss: 0.39510299915075303 Test Loss: 0.4221045990197803\n",
      "Epoch: 14 Train Loss: 0.3826452346920967 Test Loss: 0.40838886783145867\n"
     ]
    },
    {
     "name": "stderr",
     "output_type": "stream",
     "text": [
      "\u001b[32m[I 2023-05-07 15:38:48,840]\u001b[0m Trial 84 finished with value: 0.5368492224475998 and parameters: {'hidden_size': 408, 'activation': 'LeakyReLU', 'dropout': 0.040874471561757136, 'optimizer': 'Adagrad', 'lr': 0.037398720847308706}. Best is trial 81 with value: 0.579799537393986.\u001b[0m\n"
     ]
    },
    {
     "name": "stdout",
     "output_type": "stream",
     "text": [
      "Epoch: 15 Train Loss: 0.3767480956673622 Test Loss: 0.40737041457297324\n",
      "Epoch: 1 Train Loss: 1.3952616942167282 Test Loss: 0.5881768757352432\n",
      "Epoch: 2 Train Loss: 0.5559241643428803 Test Loss: 0.536745045417414\n",
      "Epoch: 3 Train Loss: 0.5104323400735855 Test Loss: 0.5059917731502186\n",
      "Epoch: 4 Train Loss: 0.46241094439029695 Test Loss: 0.4609642774342729\n",
      "Epoch: 5 Train Loss: 0.4345989224433899 Test Loss: 0.439449047080625\n",
      "Epoch: 6 Train Loss: 0.42330917338132856 Test Loss: 0.4347822047270144\n",
      "Epoch: 7 Train Loss: 0.413309824347496 Test Loss: 0.41811776508728915\n",
      "Epoch: 8 Train Loss: 0.39880110248327255 Test Loss: 0.4046519343940595\n",
      "Epoch: 9 Train Loss: 0.3939168134450913 Test Loss: 0.4183579273878957\n",
      "Epoch: 10 Train Loss: 0.3862671252846718 Test Loss: 0.42354427399441075\n",
      "Epoch: 11 Train Loss: 0.384129936504364 Test Loss: 0.4085868145711125\n",
      "Epoch: 12 Train Loss: 0.37804621400833127 Test Loss: 0.4084308146478269\n",
      "Epoch: 13 Train Loss: 0.3886885268807411 Test Loss: 0.4030686644986034\n",
      "Epoch: 14 Train Loss: 0.36731289573907855 Test Loss: 0.4100794867157174\n"
     ]
    },
    {
     "name": "stderr",
     "output_type": "stream",
     "text": [
      "\u001b[32m[I 2023-05-07 15:39:17,412]\u001b[0m Trial 85 finished with value: 0.5516285516285517 and parameters: {'hidden_size': 393, 'activation': 'LeakyReLU', 'dropout': 0.0005424067004046913, 'optimizer': 'Adagrad', 'lr': 0.035000326572243584}. Best is trial 81 with value: 0.579799537393986.\u001b[0m\n"
     ]
    },
    {
     "name": "stdout",
     "output_type": "stream",
     "text": [
      "Epoch: 15 Train Loss: 0.3618677347779274 Test Loss: 0.4377017287662425\n",
      "Epoch: 1 Train Loss: 0.8775951039791107 Test Loss: 0.5520042109127623\n",
      "Epoch: 2 Train Loss: 0.5508940281629562 Test Loss: 0.5428965505890953\n",
      "Epoch: 3 Train Loss: 0.5102683801889419 Test Loss: 0.5464667593137905\n",
      "Epoch: 4 Train Loss: 0.4756790308594704 Test Loss: 0.4876956084427742\n",
      "Epoch: 5 Train Loss: 0.4419819037795067 Test Loss: 0.43581863892630646\n",
      "Epoch: 6 Train Loss: 0.4316930667042732 Test Loss: 0.4570284856203646\n",
      "Epoch: 7 Train Loss: 0.4184275121808052 Test Loss: 0.4356751255333995\n",
      "Epoch: 8 Train Loss: 0.41129051947593687 Test Loss: 0.46477989435862427\n",
      "Epoch: 9 Train Loss: 0.4083682600021362 Test Loss: 0.42954629285933493\n",
      "Epoch: 10 Train Loss: 0.4038179628252983 Test Loss: 0.4321406484126283\n",
      "Epoch: 11 Train Loss: 0.40355680836439134 Test Loss: 0.42068299955834215\n",
      "Epoch: 12 Train Loss: 0.39402462657094 Test Loss: 0.4310338096068309\n",
      "Epoch: 13 Train Loss: 0.39442103439569476 Test Loss: 0.417970069966758\n",
      "Epoch: 14 Train Loss: 0.3852412041783333 Test Loss: 0.41583663929765596\n"
     ]
    },
    {
     "name": "stderr",
     "output_type": "stream",
     "text": [
      "\u001b[32m[I 2023-05-07 15:39:44,408]\u001b[0m Trial 86 finished with value: 0.5861486486486487 and parameters: {'hidden_size': 365, 'activation': 'LeakyReLU', 'dropout': 0.03487538129321124, 'optimizer': 'Adagrad', 'lr': 0.04015044141370014}. Best is trial 86 with value: 0.5861486486486487.\u001b[0m\n"
     ]
    },
    {
     "name": "stdout",
     "output_type": "stream",
     "text": [
      "Epoch: 15 Train Loss: 0.37958088142871854 Test Loss: 0.41817440749547735\n",
      "Epoch: 1 Train Loss: 3.6298669053316117 Test Loss: 0.5560979363255607\n",
      "Epoch: 2 Train Loss: 0.5834344791412354 Test Loss: 0.5684128421754502\n",
      "Epoch: 3 Train Loss: 0.5134514746665955 Test Loss: 0.4641691757181582\n",
      "Epoch: 4 Train Loss: 0.4925842302322388 Test Loss: 0.45414092865424416\n",
      "Epoch: 5 Train Loss: 0.467271275806427 Test Loss: 0.455647646952361\n",
      "Epoch: 6 Train Loss: 0.4789290332913399 Test Loss: 0.45643874345876917\n",
      "Epoch: 7 Train Loss: 0.43861093640327453 Test Loss: 0.4308394246731703\n",
      "Epoch: 8 Train Loss: 0.4364528908252716 Test Loss: 0.43133002333938125\n",
      "Epoch: 9 Train Loss: 0.43008733013868333 Test Loss: 0.44166446624758143\n",
      "Epoch: 10 Train Loss: 0.42333773238658906 Test Loss: 0.43125311882732015\n",
      "Epoch: 11 Train Loss: 0.42565980945825577 Test Loss: 0.42221214948370817\n",
      "Epoch: 12 Train Loss: 0.41019035745859145 Test Loss: 0.41493636322097655\n",
      "Epoch: 13 Train Loss: 0.40936226501464845 Test Loss: 0.42459716574071693\n",
      "Epoch: 14 Train Loss: 0.41055254977941513 Test Loss: 0.4144122562231347\n"
     ]
    },
    {
     "name": "stderr",
     "output_type": "stream",
     "text": [
      "\u001b[32m[I 2023-05-07 15:40:12,406]\u001b[0m Trial 87 finished with value: 0.5294117647058825 and parameters: {'hidden_size': 372, 'activation': 'LeakyReLU', 'dropout': 0.035697132787809144, 'optimizer': 'Adagrad', 'lr': 0.03933895434976122}. Best is trial 86 with value: 0.5861486486486487.\u001b[0m\n"
     ]
    },
    {
     "name": "stdout",
     "output_type": "stream",
     "text": [
      "Epoch: 15 Train Loss: 0.3998346457719803 Test Loss: 0.4210759102346036\n",
      "Epoch: 1 Train Loss: 1.6124799486398698 Test Loss: 0.5679670965519196\n",
      "Epoch: 2 Train Loss: 0.5751836222290992 Test Loss: 0.5651297897766954\n",
      "Epoch: 3 Train Loss: 0.49705409861803057 Test Loss: 0.4608218996955183\n",
      "Epoch: 4 Train Loss: 0.45274110639095305 Test Loss: 0.4679707496548994\n",
      "Epoch: 5 Train Loss: 0.43584804810285566 Test Loss: 0.4456184590681673\n",
      "Epoch: 6 Train Loss: 0.41708278572559354 Test Loss: 0.4209971679761387\n",
      "Epoch: 7 Train Loss: 0.4071029080271721 Test Loss: 0.4190018188696319\n",
      "Epoch: 8 Train Loss: 0.39785106266736986 Test Loss: 0.40806678392159673\n",
      "Epoch: 9 Train Loss: 0.3910130811572075 Test Loss: 0.4208100846114631\n",
      "Epoch: 10 Train Loss: 0.39370724169015886 Test Loss: 0.4109344579541264\n",
      "Epoch: 11 Train Loss: 0.37255089342594144 Test Loss: 0.4053124360287913\n",
      "Epoch: 12 Train Loss: 0.37320958832502366 Test Loss: 0.40499834490184206\n",
      "Epoch: 13 Train Loss: 0.36386594717502596 Test Loss: 0.40016467026628244\n",
      "Epoch: 14 Train Loss: 0.36342881588935855 Test Loss: 0.40937100269923954\n"
     ]
    },
    {
     "name": "stderr",
     "output_type": "stream",
     "text": [
      "\u001b[32m[I 2023-05-07 15:40:52,341]\u001b[0m Trial 88 finished with value: 0.5413839891451832 and parameters: {'hidden_size': 454, 'activation': 'LeakyReLU', 'dropout': 0.016081822528675647, 'optimizer': 'Adagrad', 'lr': 0.04553094738381634}. Best is trial 86 with value: 0.5861486486486487.\u001b[0m\n"
     ]
    },
    {
     "name": "stdout",
     "output_type": "stream",
     "text": [
      "Epoch: 15 Train Loss: 0.3588554943561554 Test Loss: 0.3987368532596305\n",
      "Epoch: 1 Train Loss: 1.5708704829454423 Test Loss: 0.5732167465999104\n",
      "Epoch: 2 Train Loss: 0.5695712715148926 Test Loss: 0.5229119495176279\n",
      "Epoch: 3 Train Loss: 0.5188970886468888 Test Loss: 0.48599666737900754\n",
      "Epoch: 4 Train Loss: 0.4809535336256027 Test Loss: 0.4631972003002136\n",
      "Epoch: 5 Train Loss: 0.45078126643896105 Test Loss: 0.43566922003183123\n",
      "Epoch: 6 Train Loss: 0.43971433836221696 Test Loss: 0.4422147364471667\n",
      "Epoch: 7 Train Loss: 0.42962031499147413 Test Loss: 0.4223117798376388\n",
      "Epoch: 8 Train Loss: 0.4247779618501663 Test Loss: 0.4452291268367356\n",
      "Epoch: 9 Train Loss: 0.4116002227783203 Test Loss: 0.4338150838979136\n",
      "Epoch: 10 Train Loss: 0.4100933929800987 Test Loss: 0.40818635907512124\n",
      "Epoch: 11 Train Loss: 0.39703140960931776 Test Loss: 0.4100804176812355\n",
      "Epoch: 12 Train Loss: 0.3967405448794365 Test Loss: 0.409037658105643\n",
      "Epoch: 13 Train Loss: 0.3859185660123825 Test Loss: 0.4077163182032375\n",
      "Epoch: 14 Train Loss: 0.3906709707021713 Test Loss: 0.41704964528259\n"
     ]
    },
    {
     "name": "stderr",
     "output_type": "stream",
     "text": [
      "\u001b[32m[I 2023-05-07 15:41:21,573]\u001b[0m Trial 89 finished with value: 0.5617469879518072 and parameters: {'hidden_size': 418, 'activation': 'LeakyReLU', 'dropout': 0.05066728526604225, 'optimizer': 'Adagrad', 'lr': 0.04225660235504093}. Best is trial 86 with value: 0.5861486486486487.\u001b[0m\n"
     ]
    },
    {
     "name": "stdout",
     "output_type": "stream",
     "text": [
      "Epoch: 15 Train Loss: 0.37986213756799697 Test Loss: 0.418471074261414\n",
      "Epoch: 1 Train Loss: 0.6805175171375275 Test Loss: 0.673110775292491\n",
      "Epoch: 2 Train Loss: 0.6619375133514405 Test Loss: 0.6345626489994244\n",
      "Epoch: 3 Train Loss: 0.6185158326148987 Test Loss: 0.5890335083579104\n",
      "Epoch: 4 Train Loss: 0.5879790685176849 Test Loss: 0.5795037994940822\n",
      "Epoch: 5 Train Loss: 0.5737120149135589 Test Loss: 0.5686036904399007\n",
      "Epoch: 6 Train Loss: 0.5733896440505981 Test Loss: 0.5683974595115588\n",
      "Epoch: 7 Train Loss: 0.5619291651725768 Test Loss: 0.5554358335539175\n",
      "Epoch: 8 Train Loss: 0.557991108083725 Test Loss: 0.5512433736659468\n",
      "Epoch: 9 Train Loss: 0.5521296876907349 Test Loss: 0.5674406370987146\n",
      "Epoch: 10 Train Loss: 0.5500783352851868 Test Loss: 0.5496836114234437\n",
      "Epoch: 11 Train Loss: 0.544506203699112 Test Loss: 0.5465601792160314\n",
      "Epoch: 12 Train Loss: 0.5444208678245545 Test Loss: 0.5546380992705068\n",
      "Epoch: 13 Train Loss: 0.5447310897827149 Test Loss: 0.5472963941744722\n",
      "Epoch: 14 Train Loss: 0.5415098437786102 Test Loss: 0.5421627756124868\n"
     ]
    },
    {
     "name": "stderr",
     "output_type": "stream",
     "text": [
      "\u001b[32m[I 2023-05-07 15:41:52,935]\u001b[0m Trial 90 finished with value: 0.4147104851330203 and parameters: {'hidden_size': 425, 'activation': 'Sigmoid', 'dropout': 0.08513787392426522, 'optimizer': 'Adagrad', 'lr': 0.05312655878228134}. Best is trial 86 with value: 0.5861486486486487.\u001b[0m\n"
     ]
    },
    {
     "name": "stdout",
     "output_type": "stream",
     "text": [
      "Epoch: 15 Train Loss: 0.5395650945663452 Test Loss: 0.530525486975813\n",
      "Epoch: 1 Train Loss: 2.2739545159339905 Test Loss: 0.6016535439049474\n",
      "Epoch: 2 Train Loss: 0.560791631770134 Test Loss: 0.5451477583224019\n",
      "Epoch: 3 Train Loss: 0.5165037319898605 Test Loss: 0.4851709554989498\n",
      "Epoch: 4 Train Loss: 0.4787800858974457 Test Loss: 0.48043851602001314\n",
      "Epoch: 5 Train Loss: 0.4557496927976608 Test Loss: 0.4531834640156347\n",
      "Epoch: 6 Train Loss: 0.436561403298378 Test Loss: 0.426521635093628\n",
      "Epoch: 7 Train Loss: 0.4253278115034103 Test Loss: 0.4440921957548053\n",
      "Epoch: 8 Train Loss: 0.4185649797320366 Test Loss: 0.42239959380878045\n",
      "Epoch: 9 Train Loss: 0.41342598905563355 Test Loss: 0.43369169685596853\n",
      "Epoch: 10 Train Loss: 0.4043051191806793 Test Loss: 0.43463577882359966\n",
      "Epoch: 11 Train Loss: 0.4038249383687973 Test Loss: 0.41321777554746636\n",
      "Epoch: 12 Train Loss: 0.39511968928575514 Test Loss: 0.42229993191485204\n",
      "Epoch: 13 Train Loss: 0.39165251641273496 Test Loss: 0.4283973862902044\n",
      "Epoch: 14 Train Loss: 0.3836821942090988 Test Loss: 0.40517447312799887\n"
     ]
    },
    {
     "name": "stderr",
     "output_type": "stream",
     "text": [
      "\u001b[32m[I 2023-05-07 15:42:22,587]\u001b[0m Trial 91 finished with value: 0.5570175438596492 and parameters: {'hidden_size': 402, 'activation': 'LeakyReLU', 'dropout': 0.02728815265976365, 'optimizer': 'Adagrad', 'lr': 0.04167468858794418}. Best is trial 86 with value: 0.5861486486486487.\u001b[0m\n"
     ]
    },
    {
     "name": "stdout",
     "output_type": "stream",
     "text": [
      "Epoch: 15 Train Loss: 0.3804496242284775 Test Loss: 0.41981403258281014\n",
      "Epoch: 1 Train Loss: 1.019734310311079 Test Loss: 0.5705339111173495\n",
      "Epoch: 2 Train Loss: 0.5669689583539963 Test Loss: 0.5346299617435224\n",
      "Epoch: 3 Train Loss: 0.5342495915651322 Test Loss: 0.5199412948216874\n",
      "Epoch: 4 Train Loss: 0.4928568122625351 Test Loss: 0.48775852145478366\n",
      "Epoch: 5 Train Loss: 0.4661127971172333 Test Loss: 0.465820539349946\n",
      "Epoch: 6 Train Loss: 0.4502020196557045 Test Loss: 0.45875641246573234\n",
      "Epoch: 7 Train Loss: 0.4381047186374664 Test Loss: 0.4380242124247475\n",
      "Epoch: 8 Train Loss: 0.42813939691782 Test Loss: 0.43161755866897755\n",
      "Epoch: 9 Train Loss: 0.42627381531000136 Test Loss: 0.42813450636002964\n",
      "Epoch: 10 Train Loss: 0.41590375049114225 Test Loss: 0.43332610148400924\n",
      "Epoch: 11 Train Loss: 0.4009340200185776 Test Loss: 0.43040286732938726\n",
      "Epoch: 12 Train Loss: 0.3999325989842415 Test Loss: 0.4180934136144269\n",
      "Epoch: 13 Train Loss: 0.3920102143883705 Test Loss: 0.4088250145839807\n",
      "Epoch: 14 Train Loss: 0.38408024406433106 Test Loss: 0.4070305336778537\n"
     ]
    },
    {
     "name": "stderr",
     "output_type": "stream",
     "text": [
      "\u001b[32m[I 2023-05-07 15:42:52,075]\u001b[0m Trial 92 finished with value: 0.5163727959697733 and parameters: {'hidden_size': 355, 'activation': 'LeakyReLU', 'dropout': 0.05214540894127767, 'optimizer': 'Adagrad', 'lr': 0.03855482819874078}. Best is trial 86 with value: 0.5861486486486487.\u001b[0m\n"
     ]
    },
    {
     "name": "stdout",
     "output_type": "stream",
     "text": [
      "Epoch: 15 Train Loss: 0.3811415035843849 Test Loss: 0.4102211420814069\n",
      "Epoch: 1 Train Loss: 1.256682699418068 Test Loss: 0.5645836229903248\n",
      "Epoch: 2 Train Loss: 0.5623789265155792 Test Loss: 0.5506411358095206\n",
      "Epoch: 3 Train Loss: 0.5239772683382035 Test Loss: 0.4946834807769178\n",
      "Epoch: 4 Train Loss: 0.48334704685211183 Test Loss: 0.46996915459442445\n",
      "Epoch: 5 Train Loss: 0.4522553255081177 Test Loss: 0.44209216168513316\n",
      "Epoch: 6 Train Loss: 0.4302809610486031 Test Loss: 0.5010020017338256\n",
      "Epoch: 7 Train Loss: 0.4221023980617523 Test Loss: 0.4566946221045412\n",
      "Epoch: 8 Train Loss: 0.4198746743321419 Test Loss: 0.4227206739135824\n",
      "Epoch: 9 Train Loss: 0.40408023418188094 Test Loss: 0.4192437063724088\n",
      "Epoch: 10 Train Loss: 0.4048831545948982 Test Loss: 0.41754658179827775\n",
      "Epoch: 11 Train Loss: 0.42258231135606766 Test Loss: 0.4269062547257152\n",
      "Epoch: 12 Train Loss: 0.3866024458050728 Test Loss: 0.40698886534181267\n",
      "Epoch: 13 Train Loss: 0.38996207803487776 Test Loss: 0.41786739644341575\n",
      "Epoch: 14 Train Loss: 0.3872526887536049 Test Loss: 0.40958422465255845\n"
     ]
    },
    {
     "name": "stderr",
     "output_type": "stream",
     "text": [
      "\u001b[32m[I 2023-05-07 15:43:21,694]\u001b[0m Trial 93 finished with value: 0.5370531822144725 and parameters: {'hidden_size': 367, 'activation': 'LeakyReLU', 'dropout': 0.05161917050848272, 'optimizer': 'Adagrad', 'lr': 0.036339140413689755}. Best is trial 86 with value: 0.5861486486486487.\u001b[0m\n"
     ]
    },
    {
     "name": "stdout",
     "output_type": "stream",
     "text": [
      "Epoch: 15 Train Loss: 0.38035923981666564 Test Loss: 0.4059285039242845\n",
      "Epoch: 1 Train Loss: 1.1352296277046203 Test Loss: 0.5851655869057384\n",
      "Epoch: 2 Train Loss: 0.5753553134918213 Test Loss: 0.5444259818750449\n",
      "Epoch: 3 Train Loss: 0.5490879794359207 Test Loss: 0.5267499517708921\n",
      "Epoch: 4 Train Loss: 0.5230831161737443 Test Loss: 0.5118076934125095\n",
      "Epoch: 5 Train Loss: 0.49983319573402407 Test Loss: 0.482209750352957\n",
      "Epoch: 6 Train Loss: 0.4778366078257561 Test Loss: 0.48092463553047027\n",
      "Epoch: 7 Train Loss: 0.4586079199194908 Test Loss: 0.4665131049510389\n",
      "Epoch: 8 Train Loss: 0.43790250029563904 Test Loss: 0.46408208342977225\n",
      "Epoch: 9 Train Loss: 0.42493315041065216 Test Loss: 0.4461155058191226\n",
      "Epoch: 10 Train Loss: 0.41572812386751173 Test Loss: 0.4517958956404616\n",
      "Epoch: 11 Train Loss: 0.40616513454914094 Test Loss: 0.4312343150853349\n",
      "Epoch: 12 Train Loss: 0.3995048682332039 Test Loss: 0.427228222306544\n",
      "Epoch: 13 Train Loss: 0.393447717833519 Test Loss: 0.42284578437241505\n",
      "Epoch: 14 Train Loss: 0.38987306265830995 Test Loss: 0.42092188547689696\n"
     ]
    },
    {
     "name": "stderr",
     "output_type": "stream",
     "text": [
      "\u001b[32m[I 2023-05-07 15:43:50,904]\u001b[0m Trial 94 finished with value: 0.5364775239498895 and parameters: {'hidden_size': 413, 'activation': 'LeakyReLU', 'dropout': 0.03217057169919767, 'optimizer': 'Adagrad', 'lr': 0.03369714049864689}. Best is trial 86 with value: 0.5861486486486487.\u001b[0m\n"
     ]
    },
    {
     "name": "stdout",
     "output_type": "stream",
     "text": [
      "Epoch: 15 Train Loss: 0.3872162287712097 Test Loss: 0.45221220747160074\n",
      "Epoch: 1 Train Loss: 1.5327806850910186 Test Loss: 0.5678725862464966\n",
      "Epoch: 2 Train Loss: 0.5607847845315933 Test Loss: 0.5362272120702761\n",
      "Epoch: 3 Train Loss: 0.526781150507927 Test Loss: 0.503351809403386\n",
      "Epoch: 4 Train Loss: 0.4970443960428238 Test Loss: 0.4897271552310584\n",
      "Epoch: 5 Train Loss: 0.45960685794353484 Test Loss: 0.4503236104029055\n",
      "Epoch: 6 Train Loss: 0.4350503606081009 Test Loss: 0.4329686987990388\n",
      "Epoch: 7 Train Loss: 0.4238659216284752 Test Loss: 0.4457435317028064\n",
      "Epoch: 8 Train Loss: 0.4174587418437004 Test Loss: 0.4248160956957089\n",
      "Epoch: 9 Train Loss: 0.40939499160051346 Test Loss: 0.4331985290248554\n",
      "Epoch: 10 Train Loss: 0.4049402373313904 Test Loss: 0.41643249764800455\n",
      "Epoch: 11 Train Loss: 0.39560642498731613 Test Loss: 0.4182604825058684\n",
      "Epoch: 12 Train Loss: 0.38619742588996886 Test Loss: 0.409103017859756\n",
      "Epoch: 13 Train Loss: 0.388069722867012 Test Loss: 0.4138455449249417\n",
      "Epoch: 14 Train Loss: 0.38103728915452956 Test Loss: 0.41004328301158577\n"
     ]
    },
    {
     "name": "stderr",
     "output_type": "stream",
     "text": [
      "\u001b[32m[I 2023-05-07 15:44:17,468]\u001b[0m Trial 95 finished with value: 0.5449700199866755 and parameters: {'hidden_size': 386, 'activation': 'LeakyReLU', 'dropout': 0.015437128318043645, 'optimizer': 'Adagrad', 'lr': 0.03967342192953927}. Best is trial 86 with value: 0.5861486486486487.\u001b[0m\n"
     ]
    },
    {
     "name": "stdout",
     "output_type": "stream",
     "text": [
      "Epoch: 15 Train Loss: 0.37770253690481187 Test Loss: 0.4276050818494905\n",
      "Epoch: 1 Train Loss: 2.319297676372528 Test Loss: 0.6091922716782115\n",
      "Epoch: 2 Train Loss: 0.5859960293769837 Test Loss: 0.5763275295305557\n",
      "Epoch: 3 Train Loss: 0.5525944028377533 Test Loss: 0.523858366111597\n",
      "Epoch: 4 Train Loss: 0.5249369235277176 Test Loss: 0.49919568563992983\n",
      "Epoch: 5 Train Loss: 0.4952267721414566 Test Loss: 0.5025404514834142\n",
      "Epoch: 6 Train Loss: 0.47604107384681704 Test Loss: 0.46200692734588833\n",
      "Epoch: 7 Train Loss: 0.46313408871889117 Test Loss: 0.451203840371138\n",
      "Epoch: 8 Train Loss: 0.4500853544950485 Test Loss: 0.4538631968604871\n",
      "Epoch: 9 Train Loss: 0.43343812164068224 Test Loss: 0.4286271614578966\n",
      "Epoch: 10 Train Loss: 0.41784157027006147 Test Loss: 0.43302617729091036\n",
      "Epoch: 11 Train Loss: 0.41373399152755735 Test Loss: 0.4162962189354836\n",
      "Epoch: 12 Train Loss: 0.40832925951480864 Test Loss: 0.4263390050338099\n",
      "Epoch: 13 Train Loss: 0.4038555443406105 Test Loss: 0.41382528020265386\n",
      "Epoch: 14 Train Loss: 0.4019636298537254 Test Loss: 0.41345687569996803\n"
     ]
    },
    {
     "name": "stderr",
     "output_type": "stream",
     "text": [
      "\u001b[32m[I 2023-05-07 15:44:43,715]\u001b[0m Trial 96 finished with value: 0.5423262216104611 and parameters: {'hidden_size': 442, 'activation': 'LeakyReLU', 'dropout': 0.07801554207133968, 'optimizer': 'Adagrad', 'lr': 0.03079075037141672}. Best is trial 86 with value: 0.5861486486486487.\u001b[0m\n"
     ]
    },
    {
     "name": "stdout",
     "output_type": "stream",
     "text": [
      "Epoch: 15 Train Loss: 0.3948028294801712 Test Loss: 0.422710010180839\n",
      "Epoch: 1 Train Loss: 0.9853100642681122 Test Loss: 0.5595669084654068\n",
      "Epoch: 2 Train Loss: 0.7104949271678924 Test Loss: 0.5073977668350116\n",
      "Epoch: 3 Train Loss: 0.4913166613340378 Test Loss: 0.4715145051288909\n",
      "Epoch: 4 Train Loss: 0.45420184578895567 Test Loss: 0.44895440873246606\n",
      "Epoch: 5 Train Loss: 0.451815898168087 Test Loss: 0.43781720792142725\n",
      "Epoch: 6 Train Loss: 0.4324874734520912 Test Loss: 0.44707952396938216\n",
      "Epoch: 7 Train Loss: 0.42239107847213747 Test Loss: 0.4223314630575835\n",
      "Epoch: 8 Train Loss: 0.4110061553359032 Test Loss: 0.4206509115501715\n",
      "Epoch: 9 Train Loss: 0.4051764530420303 Test Loss: 0.4133758001005688\n",
      "Epoch: 10 Train Loss: 0.3964929317116737 Test Loss: 0.4097831687226463\n",
      "Epoch: 11 Train Loss: 0.40681721054315567 Test Loss: 0.4145442556601744\n",
      "Epoch: 12 Train Loss: 0.390782044672966 Test Loss: 0.4072367590837204\n",
      "Epoch: 13 Train Loss: 0.3889523918271065 Test Loss: 0.4060465962456438\n",
      "Epoch: 14 Train Loss: 0.3772500580906868 Test Loss: 0.4085247185045538\n"
     ]
    },
    {
     "name": "stderr",
     "output_type": "stream",
     "text": [
      "\u001b[32m[I 2023-05-07 15:45:07,485]\u001b[0m Trial 97 finished with value: 0.5488673139158575 and parameters: {'hidden_size': 347, 'activation': 'LeakyReLU', 'dropout': 0.04478239934506268, 'optimizer': 'Adagrad', 'lr': 0.04147298819115861}. Best is trial 86 with value: 0.5861486486486487.\u001b[0m\n"
     ]
    },
    {
     "name": "stdout",
     "output_type": "stream",
     "text": [
      "Epoch: 15 Train Loss: 0.37530836622714997 Test Loss: 0.3934959016335658\n",
      "Epoch: 1 Train Loss: 0.6936041174888611 Test Loss: 0.5563153854002968\n",
      "Epoch: 2 Train Loss: 0.5638676643848419 Test Loss: 0.5210401065433368\n",
      "Epoch: 3 Train Loss: 0.49939579026699066 Test Loss: 0.47742260321260643\n",
      "Epoch: 4 Train Loss: 0.46871485223770143 Test Loss: 0.4549234419489821\n",
      "Epoch: 5 Train Loss: 0.4403845525979996 Test Loss: 0.4414324581908723\n",
      "Epoch: 6 Train Loss: 0.4235823789179325 Test Loss: 0.4323165216765846\n",
      "Epoch: 7 Train Loss: 0.4138091909766197 Test Loss: 0.4287670338972689\n",
      "Epoch: 8 Train Loss: 0.41247209179401395 Test Loss: 0.4158571748354564\n",
      "Epoch: 9 Train Loss: 0.4029775333881378 Test Loss: 0.4199963721652\n",
      "Epoch: 10 Train Loss: 0.39584459582567216 Test Loss: 0.4096400376421194\n",
      "Epoch: 11 Train Loss: 0.3945708140969276 Test Loss: 0.418767425341728\n",
      "Epoch: 12 Train Loss: 0.38499389387369154 Test Loss: 0.42387929137427205\n",
      "Epoch: 13 Train Loss: 0.37954414014816285 Test Loss: 0.40976311414005656\n",
      "Epoch: 14 Train Loss: 0.3831816341280937 Test Loss: 0.41204142894226903\n"
     ]
    },
    {
     "name": "stderr",
     "output_type": "stream",
     "text": [
      "\u001b[32m[I 2023-05-07 15:45:30,002]\u001b[0m Trial 98 finished with value: 0.541969596827495 and parameters: {'hidden_size': 329, 'activation': 'LeakyReLU', 'dropout': 0.059845057446642924, 'optimizer': 'Adagrad', 'lr': 0.02729746413965578}. Best is trial 86 with value: 0.5861486486486487.\u001b[0m\n"
     ]
    },
    {
     "name": "stdout",
     "output_type": "stream",
     "text": [
      "Epoch: 15 Train Loss: 0.37247274690270427 Test Loss: 0.4178202858748147\n",
      "Epoch: 1 Train Loss: 0.7163244944572449 Test Loss: 0.5829676945750325\n",
      "Epoch: 2 Train Loss: 0.567201269030571 Test Loss: 0.5307257256378382\n",
      "Epoch: 3 Train Loss: 0.5196793540716171 Test Loss: 0.5325782618964442\n",
      "Epoch: 4 Train Loss: 0.5030942948818207 Test Loss: 0.5157177734870119\n",
      "Epoch: 5 Train Loss: 0.4787657256245613 Test Loss: 0.47356945219131324\n",
      "Epoch: 6 Train Loss: 0.5075735750317574 Test Loss: 0.47748363422700013\n",
      "Epoch: 7 Train Loss: 0.4610201505184174 Test Loss: 0.546660833941481\n",
      "Epoch: 8 Train Loss: 0.44860535892248155 Test Loss: 0.4528484758191977\n",
      "Epoch: 9 Train Loss: 0.44449364448785783 Test Loss: 0.45930417686605607\n",
      "Epoch: 10 Train Loss: 0.4293675716161728 Test Loss: 0.4440920371740771\n",
      "Epoch: 11 Train Loss: 0.43578210958242414 Test Loss: 0.42812932518343577\n",
      "Epoch: 12 Train Loss: 0.42252847990989684 Test Loss: 0.43193484576175006\n",
      "Epoch: 13 Train Loss: 0.43142122509479525 Test Loss: 0.44696550187877954\n",
      "Epoch: 14 Train Loss: 0.421038994717598 Test Loss: 0.4401805116393315\n"
     ]
    },
    {
     "name": "stderr",
     "output_type": "stream",
     "text": [
      "\u001b[32m[I 2023-05-07 15:45:47,846]\u001b[0m Trial 99 finished with value: 0.5438233264320221 and parameters: {'hidden_size': 396, 'activation': 'LeakyReLU', 'dropout': 0.020251783136068402, 'optimizer': 'SGD', 'lr': 0.03650855292143095}. Best is trial 86 with value: 0.5861486486486487.\u001b[0m\n"
     ]
    },
    {
     "name": "stdout",
     "output_type": "stream",
     "text": [
      "Epoch: 15 Train Loss: 0.41225177268981933 Test Loss: 0.43449462924045495\n",
      "Epoch: 1 Train Loss: 1.8062772908210754 Test Loss: 0.6931471917956782\n",
      "Epoch: 2 Train Loss: 0.6931471966743469 Test Loss: 0.6931471725622305\n",
      "Epoch: 3 Train Loss: 0.693147193813324 Test Loss: 0.6931471801794375\n",
      "Epoch: 4 Train Loss: 0.6931471946716309 Test Loss: 0.6931472018884774\n",
      "Epoch: 5 Train Loss: 0.6931472030639648 Test Loss: 0.6931471887487954\n",
      "Epoch: 6 Train Loss: 0.693147204875946 Test Loss: 0.6931471935095498\n",
      "Epoch: 7 Train Loss: 0.693147191619873 Test Loss: 0.6931472007458964\n",
      "Epoch: 8 Train Loss: 0.6931471985816956 Test Loss: 0.6931471801794375\n",
      "Epoch: 9 Train Loss: 0.6931471946716309 Test Loss: 0.6931471952234214\n",
      "Epoch: 10 Train Loss: 0.6931471971511841 Test Loss: 0.6931471843689013\n",
      "Epoch: 11 Train Loss: 0.6931471934318543 Test Loss: 0.6931471925573989\n",
      "Epoch: 12 Train Loss: 0.6931471942901611 Test Loss: 0.6931471862732032\n",
      "Epoch: 13 Train Loss: 0.6931471920013428 Test Loss: 0.6931471733239513\n",
      "Epoch: 14 Train Loss: 0.6931472020149231 Test Loss: 0.6931471874157842\n"
     ]
    },
    {
     "name": "stderr",
     "output_type": "stream",
     "text": [
      "\u001b[32m[I 2023-05-07 15:46:10,594]\u001b[0m Trial 100 finished with value: 0.0 and parameters: {'hidden_size': 418, 'activation': 'ReLU', 'dropout': 0.036875686383974336, 'optimizer': 'Adagrad', 'lr': 0.03266363621793436}. Best is trial 86 with value: 0.5861486486486487.\u001b[0m\n"
     ]
    },
    {
     "name": "stdout",
     "output_type": "stream",
     "text": [
      "Epoch: 15 Train Loss: 0.693147193813324 Test Loss: 0.6931471815124487\n",
      "Epoch: 1 Train Loss: 1.0364032222032546 Test Loss: 0.5752054075844372\n",
      "Epoch: 2 Train Loss: 0.5689564070940017 Test Loss: 0.554815164056068\n",
      "Epoch: 3 Train Loss: 0.5365876202106475 Test Loss: 0.5307833170548034\n",
      "Epoch: 4 Train Loss: 0.5062915711164474 Test Loss: 0.4937316118813932\n",
      "Epoch: 5 Train Loss: 0.4781194058418274 Test Loss: 0.47628769773644763\n",
      "Epoch: 6 Train Loss: 0.4700339425086975 Test Loss: 0.45784876324212587\n",
      "Epoch: 7 Train Loss: 0.44921596281528475 Test Loss: 0.4488170724659682\n",
      "Epoch: 8 Train Loss: 0.4416264789581299 Test Loss: 0.4388720596941134\n",
      "Epoch: 9 Train Loss: 0.425787206864357 Test Loss: 0.43628679370632567\n",
      "Epoch: 10 Train Loss: 0.4164539370417595 Test Loss: 0.4225605019032003\n",
      "Epoch: 11 Train Loss: 0.41270994787216186 Test Loss: 0.42355844692681166\n",
      "Epoch: 12 Train Loss: 0.4081511530280113 Test Loss: 0.42541180998563005\n",
      "Epoch: 13 Train Loss: 0.3978942824602127 Test Loss: 0.40761640227545565\n",
      "Epoch: 14 Train Loss: 0.3926058000802994 Test Loss: 0.4253410440854752\n"
     ]
    },
    {
     "name": "stderr",
     "output_type": "stream",
     "text": [
      "\u001b[32m[I 2023-05-07 15:46:39,720]\u001b[0m Trial 101 finished with value: 0.5076209410205434 and parameters: {'hidden_size': 378, 'activation': 'LeakyReLU', 'dropout': 0.06395051597926886, 'optimizer': 'Adagrad', 'lr': 0.030379796289582744}. Best is trial 86 with value: 0.5861486486486487.\u001b[0m\n"
     ]
    },
    {
     "name": "stdout",
     "output_type": "stream",
     "text": [
      "Epoch: 15 Train Loss: 0.3897894007563591 Test Loss: 0.4133443645299814\n",
      "Epoch: 1 Train Loss: 1.0485707701444626 Test Loss: 0.5886102890054258\n",
      "Epoch: 2 Train Loss: 0.5698704095602035 Test Loss: 0.5685587791017831\n",
      "Epoch: 3 Train Loss: 0.5350077029228211 Test Loss: 0.516116491950358\n",
      "Epoch: 4 Train Loss: 0.5042638892173767 Test Loss: 0.48273254116884057\n",
      "Epoch: 5 Train Loss: 0.4783693819761276 Test Loss: 0.4868060865769752\n",
      "Epoch: 6 Train Loss: 0.4618448074579239 Test Loss: 0.4505572659900775\n",
      "Epoch: 7 Train Loss: 0.44596551601886747 Test Loss: 0.4388325489081514\n",
      "Epoch: 8 Train Loss: 0.43275422646999356 Test Loss: 0.4266895469480429\n",
      "Epoch: 9 Train Loss: 0.4226997533559799 Test Loss: 0.4189021391228746\n",
      "Epoch: 10 Train Loss: 0.41512764446735384 Test Loss: 0.4246868581151048\n",
      "Epoch: 11 Train Loss: 0.4032226258277893 Test Loss: 0.4223165119322725\n",
      "Epoch: 12 Train Loss: 0.41326521830558777 Test Loss: 0.4087276750098402\n",
      "Epoch: 13 Train Loss: 0.3997944236278534 Test Loss: 0.40370292525988416\n",
      "Epoch: 14 Train Loss: 0.4138660276174545 Test Loss: 0.4128942823114867\n"
     ]
    },
    {
     "name": "stderr",
     "output_type": "stream",
     "text": [
      "\u001b[32m[I 2023-05-07 15:47:06,155]\u001b[0m Trial 102 finished with value: 0.49654112221368185 and parameters: {'hidden_size': 279, 'activation': 'LeakyReLU', 'dropout': 0.07357153604546164, 'optimizer': 'Adagrad', 'lr': 0.0348358129202895}. Best is trial 86 with value: 0.5861486486486487.\u001b[0m\n"
     ]
    },
    {
     "name": "stdout",
     "output_type": "stream",
     "text": [
      "Epoch: 15 Train Loss: 0.3923339402914047 Test Loss: 0.4038166122409863\n",
      "Epoch: 1 Train Loss: 0.7044942179679871 Test Loss: 0.5792951256322404\n",
      "Epoch: 2 Train Loss: 0.5574486239433288 Test Loss: 0.5314253312520707\n",
      "Epoch: 3 Train Loss: 0.5134450087547302 Test Loss: 0.48359031327806723\n",
      "Epoch: 4 Train Loss: 0.46526542468070986 Test Loss: 0.45412714284258526\n",
      "Epoch: 5 Train Loss: 0.44092495418787003 Test Loss: 0.46035009460708204\n",
      "Epoch: 6 Train Loss: 0.4503326411128044 Test Loss: 0.4346594896179419\n",
      "Epoch: 7 Train Loss: 0.4154351940989494 Test Loss: 0.43376985316078503\n",
      "Epoch: 8 Train Loss: 0.403195795071125 Test Loss: 0.4229476815119338\n",
      "Epoch: 9 Train Loss: 0.40354456448554993 Test Loss: 0.4213591779287631\n",
      "Epoch: 10 Train Loss: 0.4849979601740837 Test Loss: 0.44000881165266037\n",
      "Epoch: 11 Train Loss: 0.39502350860834123 Test Loss: 0.41698571423086495\n",
      "Epoch: 12 Train Loss: 0.38922951612472534 Test Loss: 0.41140405838481914\n",
      "Epoch: 13 Train Loss: 0.38467733294963835 Test Loss: 0.4088454157970965\n",
      "Epoch: 14 Train Loss: 0.37925198502540586 Test Loss: 0.39991582244539414\n"
     ]
    },
    {
     "name": "stderr",
     "output_type": "stream",
     "text": [
      "\u001b[32m[I 2023-05-07 15:47:32,977]\u001b[0m Trial 103 finished with value: 0.5601131541725601 and parameters: {'hidden_size': 264, 'activation': 'LeakyReLU', 'dropout': 0.04772425969563388, 'optimizer': 'Adagrad', 'lr': 0.028000835030272384}. Best is trial 86 with value: 0.5861486486486487.\u001b[0m\n"
     ]
    },
    {
     "name": "stdout",
     "output_type": "stream",
     "text": [
      "Epoch: 15 Train Loss: 0.37695208979845046 Test Loss: 0.4009966859564233\n",
      "Epoch: 1 Train Loss: 0.8324991460561753 Test Loss: 0.5915604806936587\n",
      "Epoch: 2 Train Loss: 0.5538869831562042 Test Loss: 0.5277411158854207\n",
      "Epoch: 3 Train Loss: 0.5330280542850494 Test Loss: 0.5086829166728467\n",
      "Epoch: 4 Train Loss: 0.5050655390739441 Test Loss: 0.4900851161144793\n",
      "Epoch: 5 Train Loss: 0.4803108216524124 Test Loss: 0.4650128183844752\n",
      "Epoch: 6 Train Loss: 0.45299066729545595 Test Loss: 0.45766467451097104\n",
      "Epoch: 7 Train Loss: 0.4403077278137207 Test Loss: 0.44639442661128487\n",
      "Epoch: 8 Train Loss: 0.42305777146816254 Test Loss: 0.44045150908418357\n",
      "Epoch: 9 Train Loss: 0.4180538143157959 Test Loss: 0.4314246236706694\n",
      "Epoch: 10 Train Loss: 0.40966955329179766 Test Loss: 0.43373792587568205\n",
      "Epoch: 11 Train Loss: 0.39717838307619097 Test Loss: 0.4273080311644192\n",
      "Epoch: 12 Train Loss: 0.3903590404033661 Test Loss: 0.41917409912085\n",
      "Epoch: 13 Train Loss: 0.39090963662862777 Test Loss: 0.418447892267864\n",
      "Epoch: 14 Train Loss: 0.383262792801857 Test Loss: 0.4189015328884125\n"
     ]
    },
    {
     "name": "stderr",
     "output_type": "stream",
     "text": [
      "\u001b[32m[I 2023-05-07 15:47:58,500]\u001b[0m Trial 104 finished with value: 0.5301204819277109 and parameters: {'hidden_size': 266, 'activation': 'LeakyReLU', 'dropout': 0.029360360854518944, 'optimizer': 'Adagrad', 'lr': 0.027211249982642863}. Best is trial 86 with value: 0.5861486486486487.\u001b[0m\n"
     ]
    },
    {
     "name": "stdout",
     "output_type": "stream",
     "text": [
      "Epoch: 15 Train Loss: 0.3783029035687447 Test Loss: 0.4073548010124947\n",
      "Epoch: 1 Train Loss: 1.1952814728736878 Test Loss: 0.6008600239365246\n",
      "Epoch: 2 Train Loss: 0.5675749582290649 Test Loss: 0.5451287179233167\n",
      "Epoch: 3 Train Loss: 0.5337278553724288 Test Loss: 0.5146144954636455\n",
      "Epoch: 4 Train Loss: 0.50229982919693 Test Loss: 0.4891800093003355\n",
      "Epoch: 5 Train Loss: 0.46956984820365905 Test Loss: 0.45364677882232607\n",
      "Epoch: 6 Train Loss: 0.4485140123486519 Test Loss: 0.43951605022334445\n",
      "Epoch: 7 Train Loss: 0.4322101515769958 Test Loss: 0.4536499073520636\n",
      "Epoch: 8 Train Loss: 0.42474220445156097 Test Loss: 0.4268592237093197\n",
      "Epoch: 9 Train Loss: 0.4180380313158035 Test Loss: 0.4280401730118468\n",
      "Epoch: 10 Train Loss: 0.40951076456308366 Test Loss: 0.42218528069055883\n",
      "Epoch: 11 Train Loss: 0.4022272164821625 Test Loss: 0.4112386460216662\n",
      "Epoch: 12 Train Loss: 0.4008036336004734 Test Loss: 0.4112695910679266\n",
      "Epoch: 13 Train Loss: 0.3909175838828087 Test Loss: 0.40542979481311653\n",
      "Epoch: 14 Train Loss: 0.38725112023353575 Test Loss: 0.4121263474940111\n"
     ]
    },
    {
     "name": "stderr",
     "output_type": "stream",
     "text": [
      "\u001b[32m[I 2023-05-07 15:48:23,926]\u001b[0m Trial 105 finished with value: 0.538711776187378 and parameters: {'hidden_size': 302, 'activation': 'LeakyReLU', 'dropout': 0.049807458370697624, 'optimizer': 'Adagrad', 'lr': 0.03080850968328983}. Best is trial 86 with value: 0.5861486486486487.\u001b[0m\n"
     ]
    },
    {
     "name": "stdout",
     "output_type": "stream",
     "text": [
      "Epoch: 15 Train Loss: 0.3857632215857506 Test Loss: 0.41172751404654484\n",
      "Epoch: 1 Train Loss: nan Test Loss: nan\n",
      "Epoch: 2 Train Loss: nan Test Loss: nan\n",
      "Epoch: 3 Train Loss: nan Test Loss: nan\n",
      "Epoch: 4 Train Loss: nan Test Loss: nan\n",
      "Epoch: 5 Train Loss: nan Test Loss: nan\n",
      "Epoch: 6 Train Loss: nan Test Loss: nan\n",
      "Epoch: 7 Train Loss: nan Test Loss: nan\n",
      "Epoch: 8 Train Loss: nan Test Loss: nan\n",
      "Epoch: 9 Train Loss: nan Test Loss: nan\n",
      "Epoch: 10 Train Loss: nan Test Loss: nan\n",
      "Epoch: 11 Train Loss: nan Test Loss: nan\n",
      "Epoch: 12 Train Loss: nan Test Loss: nan\n",
      "Epoch: 13 Train Loss: nan Test Loss: nan\n",
      "Epoch: 14 Train Loss: nan Test Loss: nan\n"
     ]
    },
    {
     "name": "stderr",
     "output_type": "stream",
     "text": [
      "\u001b[32m[I 2023-05-07 15:48:46,972]\u001b[0m Trial 106 finished with value: 0.0 and parameters: {'hidden_size': 293, 'activation': 'LeakyReLU', 'dropout': 0.0051655760111223095, 'optimizer': 'SGD', 'lr': 0.03321875635417088}. Best is trial 86 with value: 0.5861486486486487.\u001b[0m\n"
     ]
    },
    {
     "name": "stdout",
     "output_type": "stream",
     "text": [
      "Epoch: 15 Train Loss: nan Test Loss: nan\n",
      "Epoch: 1 Train Loss: 1.8100211948633194 Test Loss: 0.5824512812657098\n",
      "Epoch: 2 Train Loss: 0.5823912939071655 Test Loss: 0.544343008924597\n",
      "Epoch: 3 Train Loss: 0.547355828499794 Test Loss: 0.528240290455544\n",
      "Epoch: 4 Train Loss: 0.5223510767221451 Test Loss: 0.512278063847615\n",
      "Epoch: 5 Train Loss: 0.4972670166969299 Test Loss: 0.48049164970461933\n",
      "Epoch: 6 Train Loss: 0.4852412423372269 Test Loss: 0.46558153319853945\n",
      "Epoch: 7 Train Loss: 0.4625718556165695 Test Loss: 0.45174221946789433\n",
      "Epoch: 8 Train Loss: 0.44281096946001053 Test Loss: 0.4313974166497255\n",
      "Epoch: 9 Train Loss: 0.43362956470251085 Test Loss: 0.4417192083292495\n",
      "Epoch: 10 Train Loss: 0.4180393414735794 Test Loss: 0.42087915370734735\n",
      "Epoch: 11 Train Loss: 0.4151567296981811 Test Loss: 0.4219529527349594\n",
      "Epoch: 12 Train Loss: 0.40848757187128065 Test Loss: 0.4079723200811365\n",
      "Epoch: 13 Train Loss: 0.39175815885066984 Test Loss: 0.42735911058351256\n",
      "Epoch: 14 Train Loss: 0.39484328464269636 Test Loss: 0.39970527058497024\n"
     ]
    },
    {
     "name": "stderr",
     "output_type": "stream",
     "text": [
      "\u001b[32m[I 2023-05-07 15:49:14,485]\u001b[0m Trial 107 finished with value: 0.5261096605744124 and parameters: {'hidden_size': 359, 'activation': 'LeakyReLU', 'dropout': 0.09386219836662502, 'optimizer': 'Adagrad', 'lr': 0.04355251964126318}. Best is trial 86 with value: 0.5861486486486487.\u001b[0m\n"
     ]
    },
    {
     "name": "stdout",
     "output_type": "stream",
     "text": [
      "Epoch: 15 Train Loss: 0.4162356568813324 Test Loss: 0.4074960985122778\n",
      "Epoch: 1 Train Loss: 0.6558650677204132 Test Loss: 0.5832820201453309\n",
      "Epoch: 2 Train Loss: 0.5653077693700791 Test Loss: 0.541096348351183\n",
      "Epoch: 3 Train Loss: 0.5356008588314056 Test Loss: 0.5234940650935371\n",
      "Epoch: 4 Train Loss: 0.5133200754642486 Test Loss: 0.5159643961789128\n",
      "Epoch: 5 Train Loss: 0.49226765201091766 Test Loss: 0.47087995722271003\n",
      "Epoch: 6 Train Loss: 0.4717435287952423 Test Loss: 0.4564315489591501\n",
      "Epoch: 7 Train Loss: 0.45161232810020446 Test Loss: 0.4525769480025045\n",
      "Epoch: 8 Train Loss: 0.4385286294221878 Test Loss: 0.4361235347037879\n",
      "Epoch: 9 Train Loss: 0.4261703668951988 Test Loss: 0.43640693450888124\n",
      "Epoch: 10 Train Loss: 0.41575234361886976 Test Loss: 0.44553596802508105\n",
      "Epoch: 11 Train Loss: 0.4122184546351433 Test Loss: 0.4217981076754701\n",
      "Epoch: 12 Train Loss: 0.4011086760401726 Test Loss: 0.42355431230685203\n",
      "Epoch: 13 Train Loss: 0.40071219633817673 Test Loss: 0.41889061350315904\n",
      "Epoch: 14 Train Loss: 0.395099098443985 Test Loss: 0.4173189413290435\n"
     ]
    },
    {
     "name": "stderr",
     "output_type": "stream",
     "text": [
      "\u001b[32m[I 2023-05-07 15:49:36,182]\u001b[0m Trial 108 finished with value: 0.5263157894736841 and parameters: {'hidden_size': 152, 'activation': 'LeakyReLU', 'dropout': 0.059657492065016623, 'optimizer': 'Adagrad', 'lr': 0.022847592825034194}. Best is trial 86 with value: 0.5861486486486487.\u001b[0m\n"
     ]
    },
    {
     "name": "stdout",
     "output_type": "stream",
     "text": [
      "Epoch: 15 Train Loss: 0.3898981573104858 Test Loss: 0.4171947642399099\n",
      "Epoch: 1 Train Loss: 0.704313616289664 Test Loss: 0.5798020530908633\n",
      "Epoch: 2 Train Loss: 0.5503437458276749 Test Loss: 0.520721763705674\n",
      "Epoch: 3 Train Loss: 0.5017973864078522 Test Loss: 0.48624930504602365\n",
      "Epoch: 4 Train Loss: 0.46126086018085477 Test Loss: 0.4550702352874195\n",
      "Epoch: 5 Train Loss: 0.43545843167304993 Test Loss: 0.44807314363340983\n",
      "Epoch: 6 Train Loss: 0.4202896268844605 Test Loss: 0.43237784290656495\n",
      "Epoch: 7 Train Loss: 0.40808728132247923 Test Loss: 0.4227168100615279\n",
      "Epoch: 8 Train Loss: 0.4014842891931534 Test Loss: 0.4295728735316295\n",
      "Epoch: 9 Train Loss: 0.3944663590908051 Test Loss: 0.4492753032630625\n",
      "Epoch: 10 Train Loss: 0.3860091841340065 Test Loss: 0.4048549698564572\n",
      "Epoch: 11 Train Loss: 0.3922670114994049 Test Loss: 0.4093406192553691\n",
      "Epoch: 12 Train Loss: 0.380247407078743 Test Loss: 0.40416244822093095\n",
      "Epoch: 13 Train Loss: 0.3701441040992737 Test Loss: 0.4051962559596418\n",
      "Epoch: 14 Train Loss: 0.36524716057777407 Test Loss: 0.39979840346132983\n"
     ]
    },
    {
     "name": "stderr",
     "output_type": "stream",
     "text": [
      "\u001b[32m[I 2023-05-07 15:49:57,009]\u001b[0m Trial 109 finished with value: 0.589271417133707 and parameters: {'hidden_size': 339, 'activation': 'LeakyReLU', 'dropout': 0.0452953515714292, 'optimizer': 'Adagrad', 'lr': 0.03580171856349014}. Best is trial 109 with value: 0.589271417133707.\u001b[0m\n"
     ]
    },
    {
     "name": "stdout",
     "output_type": "stream",
     "text": [
      "Epoch: 15 Train Loss: 0.36094817100167276 Test Loss: 0.40656770413485577\n",
      "Epoch: 1 Train Loss: 0.6734975031375885 Test Loss: 0.6727167877335899\n",
      "Epoch: 2 Train Loss: 0.6625635623931885 Test Loss: 0.6518708622684113\n",
      "Epoch: 3 Train Loss: 0.6435947827339172 Test Loss: 0.6327802995904185\n",
      "Epoch: 4 Train Loss: 0.623229183292389 Test Loss: 0.6150451737661331\n",
      "Epoch: 5 Train Loss: 0.6047892843723297 Test Loss: 0.6004117575887674\n",
      "Epoch: 6 Train Loss: 0.5935574692249298 Test Loss: 0.5864565149663736\n",
      "Epoch: 7 Train Loss: 0.5799989158630371 Test Loss: 0.5863010209208479\n",
      "Epoch: 8 Train Loss: 0.5806656740665436 Test Loss: 0.5810950970687805\n",
      "Epoch: 9 Train Loss: 0.5782516951560974 Test Loss: 0.5830918609524687\n",
      "Epoch: 10 Train Loss: 0.573332086610794 Test Loss: 0.5753839496796885\n",
      "Epoch: 11 Train Loss: 0.5744978110790253 Test Loss: 0.5887399846182083\n",
      "Epoch: 12 Train Loss: 0.5727452324867248 Test Loss: 0.5769304729307803\n",
      "Epoch: 13 Train Loss: 0.5694607744693756 Test Loss: 0.5770288663931167\n",
      "Epoch: 14 Train Loss: 0.5654982438087464 Test Loss: 0.5701761635157246\n"
     ]
    },
    {
     "name": "stderr",
     "output_type": "stream",
     "text": [
      "\u001b[32m[I 2023-05-07 15:50:18,535]\u001b[0m Trial 110 finished with value: 0.37719915552427863 and parameters: {'hidden_size': 339, 'activation': 'Sigmoid', 'dropout': 0.018619699150389767, 'optimizer': 'SGD', 'lr': 0.03689906756658293}. Best is trial 109 with value: 0.589271417133707.\u001b[0m\n"
     ]
    },
    {
     "name": "stdout",
     "output_type": "stream",
     "text": [
      "Epoch: 15 Train Loss: 0.5651550842761993 Test Loss: 0.5707241840446338\n",
      "Epoch: 1 Train Loss: 0.706704165482521 Test Loss: 0.5797768579409145\n",
      "Epoch: 2 Train Loss: 0.5427071635246277 Test Loss: 0.5163925045404952\n",
      "Epoch: 3 Train Loss: 0.49787154763936997 Test Loss: 0.4812594913541319\n",
      "Epoch: 4 Train Loss: 0.46152689723968504 Test Loss: 0.5153134200400629\n",
      "Epoch: 5 Train Loss: 0.45430717661380765 Test Loss: 0.4511377271086263\n",
      "Epoch: 6 Train Loss: 0.43226308383941653 Test Loss: 0.4418987591807454\n",
      "Epoch: 7 Train Loss: 0.4203123640418053 Test Loss: 0.43559547132863025\n",
      "Epoch: 8 Train Loss: 0.418569452381134 Test Loss: 0.4256618351410753\n",
      "Epoch: 9 Train Loss: 0.40604338295459746 Test Loss: 0.42328713531977835\n",
      "Epoch: 10 Train Loss: 0.39849706584215167 Test Loss: 0.4354902310683704\n",
      "Epoch: 11 Train Loss: 0.3996170029997826 Test Loss: 0.4162118957636836\n",
      "Epoch: 12 Train Loss: 0.39419588208198547 Test Loss: 0.43432175341886453\n",
      "Epoch: 13 Train Loss: 0.3827061800956726 Test Loss: 0.41764514636212646\n",
      "Epoch: 14 Train Loss: 0.3792835901260376 Test Loss: 0.4096879121213675\n"
     ]
    },
    {
     "name": "stderr",
     "output_type": "stream",
     "text": [
      "\u001b[32m[I 2023-05-07 15:50:45,022]\u001b[0m Trial 111 finished with value: 0.5285714285714285 and parameters: {'hidden_size': 311, 'activation': 'LeakyReLU', 'dropout': 0.039633963733103114, 'optimizer': 'Adagrad', 'lr': 0.028605305314517597}. Best is trial 109 with value: 0.589271417133707.\u001b[0m\n"
     ]
    },
    {
     "name": "stdout",
     "output_type": "stream",
     "text": [
      "Epoch: 15 Train Loss: 0.3707320685505867 Test Loss: 0.42869276810473145\n",
      "Epoch: 1 Train Loss: 0.8963946964025498 Test Loss: 0.5486934982930509\n",
      "Epoch: 2 Train Loss: 0.5410410106897354 Test Loss: 0.5177679452747582\n",
      "Epoch: 3 Train Loss: 0.49581390507221224 Test Loss: 0.47870600375885397\n",
      "Epoch: 4 Train Loss: 0.466226097035408 Test Loss: 0.4476165730541887\n",
      "Epoch: 5 Train Loss: 0.4417289958357811 Test Loss: 0.4329515745797858\n",
      "Epoch: 6 Train Loss: 0.4339989943742752 Test Loss: 0.4370896620110582\n",
      "Epoch: 7 Train Loss: 0.44989202740192413 Test Loss: 0.4338328195646548\n",
      "Epoch: 8 Train Loss: 0.41941044199466704 Test Loss: 0.4212229315655681\n",
      "Epoch: 9 Train Loss: 0.41029131376743316 Test Loss: 0.41819290952465404\n",
      "Epoch: 10 Train Loss: 0.4055861163139343 Test Loss: 0.42630624580687987\n",
      "Epoch: 11 Train Loss: 0.39958600231409075 Test Loss: 0.4186544701123771\n",
      "Epoch: 12 Train Loss: 0.3938549146056175 Test Loss: 0.43231406805519096\n",
      "Epoch: 13 Train Loss: 0.39118172608613966 Test Loss: 0.40918905904498726\n",
      "Epoch: 14 Train Loss: 0.39076536037921905 Test Loss: 0.41716498465012436\n"
     ]
    },
    {
     "name": "stderr",
     "output_type": "stream",
     "text": [
      "\u001b[32m[I 2023-05-07 15:51:11,462]\u001b[0m Trial 112 finished with value: 0.5811320754716981 and parameters: {'hidden_size': 320, 'activation': 'LeakyReLU', 'dropout': 0.0500947835733051, 'optimizer': 'Adagrad', 'lr': 0.038549913485638826}. Best is trial 109 with value: 0.589271417133707.\u001b[0m\n"
     ]
    },
    {
     "name": "stdout",
     "output_type": "stream",
     "text": [
      "Epoch: 15 Train Loss: 0.3844147477388382 Test Loss: 0.4196318946897793\n",
      "Epoch: 1 Train Loss: 0.7748251259453595 Test Loss: 0.5832419964833001\n",
      "Epoch: 2 Train Loss: 0.7340912162303924 Test Loss: 0.5405017634550222\n",
      "Epoch: 3 Train Loss: 0.5844190219402313 Test Loss: 0.5345792454747728\n",
      "Epoch: 4 Train Loss: 0.5334413066864013 Test Loss: 0.5099049111048635\n",
      "Epoch: 5 Train Loss: 0.4988963199615479 Test Loss: 0.4828507907855244\n",
      "Epoch: 6 Train Loss: 0.46745105032920836 Test Loss: 0.4690269028988128\n",
      "Epoch: 7 Train Loss: 0.45169419411420825 Test Loss: 0.46117012745465713\n",
      "Epoch: 8 Train Loss: 0.42915057917833327 Test Loss: 0.43336565535479843\n",
      "Epoch: 9 Train Loss: 0.4202725850224495 Test Loss: 0.46555539687125447\n",
      "Epoch: 10 Train Loss: 0.4152726774215698 Test Loss: 0.43299613843044155\n",
      "Epoch: 11 Train Loss: 0.40580901129245756 Test Loss: 0.4223944488853311\n",
      "Epoch: 12 Train Loss: 0.39802889713048933 Test Loss: 0.4280253368349502\n",
      "Epoch: 13 Train Loss: 0.3880010027229786 Test Loss: 0.43789853593602346\n",
      "Epoch: 14 Train Loss: 0.38928914900422096 Test Loss: 0.4110441960561009\n"
     ]
    },
    {
     "name": "stderr",
     "output_type": "stream",
     "text": [
      "\u001b[32m[I 2023-05-07 15:51:39,073]\u001b[0m Trial 113 finished with value: 0.5507246376811595 and parameters: {'hidden_size': 326, 'activation': 'LeakyReLU', 'dropout': 0.029935657393540736, 'optimizer': 'Adagrad', 'lr': 0.039147397866132715}. Best is trial 109 with value: 0.589271417133707.\u001b[0m\n"
     ]
    },
    {
     "name": "stdout",
     "output_type": "stream",
     "text": [
      "Epoch: 15 Train Loss: 0.3860906158804894 Test Loss: 0.40625788657048256\n",
      "Epoch: 1 Train Loss: 1.953395056259632 Test Loss: 0.5857902372987888\n",
      "Epoch: 2 Train Loss: 0.5848283544301986 Test Loss: 0.5637538440692158\n",
      "Epoch: 3 Train Loss: 0.5343883829832077 Test Loss: 0.4839279201274482\n",
      "Epoch: 4 Train Loss: 0.48722183046340944 Test Loss: 0.462617976073259\n",
      "Epoch: 5 Train Loss: 0.46768252675533295 Test Loss: 0.4526206572025348\n",
      "Epoch: 6 Train Loss: 0.44195683921575546 Test Loss: 0.4444483383871115\n",
      "Epoch: 7 Train Loss: 0.43249249892234803 Test Loss: 0.4296377976053058\n",
      "Epoch: 8 Train Loss: 0.4187939140677452 Test Loss: 0.4268743459123392\n",
      "Epoch: 9 Train Loss: 0.4162478832483292 Test Loss: 0.4202976883314669\n",
      "Epoch: 10 Train Loss: 0.41895936057567595 Test Loss: 0.4422602638269004\n",
      "Epoch: 11 Train Loss: 0.4176546408176422 Test Loss: 0.42618439013299086\n",
      "Epoch: 12 Train Loss: 0.4012318963766098 Test Loss: 0.4070293706731674\n",
      "Epoch: 13 Train Loss: 0.40159230011701585 Test Loss: 0.42196309123747644\n",
      "Epoch: 14 Train Loss: 0.3940316452503204 Test Loss: 0.41131449838320666\n"
     ]
    },
    {
     "name": "stderr",
     "output_type": "stream",
     "text": [
      "\u001b[32m[I 2023-05-07 15:52:05,379]\u001b[0m Trial 114 finished with value: 0.4846195358877496 and parameters: {'hidden_size': 353, 'activation': 'LeakyReLU', 'dropout': 0.08144232459147119, 'optimizer': 'Adagrad', 'lr': 0.04645970559054532}. Best is trial 109 with value: 0.589271417133707.\u001b[0m\n"
     ]
    },
    {
     "name": "stdout",
     "output_type": "stream",
     "text": [
      "Epoch: 15 Train Loss: 0.39213330789804457 Test Loss: 0.42047845617460367\n",
      "Epoch: 1 Train Loss: 4.084432507443428 Test Loss: 0.6253148304006924\n",
      "Epoch: 2 Train Loss: 0.6826989612102509 Test Loss: 0.622251944610486\n",
      "Epoch: 3 Train Loss: 0.6029372977852822 Test Loss: 0.5315982562760575\n",
      "Epoch: 4 Train Loss: 0.5650368732690811 Test Loss: 0.5109960902898837\n",
      "Epoch: 5 Train Loss: 0.5245857820034027 Test Loss: 0.49199977112463866\n",
      "Epoch: 6 Train Loss: 0.4944721942067146 Test Loss: 0.4661784322974019\n",
      "Epoch: 7 Train Loss: 0.4792443448781967 Test Loss: 0.4726645659905272\n",
      "Epoch: 8 Train Loss: 0.4544101835727692 Test Loss: 0.43911983601201454\n",
      "Epoch: 9 Train Loss: 0.4418391484737396 Test Loss: 0.4377616882419434\n",
      "Epoch: 10 Train Loss: 0.43839483474493024 Test Loss: 0.43513721141952294\n",
      "Epoch: 11 Train Loss: 0.4322806681632996 Test Loss: 0.4291931657364574\n",
      "Epoch: 12 Train Loss: 0.4287955288052559 Test Loss: 0.4429405924325553\n",
      "Epoch: 13 Train Loss: 0.41904771938323976 Test Loss: 0.45341996717662475\n",
      "Epoch: 14 Train Loss: 0.41209198616743087 Test Loss: 0.42824251185686063\n"
     ]
    },
    {
     "name": "stderr",
     "output_type": "stream",
     "text": [
      "\u001b[32m[I 2023-05-07 15:52:32,482]\u001b[0m Trial 115 finished with value: 0.5505882352941177 and parameters: {'hidden_size': 348, 'activation': 'LeakyReLU', 'dropout': 0.0673231363404409, 'optimizer': 'Adagrad', 'lr': 0.042382201423359814}. Best is trial 109 with value: 0.589271417133707.\u001b[0m\n"
     ]
    },
    {
     "name": "stdout",
     "output_type": "stream",
     "text": [
      "Epoch: 15 Train Loss: 0.41547767988443374 Test Loss: 0.4146650731087493\n",
      "Epoch: 1 Train Loss: 2.3083716587305068 Test Loss: 0.5529546631982152\n",
      "Epoch: 2 Train Loss: 0.5242972743034363 Test Loss: 0.4830294286671538\n",
      "Epoch: 3 Train Loss: 0.4751135354161263 Test Loss: 0.4483560467013917\n",
      "Epoch: 4 Train Loss: 0.441289013171196 Test Loss: 0.44435944643835673\n",
      "Epoch: 5 Train Loss: 0.4255736375927925 Test Loss: 0.42716464904931406\n",
      "Epoch: 6 Train Loss: 0.4192838382720947 Test Loss: 0.4187605246044576\n",
      "Epoch: 7 Train Loss: 0.41422118644714356 Test Loss: 0.42209264640800487\n",
      "Epoch: 8 Train Loss: 0.4027235190987587 Test Loss: 0.4254919848741053\n",
      "Epoch: 9 Train Loss: 0.39456188883781435 Test Loss: 0.42044060734419014\n",
      "Epoch: 10 Train Loss: 0.38726926012039187 Test Loss: 0.4061670027697048\n",
      "Epoch: 11 Train Loss: 0.38150641335248947 Test Loss: 0.40412325126389725\n",
      "Epoch: 12 Train Loss: 0.37548450844287873 Test Loss: 0.4186485041968358\n",
      "Epoch: 13 Train Loss: 0.3785646378576756 Test Loss: 0.49881537356220496\n",
      "Epoch: 14 Train Loss: 0.3728557259559631 Test Loss: 0.41651679570682515\n"
     ]
    },
    {
     "name": "stderr",
     "output_type": "stream",
     "text": [
      "\u001b[32m[I 2023-05-07 15:53:01,696]\u001b[0m Trial 116 finished with value: 0.527859237536657 and parameters: {'hidden_size': 380, 'activation': 'LeakyReLU', 'dropout': 0.010283573753136897, 'optimizer': 'Adagrad', 'lr': 0.03603834060612746}. Best is trial 109 with value: 0.589271417133707.\u001b[0m\n"
     ]
    },
    {
     "name": "stdout",
     "output_type": "stream",
     "text": [
      "Epoch: 15 Train Loss: 0.3676148918509483 Test Loss: 0.412637662368651\n",
      "Epoch: 1 Train Loss: 0.9843427790641784 Test Loss: 0.5515330991805932\n",
      "Epoch: 2 Train Loss: 0.5409980364322662 Test Loss: 0.5055534264530999\n",
      "Epoch: 3 Train Loss: 0.4929592082858086 Test Loss: 0.5234656785004816\n",
      "Epoch: 4 Train Loss: 0.4569863786816597 Test Loss: 0.446226245226761\n",
      "Epoch: 5 Train Loss: 0.43848690322637557 Test Loss: 0.4481402268044103\n",
      "Epoch: 6 Train Loss: 0.424528419482708 Test Loss: 0.4446219668125573\n",
      "Epoch: 7 Train Loss: 0.5328266634106636 Test Loss: 0.43840088481053757\n",
      "Epoch: 8 Train Loss: 0.45009097256660463 Test Loss: 0.4204085578267186\n",
      "Epoch: 9 Train Loss: 0.4143347644329071 Test Loss: 0.42832248779341053\n",
      "Epoch: 10 Train Loss: 0.4033350700855255 Test Loss: 0.43082704992530446\n",
      "Epoch: 11 Train Loss: 0.39954992551803586 Test Loss: 0.4164680386313234\n",
      "Epoch: 12 Train Loss: 0.3893843618631363 Test Loss: 0.41952113252573503\n",
      "Epoch: 13 Train Loss: 0.38319385859966276 Test Loss: 0.4134033082392269\n",
      "Epoch: 14 Train Loss: 0.3781617648243904 Test Loss: 0.40762490038864146\n"
     ]
    },
    {
     "name": "stderr",
     "output_type": "stream",
     "text": [
      "\u001b[32m[I 2023-05-07 15:53:29,338]\u001b[0m Trial 117 finished with value: 0.5571847507331378 and parameters: {'hidden_size': 368, 'activation': 'LeakyReLU', 'dropout': 0.04650348758052455, 'optimizer': 'Adagrad', 'lr': 0.03983738847309061}. Best is trial 109 with value: 0.589271417133707.\u001b[0m\n"
     ]
    },
    {
     "name": "stdout",
     "output_type": "stream",
     "text": [
      "Epoch: 15 Train Loss: 0.3780732442498207 Test Loss: 0.43640305564854853\n",
      "Epoch: 1 Train Loss: 0.6570023675441742 Test Loss: 0.6087619033865274\n",
      "Epoch: 2 Train Loss: 0.6419197338104248 Test Loss: 0.5866056667349209\n",
      "Epoch: 3 Train Loss: 0.5823134710788727 Test Loss: 0.5623492431907228\n",
      "Epoch: 4 Train Loss: 0.5515656719923019 Test Loss: 0.5314686197442369\n",
      "Epoch: 5 Train Loss: 0.5199535778284073 Test Loss: 0.5315609580982988\n",
      "Epoch: 6 Train Loss: 0.49241834886074065 Test Loss: 0.5044433245548425\n",
      "Epoch: 7 Train Loss: 0.4641822589635849 Test Loss: 0.49368783198416044\n",
      "Epoch: 8 Train Loss: 0.5272587591886521 Test Loss: 0.4904297614059509\n",
      "Epoch: 9 Train Loss: 0.4664630764961243 Test Loss: 0.458586409783211\n",
      "Epoch: 10 Train Loss: 0.45772896863222123 Test Loss: 0.47350827947306556\n",
      "Epoch: 11 Train Loss: 0.4561798008561134 Test Loss: 0.5034252856248103\n",
      "Epoch: 12 Train Loss: 0.44801208876371384 Test Loss: 0.4667616753151622\n",
      "Epoch: 13 Train Loss: 0.4405143984913826 Test Loss: 0.5266211595112523\n",
      "Epoch: 14 Train Loss: 0.42828854718208315 Test Loss: 0.45286169948098\n"
     ]
    },
    {
     "name": "stderr",
     "output_type": "stream",
     "text": [
      "\u001b[32m[I 2023-05-07 15:53:52,686]\u001b[0m Trial 118 finished with value: 0.5764192139737991 and parameters: {'hidden_size': 318, 'activation': 'LeakyReLU', 'dropout': 0.05690356884818153, 'optimizer': 'SGD', 'lr': 0.03339690464882047}. Best is trial 109 with value: 0.589271417133707.\u001b[0m\n"
     ]
    },
    {
     "name": "stdout",
     "output_type": "stream",
     "text": [
      "Epoch: 15 Train Loss: 0.42845189027786257 Test Loss: 0.43899543043047473\n",
      "Epoch: 1 Train Loss: 0.9908659615993499 Test Loss: 0.6412559741030867\n",
      "Epoch: 2 Train Loss: 0.6247673493862153 Test Loss: 0.5976997109266896\n",
      "Epoch: 3 Train Loss: 0.592976004076004 Test Loss: 0.5714245036291999\n",
      "Epoch: 4 Train Loss: 0.5715330627918244 Test Loss: 0.5768661486645477\n",
      "Epoch: 5 Train Loss: 0.5474347744941711 Test Loss: 0.5768644163212456\n",
      "Epoch: 6 Train Loss: 0.5258472329378128 Test Loss: 0.5331059045875415\n",
      "Epoch: 7 Train Loss: 0.5092769377231597 Test Loss: 0.5025618061328087\n",
      "Epoch: 8 Train Loss: 0.4967333276748657 Test Loss: 0.5798372038827536\n",
      "Epoch: 9 Train Loss: 0.48129159796237947 Test Loss: 0.48975268958475643\n",
      "Epoch: 10 Train Loss: 0.47224613786935804 Test Loss: 0.45414587786308114\n",
      "Epoch: 11 Train Loss: 0.4708238224506378 Test Loss: 0.4595621994699533\n",
      "Epoch: 12 Train Loss: 0.464893551838398 Test Loss: 0.45286077199081265\n",
      "Epoch: 13 Train Loss: 0.4538511770129204 Test Loss: 0.4551850552566516\n",
      "Epoch: 14 Train Loss: 0.4747389166355133 Test Loss: 0.46569911699992017\n"
     ]
    },
    {
     "name": "stderr",
     "output_type": "stream",
     "text": [
      "\u001b[32m[I 2023-05-07 15:54:15,198]\u001b[0m Trial 119 finished with value: 0.5082555635319455 and parameters: {'hidden_size': 321, 'activation': 'LeakyReLU', 'dropout': 0.05921859544623412, 'optimizer': 'SGD', 'lr': 0.03348633324709198}. Best is trial 109 with value: 0.589271417133707.\u001b[0m\n"
     ]
    },
    {
     "name": "stdout",
     "output_type": "stream",
     "text": [
      "Epoch: 15 Train Loss: 0.45205946661233903 Test Loss: 0.4565865665959855\n",
      "Epoch: 1 Train Loss: 1.130151754194498 Test Loss: 0.5907004256598866\n",
      "Epoch: 2 Train Loss: 0.6678599729061127 Test Loss: 0.5784886864522776\n",
      "Epoch: 3 Train Loss: 0.5629325129747391 Test Loss: 0.5375199317932129\n",
      "Epoch: 4 Train Loss: 0.5281457921504974 Test Loss: 0.5213797888435876\n",
      "Epoch: 5 Train Loss: 22.177340934616886 Test Loss: 1.1388621935234093\n",
      "Epoch: 6 Train Loss: 2.7098757020425053 Test Loss: 1.065749911859203\n",
      "Epoch: 7 Train Loss: 3.009203061300516 Test Loss: 0.6739237647467908\n",
      "Epoch: 8 Train Loss: 1.9051008608475328 Test Loss: 0.8284366631184142\n",
      "Epoch: 9 Train Loss: 1.511158113939315 Test Loss: 0.673126596659898\n",
      "Epoch: 10 Train Loss: 6.034834502356871 Test Loss: 3.794174507022285\n",
      "Epoch: 11 Train Loss: 12.34415778158754 Test Loss: 3.368576932752419\n",
      "Epoch: 12 Train Loss: 1.9862624354191125 Test Loss: 0.880722852751089\n",
      "Epoch: 13 Train Loss: nan Test Loss: nan\n",
      "Epoch: 14 Train Loss: nan Test Loss: nan\n"
     ]
    },
    {
     "name": "stderr",
     "output_type": "stream",
     "text": [
      "\u001b[32m[I 2023-05-07 15:54:38,421]\u001b[0m Trial 120 finished with value: 0.391583869082408 and parameters: {'hidden_size': 332, 'activation': 'LeakyReLU', 'dropout': 0.08345967493472128, 'optimizer': 'SGD', 'lr': 0.044018117479682574}. Best is trial 109 with value: 0.589271417133707.\u001b[0m\n"
     ]
    },
    {
     "name": "stdout",
     "output_type": "stream",
     "text": [
      "Epoch: 15 Train Loss: nan Test Loss: nan\n",
      "Epoch: 1 Train Loss: 0.738136968421936 Test Loss: 0.6348586949867944\n",
      "Epoch: 2 Train Loss: 0.562826517033577 Test Loss: 0.5290023007522375\n",
      "Epoch: 3 Train Loss: 0.5344288103342056 Test Loss: 0.5680594320495289\n",
      "Epoch: 4 Train Loss: 0.5177864012002945 Test Loss: 0.50203113276928\n",
      "Epoch: 5 Train Loss: 0.4835281679034233 Test Loss: 0.48859988543362665\n",
      "Epoch: 6 Train Loss: 0.47650723536014555 Test Loss: 0.4689857942132523\n",
      "Epoch: 7 Train Loss: 0.4604387025117874 Test Loss: 0.49079708169443537\n",
      "Epoch: 8 Train Loss: 0.45137978739738466 Test Loss: 0.46347579864648203\n",
      "Epoch: 9 Train Loss: 0.44864846229553224 Test Loss: 0.47573520397892394\n",
      "Epoch: 10 Train Loss: 0.4560185650467873 Test Loss: 0.4730396353827117\n",
      "Epoch: 11 Train Loss: 0.47558747358322145 Test Loss: 0.4432404173401217\n",
      "Epoch: 12 Train Loss: 0.44698807948827746 Test Loss: 0.453242606105515\n",
      "Epoch: 13 Train Loss: 0.43864957022666934 Test Loss: 0.44518185987735326\n",
      "Epoch: 14 Train Loss: 0.4332307985186577 Test Loss: 0.4451108037616117\n"
     ]
    },
    {
     "name": "stderr",
     "output_type": "stream",
     "text": [
      "\u001b[32m[I 2023-05-07 15:55:02,000]\u001b[0m Trial 121 finished with value: 0.5308924485125859 and parameters: {'hidden_size': 311, 'activation': 'LeakyReLU', 'dropout': 0.03630842836229848, 'optimizer': 'SGD', 'lr': 0.037774906277621194}. Best is trial 109 with value: 0.589271417133707.\u001b[0m\n"
     ]
    },
    {
     "name": "stdout",
     "output_type": "stream",
     "text": [
      "Epoch: 15 Train Loss: 0.4280139940977097 Test Loss: 0.46720804916784026\n",
      "Epoch: 1 Train Loss: 0.7310197141170501 Test Loss: 0.6502215117692186\n",
      "Epoch: 2 Train Loss: 0.6145011189937591 Test Loss: 0.5891170464575101\n",
      "Epoch: 3 Train Loss: 0.5942362301826477 Test Loss: 0.5770586735714739\n",
      "Epoch: 4 Train Loss: 0.5669194410562515 Test Loss: 0.5536200538420448\n",
      "Epoch: 5 Train Loss: 0.5316081701397896 Test Loss: 0.5660468854557592\n",
      "Epoch: 6 Train Loss: 0.5027697090983391 Test Loss: 0.4684349521756553\n",
      "Epoch: 7 Train Loss: 0.4777696421504021 Test Loss: 0.459984529989596\n",
      "Epoch: 8 Train Loss: 0.46953335926532747 Test Loss: 0.4848962356916632\n",
      "Epoch: 9 Train Loss: 0.4519142233848572 Test Loss: 0.476230259425343\n",
      "Epoch: 10 Train Loss: 0.4395351403951645 Test Loss: 0.47625027687404864\n",
      "Epoch: 11 Train Loss: 0.463565666949749 Test Loss: 0.4408761695170174\n",
      "Epoch: 12 Train Loss: 0.43933131111860274 Test Loss: 0.4336131222950765\n",
      "Epoch: 13 Train Loss: 0.425898978805542 Test Loss: 0.4625236424870384\n",
      "Epoch: 14 Train Loss: 0.4231473400592804 Test Loss: 0.42743457051606987\n"
     ]
    },
    {
     "name": "stderr",
     "output_type": "stream",
     "text": [
      "\u001b[32m[I 2023-05-07 15:55:25,276]\u001b[0m Trial 122 finished with value: 0.5744507729861676 and parameters: {'hidden_size': 437, 'activation': 'LeakyReLU', 'dropout': 0.023251410491190755, 'optimizer': 'SGD', 'lr': 0.031321927571815664}. Best is trial 109 with value: 0.589271417133707.\u001b[0m\n"
     ]
    },
    {
     "name": "stdout",
     "output_type": "stream",
     "text": [
      "Epoch: 15 Train Loss: 0.4268578286767006 Test Loss: 0.43239233702325974\n",
      "Epoch: 1 Train Loss: 2.8505221924245356 Test Loss: 0.6282999838312594\n",
      "Epoch: 2 Train Loss: 0.646714150428772 Test Loss: 0.6130217569895064\n",
      "Epoch: 3 Train Loss: 0.5953031744241715 Test Loss: 0.6027495739654231\n",
      "Epoch: 4 Train Loss: 0.5322263688206673 Test Loss: 0.6663271944029644\n",
      "Epoch: 5 Train Loss: 0.5048054124236107 Test Loss: 0.5960517250977385\n",
      "Epoch: 6 Train Loss: 0.4842531202793121 Test Loss: 0.4613673935016504\n",
      "Epoch: 7 Train Loss: 0.48980562164783475 Test Loss: 0.4616507468179773\n",
      "Epoch: 8 Train Loss: 0.49588688049316404 Test Loss: 1.0089764822595797\n",
      "Epoch: 9 Train Loss: 0.5570185812413693 Test Loss: 0.5213849878730104\n",
      "Epoch: 10 Train Loss: 0.47460073536634445 Test Loss: 0.46948453931572337\n",
      "Epoch: 11 Train Loss: 0.4718901252150536 Test Loss: 0.45045679812423717\n",
      "Epoch: 12 Train Loss: 0.4526091076731682 Test Loss: 0.4448379472421762\n",
      "Epoch: 13 Train Loss: 0.4610529914736748 Test Loss: 0.44725550815891535\n",
      "Epoch: 14 Train Loss: 0.44237490795850753 Test Loss: 0.4575414397417547\n"
     ]
    },
    {
     "name": "stderr",
     "output_type": "stream",
     "text": [
      "\u001b[32m[I 2023-05-07 15:55:49,568]\u001b[0m Trial 123 finished with value: 0.5533279871692062 and parameters: {'hidden_size': 476, 'activation': 'LeakyReLU', 'dropout': 0.023867615234581974, 'optimizer': 'SGD', 'lr': 0.031354992526830605}. Best is trial 109 with value: 0.589271417133707.\u001b[0m\n"
     ]
    },
    {
     "name": "stdout",
     "output_type": "stream",
     "text": [
      "Epoch: 15 Train Loss: 0.44472308024168017 Test Loss: 0.4748495755770717\n",
      "Epoch: 1 Train Loss: 0.8237210749626159 Test Loss: 0.7398063657573237\n",
      "Epoch: 2 Train Loss: 0.625522675037384 Test Loss: 0.5859196800202988\n",
      "Epoch: 3 Train Loss: 0.5850978157997131 Test Loss: 0.5662373767588467\n",
      "Epoch: 4 Train Loss: 0.5629447748661042 Test Loss: 0.5454190053021946\n",
      "Epoch: 5 Train Loss: 0.7497178626924753 Test Loss: 0.7041960230079322\n",
      "Epoch: 6 Train Loss: 0.5888920357704163 Test Loss: 0.5719758754911514\n",
      "Epoch: 7 Train Loss: 0.5406986843824386 Test Loss: 0.5255816297028393\n",
      "Epoch: 8 Train Loss: 0.5114888691544532 Test Loss: 0.4967453953461906\n",
      "Epoch: 9 Train Loss: 0.49281615211963653 Test Loss: 0.4867843635166034\n",
      "Epoch: 10 Train Loss: 0.47398449935913084 Test Loss: 0.486555707054778\n",
      "Epoch: 11 Train Loss: 0.48885925936698915 Test Loss: 0.48451923940794916\n",
      "Epoch: 12 Train Loss: 0.4585565599799156 Test Loss: 0.4520010364512666\n",
      "Epoch: 13 Train Loss: 0.4509864543676376 Test Loss: 0.44640478417991447\n",
      "Epoch: 14 Train Loss: 0.4440071954131126 Test Loss: 0.4926231900057473\n"
     ]
    },
    {
     "name": "stderr",
     "output_type": "stream",
     "text": [
      "\u001b[32m[I 2023-05-07 15:56:13,254]\u001b[0m Trial 124 finished with value: 0.5128960943257186 and parameters: {'hidden_size': 439, 'activation': 'LeakyReLU', 'dropout': 0.05330684875815469, 'optimizer': 'SGD', 'lr': 0.024524639976513496}. Best is trial 109 with value: 0.589271417133707.\u001b[0m\n"
     ]
    },
    {
     "name": "stdout",
     "output_type": "stream",
     "text": [
      "Epoch: 15 Train Loss: 0.43978537331819534 Test Loss: 0.45179901241113585\n",
      "Epoch: 1 Train Loss: 0.7059995297431946 Test Loss: 0.693147188367935\n",
      "Epoch: 2 Train Loss: 0.693147198009491 Test Loss: 0.6931471860827729\n",
      "Epoch: 3 Train Loss: 0.6931471928596497 Test Loss: 0.6931471862732032\n",
      "Epoch: 4 Train Loss: 0.6931472004890442 Test Loss: 0.6931471900818066\n",
      "Epoch: 5 Train Loss: 0.6931471936225891 Test Loss: 0.6931471887487954\n",
      "Epoch: 6 Train Loss: 0.6931472027778626 Test Loss: 0.6931471891296558\n",
      "Epoch: 7 Train Loss: 0.6931471932411194 Test Loss: 0.6931471761804038\n",
      "Epoch: 8 Train Loss: 0.693147200870514 Test Loss: 0.6931471936999799\n",
      "Epoch: 9 Train Loss: 0.6931472014427185 Test Loss: 0.6931471824645996\n",
      "Epoch: 10 Train Loss: 0.6931471905708313 Test Loss: 0.6931471887487954\n",
      "Epoch: 11 Train Loss: 0.6931471889495849 Test Loss: 0.6931471919861084\n",
      "Epoch: 12 Train Loss: 0.6931471930503845 Test Loss: 0.6931471902722368\n",
      "Epoch: 13 Train Loss: 0.6931471984863281 Test Loss: 0.6931471757995434\n",
      "Epoch: 14 Train Loss: 0.6931471968650817 Test Loss: 0.6931471837976109\n"
     ]
    },
    {
     "name": "stderr",
     "output_type": "stream",
     "text": [
      "\u001b[32m[I 2023-05-07 15:56:36,394]\u001b[0m Trial 125 finished with value: 0.0 and parameters: {'hidden_size': 231, 'activation': 'ReLU', 'dropout': 0.10443747334208531, 'optimizer': 'SGD', 'lr': 0.03316163500768687}. Best is trial 109 with value: 0.589271417133707.\u001b[0m\n"
     ]
    },
    {
     "name": "stdout",
     "output_type": "stream",
     "text": [
      "Epoch: 15 Train Loss: 0.6931471961021424 Test Loss: 0.6931471862732032\n",
      "Epoch: 1 Train Loss: 0.6755346988201142 Test Loss: 0.6547077978476168\n",
      "Epoch: 2 Train Loss: 0.603528587436676 Test Loss: 0.6103823328741823\n",
      "Epoch: 3 Train Loss: 0.5737195304870606 Test Loss: 0.5904979766748203\n",
      "Epoch: 4 Train Loss: 0.5576327951669693 Test Loss: 0.5700715106135359\n",
      "Epoch: 5 Train Loss: 0.5385594058990478 Test Loss: 0.5312064816586126\n",
      "Epoch: 6 Train Loss: 0.5214093868017197 Test Loss: 0.5091239852836719\n",
      "Epoch: 7 Train Loss: 0.4975102088451385 Test Loss: 0.49561157874977246\n",
      "Epoch: 8 Train Loss: 0.598366490471363 Test Loss: 0.5746650042625281\n",
      "Epoch: 9 Train Loss: 0.5550757713794708 Test Loss: 0.5321658348884827\n",
      "Epoch: 10 Train Loss: 0.5362027446985245 Test Loss: 0.5117751040492957\n",
      "Epoch: 11 Train Loss: 0.5158745568394661 Test Loss: 0.5121159793945927\n",
      "Epoch: 12 Train Loss: 0.4977485663890839 Test Loss: 0.49080050677156295\n",
      "Epoch: 13 Train Loss: 0.48026035158634184 Test Loss: 0.5035373861797321\n",
      "Epoch: 14 Train Loss: 0.4697351735472679 Test Loss: 0.5032464884007319\n"
     ]
    },
    {
     "name": "stderr",
     "output_type": "stream",
     "text": [
      "\u001b[32m[I 2023-05-07 15:56:59,395]\u001b[0m Trial 126 finished with value: 0.5090909090909091 and parameters: {'hidden_size': 281, 'activation': 'LeakyReLU', 'dropout': 0.01053257948288281, 'optimizer': 'SGD', 'lr': 0.029886831589116657}. Best is trial 109 with value: 0.589271417133707.\u001b[0m\n"
     ]
    },
    {
     "name": "stdout",
     "output_type": "stream",
     "text": [
      "Epoch: 15 Train Loss: 0.4711332624197006 Test Loss: 0.4688972242819235\n",
      "Epoch: 1 Train Loss: nan Test Loss: nan\n",
      "Epoch: 2 Train Loss: nan Test Loss: nan\n",
      "Epoch: 3 Train Loss: nan Test Loss: nan\n",
      "Epoch: 4 Train Loss: nan Test Loss: nan\n",
      "Epoch: 5 Train Loss: nan Test Loss: nan\n",
      "Epoch: 6 Train Loss: nan Test Loss: nan\n",
      "Epoch: 7 Train Loss: nan Test Loss: nan\n",
      "Epoch: 8 Train Loss: nan Test Loss: nan\n",
      "Epoch: 9 Train Loss: nan Test Loss: nan\n",
      "Epoch: 10 Train Loss: nan Test Loss: nan\n",
      "Epoch: 11 Train Loss: nan Test Loss: nan\n",
      "Epoch: 12 Train Loss: nan Test Loss: nan\n",
      "Epoch: 13 Train Loss: nan Test Loss: nan\n",
      "Epoch: 14 Train Loss: nan Test Loss: nan\n"
     ]
    },
    {
     "name": "stderr",
     "output_type": "stream",
     "text": [
      "\u001b[32m[I 2023-05-07 15:57:23,307]\u001b[0m Trial 127 finished with value: 0.0 and parameters: {'hidden_size': 452, 'activation': 'LeakyReLU', 'dropout': 0.07288137455457856, 'optimizer': 'SGD', 'lr': 0.048623461786375874}. Best is trial 109 with value: 0.589271417133707.\u001b[0m\n"
     ]
    },
    {
     "name": "stdout",
     "output_type": "stream",
     "text": [
      "Epoch: 15 Train Loss: nan Test Loss: nan\n",
      "Epoch: 1 Train Loss: 0.7821366506099701 Test Loss: 0.6695342789442775\n",
      "Epoch: 2 Train Loss: 0.6613704404354096 Test Loss: 0.5978539133795534\n",
      "Epoch: 3 Train Loss: 0.6054726658582688 Test Loss: 0.588711434183791\n",
      "Epoch: 4 Train Loss: 0.558403191781044 Test Loss: 0.5492162134605475\n",
      "Epoch: 5 Train Loss: 0.5572593733072281 Test Loss: 0.5689177698315904\n",
      "Epoch: 6 Train Loss: 0.559147842168808 Test Loss: 0.5565289257528683\n",
      "Epoch: 7 Train Loss: 0.511059892308712 Test Loss: 0.47590225725509105\n",
      "Epoch: 8 Train Loss: 0.48220576083660127 Test Loss: 0.49703128888203313\n",
      "Epoch: 9 Train Loss: 0.4715697852015495 Test Loss: 0.4522165170492837\n",
      "Epoch: 10 Train Loss: 0.4563156639456749 Test Loss: 0.45129385173987274\n",
      "Epoch: 11 Train Loss: 0.4529787794351578 Test Loss: 0.47415503821433924\n",
      "Epoch: 12 Train Loss: 0.4439945643305778 Test Loss: 0.45337001241434116\n",
      "Epoch: 13 Train Loss: 0.4331108424425125 Test Loss: 0.45862298825392706\n",
      "Epoch: 14 Train Loss: 0.43677121568918226 Test Loss: 0.4202677206204722\n"
     ]
    },
    {
     "name": "stderr",
     "output_type": "stream",
     "text": [
      "\u001b[32m[I 2023-05-07 15:57:46,926]\u001b[0m Trial 128 finished with value: 0.5444207533759773 and parameters: {'hidden_size': 340, 'activation': 'LeakyReLU', 'dropout': 0.044337986457346906, 'optimizer': 'SGD', 'lr': 0.040972345624903705}. Best is trial 109 with value: 0.589271417133707.\u001b[0m\n"
     ]
    },
    {
     "name": "stdout",
     "output_type": "stream",
     "text": [
      "Epoch: 15 Train Loss: 0.4322718622803688 Test Loss: 0.43335718406846346\n",
      "Epoch: 1 Train Loss: 0.6330831624031067 Test Loss: 0.6085839451501925\n",
      "Epoch: 2 Train Loss: 0.6167100858688355 Test Loss: 0.6162924414244704\n",
      "Epoch: 3 Train Loss: 0.6189573734760284 Test Loss: 0.6257134536013436\n",
      "Epoch: 4 Train Loss: 0.6211072704792022 Test Loss: 0.6744049407137088\n",
      "Epoch: 5 Train Loss: 0.6216101245403289 Test Loss: 0.6046768809659794\n",
      "Epoch: 6 Train Loss: 0.6161329008817673 Test Loss: 0.6036900589450861\n",
      "Epoch: 7 Train Loss: 0.6149039032936097 Test Loss: 0.6069752906267636\n",
      "Epoch: 8 Train Loss: 0.6159293116807938 Test Loss: 0.6199774838293703\n",
      "Epoch: 9 Train Loss: 0.6231787785530091 Test Loss: 0.6393249619502229\n",
      "Epoch: 10 Train Loss: 0.6083594032764434 Test Loss: 0.5953957800286266\n",
      "Epoch: 11 Train Loss: 0.6098293653249741 Test Loss: 0.598200052786178\n",
      "Epoch: 12 Train Loss: 0.605116539478302 Test Loss: 0.5936932969398011\n",
      "Epoch: 13 Train Loss: 0.6037358303070068 Test Loss: 0.628390971368875\n",
      "Epoch: 14 Train Loss: 0.5966891750335693 Test Loss: 0.6079708907170037\n"
     ]
    },
    {
     "name": "stderr",
     "output_type": "stream",
     "text": [
      "\u001b[32m[I 2023-05-07 15:58:10,235]\u001b[0m Trial 129 finished with value: 0.2918100481761872 and parameters: {'hidden_size': 296, 'activation': 'Tanh', 'dropout': 0.026546693436509103, 'optimizer': 'SGD', 'lr': 0.02614205849464274}. Best is trial 109 with value: 0.589271417133707.\u001b[0m\n"
     ]
    },
    {
     "name": "stdout",
     "output_type": "stream",
     "text": [
      "Epoch: 15 Train Loss: 0.6106369063854218 Test Loss: 0.6134605244897045\n",
      "Epoch: 1 Train Loss: 7.930928463842347 Test Loss: 66.54108480537852\n",
      "Epoch: 2 Train Loss: nan Test Loss: nan\n",
      "Epoch: 3 Train Loss: nan Test Loss: nan\n",
      "Epoch: 4 Train Loss: nan Test Loss: nan\n",
      "Epoch: 5 Train Loss: nan Test Loss: nan\n",
      "Epoch: 6 Train Loss: nan Test Loss: nan\n",
      "Epoch: 7 Train Loss: nan Test Loss: nan\n",
      "Epoch: 8 Train Loss: nan Test Loss: nan\n",
      "Epoch: 9 Train Loss: nan Test Loss: nan\n",
      "Epoch: 10 Train Loss: nan Test Loss: nan\n",
      "Epoch: 11 Train Loss: nan Test Loss: nan\n",
      "Epoch: 12 Train Loss: nan Test Loss: nan\n",
      "Epoch: 13 Train Loss: nan Test Loss: nan\n",
      "Epoch: 14 Train Loss: nan Test Loss: nan\n"
     ]
    },
    {
     "name": "stderr",
     "output_type": "stream",
     "text": [
      "\u001b[32m[I 2023-05-07 15:58:35,138]\u001b[0m Trial 130 finished with value: 0.19390926041019269 and parameters: {'hidden_size': 457, 'activation': 'LeakyReLU', 'dropout': 0.000531879778736543, 'optimizer': 'SGD', 'lr': 0.034592745938318056}. Best is trial 109 with value: 0.589271417133707.\u001b[0m\n"
     ]
    },
    {
     "name": "stdout",
     "output_type": "stream",
     "text": [
      "Epoch: 15 Train Loss: nan Test Loss: nan\n",
      "Epoch: 1 Train Loss: 1.5484401741027831 Test Loss: 0.5691380910218333\n",
      "Epoch: 2 Train Loss: 0.566439651107788 Test Loss: 0.5446043094030966\n",
      "Epoch: 3 Train Loss: 0.541821362376213 Test Loss: 0.5321372824545485\n",
      "Epoch: 4 Train Loss: 0.5149411989688873 Test Loss: 0.4913330425183994\n",
      "Epoch: 5 Train Loss: 0.48100933265686036 Test Loss: 0.46107587675317024\n",
      "Epoch: 6 Train Loss: 0.4704921975851059 Test Loss: 0.4489534439179844\n",
      "Epoch: 7 Train Loss: 0.42591312403678894 Test Loss: 0.432053416443709\n",
      "Epoch: 8 Train Loss: 0.4204280677437782 Test Loss: 0.4425227454009528\n",
      "Epoch: 9 Train Loss: 0.41755290023088454 Test Loss: 0.43447129418865177\n",
      "Epoch: 10 Train Loss: 0.4081376453280449 Test Loss: 0.41593010152300325\n",
      "Epoch: 11 Train Loss: 0.39932128936052325 Test Loss: 0.42399911015940167\n",
      "Epoch: 12 Train Loss: 0.393195031785965 Test Loss: 0.4170139065613381\n",
      "Epoch: 13 Train Loss: 0.39203438372612 Test Loss: 0.40693050004042\n",
      "Epoch: 14 Train Loss: 0.38226967047452926 Test Loss: 0.4059762511961757\n"
     ]
    },
    {
     "name": "stderr",
     "output_type": "stream",
     "text": [
      "\u001b[32m[I 2023-05-07 15:59:15,497]\u001b[0m Trial 131 finished with value: 0.5514157973174366 and parameters: {'hidden_size': 431, 'activation': 'LeakyReLU', 'dropout': 0.03591155673442993, 'optimizer': 'Adagrad', 'lr': 0.03599555478320479}. Best is trial 109 with value: 0.589271417133707.\u001b[0m\n"
     ]
    },
    {
     "name": "stdout",
     "output_type": "stream",
     "text": [
      "Epoch: 15 Train Loss: 0.37698010042905805 Test Loss: 0.4034457576636689\n",
      "Epoch: 1 Train Loss: 2.868565364933014 Test Loss: 0.5840011308558832\n",
      "Epoch: 2 Train Loss: 0.5831172146558762 Test Loss: 0.5763888346691863\n",
      "Epoch: 3 Train Loss: 0.5625409666061402 Test Loss: 0.5453519271775937\n",
      "Epoch: 4 Train Loss: 0.5551933644771576 Test Loss: 0.535066520491728\n",
      "Epoch: 5 Train Loss: 0.5191974821329117 Test Loss: 0.5159477120199905\n",
      "Epoch: 6 Train Loss: 0.5078241993904113 Test Loss: 0.49802801303398875\n",
      "Epoch: 7 Train Loss: 0.4847645056724548 Test Loss: 0.5018891917821318\n",
      "Epoch: 8 Train Loss: 0.4737932591080666 Test Loss: 0.45763333003741863\n",
      "Epoch: 9 Train Loss: 0.4500586293935776 Test Loss: 0.44933981817370405\n",
      "Epoch: 10 Train Loss: 0.43613006329536436 Test Loss: 0.4452621440013377\n",
      "Epoch: 11 Train Loss: 0.42637093331813813 Test Loss: 0.45820588873217283\n",
      "Epoch: 12 Train Loss: 0.41980906341075896 Test Loss: 0.42796942422660395\n",
      "Epoch: 13 Train Loss: 0.41545698717832563 Test Loss: 0.42514112829781187\n",
      "Epoch: 14 Train Loss: 0.41470903701782225 Test Loss: 0.42048155394986797\n"
     ]
    },
    {
     "name": "stderr",
     "output_type": "stream",
     "text": [
      "\u001b[32m[I 2023-05-07 16:00:06,462]\u001b[0m Trial 132 finished with value: 0.5167095115681233 and parameters: {'hidden_size': 389, 'activation': 'LeakyReLU', 'dropout': 0.05995201362018006, 'optimizer': 'Adagrad', 'lr': 0.038941774744441986}. Best is trial 109 with value: 0.589271417133707.\u001b[0m\n"
     ]
    },
    {
     "name": "stdout",
     "output_type": "stream",
     "text": [
      "Epoch: 15 Train Loss: 0.4025999233603477 Test Loss: 0.42315233979647915\n",
      "Epoch: 1 Train Loss: 1.1352981141209602 Test Loss: 0.562541268694515\n",
      "Epoch: 2 Train Loss: 0.5448593327760697 Test Loss: 0.517616702630497\n",
      "Epoch: 3 Train Loss: 0.5036486920595169 Test Loss: 0.47891668413584226\n",
      "Epoch: 4 Train Loss: 0.4678912233233452 Test Loss: 0.4927981592976628\n",
      "Epoch: 5 Train Loss: 0.44005331435203554 Test Loss: 0.43576890175430155\n",
      "Epoch: 6 Train Loss: 0.425977563893795 Test Loss: 0.44058077618146474\n",
      "Epoch: 7 Train Loss: 0.4142109533071518 Test Loss: 0.4235679482737669\n",
      "Epoch: 8 Train Loss: 0.40757511217594145 Test Loss: 0.43838736367301817\n",
      "Epoch: 9 Train Loss: 0.39924777585268023 Test Loss: 0.41715357055108004\n",
      "Epoch: 10 Train Loss: 0.3961779712796211 Test Loss: 0.411034957621806\n",
      "Epoch: 11 Train Loss: 0.40209705872535706 Test Loss: 0.43086337862304225\n",
      "Epoch: 12 Train Loss: 0.3907023901462555 Test Loss: 0.42315381865341445\n",
      "Epoch: 13 Train Loss: 0.3847640590429306 Test Loss: 0.4116610307186937\n",
      "Epoch: 14 Train Loss: 0.3763350072622299 Test Loss: 0.4139584754459774\n"
     ]
    },
    {
     "name": "stderr",
     "output_type": "stream",
     "text": [
      "\u001b[32m[I 2023-05-07 16:00:58,157]\u001b[0m Trial 133 finished with value: 0.55526544821584 and parameters: {'hidden_size': 420, 'activation': 'LeakyReLU', 'dropout': 0.020623269045455903, 'optimizer': 'Adagrad', 'lr': 0.031719693893830996}. Best is trial 109 with value: 0.589271417133707.\u001b[0m\n"
     ]
    },
    {
     "name": "stdout",
     "output_type": "stream",
     "text": [
      "Epoch: 15 Train Loss: 0.3718992456436157 Test Loss: 0.400199980995716\n",
      "Epoch: 1 Train Loss: 3.008616239452362 Test Loss: 0.5801049205251395\n",
      "Epoch: 2 Train Loss: 0.6065722921133041 Test Loss: 0.5408291871936176\n",
      "Epoch: 3 Train Loss: 0.5473122856378555 Test Loss: 0.5264842779682086\n",
      "Epoch: 4 Train Loss: 0.5220133236646652 Test Loss: 0.5061342152543723\n",
      "Epoch: 5 Train Loss: 0.4901506094932556 Test Loss: 0.4740359065726923\n",
      "Epoch: 6 Train Loss: 0.47124164246320727 Test Loss: 0.46111698605762885\n",
      "Epoch: 7 Train Loss: 0.4616481904268265 Test Loss: 0.44351667879869383\n",
      "Epoch: 8 Train Loss: 0.4478187380194664 Test Loss: 0.43797109797358896\n",
      "Epoch: 9 Train Loss: 0.43538180916309355 Test Loss: 0.5058776713169801\n",
      "Epoch: 10 Train Loss: 0.4212041786909103 Test Loss: 0.42083258448412625\n",
      "Epoch: 11 Train Loss: 0.41259634227752684 Test Loss: 0.4303625683053233\n",
      "Epoch: 12 Train Loss: 0.41451150113344193 Test Loss: 0.42402749139660845\n",
      "Epoch: 13 Train Loss: 0.407778961110115 Test Loss: 0.4485169557241586\n",
      "Epoch: 14 Train Loss: 0.403455087518692 Test Loss: 0.4207532539154394\n"
     ]
    },
    {
     "name": "stderr",
     "output_type": "stream",
     "text": [
      "\u001b[32m[I 2023-05-07 16:01:49,593]\u001b[0m Trial 134 finished with value: 0.5530642750373692 and parameters: {'hidden_size': 500, 'activation': 'LeakyReLU', 'dropout': 0.050696306722981914, 'optimizer': 'Adagrad', 'lr': 0.035106298245261125}. Best is trial 109 with value: 0.589271417133707.\u001b[0m\n"
     ]
    },
    {
     "name": "stdout",
     "output_type": "stream",
     "text": [
      "Epoch: 15 Train Loss: 0.39147101273536683 Test Loss: 0.4311525106620484\n",
      "Epoch: 1 Train Loss: 1.9593065276145936 Test Loss: 0.5727979415140975\n",
      "Epoch: 2 Train Loss: 0.5627256798028946 Test Loss: 0.5432353724306003\n",
      "Epoch: 3 Train Loss: 0.53408639087677 Test Loss: 0.5218505204295198\n",
      "Epoch: 4 Train Loss: 0.5005829258203507 Test Loss: 0.48332552983166693\n",
      "Epoch: 5 Train Loss: 0.4695677835702896 Test Loss: 0.45773598989739583\n",
      "Epoch: 6 Train Loss: 0.4444043679952622 Test Loss: 0.4458498025949771\n",
      "Epoch: 7 Train Loss: 0.42866114025115964 Test Loss: 0.43200907275413936\n",
      "Epoch: 8 Train Loss: 0.4229017926335335 Test Loss: 0.4343932013922987\n",
      "Epoch: 9 Train Loss: 0.4137567434310913 Test Loss: 0.424905499949242\n",
      "Epoch: 10 Train Loss: 0.4078178771018982 Test Loss: 0.4295794148795521\n",
      "Epoch: 11 Train Loss: 0.4033064837217331 Test Loss: 0.426511395472688\n",
      "Epoch: 12 Train Loss: 0.4059451068401337 Test Loss: 0.42016087396266744\n",
      "Epoch: 13 Train Loss: 0.39124178018569944 Test Loss: 0.430496481018135\n",
      "Epoch: 14 Train Loss: 0.3928191909790039 Test Loss: 0.4224082388388463\n"
     ]
    },
    {
     "name": "stderr",
     "output_type": "stream",
     "text": [
      "\u001b[32m[I 2023-05-07 16:02:38,886]\u001b[0m Trial 135 finished with value: 0.5336048879837066 and parameters: {'hidden_size': 344, 'activation': 'LeakyReLU', 'dropout': 0.0326634242797831, 'optimizer': 'Adagrad', 'lr': 0.0384304432919061}. Best is trial 109 with value: 0.589271417133707.\u001b[0m\n"
     ]
    },
    {
     "name": "stdout",
     "output_type": "stream",
     "text": [
      "Epoch: 15 Train Loss: 0.39293062613010404 Test Loss: 0.4187977905043017\n",
      "Epoch: 1 Train Loss: 0.9184414640903473 Test Loss: 0.580302895162814\n",
      "Epoch: 2 Train Loss: 0.5763689895629883 Test Loss: 0.5450919009626102\n",
      "Epoch: 3 Train Loss: 0.5356274658441543 Test Loss: 0.5232826398013118\n",
      "Epoch: 4 Train Loss: 0.5165205743312836 Test Loss: 0.48335711243815316\n",
      "Epoch: 5 Train Loss: 0.4925318008184433 Test Loss: 0.4673135695270837\n",
      "Epoch: 6 Train Loss: 0.4626416067481041 Test Loss: 0.4535300628826641\n",
      "Epoch: 7 Train Loss: 0.446822455739975 Test Loss: 0.4427367592581545\n",
      "Epoch: 8 Train Loss: 0.4303052871465683 Test Loss: 0.4420719197192512\n",
      "Epoch: 9 Train Loss: 0.4268644202828407 Test Loss: 0.43840643187490896\n",
      "Epoch: 10 Train Loss: 0.4208771671414375 Test Loss: 0.42036653188661266\n",
      "Epoch: 11 Train Loss: 0.4111340323448181 Test Loss: 0.4192897864281179\n",
      "Epoch: 12 Train Loss: 0.40308744089603427 Test Loss: 0.41763316699491143\n",
      "Epoch: 13 Train Loss: 0.41115802701711657 Test Loss: 0.42455141222515047\n",
      "Epoch: 14 Train Loss: 0.39502416051626205 Test Loss: 0.4373551001802039\n"
     ]
    },
    {
     "name": "stderr",
     "output_type": "stream",
     "text": [
      "\u001b[32m[I 2023-05-07 16:03:31,134]\u001b[0m Trial 136 finished with value: 0.5027388922702374 and parameters: {'hidden_size': 403, 'activation': 'LeakyReLU', 'dropout': 0.0678536594670438, 'optimizer': 'Adagrad', 'lr': 0.029701354735231833}. Best is trial 109 with value: 0.589271417133707.\u001b[0m\n"
     ]
    },
    {
     "name": "stdout",
     "output_type": "stream",
     "text": [
      "Epoch: 15 Train Loss: 0.3914294267654419 Test Loss: 0.4182911574269255\n",
      "Epoch: 1 Train Loss: 0.6712760360717773 Test Loss: 0.6456436166367211\n",
      "Epoch: 2 Train Loss: 0.6099192261695862 Test Loss: 0.6066533871732962\n",
      "Epoch: 3 Train Loss: 0.5882552613258362 Test Loss: 0.5906754873050287\n",
      "Epoch: 4 Train Loss: 0.5747751270294189 Test Loss: 0.5701307277329052\n",
      "Epoch: 5 Train Loss: 0.5663668384552002 Test Loss: 0.5659376643717099\n",
      "Epoch: 6 Train Loss: 0.5623161076545715 Test Loss: 0.5595914029275266\n",
      "Epoch: 7 Train Loss: 0.5574360934257507 Test Loss: 0.5735900542987421\n",
      "Epoch: 8 Train Loss: 0.5540201682567596 Test Loss: 0.5554142291553485\n",
      "Epoch: 9 Train Loss: 0.5486156078815461 Test Loss: 0.5479111978040335\n",
      "Epoch: 10 Train Loss: 0.5492116891384125 Test Loss: 0.5469850908262661\n",
      "Epoch: 11 Train Loss: 0.5409657497882843 Test Loss: 0.5490239127375447\n",
      "Epoch: 12 Train Loss: 0.5315763320922852 Test Loss: 0.541384748947887\n",
      "Epoch: 13 Train Loss: 0.533900388288498 Test Loss: 0.5338404392853332\n",
      "Epoch: 14 Train Loss: 0.5263701560974121 Test Loss: 0.5435749312368826\n"
     ]
    },
    {
     "name": "stderr",
     "output_type": "stream",
     "text": [
      "\u001b[32m[I 2023-05-07 16:04:26,355]\u001b[0m Trial 137 finished with value: 0.43022464261402316 and parameters: {'hidden_size': 362, 'activation': 'Sigmoid', 'dropout': 0.041433999543748226, 'optimizer': 'Adagrad', 'lr': 0.04498760578237579}. Best is trial 109 with value: 0.589271417133707.\u001b[0m\n"
     ]
    },
    {
     "name": "stdout",
     "output_type": "stream",
     "text": [
      "Epoch: 15 Train Loss: 0.52642166056633 Test Loss: 0.5401690901277926\n",
      "Epoch: 1 Train Loss: 1.477350120139122 Test Loss: 0.5902296748405067\n",
      "Epoch: 2 Train Loss: 0.5771209317684174 Test Loss: 0.5691581832143826\n",
      "Epoch: 3 Train Loss: 0.5407151554107666 Test Loss: 0.5100508493642075\n",
      "Epoch: 4 Train Loss: 0.5095979208111763 Test Loss: 0.4926453495082764\n",
      "Epoch: 5 Train Loss: 0.4762628874063492 Test Loss: 0.4600257522667559\n",
      "Epoch: 6 Train Loss: 0.44582693630456927 Test Loss: 0.47537708849000476\n",
      "Epoch: 7 Train Loss: 0.4281688880443573 Test Loss: 0.45585562962407883\n",
      "Epoch: 8 Train Loss: 0.42463782922029497 Test Loss: 0.42431325201218884\n",
      "Epoch: 9 Train Loss: 0.4214044213294983 Test Loss: 0.42220441187722996\n",
      "Epoch: 10 Train Loss: 0.40180511382818224 Test Loss: 0.4302339079661872\n",
      "Epoch: 11 Train Loss: 0.40178216549158097 Test Loss: 0.4168421130258435\n",
      "Epoch: 12 Train Loss: 0.3994047387361527 Test Loss: 0.4100671985421699\n",
      "Epoch: 13 Train Loss: 0.39310952135920524 Test Loss: 0.41207397267365226\n",
      "Epoch: 14 Train Loss: 0.38131561985611917 Test Loss: 0.4246254909438447\n"
     ]
    },
    {
     "name": "stderr",
     "output_type": "stream",
     "text": [
      "\u001b[32m[I 2023-05-07 16:05:18,003]\u001b[0m Trial 138 finished with value: 0.5335489086499595 and parameters: {'hidden_size': 318, 'activation': 'LeakyReLU', 'dropout': 0.01494544057669997, 'optimizer': 'Adagrad', 'lr': 0.03263404685885172}. Best is trial 109 with value: 0.589271417133707.\u001b[0m\n"
     ]
    },
    {
     "name": "stdout",
     "output_type": "stream",
     "text": [
      "Epoch: 15 Train Loss: 0.38240770803689955 Test Loss: 0.4202645509102093\n",
      "Epoch: 1 Train Loss: nan Test Loss: nan\n",
      "Epoch: 2 Train Loss: nan Test Loss: nan\n",
      "Epoch: 3 Train Loss: nan Test Loss: nan\n",
      "Epoch: 4 Train Loss: nan Test Loss: nan\n",
      "Epoch: 5 Train Loss: nan Test Loss: nan\n",
      "Epoch: 6 Train Loss: nan Test Loss: nan\n",
      "Epoch: 7 Train Loss: nan Test Loss: nan\n",
      "Epoch: 8 Train Loss: nan Test Loss: nan\n",
      "Epoch: 9 Train Loss: nan Test Loss: nan\n",
      "Epoch: 10 Train Loss: nan Test Loss: nan\n",
      "Epoch: 11 Train Loss: nan Test Loss: nan\n",
      "Epoch: 12 Train Loss: nan Test Loss: nan\n",
      "Epoch: 13 Train Loss: nan Test Loss: nan\n",
      "Epoch: 14 Train Loss: nan Test Loss: nan\n"
     ]
    },
    {
     "name": "stderr",
     "output_type": "stream",
     "text": [
      "\u001b[32m[I 2023-05-07 16:06:02,320]\u001b[0m Trial 139 finished with value: 0.0 and parameters: {'hidden_size': 200, 'activation': 'LeakyReLU', 'dropout': 0.11435062176303007, 'optimizer': 'SGD', 'lr': 0.03741173549377858}. Best is trial 109 with value: 0.589271417133707.\u001b[0m\n"
     ]
    },
    {
     "name": "stdout",
     "output_type": "stream",
     "text": [
      "Epoch: 15 Train Loss: nan Test Loss: nan\n",
      "Epoch: 1 Train Loss: 0.8581141001224518 Test Loss: 0.5942965127979986\n",
      "Epoch: 2 Train Loss: 0.5955337218046188 Test Loss: 0.5605957387163997\n",
      "Epoch: 3 Train Loss: 0.5637269844532012 Test Loss: 0.5526711509441035\n",
      "Epoch: 4 Train Loss: 0.5403990020513535 Test Loss: 0.5191285902033218\n",
      "Epoch: 5 Train Loss: 0.5180068179607391 Test Loss: 0.49805500779669887\n",
      "Epoch: 6 Train Loss: 0.4972394886493683 Test Loss: 0.48182381594333407\n",
      "Epoch: 7 Train Loss: 0.47360271785259245 Test Loss: 0.4558101208826985\n",
      "Epoch: 8 Train Loss: 0.44717630932331087 Test Loss: 0.4460875893029542\n",
      "Epoch: 9 Train Loss: 0.43555900602340697 Test Loss: 0.4285749203671282\n",
      "Epoch: 10 Train Loss: 0.4285758446931839 Test Loss: 0.4203894030743133\n",
      "Epoch: 11 Train Loss: 0.4156348007440567 Test Loss: 0.42333292706420245\n",
      "Epoch: 12 Train Loss: 0.41399244639873506 Test Loss: 0.41931202886298824\n",
      "Epoch: 13 Train Loss: 0.4004832918047905 Test Loss: 0.41303872276609316\n",
      "Epoch: 14 Train Loss: 0.3974928797483444 Test Loss: 0.399906773417712\n"
     ]
    },
    {
     "name": "stderr",
     "output_type": "stream",
     "text": [
      "\u001b[32m[I 2023-05-07 16:06:51,490]\u001b[0m Trial 140 finished with value: 0.5368421052631579 and parameters: {'hidden_size': 176, 'activation': 'LeakyReLU', 'dropout': 0.05400746708792668, 'optimizer': 'Adagrad', 'lr': 0.04134335665955732}. Best is trial 109 with value: 0.589271417133707.\u001b[0m\n"
     ]
    },
    {
     "name": "stdout",
     "output_type": "stream",
     "text": [
      "Epoch: 15 Train Loss: 0.3998289623737335 Test Loss: 0.4079666779921078\n",
      "Epoch: 1 Train Loss: 0.7992499709129334 Test Loss: 0.5660884307024959\n",
      "Epoch: 2 Train Loss: 0.557926624083519 Test Loss: 0.5293085302312535\n",
      "Epoch: 3 Train Loss: 0.5297984824895858 Test Loss: 0.5066901349221555\n",
      "Epoch: 4 Train Loss: 0.49519199857711793 Test Loss: 0.4743751842564287\n",
      "Epoch: 5 Train Loss: 0.4640419141769409 Test Loss: 0.46072634269063845\n",
      "Epoch: 6 Train Loss: 0.44673661278486254 Test Loss: 0.44047306549434845\n",
      "Epoch: 7 Train Loss: 0.4327321459531784 Test Loss: 0.42901276866087135\n",
      "Epoch: 8 Train Loss: 0.43167674783468246 Test Loss: 0.4398955746104542\n",
      "Epoch: 9 Train Loss: 0.41688008464574816 Test Loss: 0.4211019868858325\n",
      "Epoch: 10 Train Loss: 0.4122315992474556 Test Loss: 0.4210838525059124\n",
      "Epoch: 11 Train Loss: 0.4045172406792641 Test Loss: 0.4316260082462725\n",
      "Epoch: 12 Train Loss: 0.39045297223329545 Test Loss: 0.4362282129807975\n",
      "Epoch: 13 Train Loss: 0.3915702767491341 Test Loss: 0.4146136866090968\n",
      "Epoch: 14 Train Loss: 0.38898462730646133 Test Loss: 0.41256270117272204\n"
     ]
    },
    {
     "name": "stderr",
     "output_type": "stream",
     "text": [
      "\u001b[32m[I 2023-05-07 16:07:41,383]\u001b[0m Trial 141 finished with value: 0.5330490405117271 and parameters: {'hidden_size': 263, 'activation': 'LeakyReLU', 'dropout': 0.04645501026017479, 'optimizer': 'Adagrad', 'lr': 0.026890932629309208}. Best is trial 109 with value: 0.589271417133707.\u001b[0m\n"
     ]
    },
    {
     "name": "stdout",
     "output_type": "stream",
     "text": [
      "Epoch: 15 Train Loss: 0.38309068452119827 Test Loss: 0.41531017803536435\n",
      "Epoch: 1 Train Loss: 0.6764726993083954 Test Loss: 0.5544279316743723\n",
      "Epoch: 2 Train Loss: 0.5347973601102829 Test Loss: 0.5009602343978973\n",
      "Epoch: 3 Train Loss: 0.4818045261859894 Test Loss: 0.48648776742406546\n",
      "Epoch: 4 Train Loss: 0.45558429692983626 Test Loss: 0.46141725021619767\n",
      "Epoch: 5 Train Loss: 0.42808557740449904 Test Loss: 0.43111162835035843\n",
      "Epoch: 6 Train Loss: 0.41748328144550323 Test Loss: 0.4169912744587222\n",
      "Epoch: 7 Train Loss: 0.41214786039590834 Test Loss: 0.42086528651059246\n",
      "Epoch: 8 Train Loss: 0.3973178828120232 Test Loss: 0.45884794865648587\n",
      "Epoch: 9 Train Loss: 0.39792847197055814 Test Loss: 0.4418378379255438\n",
      "Epoch: 10 Train Loss: 0.38614831738471983 Test Loss: 0.4151409278852871\n",
      "Epoch: 11 Train Loss: 0.3829375271916389 Test Loss: 0.422697956093584\n",
      "Epoch: 12 Train Loss: 0.377697370672226 Test Loss: 0.4256396141057959\n",
      "Epoch: 13 Train Loss: 0.40185378262996674 Test Loss: 0.43023909671238053\n",
      "Epoch: 14 Train Loss: 0.38794028005599973 Test Loss: 0.4236082552958982\n"
     ]
    },
    {
     "name": "stderr",
     "output_type": "stream",
     "text": [
      "\u001b[32m[I 2023-05-07 16:08:31,425]\u001b[0m Trial 142 finished with value: 0.5814648729446935 and parameters: {'hidden_size': 253, 'activation': 'LeakyReLU', 'dropout': 0.03275014059978269, 'optimizer': 'Adagrad', 'lr': 0.02876481210745326}. Best is trial 109 with value: 0.589271417133707.\u001b[0m\n"
     ]
    },
    {
     "name": "stdout",
     "output_type": "stream",
     "text": [
      "Epoch: 15 Train Loss: 0.37626089169979093 Test Loss: 0.4031217540748203\n",
      "Epoch: 1 Train Loss: 0.9983363945960999 Test Loss: 0.5759837866400759\n",
      "Epoch: 2 Train Loss: 0.5651972340583802 Test Loss: 0.5426130851331991\n",
      "Epoch: 3 Train Loss: 0.5379556926488877 Test Loss: 0.5287334066800797\n",
      "Epoch: 4 Train Loss: 0.4985127004623413 Test Loss: 0.4987449395104338\n",
      "Epoch: 5 Train Loss: 0.46807377252578736 Test Loss: 0.46642323000172076\n",
      "Epoch: 6 Train Loss: 0.4468129927158356 Test Loss: 0.4458793236519963\n",
      "Epoch: 7 Train Loss: 0.43195601608753204 Test Loss: 0.4271735285227291\n",
      "Epoch: 8 Train Loss: 0.4303131155729294 Test Loss: 0.4282047439830753\n",
      "Epoch: 9 Train Loss: 0.41822372374534605 Test Loss: 0.42625102146079363\n",
      "Epoch: 10 Train Loss: 0.4099253167629242 Test Loss: 0.424678956334012\n",
      "Epoch: 11 Train Loss: 0.4105714996337891 Test Loss: 0.42105762222513987\n",
      "Epoch: 12 Train Loss: 0.3991529873728752 Test Loss: 0.40874770505074115\n",
      "Epoch: 13 Train Loss: 0.39725091260671613 Test Loss: 0.41554019531122033\n",
      "Epoch: 14 Train Loss: 0.39295411806106567 Test Loss: 0.4158788805666823\n"
     ]
    },
    {
     "name": "stderr",
     "output_type": "stream",
     "text": [
      "\u001b[32m[I 2023-05-07 16:09:19,995]\u001b[0m Trial 143 finished with value: 0.5126621371216801 and parameters: {'hidden_size': 240, 'activation': 'LeakyReLU', 'dropout': 0.028068919273272642, 'optimizer': 'Adagrad', 'lr': 0.030266490247744273}. Best is trial 109 with value: 0.589271417133707.\u001b[0m\n"
     ]
    },
    {
     "name": "stdout",
     "output_type": "stream",
     "text": [
      "Epoch: 15 Train Loss: 0.3955500431895256 Test Loss: 0.4165225761195722\n",
      "Epoch: 1 Train Loss: 0.7031654377937316 Test Loss: 0.561078593658563\n",
      "Epoch: 2 Train Loss: 0.5486874727964401 Test Loss: 0.5356783707873128\n",
      "Epoch: 3 Train Loss: 0.5135419599533081 Test Loss: 0.5043762513814262\n",
      "Epoch: 4 Train Loss: 0.4715425166606903 Test Loss: 0.47754314360908046\n",
      "Epoch: 5 Train Loss: 0.43728977670669555 Test Loss: 0.43983294088810015\n",
      "Epoch: 6 Train Loss: 0.42395443437099456 Test Loss: 0.43038728709418933\n",
      "Epoch: 7 Train Loss: 0.41229739056825637 Test Loss: 0.42144923923781125\n",
      "Epoch: 8 Train Loss: 0.40542868500947954 Test Loss: 0.4244133001223159\n",
      "Epoch: 9 Train Loss: 0.3968311336159706 Test Loss: 0.43050768914314125\n",
      "Epoch: 10 Train Loss: 0.38767388578653333 Test Loss: 0.41027082600437415\n",
      "Epoch: 11 Train Loss: 0.39131534688472747 Test Loss: 0.41134593243035267\n",
      "Epoch: 12 Train Loss: 0.38312907572984695 Test Loss: 0.4124137623051104\n",
      "Epoch: 13 Train Loss: 0.373534867978096 Test Loss: 0.41955183736813334\n",
      "Epoch: 14 Train Loss: 0.37169743964672086 Test Loss: 0.41246276920119795\n"
     ]
    },
    {
     "name": "stderr",
     "output_type": "stream",
     "text": [
      "\u001b[32m[I 2023-05-07 16:10:09,373]\u001b[0m Trial 144 finished with value: 0.536241180243746 and parameters: {'hidden_size': 222, 'activation': 'LeakyReLU', 'dropout': 0.019338229448585563, 'optimizer': 'Adagrad', 'lr': 0.03390781247419653}. Best is trial 109 with value: 0.589271417133707.\u001b[0m\n"
     ]
    },
    {
     "name": "stdout",
     "output_type": "stream",
     "text": [
      "Epoch: 15 Train Loss: 0.3708822041511536 Test Loss: 0.40956242977620694\n",
      "Epoch: 1 Train Loss: 0.8673150222063064 Test Loss: 0.5691744969866146\n",
      "Epoch: 2 Train Loss: 0.5501108667612076 Test Loss: 0.5583478722709436\n",
      "Epoch: 3 Train Loss: 0.5118089462041855 Test Loss: 0.4853590850632031\n",
      "Epoch: 4 Train Loss: 0.47506347591876985 Test Loss: 0.4637419655681037\n",
      "Epoch: 5 Train Loss: 0.44629381194114687 Test Loss: 0.4504574137373854\n",
      "Epoch: 6 Train Loss: 0.4284891206979752 Test Loss: 0.43445367585070216\n",
      "Epoch: 7 Train Loss: 0.41658909126520155 Test Loss: 0.430286118968988\n",
      "Epoch: 8 Train Loss: 0.4202745330452919 Test Loss: 0.42578122693414505\n",
      "Epoch: 9 Train Loss: 0.4004433868527412 Test Loss: 0.4193682784851367\n",
      "Epoch: 10 Train Loss: 0.396827500975132 Test Loss: 0.4210503181091513\n",
      "Epoch: 11 Train Loss: 0.3885078988075256 Test Loss: 0.4319834225474836\n",
      "Epoch: 12 Train Loss: 0.3893731270670891 Test Loss: 0.42248377541954907\n",
      "Epoch: 13 Train Loss: 0.3854023224234581 Test Loss: 0.41645970338354477\n",
      "Epoch: 14 Train Loss: 0.38068873227834704 Test Loss: 0.42228982961787204\n"
     ]
    },
    {
     "name": "stderr",
     "output_type": "stream",
     "text": [
      "\u001b[32m[I 2023-05-07 16:11:01,731]\u001b[0m Trial 145 finished with value: 0.5216836734693877 and parameters: {'hidden_size': 250, 'activation': 'LeakyReLU', 'dropout': 0.0365720709067422, 'optimizer': 'Adagrad', 'lr': 0.028262951467129045}. Best is trial 109 with value: 0.589271417133707.\u001b[0m\n"
     ]
    },
    {
     "name": "stdout",
     "output_type": "stream",
     "text": [
      "Epoch: 15 Train Loss: 0.3753447132706642 Test Loss: 0.4210471847710518\n",
      "Epoch: 1 Train Loss: 0.743028035402298 Test Loss: 0.557254003830992\n",
      "Epoch: 2 Train Loss: 0.5412132844924927 Test Loss: 0.5219053139511388\n",
      "Epoch: 3 Train Loss: 0.49136330416202545 Test Loss: 0.47711013752621967\n",
      "Epoch: 4 Train Loss: 0.45548555698394777 Test Loss: 0.462697452916124\n",
      "Epoch: 5 Train Loss: 0.4339220052480698 Test Loss: 0.433193297193835\n",
      "Epoch: 6 Train Loss: 0.4230608857393265 Test Loss: 0.4278181873428555\n",
      "Epoch: 7 Train Loss: 0.4253191783070564 Test Loss: 0.439870525377627\n",
      "Epoch: 8 Train Loss: 0.4104324283361435 Test Loss: 0.4234704156986441\n",
      "Epoch: 9 Train Loss: 0.40456555440425873 Test Loss: 0.41149799473369464\n",
      "Epoch: 10 Train Loss: 0.3951408067345619 Test Loss: 0.4200296992073044\n",
      "Epoch: 11 Train Loss: 0.3893108830690384 Test Loss: 0.4155639668051808\n",
      "Epoch: 12 Train Loss: 0.3845734205722809 Test Loss: 0.40628964706255605\n",
      "Epoch: 13 Train Loss: 0.38418499077558516 Test Loss: 0.40241097520810726\n",
      "Epoch: 14 Train Loss: 0.3730413115143776 Test Loss: 0.39844535741086207\n"
     ]
    },
    {
     "name": "stderr",
     "output_type": "stream",
     "text": [
      "\u001b[32m[I 2023-05-07 16:11:52,990]\u001b[0m Trial 146 finished with value: 0.5567300916138126 and parameters: {'hidden_size': 333, 'activation': 'LeakyReLU', 'dropout': 0.07336938517548439, 'optimizer': 'Adagrad', 'lr': 0.03601669393403253}. Best is trial 109 with value: 0.589271417133707.\u001b[0m\n"
     ]
    },
    {
     "name": "stdout",
     "output_type": "stream",
     "text": [
      "Epoch: 15 Train Loss: 0.3707293990731239 Test Loss: 0.41012762710690115\n",
      "Epoch: 1 Train Loss: 0.8925462322711945 Test Loss: 0.5927192948687191\n",
      "Epoch: 2 Train Loss: 0.5807821488976479 Test Loss: 0.5392373302302802\n",
      "Epoch: 3 Train Loss: 0.5542794355392456 Test Loss: 0.5176725614661226\n",
      "Epoch: 4 Train Loss: 0.538897576379776 Test Loss: 0.5080166920876732\n",
      "Epoch: 5 Train Loss: 0.5061241911768913 Test Loss: 0.5191369933156541\n",
      "Epoch: 6 Train Loss: 0.46987231609821317 Test Loss: 0.4664256347063631\n",
      "Epoch: 7 Train Loss: 0.45443740342855454 Test Loss: 0.44234334037136347\n",
      "Epoch: 8 Train Loss: 0.43734210644960403 Test Loss: 0.43879517279684355\n",
      "Epoch: 9 Train Loss: 0.42521789075136185 Test Loss: 0.45714052311909464\n",
      "Epoch: 10 Train Loss: 0.41632166126966474 Test Loss: 0.42824797755993976\n",
      "Epoch: 11 Train Loss: 0.4121070475399494 Test Loss: 0.43718243506960214\n",
      "Epoch: 12 Train Loss: 0.4158498892664909 Test Loss: 0.41186128035425756\n",
      "Epoch: 13 Train Loss: 0.4009268975973129 Test Loss: 0.41611220280583294\n",
      "Epoch: 14 Train Loss: 0.39539765045642855 Test Loss: 0.417135241979989\n"
     ]
    },
    {
     "name": "stderr",
     "output_type": "stream",
     "text": [
      "\u001b[32m[I 2023-05-07 16:12:44,746]\u001b[0m Trial 147 finished with value: 0.5390279823269514 and parameters: {'hidden_size': 372, 'activation': 'LeakyReLU', 'dropout': 0.05738523205761707, 'optimizer': 'Adagrad', 'lr': 0.0316970923389428}. Best is trial 109 with value: 0.589271417133707.\u001b[0m\n"
     ]
    },
    {
     "name": "stdout",
     "output_type": "stream",
     "text": [
      "Epoch: 15 Train Loss: 0.3912459377646446 Test Loss: 0.4156542181873474\n",
      "Epoch: 1 Train Loss: 0.8722466167386621 Test Loss: 0.5903562088363087\n",
      "Epoch: 2 Train Loss: 0.5853477220535278 Test Loss: 0.5655335792527793\n",
      "Epoch: 3 Train Loss: 0.5446839581489563 Test Loss: 0.5435090233533146\n",
      "Epoch: 4 Train Loss: 0.5310626679420472 Test Loss: 0.5344922760614572\n",
      "Epoch: 5 Train Loss: 0.5025807227492333 Test Loss: 0.4773167446969797\n",
      "Epoch: 6 Train Loss: 0.47284008622169493 Test Loss: 0.49190867313752157\n",
      "Epoch: 7 Train Loss: 0.46351160596609114 Test Loss: 0.4515327563205847\n",
      "Epoch: 8 Train Loss: 0.4955167420625687 Test Loss: 0.4737652666604938\n",
      "Epoch: 9 Train Loss: 0.4551771400570869 Test Loss: 0.4444186297087624\n",
      "Epoch: 10 Train Loss: 0.4475099968910217 Test Loss: 0.4425595788338695\n",
      "Epoch: 11 Train Loss: 0.43854293587207793 Test Loss: 0.44463074531037206\n",
      "Epoch: 12 Train Loss: 0.43416359955072403 Test Loss: 0.43877623613459615\n",
      "Epoch: 13 Train Loss: 0.4299437902212143 Test Loss: 0.4518913579539369\n",
      "Epoch: 14 Train Loss: 0.417569531750679 Test Loss: 0.447306255420176\n"
     ]
    },
    {
     "name": "stderr",
     "output_type": "stream",
     "text": [
      "\u001b[32m[I 2023-05-07 16:13:09,885]\u001b[0m Trial 148 finished with value: 0.548440065681445 and parameters: {'hidden_size': 308, 'activation': 'LeakyReLU', 'dropout': 0.009258085620099846, 'optimizer': 'SGD', 'lr': 0.0432485198524552}. Best is trial 109 with value: 0.589271417133707.\u001b[0m\n"
     ]
    },
    {
     "name": "stdout",
     "output_type": "stream",
     "text": [
      "Epoch: 15 Train Loss: 0.5039241548418999 Test Loss: 0.4327528027061837\n",
      "Epoch: 1 Train Loss: 1.0638585878372193 Test Loss: 0.6931471788464263\n",
      "Epoch: 2 Train Loss: 0.6931471942901611 Test Loss: 0.6931471967468628\n",
      "Epoch: 3 Train Loss: 0.6931471995353699 Test Loss: 0.6931471876062143\n",
      "Epoch: 4 Train Loss: 0.6931471946716309 Test Loss: 0.6931471984607344\n",
      "Epoch: 5 Train Loss: 0.6931471968650817 Test Loss: 0.693147183988041\n",
      "Epoch: 6 Train Loss: 0.69314718542099 Test Loss: 0.6931471790368564\n",
      "Epoch: 7 Train Loss: 0.6931471962928772 Test Loss: 0.6931471874157842\n",
      "Epoch: 8 Train Loss: 0.6931471940994263 Test Loss: 0.693147177513415\n",
      "Epoch: 9 Train Loss: 0.6931471932411194 Test Loss: 0.6931471837976109\n",
      "Epoch: 10 Train Loss: 0.6931471994400025 Test Loss: 0.6931472003650361\n",
      "Epoch: 11 Train Loss: 0.6931471914291382 Test Loss: 0.6931471836071806\n",
      "Epoch: 12 Train Loss: 0.6931471967697144 Test Loss: 0.693147183988041\n",
      "Epoch: 13 Train Loss: 0.6931471929550171 Test Loss: 0.6931471997937455\n",
      "Epoch: 14 Train Loss: 0.6931471959114075 Test Loss: 0.6931471898913765\n"
     ]
    },
    {
     "name": "stderr",
     "output_type": "stream",
     "text": [
      "\u001b[32m[I 2023-05-07 16:14:00,771]\u001b[0m Trial 149 finished with value: 0.0 and parameters: {'hidden_size': 211, 'activation': 'ReLU', 'dropout': 0.08583009834768188, 'optimizer': 'Adagrad', 'lr': 0.034105639147320545}. Best is trial 109 with value: 0.589271417133707.\u001b[0m\n"
     ]
    },
    {
     "name": "stdout",
     "output_type": "stream",
     "text": [
      "Epoch: 15 Train Loss: 0.6931471947669983 Test Loss: 0.6931471813220186\n",
      "Epoch: 1 Train Loss: 0.6740938219547272 Test Loss: 0.5669073080197691\n",
      "Epoch: 2 Train Loss: 0.5610677421808242 Test Loss: 0.5468540114050094\n",
      "Epoch: 3 Train Loss: 0.5358897473096847 Test Loss: 0.514994429323239\n",
      "Epoch: 4 Train Loss: 0.5161963449001312 Test Loss: 0.4951811018652809\n",
      "Epoch: 5 Train Loss: 0.4881486954689026 Test Loss: 0.47784860798726064\n",
      "Epoch: 6 Train Loss: 0.457781880903244 Test Loss: 0.4523962018684076\n",
      "Epoch: 7 Train Loss: 0.449952779841423 Test Loss: 0.4472770716149967\n",
      "Epoch: 8 Train Loss: 0.43584818526506425 Test Loss: 0.43325812557634835\n",
      "Epoch: 9 Train Loss: 0.4263864693880081 Test Loss: 0.4266726646227197\n",
      "Epoch: 10 Train Loss: 0.4144057796239853 Test Loss: 0.4203689275458217\n",
      "Epoch: 11 Train Loss: 0.4099039431810379 Test Loss: 0.42055950842250267\n",
      "Epoch: 12 Train Loss: 0.4060040318369865 Test Loss: 0.43114131063032457\n",
      "Epoch: 13 Train Loss: 0.4056928975582123 Test Loss: 0.4157333339507968\n",
      "Epoch: 14 Train Loss: 0.40087361229658125 Test Loss: 0.43242790557134647\n"
     ]
    },
    {
     "name": "stderr",
     "output_type": "stream",
     "text": [
      "\u001b[32m[I 2023-05-07 16:14:51,758]\u001b[0m Trial 150 finished with value: 0.5250659630606861 and parameters: {'hidden_size': 326, 'activation': 'LeakyReLU', 'dropout': 0.06310226549684421, 'optimizer': 'Adagrad', 'lr': 0.025127925835918816}. Best is trial 109 with value: 0.589271417133707.\u001b[0m\n"
     ]
    },
    {
     "name": "stdout",
     "output_type": "stream",
     "text": [
      "Epoch: 15 Train Loss: 0.3972111302495003 Test Loss: 0.4193584104886832\n",
      "Epoch: 1 Train Loss: 0.7041911239862442 Test Loss: 0.567343537418987\n",
      "Epoch: 2 Train Loss: 0.5572158398866653 Test Loss: 0.5488387912797471\n",
      "Epoch: 3 Train Loss: 0.5325906638622284 Test Loss: 0.5170670687295378\n",
      "Epoch: 4 Train Loss: 0.515636079454422 Test Loss: 0.4930892422462043\n",
      "Epoch: 5 Train Loss: 0.4792315188884735 Test Loss: 0.484758393595013\n",
      "Epoch: 6 Train Loss: 0.4526327785611153 Test Loss: 0.44609157103128705\n",
      "Epoch: 7 Train Loss: 0.43569677822589875 Test Loss: 0.43253135352660294\n",
      "Epoch: 8 Train Loss: 0.4193037246108055 Test Loss: 0.42570379885812154\n",
      "Epoch: 9 Train Loss: 0.41901540768146517 Test Loss: 0.4524968173890449\n",
      "Epoch: 10 Train Loss: 0.41305577338933946 Test Loss: 0.42808454362348247\n",
      "Epoch: 11 Train Loss: 0.40706316858530045 Test Loss: 0.42480662234198935\n",
      "Epoch: 12 Train Loss: 0.4001386989712715 Test Loss: 0.42236970398372736\n",
      "Epoch: 13 Train Loss: 0.3954118463873863 Test Loss: 0.4200756584588712\n",
      "Epoch: 14 Train Loss: 0.3938812435626984 Test Loss: 0.4181478910219555\n"
     ]
    },
    {
     "name": "stderr",
     "output_type": "stream",
     "text": [
      "\u001b[32m[I 2023-05-07 16:15:41,812]\u001b[0m Trial 151 finished with value: 0.5544005544005544 and parameters: {'hidden_size': 271, 'activation': 'LeakyReLU', 'dropout': 0.04639754635769119, 'optimizer': 'Adagrad', 'lr': 0.028717177132860386}. Best is trial 109 with value: 0.589271417133707.\u001b[0m\n"
     ]
    },
    {
     "name": "stdout",
     "output_type": "stream",
     "text": [
      "Epoch: 15 Train Loss: 0.37791331523656846 Test Loss: 0.43143745811697776\n",
      "Epoch: 1 Train Loss: 0.6388708623409272 Test Loss: 0.5470962990967991\n",
      "Epoch: 2 Train Loss: 0.5407457879543305 Test Loss: 0.5305959775615424\n",
      "Epoch: 3 Train Loss: 0.4937561161279678 Test Loss: 0.48958391027328685\n",
      "Epoch: 4 Train Loss: 0.4510977222561836 Test Loss: 0.4570403853639627\n",
      "Epoch: 5 Train Loss: 0.42331865651607514 Test Loss: 0.4817327102914024\n",
      "Epoch: 6 Train Loss: 0.4186401309132576 Test Loss: 0.4386404554921979\n",
      "Epoch: 7 Train Loss: 0.4047233965277672 Test Loss: 0.4206742599082831\n",
      "Epoch: 8 Train Loss: 0.3998025431871414 Test Loss: 0.42519002115002835\n",
      "Epoch: 9 Train Loss: 0.3891842777609825 Test Loss: 0.40781848063579385\n",
      "Epoch: 10 Train Loss: 0.383960251891613 Test Loss: 0.4089651558393487\n",
      "Epoch: 11 Train Loss: 0.38628219878673553 Test Loss: 0.41011707365703276\n",
      "Epoch: 12 Train Loss: 0.3736637780547142 Test Loss: 0.41060127446445793\n",
      "Epoch: 13 Train Loss: 0.37348955020308494 Test Loss: 0.4080036968087998\n",
      "Epoch: 14 Train Loss: 0.36921736704111097 Test Loss: 0.4051189198851966\n"
     ]
    },
    {
     "name": "stderr",
     "output_type": "stream",
     "text": [
      "\u001b[32m[I 2023-05-07 16:16:31,847]\u001b[0m Trial 152 finished with value: 0.5668202764976958 and parameters: {'hidden_size': 252, 'activation': 'LeakyReLU', 'dropout': 0.030554056508318862, 'optimizer': 'Adagrad', 'lr': 0.027972113981508125}. Best is trial 109 with value: 0.589271417133707.\u001b[0m\n"
     ]
    },
    {
     "name": "stdout",
     "output_type": "stream",
     "text": [
      "Epoch: 15 Train Loss: 0.3686564744234085 Test Loss: 0.40475141118985775\n",
      "Epoch: 1 Train Loss: 1.170188441824913 Test Loss: 0.5805935168894716\n",
      "Epoch: 2 Train Loss: 0.5459814455986023 Test Loss: 0.521930248402178\n",
      "Epoch: 3 Train Loss: 0.5133173466444015 Test Loss: 0.4922360815464879\n",
      "Epoch: 4 Train Loss: 0.4794316116333008 Test Loss: 0.45829972919945516\n",
      "Epoch: 5 Train Loss: 0.4487052057147026 Test Loss: 0.4516333143075053\n",
      "Epoch: 6 Train Loss: 0.42737163195610045 Test Loss: 0.42320915580557555\n",
      "Epoch: 7 Train Loss: 0.4129077745079994 Test Loss: 0.4319634392095831\n",
      "Epoch: 8 Train Loss: 0.40875721734762194 Test Loss: 0.4223438467556676\n",
      "Epoch: 9 Train Loss: 0.4001483540177345 Test Loss: 0.42671938435719037\n",
      "Epoch: 10 Train Loss: 0.39021169674396516 Test Loss: 0.4380645901440812\n",
      "Epoch: 11 Train Loss: 0.3856970163106918 Test Loss: 0.4170665738110344\n",
      "Epoch: 12 Train Loss: 0.3855419185876846 Test Loss: 0.42032824570949845\n",
      "Epoch: 13 Train Loss: 0.3772779771208763 Test Loss: 0.4093346566247483\n",
      "Epoch: 14 Train Loss: 0.37412444937229156 Test Loss: 0.4178498196192443\n"
     ]
    },
    {
     "name": "stderr",
     "output_type": "stream",
     "text": [
      "\u001b[32m[I 2023-05-07 16:17:23,462]\u001b[0m Trial 153 finished with value: 0.5485961123110151 and parameters: {'hidden_size': 350, 'activation': 'LeakyReLU', 'dropout': 0.02858862979408043, 'optimizer': 'Adagrad', 'lr': 0.03042701107244186}. Best is trial 109 with value: 0.589271417133707.\u001b[0m\n"
     ]
    },
    {
     "name": "stdout",
     "output_type": "stream",
     "text": [
      "Epoch: 15 Train Loss: 0.37119937011003495 Test Loss: 0.42371875090530503\n",
      "Epoch: 1 Train Loss: 0.8293597222328186 Test Loss: 0.5602715316291054\n",
      "Epoch: 2 Train Loss: 0.5538924368143082 Test Loss: 0.5347959617741953\n",
      "Epoch: 3 Train Loss: 0.5172668647289276 Test Loss: 0.4981388154502113\n",
      "Epoch: 4 Train Loss: 0.4865668898105621 Test Loss: 0.4689474818519891\n",
      "Epoch: 5 Train Loss: 0.45810579471588136 Test Loss: 0.45292087494374844\n",
      "Epoch: 6 Train Loss: 0.4372313450813293 Test Loss: 0.44568398685310595\n",
      "Epoch: 7 Train Loss: 0.42467948977947234 Test Loss: 0.43095973138801585\n",
      "Epoch: 8 Train Loss: 0.4215932398796082 Test Loss: 0.4233954672139293\n",
      "Epoch: 9 Train Loss: 0.41200140610933306 Test Loss: 0.41791029831471915\n",
      "Epoch: 10 Train Loss: 0.4012539929270744 Test Loss: 0.4212897520857497\n",
      "Epoch: 11 Train Loss: 0.40253046464920045 Test Loss: 0.41715856824820036\n",
      "Epoch: 12 Train Loss: 0.40398446571826935 Test Loss: 0.41042844798808664\n",
      "Epoch: 13 Train Loss: 0.3846622319936752 Test Loss: 0.41254427900519997\n",
      "Epoch: 14 Train Loss: 0.3760600569009781 Test Loss: 0.4144942748327606\n"
     ]
    },
    {
     "name": "stderr",
     "output_type": "stream",
     "text": [
      "\u001b[32m[I 2023-05-07 16:18:12,570]\u001b[0m Trial 154 finished with value: 0.5343007915567282 and parameters: {'hidden_size': 257, 'activation': 'LeakyReLU', 'dropout': 0.03862421290653786, 'optimizer': 'Adagrad', 'lr': 0.032338244671007106}. Best is trial 109 with value: 0.589271417133707.\u001b[0m\n"
     ]
    },
    {
     "name": "stdout",
     "output_type": "stream",
     "text": [
      "Epoch: 15 Train Loss: 0.37517521686553956 Test Loss: 0.4216441111966444\n",
      "Epoch: 1 Train Loss: 0.6889078877925873 Test Loss: 0.5951632985863061\n",
      "Epoch: 2 Train Loss: 0.5760849427938461 Test Loss: 0.55061167311935\n",
      "Epoch: 3 Train Loss: 0.5393700119018555 Test Loss: 0.5268808150062927\n",
      "Epoch: 4 Train Loss: 0.5097923487901688 Test Loss: 0.5107265363295619\n",
      "Epoch: 5 Train Loss: 0.47707095391750337 Test Loss: 0.4671936868764341\n",
      "Epoch: 6 Train Loss: 0.4514361798286438 Test Loss: 0.4508866846751862\n",
      "Epoch: 7 Train Loss: 0.43184665255546567 Test Loss: 0.4394449421439689\n",
      "Epoch: 8 Train Loss: 0.4225467966556549 Test Loss: 0.4262722432851411\n",
      "Epoch: 9 Train Loss: 0.4106298347115517 Test Loss: 0.427093847586324\n",
      "Epoch: 10 Train Loss: 0.404455810880661 Test Loss: 0.4359720950119031\n",
      "Epoch: 11 Train Loss: 0.39805482474565507 Test Loss: 0.41826330587125055\n",
      "Epoch: 12 Train Loss: 0.3909311318874359 Test Loss: 0.4194269252899356\n",
      "Epoch: 13 Train Loss: 0.3865152658700943 Test Loss: 0.4173350976155208\n",
      "Epoch: 14 Train Loss: 0.385254590266943 Test Loss: 0.42984032916565673\n"
     ]
    },
    {
     "name": "stderr",
     "output_type": "stream",
     "text": [
      "\u001b[32m[I 2023-05-07 16:19:04,416]\u001b[0m Trial 155 finished with value: 0.5573539760731879 and parameters: {'hidden_size': 229, 'activation': 'LeakyReLU', 'dropout': 0.018034402184252566, 'optimizer': 'Adagrad', 'lr': 0.026190268622746454}. Best is trial 109 with value: 0.589271417133707.\u001b[0m\n"
     ]
    },
    {
     "name": "stdout",
     "output_type": "stream",
     "text": [
      "Epoch: 15 Train Loss: 0.3755300922393799 Test Loss: 0.4362715188973247\n",
      "Epoch: 1 Train Loss: 2.2658597045242788 Test Loss: 0.6343390595989106\n",
      "Epoch: 2 Train Loss: 0.647318772983551 Test Loss: 0.6101931955296391\n",
      "Epoch: 3 Train Loss: 1.0396874956488609 Test Loss: 0.5743885497315623\n",
      "Epoch: 4 Train Loss: 0.6498461618095637 Test Loss: 0.5285474610166808\n",
      "Epoch: 5 Train Loss: 1.2765274606514272 Test Loss: 0.5744600393139897\n",
      "Epoch: 6 Train Loss: 1.2429984282243998 Test Loss: 0.7407300383947528\n",
      "Epoch: 7 Train Loss: 0.7254856760412455 Test Loss: 0.49881064253874097\n",
      "Epoch: 8 Train Loss: 0.8307029335729778 Test Loss: 0.5454054858071354\n",
      "Epoch: 9 Train Loss: 1.9063789404504816 Test Loss: 0.864685195179793\n",
      "Epoch: 10 Train Loss: 12.080886573662422 Test Loss: 0.7459300129225079\n",
      "Epoch: 11 Train Loss: 1.844776236801222 Test Loss: 0.645385753137235\n",
      "Epoch: 12 Train Loss: 1.7382512814491988 Test Loss: 2.062892637833709\n",
      "Epoch: 13 Train Loss: 1.2411906227085738 Test Loss: 14.695960894417459\n",
      "Epoch: 14 Train Loss: 1.2913084054950625 Test Loss: 4.345413527071618\n"
     ]
    },
    {
     "name": "stderr",
     "output_type": "stream",
     "text": [
      "\u001b[32m[I 2023-05-07 16:19:52,303]\u001b[0m Trial 156 finished with value: 0.41846153846153844 and parameters: {'hidden_size': 287, 'activation': 'LeakyReLU', 'dropout': 0.03207480375983467, 'optimizer': 'Adam', 'lr': 0.02401285299721167}. Best is trial 109 with value: 0.589271417133707.\u001b[0m\n"
     ]
    },
    {
     "name": "stdout",
     "output_type": "stream",
     "text": [
      "Epoch: 15 Train Loss: 1.4711519151005894 Test Loss: 0.737961449276525\n",
      "Epoch: 1 Train Loss: 0.6307732119083405 Test Loss: 0.5582241612120559\n",
      "Epoch: 2 Train Loss: 0.5504145825862885 Test Loss: 0.5236167643492976\n",
      "Epoch: 3 Train Loss: 0.5093289616107941 Test Loss: 0.4953024682050315\n",
      "Epoch: 4 Train Loss: 0.47390335129499433 Test Loss: 0.45503381194588477\n",
      "Epoch: 5 Train Loss: 0.44629930962324144 Test Loss: 0.44506036145047256\n",
      "Epoch: 6 Train Loss: 0.4348548377156258 Test Loss: 0.43268501332487924\n",
      "Epoch: 7 Train Loss: 0.4183458039402962 Test Loss: 0.4235605454197326\n",
      "Epoch: 8 Train Loss: 0.4054890612363815 Test Loss: 0.43103079578747006\n",
      "Epoch: 9 Train Loss: 0.4169744754433632 Test Loss: 0.4123372862371393\n",
      "Epoch: 10 Train Loss: 0.4039643506526947 Test Loss: 0.4265199614504275\n",
      "Epoch: 11 Train Loss: 0.39516886291503905 Test Loss: 0.42062189441900283\n",
      "Epoch: 12 Train Loss: 0.391787466776371 Test Loss: 0.40241704938320305\n",
      "Epoch: 13 Train Loss: 0.38926046396493913 Test Loss: 0.41248113338273174\n",
      "Epoch: 14 Train Loss: 0.3931390792489052 Test Loss: 0.40463316983308273\n"
     ]
    },
    {
     "name": "stderr",
     "output_type": "stream",
     "text": [
      "\u001b[32m[I 2023-05-07 16:20:42,640]\u001b[0m Trial 157 finished with value: 0.5619377162629757 and parameters: {'hidden_size': 235, 'activation': 'LeakyReLU', 'dropout': 0.0528916794005145, 'optimizer': 'Adagrad', 'lr': 0.020094411054934397}. Best is trial 109 with value: 0.589271417133707.\u001b[0m\n"
     ]
    },
    {
     "name": "stdout",
     "output_type": "stream",
     "text": [
      "Epoch: 15 Train Loss: 0.3841749339580536 Test Loss: 0.4070180375069475\n",
      "Epoch: 1 Train Loss: 1.3937372983455658 Test Loss: 0.6100625965161065\n",
      "Epoch: 2 Train Loss: 0.6149225318670273 Test Loss: 0.567895842912479\n",
      "Epoch: 3 Train Loss: 0.5691689622879028 Test Loss: 0.5519440168865953\n",
      "Epoch: 4 Train Loss: 0.5459012755155563 Test Loss: 0.5075852043522052\n",
      "Epoch: 5 Train Loss: 0.5075986784458161 Test Loss: 0.5033475867094704\n",
      "Epoch: 6 Train Loss: 0.5121425539970398 Test Loss: 0.5060892132952952\n",
      "Epoch: 7 Train Loss: 0.4849050094127655 Test Loss: 0.5177276179718133\n",
      "Epoch: 8 Train Loss: 0.47863653460741046 Test Loss: 0.4534737353983779\n",
      "Epoch: 9 Train Loss: 0.4653852419614792 Test Loss: 0.48628156772627235\n",
      "Epoch: 10 Train Loss: 0.45788935548067095 Test Loss: 0.474353981665529\n",
      "Epoch: 11 Train Loss: 0.7207495385289192 Test Loss: 0.5186597333548549\n",
      "Epoch: 12 Train Loss: 0.9609368416428566 Test Loss: 0.543618732152846\n",
      "Epoch: 13 Train Loss: 0.5026068118453025 Test Loss: 0.5046949522278179\n",
      "Epoch: 14 Train Loss: 0.4698353600025177 Test Loss: 0.46147440212031904\n"
     ]
    },
    {
     "name": "stderr",
     "output_type": "stream",
     "text": [
      "\u001b[32m[I 2023-05-07 16:21:26,154]\u001b[0m Trial 158 finished with value: 0.5081645983017635 and parameters: {'hidden_size': 250, 'activation': 'LeakyReLU', 'dropout': 0.09550733768659435, 'optimizer': 'SGD', 'lr': 0.02139181989421687}. Best is trial 109 with value: 0.589271417133707.\u001b[0m\n"
     ]
    },
    {
     "name": "stdout",
     "output_type": "stream",
     "text": [
      "Epoch: 15 Train Loss: 0.48936639077663424 Test Loss: 0.45770114888779273\n",
      "Epoch: 1 Train Loss: 0.6381483474731445 Test Loss: 0.5920372936672296\n",
      "Epoch: 2 Train Loss: 0.5741824017286301 Test Loss: 0.5526173070977671\n",
      "Epoch: 3 Train Loss: 0.5532723378181458 Test Loss: 0.556621565795935\n",
      "Epoch: 4 Train Loss: 0.536435855937004 Test Loss: 0.5341142004195113\n",
      "Epoch: 5 Train Loss: 0.5275159147500992 Test Loss: 0.5426409723945319\n",
      "Epoch: 6 Train Loss: 0.5113616239547729 Test Loss: 0.5296197069433931\n",
      "Epoch: 7 Train Loss: 0.5096588406085968 Test Loss: 0.5161687642716752\n",
      "Epoch: 8 Train Loss: 0.49569329154491426 Test Loss: 0.509482209293987\n",
      "Epoch: 9 Train Loss: 0.4932385854721069 Test Loss: 0.5060493487138717\n",
      "Epoch: 10 Train Loss: 0.48653215694427493 Test Loss: 0.4980020368346772\n",
      "Epoch: 11 Train Loss: 0.48151653225421903 Test Loss: 0.4949330656101909\n",
      "Epoch: 12 Train Loss: 0.47507996006011965 Test Loss: 0.5064310020151229\n",
      "Epoch: 13 Train Loss: 0.47340734577178956 Test Loss: 0.48942390031898364\n",
      "Epoch: 14 Train Loss: 0.46021071605682373 Test Loss: 0.489769523564619\n"
     ]
    },
    {
     "name": "stderr",
     "output_type": "stream",
     "text": [
      "\u001b[32m[I 2023-05-07 16:22:17,185]\u001b[0m Trial 159 finished with value: 0.4280601288475305 and parameters: {'hidden_size': 221, 'activation': 'Tanh', 'dropout': 0.06501357424964624, 'optimizer': 'Adagrad', 'lr': 0.016397173408448946}. Best is trial 109 with value: 0.589271417133707.\u001b[0m\n"
     ]
    },
    {
     "name": "stdout",
     "output_type": "stream",
     "text": [
      "Epoch: 15 Train Loss: 0.4540200870513916 Test Loss: 0.49512026651789204\n",
      "Epoch: 1 Train Loss: 0.8437551098585129 Test Loss: 0.5938348766332998\n",
      "Epoch: 2 Train Loss: 0.5681710326194763 Test Loss: 0.5465949863290634\n",
      "Epoch: 3 Train Loss: 0.5420024178028107 Test Loss: 0.5267473798209485\n",
      "Epoch: 4 Train Loss: 0.5217813062667847 Test Loss: 0.5027590334510651\n",
      "Epoch: 5 Train Loss: 0.4908984655737877 Test Loss: 0.4776844747435932\n",
      "Epoch: 6 Train Loss: 0.4748257583498955 Test Loss: 0.46370682582116357\n",
      "Epoch: 7 Train Loss: 0.45252637877464297 Test Loss: 0.4683211695748015\n",
      "Epoch: 8 Train Loss: 0.44086814613342284 Test Loss: 0.44896997101961994\n",
      "Epoch: 9 Train Loss: 0.43323992419242857 Test Loss: 0.45914879143714143\n",
      "Epoch: 10 Train Loss: 0.4254833534359932 Test Loss: 0.43187075239210465\n",
      "Epoch: 11 Train Loss: 0.4158524758696556 Test Loss: 0.431451360543315\n",
      "Epoch: 12 Train Loss: 0.4097585495352745 Test Loss: 0.43114654410380526\n",
      "Epoch: 13 Train Loss: 0.4049462642550468 Test Loss: 0.4214594514130023\n",
      "Epoch: 14 Train Loss: 0.4035093792557716 Test Loss: 0.44444911926984787\n"
     ]
    },
    {
     "name": "stderr",
     "output_type": "stream",
     "text": [
      "\u001b[32m[I 2023-05-07 16:23:08,191]\u001b[0m Trial 160 finished with value: 0.5416354088522132 and parameters: {'hidden_size': 247, 'activation': 'LeakyReLU', 'dropout': 0.05326006915240959, 'optimizer': 'Adagrad', 'lr': 0.019273253291125662}. Best is trial 109 with value: 0.589271417133707.\u001b[0m\n"
     ]
    },
    {
     "name": "stdout",
     "output_type": "stream",
     "text": [
      "Epoch: 15 Train Loss: 0.39344147911071775 Test Loss: 0.42461093993613513\n",
      "Epoch: 1 Train Loss: 0.6887677186965943 Test Loss: 0.5768811127629143\n",
      "Epoch: 2 Train Loss: 0.5584817227602005 Test Loss: 0.5475037391193378\n",
      "Epoch: 3 Train Loss: 0.5464950082063675 Test Loss: 0.521585504658306\n",
      "Epoch: 4 Train Loss: 0.5071503822088241 Test Loss: 0.499537748222153\n",
      "Epoch: 5 Train Loss: 0.4758869663000107 Test Loss: 0.4603530850035314\n",
      "Epoch: 6 Train Loss: 0.44488523577451705 Test Loss: 0.4406836289948168\n",
      "Epoch: 7 Train Loss: 0.4297308533191681 Test Loss: 0.4373192601739027\n",
      "Epoch: 8 Train Loss: 0.4239048136115074 Test Loss: 0.4383864710077691\n",
      "Epoch: 9 Train Loss: 0.4068214318752289 Test Loss: 0.42242208492165556\n",
      "Epoch: 10 Train Loss: 0.4031268793106079 Test Loss: 0.43167682729970913\n",
      "Epoch: 11 Train Loss: 0.3981468221306801 Test Loss: 0.423099545125192\n",
      "Epoch: 12 Train Loss: 0.3947348930954933 Test Loss: 0.4184436302977248\n",
      "Epoch: 13 Train Loss: 0.39177724341154097 Test Loss: 0.4104108840655595\n",
      "Epoch: 14 Train Loss: 0.3822785664319992 Test Loss: 0.42474756882594417\n"
     ]
    },
    {
     "name": "stderr",
     "output_type": "stream",
     "text": [
      "\u001b[32m[I 2023-05-07 16:23:59,175]\u001b[0m Trial 161 finished with value: 0.5473984319315752 and parameters: {'hidden_size': 160, 'activation': 'LeakyReLU', 'dropout': 0.04470993558060967, 'optimizer': 'Adagrad', 'lr': 0.036411978312682954}. Best is trial 109 with value: 0.589271417133707.\u001b[0m\n"
     ]
    },
    {
     "name": "stdout",
     "output_type": "stream",
     "text": [
      "Epoch: 15 Train Loss: 0.3863638538956642 Test Loss: 0.4103673866952951\n",
      "Epoch: 1 Train Loss: 1.2652364063739776 Test Loss: 0.5699153702479963\n",
      "Epoch: 2 Train Loss: 0.5642075969457626 Test Loss: 0.5740367868266547\n",
      "Epoch: 3 Train Loss: 0.5374185270309448 Test Loss: 0.543980992782992\n",
      "Epoch: 4 Train Loss: 0.508447040605545 Test Loss: 0.5272954452913791\n",
      "Epoch: 5 Train Loss: 0.4839581634521484 Test Loss: 0.4743234475199788\n",
      "Epoch: 6 Train Loss: 0.46361447393894195 Test Loss: 0.4550669019976363\n",
      "Epoch: 7 Train Loss: 0.4441838589549065 Test Loss: 0.4589374073968528\n",
      "Epoch: 8 Train Loss: 0.42913284435272214 Test Loss: 0.4313849086959522\n",
      "Epoch: 9 Train Loss: 0.41929007589817047 Test Loss: 0.4452122621738111\n",
      "Epoch: 10 Train Loss: 0.40665353561639783 Test Loss: 0.425409949197175\n",
      "Epoch: 11 Train Loss: 0.40079252358675005 Test Loss: 0.45449067834324347\n",
      "Epoch: 12 Train Loss: 0.39449669363498685 Test Loss: 0.4354892057923082\n",
      "Epoch: 13 Train Loss: 0.38972041581869127 Test Loss: 0.42816643381175906\n",
      "Epoch: 14 Train Loss: 0.38637215861082075 Test Loss: 0.4216126528458473\n"
     ]
    },
    {
     "name": "stderr",
     "output_type": "stream",
     "text": [
      "\u001b[32m[I 2023-05-07 16:24:53,337]\u001b[0m Trial 162 finished with value: 0.5351906158357771 and parameters: {'hidden_size': 359, 'activation': 'LeakyReLU', 'dropout': 0.023980384515498002, 'optimizer': 'Adagrad', 'lr': 0.022800811645096113}. Best is trial 109 with value: 0.589271417133707.\u001b[0m\n"
     ]
    },
    {
     "name": "stdout",
     "output_type": "stream",
     "text": [
      "Epoch: 15 Train Loss: 0.38585555810928346 Test Loss: 0.42521164966181824\n",
      "Epoch: 1 Train Loss: 0.8648674641609192 Test Loss: 0.5608794493035386\n",
      "Epoch: 2 Train Loss: 0.5632138903856277 Test Loss: 0.5360153381245586\n",
      "Epoch: 3 Train Loss: 0.5385975280284881 Test Loss: 0.5286879111021853\n",
      "Epoch: 4 Train Loss: 0.5161942944288254 Test Loss: 0.5160076129265105\n",
      "Epoch: 5 Train Loss: 0.4941895137310028 Test Loss: 0.4795195484123291\n",
      "Epoch: 6 Train Loss: 0.4777028604388237 Test Loss: 0.4595559348884863\n",
      "Epoch: 7 Train Loss: 0.45138825862407683 Test Loss: 0.450966138999683\n",
      "Epoch: 8 Train Loss: 0.4391946041584015 Test Loss: 0.4390523667914418\n",
      "Epoch: 9 Train Loss: 0.42270143616199496 Test Loss: 0.4348485825446467\n",
      "Epoch: 10 Train Loss: 0.4174195550441742 Test Loss: 0.43338360023289063\n",
      "Epoch: 11 Train Loss: 0.4102311099648476 Test Loss: 0.42812066775160473\n",
      "Epoch: 12 Train Loss: 0.4047481568813324 Test Loss: 0.43786522286673324\n",
      "Epoch: 13 Train Loss: 0.40231691162586214 Test Loss: 0.4178251904039718\n",
      "Epoch: 14 Train Loss: 0.3943604583501816 Test Loss: 0.43173279222874594\n"
     ]
    },
    {
     "name": "stderr",
     "output_type": "stream",
     "text": [
      "\u001b[32m[I 2023-05-07 16:25:45,077]\u001b[0m Trial 163 finished with value: 0.5552447552447553 and parameters: {'hidden_size': 240, 'activation': 'LeakyReLU', 'dropout': 0.07375229274090572, 'optimizer': 'Adagrad', 'lr': 0.028137711440717368}. Best is trial 109 with value: 0.589271417133707.\u001b[0m\n"
     ]
    },
    {
     "name": "stdout",
     "output_type": "stream",
     "text": [
      "Epoch: 15 Train Loss: 0.3875841609954834 Test Loss: 0.41921762581736133\n",
      "Epoch: 1 Train Loss: 1.1645954068243503 Test Loss: 0.600139176312346\n",
      "Epoch: 2 Train Loss: 0.5859568071603775 Test Loss: 0.5603195776383336\n",
      "Epoch: 3 Train Loss: 0.5538377097129822 Test Loss: 0.5338087901711083\n",
      "Epoch: 4 Train Loss: 0.554639556646347 Test Loss: 0.5276053824459022\n",
      "Epoch: 5 Train Loss: 0.5238875757694245 Test Loss: 0.5138512006202064\n",
      "Epoch: 6 Train Loss: 0.5121158598184585 Test Loss: 0.5029640945192343\n",
      "Epoch: 7 Train Loss: 0.4965617047548294 Test Loss: 0.4736567765188674\n",
      "Epoch: 8 Train Loss: 0.4768594778060913 Test Loss: 0.4554767271105093\n",
      "Epoch: 9 Train Loss: 0.4532422180891037 Test Loss: 0.44796657693176606\n",
      "Epoch: 10 Train Loss: 0.4426127146959305 Test Loss: 0.4405239233479332\n",
      "Epoch: 11 Train Loss: 0.42810089271068574 Test Loss: 0.44576596706724775\n",
      "Epoch: 12 Train Loss: 0.41995913115739825 Test Loss: 0.4344229334459518\n",
      "Epoch: 13 Train Loss: 0.40997750749588013 Test Loss: 0.4262193658481391\n",
      "Epoch: 14 Train Loss: 0.4068009202361107 Test Loss: 0.45085135714028973\n"
     ]
    },
    {
     "name": "stderr",
     "output_type": "stream",
     "text": [
      "\u001b[32m[I 2023-05-07 16:26:35,192]\u001b[0m Trial 164 finished with value: 0.547584187408492 and parameters: {'hidden_size': 234, 'activation': 'LeakyReLU', 'dropout': 0.03841246796660249, 'optimizer': 'Adagrad', 'lr': 0.04040991581471998}. Best is trial 109 with value: 0.589271417133707.\u001b[0m\n"
     ]
    },
    {
     "name": "stdout",
     "output_type": "stream",
     "text": [
      "Epoch: 15 Train Loss: 0.4013224344730377 Test Loss: 0.4251515468755088\n",
      "Epoch: 1 Train Loss: 0.8333961238861084 Test Loss: 0.5902514691931752\n",
      "Epoch: 2 Train Loss: 0.5762914179086686 Test Loss: 0.5406484505810296\n",
      "Epoch: 3 Train Loss: 0.5372579262971878 Test Loss: 0.4882065878508571\n",
      "Epoch: 4 Train Loss: 0.5040357287883759 Test Loss: 0.4725941260116169\n",
      "Epoch: 5 Train Loss: 0.47530898989439013 Test Loss: 0.4432493912430998\n",
      "Epoch: 6 Train Loss: 0.4471650097608566 Test Loss: 0.4350428918061165\n",
      "Epoch: 7 Train Loss: 0.43866808269023894 Test Loss: 0.42536045782291854\n",
      "Epoch: 8 Train Loss: 0.429618469786644 Test Loss: 0.4344528408381886\n",
      "Epoch: 9 Train Loss: 0.42619933490753176 Test Loss: 0.4141141678959417\n",
      "Epoch: 10 Train Loss: 0.419769902074337 Test Loss: 0.41073720426129073\n",
      "Epoch: 11 Train Loss: 0.4117966880917549 Test Loss: 0.44218464921743345\n",
      "Epoch: 12 Train Loss: 0.4016056304216385 Test Loss: 0.41275671183967744\n",
      "Epoch: 13 Train Loss: 0.3970657853782177 Test Loss: 0.40759229898071897\n",
      "Epoch: 14 Train Loss: 0.39587623294591906 Test Loss: 0.4273650216789672\n"
     ]
    },
    {
     "name": "stderr",
     "output_type": "stream",
     "text": [
      "\u001b[32m[I 2023-05-07 16:27:23,564]\u001b[0m Trial 165 finished with value: 0.5725614591593973 and parameters: {'hidden_size': 339, 'activation': 'LeakyReLU', 'dropout': 0.19013769053499485, 'optimizer': 'Adagrad', 'lr': 0.03425326592543129}. Best is trial 109 with value: 0.589271417133707.\u001b[0m\n"
     ]
    },
    {
     "name": "stdout",
     "output_type": "stream",
     "text": [
      "Epoch: 15 Train Loss: 0.3956540593147278 Test Loss: 0.40977262243771323\n",
      "Epoch: 1 Train Loss: 0.7266150730371476 Test Loss: 0.5754280637818784\n",
      "Epoch: 2 Train Loss: 0.564830727815628 Test Loss: 0.5397369438847794\n",
      "Epoch: 3 Train Loss: 0.5343300405025482 Test Loss: 0.5272615192987667\n",
      "Epoch: 4 Train Loss: 0.5747223103046417 Test Loss: 0.5514620959092253\n",
      "Epoch: 5 Train Loss: 0.51507462297678 Test Loss: 0.490801020980643\n",
      "Epoch: 6 Train Loss: nan Test Loss: nan\n",
      "Epoch: 7 Train Loss: nan Test Loss: nan\n",
      "Epoch: 8 Train Loss: nan Test Loss: nan\n",
      "Epoch: 9 Train Loss: nan Test Loss: nan\n",
      "Epoch: 10 Train Loss: nan Test Loss: nan\n",
      "Epoch: 11 Train Loss: nan Test Loss: nan\n",
      "Epoch: 12 Train Loss: nan Test Loss: nan\n",
      "Epoch: 13 Train Loss: nan Test Loss: nan\n",
      "Epoch: 14 Train Loss: nan Test Loss: nan\n"
     ]
    },
    {
     "name": "stderr",
     "output_type": "stream",
     "text": [
      "\u001b[32m[I 2023-05-07 16:28:07,366]\u001b[0m Trial 166 finished with value: 0.4667258207630879 and parameters: {'hidden_size': 343, 'activation': 'LeakyReLU', 'dropout': 0.08115487221558566, 'optimizer': 'SGD', 'lr': 0.0314547569574476}. Best is trial 109 with value: 0.589271417133707.\u001b[0m\n"
     ]
    },
    {
     "name": "stdout",
     "output_type": "stream",
     "text": [
      "Epoch: 15 Train Loss: nan Test Loss: nan\n",
      "Epoch: 1 Train Loss: 0.9785770137786866 Test Loss: 0.5967007752615042\n",
      "Epoch: 2 Train Loss: 0.5907705804347992 Test Loss: 0.5601229572448486\n",
      "Epoch: 3 Train Loss: 0.5642943142652511 Test Loss: 0.5295051988987877\n",
      "Epoch: 4 Train Loss: 0.5387687532901764 Test Loss: 0.5097174821570277\n",
      "Epoch: 5 Train Loss: 0.5114732738256454 Test Loss: 0.4963632641128077\n",
      "Epoch: 6 Train Loss: 0.4811484841108322 Test Loss: 0.46674778862311816\n",
      "Epoch: 7 Train Loss: 0.4732810074090958 Test Loss: 0.4468323983989965\n",
      "Epoch: 8 Train Loss: 0.4560242465496063 Test Loss: 0.46162447221458147\n",
      "Epoch: 9 Train Loss: 0.45056004313230513 Test Loss: 0.442731104624538\n",
      "Epoch: 10 Train Loss: 0.43698315094709395 Test Loss: 0.443884830648145\n",
      "Epoch: 11 Train Loss: 0.4358269559025765 Test Loss: 0.4319676705680716\n",
      "Epoch: 12 Train Loss: 0.41645808243751525 Test Loss: 0.4255804434037818\n",
      "Epoch: 13 Train Loss: 0.4215574681282043 Test Loss: 0.42687449263878907\n",
      "Epoch: 14 Train Loss: 0.4180217630982399 Test Loss: 0.42148881050915765\n"
     ]
    },
    {
     "name": "stderr",
     "output_type": "stream",
     "text": [
      "\u001b[32m[I 2023-05-07 16:28:58,318]\u001b[0m Trial 167 finished with value: 0.5292228644829802 and parameters: {'hidden_size': 259, 'activation': 'LeakyReLU', 'dropout': 0.18583540448353814, 'optimizer': 'Adagrad', 'lr': 0.038445617606731285}. Best is trial 109 with value: 0.589271417133707.\u001b[0m\n"
     ]
    },
    {
     "name": "stdout",
     "output_type": "stream",
     "text": [
      "Epoch: 15 Train Loss: 0.41558917738199236 Test Loss: 0.4195737716155692\n",
      "Epoch: 1 Train Loss: 0.6691718137264252 Test Loss: 0.6403273736326077\n",
      "Epoch: 2 Train Loss: 0.615902202129364 Test Loss: 0.5840169366556235\n",
      "Epoch: 3 Train Loss: 0.5873652994155883 Test Loss: 0.561099783395426\n",
      "Epoch: 4 Train Loss: 0.5714154896259308 Test Loss: 0.5535215622129531\n",
      "Epoch: 5 Train Loss: 0.5610526574134826 Test Loss: 0.5549907381542194\n",
      "Epoch: 6 Train Loss: 0.5580572156429291 Test Loss: 0.5634485013759174\n",
      "Epoch: 7 Train Loss: 0.5490113133430481 Test Loss: 0.558321433516737\n",
      "Epoch: 8 Train Loss: 0.5528458094120026 Test Loss: 0.5463295046704265\n",
      "Epoch: 9 Train Loss: 0.5408692989349365 Test Loss: 0.5404586601562013\n",
      "Epoch: 10 Train Loss: 0.5357038137435913 Test Loss: 0.5535477624533657\n",
      "Epoch: 11 Train Loss: 0.5389900628089905 Test Loss: 0.54731375350358\n",
      "Epoch: 12 Train Loss: 0.5335808827877044 Test Loss: 0.5313969705813228\n",
      "Epoch: 13 Train Loss: 0.5348031957149506 Test Loss: 0.5207082587309158\n",
      "Epoch: 14 Train Loss: 0.5320644670963287 Test Loss: 0.5214511451248924\n"
     ]
    },
    {
     "name": "stderr",
     "output_type": "stream",
     "text": [
      "\u001b[32m[I 2023-05-07 16:29:49,094]\u001b[0m Trial 168 finished with value: 0.469020652898068 and parameters: {'hidden_size': 319, 'activation': 'Sigmoid', 'dropout': 0.23330988630662633, 'optimizer': 'Adagrad', 'lr': 0.03309806543422693}. Best is trial 109 with value: 0.589271417133707.\u001b[0m\n"
     ]
    },
    {
     "name": "stdout",
     "output_type": "stream",
     "text": [
      "Epoch: 15 Train Loss: 0.5261829664707184 Test Loss: 0.5199488953660472\n",
      "Epoch: 1 Train Loss: 0.8282211293697357 Test Loss: 0.5536109480899744\n",
      "Epoch: 2 Train Loss: 0.5485215446472168 Test Loss: 0.518522593160026\n",
      "Epoch: 3 Train Loss: 0.5130180419921875 Test Loss: 0.49523874774527626\n",
      "Epoch: 4 Train Loss: 0.4726862590551376 Test Loss: 0.4551472679113808\n",
      "Epoch: 5 Train Loss: 0.4465844500899315 Test Loss: 0.4461284503578759\n",
      "Epoch: 6 Train Loss: 0.42771918094158173 Test Loss: 0.4289549449667001\n",
      "Epoch: 7 Train Loss: 0.417065890789032 Test Loss: 0.421042515399357\n",
      "Epoch: 8 Train Loss: 0.4039084903657436 Test Loss: 0.43254943572865506\n",
      "Epoch: 9 Train Loss: 0.4009676694869995 Test Loss: 0.41037008975641415\n",
      "Epoch: 10 Train Loss: 0.392864969843626 Test Loss: 0.41544860058699173\n",
      "Epoch: 11 Train Loss: 0.3878159956693649 Test Loss: 0.41875702147476207\n",
      "Epoch: 12 Train Loss: 0.38422182081341744 Test Loss: 0.41808503156843274\n",
      "Epoch: 13 Train Loss: 0.3830535655379295 Test Loss: 0.4079240336300085\n",
      "Epoch: 14 Train Loss: 0.3734825705766678 Test Loss: 0.43263468691430534\n"
     ]
    },
    {
     "name": "stderr",
     "output_type": "stream",
     "text": [
      "\u001b[32m[I 2023-05-07 16:30:38,079]\u001b[0m Trial 169 finished with value: 0.5699708454810496 and parameters: {'hidden_size': 295, 'activation': 'LeakyReLU', 'dropout': 4.9673854219212804e-05, 'optimizer': 'Adagrad', 'lr': 0.029047977642390217}. Best is trial 109 with value: 0.589271417133707.\u001b[0m\n"
     ]
    },
    {
     "name": "stdout",
     "output_type": "stream",
     "text": [
      "Epoch: 15 Train Loss: 0.37210651153326035 Test Loss: 0.40970180164606046\n",
      "Epoch: 1 Train Loss: 0.8083773829460144 Test Loss: 0.6286112064370712\n",
      "Epoch: 2 Train Loss: 0.5972263278961182 Test Loss: 0.58968115090943\n",
      "Epoch: 3 Train Loss: 0.5709533916473388 Test Loss: 0.5593425045474268\n",
      "Epoch: 4 Train Loss: 0.5572818957567215 Test Loss: 0.543042564449219\n",
      "Epoch: 5 Train Loss: 0.5367996580839157 Test Loss: 0.522492344720295\n",
      "Epoch: 6 Train Loss: 0.534436267542839 Test Loss: 0.5125744708905966\n",
      "Epoch: 7 Train Loss: 0.5037819481611252 Test Loss: 0.49258709825075475\n",
      "Epoch: 8 Train Loss: 0.47830001863241195 Test Loss: 0.505093438651996\n",
      "Epoch: 9 Train Loss: 0.46831136043071747 Test Loss: 0.4744093445257638\n",
      "Epoch: 10 Train Loss: 0.45530319344997405 Test Loss: 0.4728496909712831\n",
      "Epoch: 11 Train Loss: 0.4563313597083092 Test Loss: 0.45975287822774424\n",
      "Epoch: 12 Train Loss: 0.4449440901994705 Test Loss: 0.4783433606258977\n",
      "Epoch: 13 Train Loss: 0.4324862579703331 Test Loss: 0.45493311451646845\n",
      "Epoch: 14 Train Loss: 0.4291618642807007 Test Loss: 0.4468960425914667\n"
     ]
    },
    {
     "name": "stderr",
     "output_type": "stream",
     "text": [
      "\u001b[32m[I 2023-05-07 16:31:13,962]\u001b[0m Trial 170 finished with value: 0.5259026687598116 and parameters: {'hidden_size': 298, 'activation': 'LeakyReLU', 'dropout': 0.0039518500260464495, 'optimizer': 'SGD', 'lr': 0.02943193933654871}. Best is trial 109 with value: 0.589271417133707.\u001b[0m\n"
     ]
    },
    {
     "name": "stdout",
     "output_type": "stream",
     "text": [
      "Epoch: 15 Train Loss: 0.42602833337783813 Test Loss: 0.43727607691821196\n",
      "Epoch: 1 Train Loss: 0.7563095216751099 Test Loss: 0.5803025539119404\n",
      "Epoch: 2 Train Loss: 0.572217166519165 Test Loss: 0.5448158132953765\n",
      "Epoch: 3 Train Loss: 0.5489491138935089 Test Loss: 0.5273856130746988\n",
      "Epoch: 4 Train Loss: 0.5256019981861114 Test Loss: 0.5058845886216757\n",
      "Epoch: 5 Train Loss: 0.49641132521629333 Test Loss: 0.48797746531117836\n",
      "Epoch: 6 Train Loss: 0.4825963591337204 Test Loss: 0.464200892768348\n",
      "Epoch: 7 Train Loss: 0.462854053914547 Test Loss: 0.4637932313707309\n",
      "Epoch: 8 Train Loss: 0.4613484086751938 Test Loss: 0.4546343160513491\n",
      "Epoch: 9 Train Loss: 0.437363988006115 Test Loss: 0.43821270135454476\n",
      "Epoch: 10 Train Loss: 0.4351687558293343 Test Loss: 0.4310122968289799\n",
      "Epoch: 11 Train Loss: 0.42631258271932604 Test Loss: 0.4430729957719961\n",
      "Epoch: 12 Train Loss: 0.4284959600687027 Test Loss: 0.4325516768537771\n",
      "Epoch: 13 Train Loss: 0.42304681026935576 Test Loss: 0.4170165956020355\n",
      "Epoch: 14 Train Loss: 0.42031526050567625 Test Loss: 0.4206777077180128\n"
     ]
    },
    {
     "name": "stderr",
     "output_type": "stream",
     "text": [
      "\u001b[32m[I 2023-05-07 16:31:34,024]\u001b[0m Trial 171 finished with value: 0.5448275862068965 and parameters: {'hidden_size': 305, 'activation': 'LeakyReLU', 'dropout': 0.21140190370439524, 'optimizer': 'Adagrad', 'lr': 0.02702641379627843}. Best is trial 109 with value: 0.589271417133707.\u001b[0m\n"
     ]
    },
    {
     "name": "stdout",
     "output_type": "stream",
     "text": [
      "Epoch: 15 Train Loss: 0.40838699462413786 Test Loss: 0.4199718052682023\n",
      "Epoch: 1 Train Loss: 0.804379274725914 Test Loss: 0.5678480231342986\n",
      "Epoch: 2 Train Loss: 0.5520760893344879 Test Loss: 0.5293548855537804\n",
      "Epoch: 3 Train Loss: 0.5128703847646713 Test Loss: 0.527624217323221\n",
      "Epoch: 4 Train Loss: 0.4804487933397293 Test Loss: 0.4574551638037252\n",
      "Epoch: 5 Train Loss: 0.45307419372797014 Test Loss: 0.434371897373527\n",
      "Epoch: 6 Train Loss: 0.4387049023866653 Test Loss: 0.4373826247910722\n",
      "Epoch: 7 Train Loss: 0.4255194815635681 Test Loss: 0.42949121607283053\n",
      "Epoch: 8 Train Loss: 0.41496689083576205 Test Loss: 0.42926903811697\n",
      "Epoch: 9 Train Loss: 0.4290363448023796 Test Loss: 0.4293381374436446\n",
      "Epoch: 10 Train Loss: 0.40523656030893324 Test Loss: 0.43339890070235765\n",
      "Epoch: 11 Train Loss: 0.4024960638642311 Test Loss: 0.42717257996622365\n",
      "Epoch: 12 Train Loss: 0.39434912176132203 Test Loss: 0.41604299693347546\n",
      "Epoch: 13 Train Loss: 0.3940462988734245 Test Loss: 0.422479586169933\n",
      "Epoch: 14 Train Loss: 0.3879054197311401 Test Loss: 0.4128188386369056\n"
     ]
    },
    {
     "name": "stderr",
     "output_type": "stream",
     "text": [
      "\u001b[32m[I 2023-05-07 16:31:56,078]\u001b[0m Trial 172 finished with value: 0.5458248472505091 and parameters: {'hidden_size': 333, 'activation': 'LeakyReLU', 'dropout': 0.1402326962080693, 'optimizer': 'Adagrad', 'lr': 0.034859375333585095}. Best is trial 109 with value: 0.589271417133707.\u001b[0m\n"
     ]
    },
    {
     "name": "stdout",
     "output_type": "stream",
     "text": [
      "Epoch: 15 Train Loss: 0.38294195764064787 Test Loss: 0.410195935053376\n",
      "Epoch: 1 Train Loss: 0.7297471165180206 Test Loss: 0.5644677185212461\n",
      "Epoch: 2 Train Loss: 0.815477177476883 Test Loss: 0.5438074574779017\n",
      "Epoch: 3 Train Loss: 0.5377104246139527 Test Loss: 0.5285634953088273\n",
      "Epoch: 4 Train Loss: 0.5193553264617919 Test Loss: 0.5103197910915167\n",
      "Epoch: 5 Train Loss: 0.493805038523674 Test Loss: 0.49517147890485513\n",
      "Epoch: 6 Train Loss: 0.4663719304561615 Test Loss: 0.47105462625384714\n",
      "Epoch: 7 Train Loss: 0.44903405218124387 Test Loss: 0.4566527874039385\n",
      "Epoch: 8 Train Loss: 0.43589695969820025 Test Loss: 0.441219507886198\n",
      "Epoch: 9 Train Loss: 0.41976172660589217 Test Loss: 0.434979775010016\n",
      "Epoch: 10 Train Loss: 0.4099871344447136 Test Loss: 0.44755728807026585\n",
      "Epoch: 11 Train Loss: 0.40508606206178666 Test Loss: 0.42752162897929596\n",
      "Epoch: 12 Train Loss: 0.40387353879213334 Test Loss: 0.43047307262691065\n",
      "Epoch: 13 Train Loss: 0.3959879997253418 Test Loss: 0.42851306069582795\n",
      "Epoch: 14 Train Loss: 0.3871452636003494 Test Loss: 0.43916690182952456\n"
     ]
    },
    {
     "name": "stderr",
     "output_type": "stream",
     "text": [
      "\u001b[32m[I 2023-05-07 16:32:36,050]\u001b[0m Trial 173 finished with value: 0.48223645894001166 and parameters: {'hidden_size': 273, 'activation': 'LeakyReLU', 'dropout': 0.014914917237578235, 'optimizer': 'Adagrad', 'lr': 0.030449789319771443}. Best is trial 109 with value: 0.589271417133707.\u001b[0m\n"
     ]
    },
    {
     "name": "stdout",
     "output_type": "stream",
     "text": [
      "Epoch: 15 Train Loss: 0.3835228941679001 Test Loss: 0.4181413110881187\n",
      "Epoch: 1 Train Loss: 0.8981601351261139 Test Loss: 0.574070276448521\n",
      "Epoch: 2 Train Loss: 0.5731143931150436 Test Loss: 0.5626412599612349\n",
      "Epoch: 3 Train Loss: 0.5450227005720139 Test Loss: 0.5227181891473337\n",
      "Epoch: 4 Train Loss: 0.5137782433271408 Test Loss: 0.5158867588439308\n",
      "Epoch: 5 Train Loss: 0.47972610621452333 Test Loss: 0.4850981916768101\n",
      "Epoch: 6 Train Loss: 0.45706876233816146 Test Loss: 0.45629992471716274\n",
      "Epoch: 7 Train Loss: 0.4380055682897568 Test Loss: 0.4431238844276617\n",
      "Epoch: 8 Train Loss: 0.427781631731987 Test Loss: 0.44744937993086187\n",
      "Epoch: 9 Train Loss: 0.41945560677051547 Test Loss: 0.4406126952066589\n",
      "Epoch: 10 Train Loss: 0.41122567085027695 Test Loss: 0.433240144921187\n",
      "Epoch: 11 Train Loss: 0.4055641093969345 Test Loss: 0.43092118398830914\n",
      "Epoch: 12 Train Loss: 0.4003917545437813 Test Loss: 0.42071757382287767\n",
      "Epoch: 13 Train Loss: 0.39765266344547273 Test Loss: 0.4209368617627948\n",
      "Epoch: 14 Train Loss: 0.39295046759843827 Test Loss: 0.418893980213438\n"
     ]
    },
    {
     "name": "stderr",
     "output_type": "stream",
     "text": [
      "\u001b[32m[I 2023-05-07 16:33:26,896]\u001b[0m Trial 174 finished with value: 0.5169811320754718 and parameters: {'hidden_size': 316, 'activation': 'LeakyReLU', 'dropout': 0.05400544399565944, 'optimizer': 'Adagrad', 'lr': 0.03213587133166001}. Best is trial 109 with value: 0.589271417133707.\u001b[0m\n"
     ]
    },
    {
     "name": "stdout",
     "output_type": "stream",
     "text": [
      "Epoch: 15 Train Loss: 0.38572558755874636 Test Loss: 0.4112956692902044\n",
      "Epoch: 1 Train Loss: 0.8417790962219238 Test Loss: 0.5667755221977783\n",
      "Epoch: 2 Train Loss: 0.552563787317276 Test Loss: 0.5505442913538351\n",
      "Epoch: 3 Train Loss: 0.5190623282909393 Test Loss: 0.49960831321847327\n",
      "Epoch: 4 Train Loss: 0.48626135210990906 Test Loss: 0.49681680371014836\n",
      "Epoch: 5 Train Loss: 0.46441759663820265 Test Loss: 0.45216649413680116\n",
      "Epoch: 6 Train Loss: 0.4495082753896713 Test Loss: 0.44723358731300306\n",
      "Epoch: 7 Train Loss: 0.42890204448699953 Test Loss: 0.44911840277167553\n",
      "Epoch: 8 Train Loss: 0.4181815920114517 Test Loss: 0.42620275552851705\n",
      "Epoch: 9 Train Loss: 0.4184181085824966 Test Loss: 0.4424342060812746\n",
      "Epoch: 10 Train Loss: 0.4101767882823944 Test Loss: 0.43032470407386936\n",
      "Epoch: 11 Train Loss: 0.4013647505044937 Test Loss: 0.4217510168163921\n",
      "Epoch: 12 Train Loss: 0.4001108706474304 Test Loss: 0.41724730175904956\n",
      "Epoch: 13 Train Loss: 0.39359406650066375 Test Loss: 0.41763483782926686\n",
      "Epoch: 14 Train Loss: 0.3878309309959412 Test Loss: 0.40387183618240846\n"
     ]
    },
    {
     "name": "stderr",
     "output_type": "stream",
     "text": [
      "\u001b[32m[I 2023-05-07 16:34:16,742]\u001b[0m Trial 175 finished with value: 0.5267605633802818 and parameters: {'hidden_size': 288, 'activation': 'LeakyReLU', 'dropout': 0.0011791137400015, 'optimizer': 'Adagrad', 'lr': 0.02475298639378634}. Best is trial 109 with value: 0.589271417133707.\u001b[0m\n"
     ]
    },
    {
     "name": "stdout",
     "output_type": "stream",
     "text": [
      "Epoch: 15 Train Loss: 0.38216794300079343 Test Loss: 0.4062797592613644\n",
      "Epoch: 1 Train Loss: 0.7724387958049774 Test Loss: 0.5517388129005798\n",
      "Epoch: 2 Train Loss: 0.5423969543218613 Test Loss: 0.5202554919944403\n",
      "Epoch: 3 Train Loss: 0.511263455748558 Test Loss: 0.49682523053103744\n",
      "Epoch: 4 Train Loss: 0.473091415143013 Test Loss: 0.47110871013741906\n",
      "Epoch: 5 Train Loss: 0.44667955397367476 Test Loss: 0.44418122502752005\n",
      "Epoch: 6 Train Loss: 0.42888613605499265 Test Loss: 0.43018830786593043\n",
      "Epoch: 7 Train Loss: 0.41418300206661224 Test Loss: 0.42428190751483263\n",
      "Epoch: 8 Train Loss: 0.4084280973434448 Test Loss: 0.445705367734257\n",
      "Epoch: 9 Train Loss: 0.40257168028354645 Test Loss: 0.447560510553491\n",
      "Epoch: 10 Train Loss: 0.39215684490203856 Test Loss: 0.4310809415036116\n",
      "Epoch: 11 Train Loss: 0.38394350284337997 Test Loss: 0.4192517633302905\n",
      "Epoch: 12 Train Loss: 0.3835124857902527 Test Loss: 0.43528881026342653\n",
      "Epoch: 13 Train Loss: 0.37978156712055205 Test Loss: 0.4189969313839754\n",
      "Epoch: 14 Train Loss: 0.3747909093499184 Test Loss: 0.41154003145690926\n"
     ]
    },
    {
     "name": "stderr",
     "output_type": "stream",
     "text": [
      "\u001b[32m[I 2023-05-07 16:35:10,036]\u001b[0m Trial 176 finished with value: 0.5537790697674418 and parameters: {'hidden_size': 466, 'activation': 'LeakyReLU', 'dropout': 0.0246882827944494, 'optimizer': 'Adagrad', 'lr': 0.02003401034819928}. Best is trial 109 with value: 0.589271417133707.\u001b[0m\n"
     ]
    },
    {
     "name": "stdout",
     "output_type": "stream",
     "text": [
      "Epoch: 15 Train Loss: 0.36664725192785264 Test Loss: 0.43664075562748283\n",
      "Epoch: 1 Train Loss: 0.8098678229153157 Test Loss: 0.576680997880503\n",
      "Epoch: 2 Train Loss: 0.5756031327009201 Test Loss: 0.5475301470714636\n",
      "Epoch: 3 Train Loss: 0.5924546548128128 Test Loss: 0.5230276581768791\n",
      "Epoch: 4 Train Loss: 0.5320139814853668 Test Loss: 0.5279349473337777\n",
      "Epoch: 5 Train Loss: 0.4915600009918213 Test Loss: 0.4916232480361058\n",
      "Epoch: 6 Train Loss: 0.47281970319747924 Test Loss: 0.4586827458379368\n",
      "Epoch: 7 Train Loss: 0.4528540263056755 Test Loss: 0.44727351304631646\n",
      "Epoch: 8 Train Loss: 0.4500243533730507 Test Loss: 0.44487002734749465\n",
      "Epoch: 9 Train Loss: 0.43495091526508334 Test Loss: 0.4289756115918723\n",
      "Epoch: 10 Train Loss: 0.43020806889533997 Test Loss: 0.42287413880657465\n",
      "Epoch: 11 Train Loss: 0.42499223735332486 Test Loss: 0.42434729997532816\n",
      "Epoch: 12 Train Loss: 0.4243121428847313 Test Loss: 0.4199403348965005\n",
      "Epoch: 13 Train Loss: 0.42100515859127047 Test Loss: 0.41537146541638115\n",
      "Epoch: 14 Train Loss: 0.40580654940605165 Test Loss: 0.41055891001091216\n"
     ]
    },
    {
     "name": "stderr",
     "output_type": "stream",
     "text": [
      "\u001b[32m[I 2023-05-07 16:36:00,583]\u001b[0m Trial 177 finished with value: 0.48549107142857145 and parameters: {'hidden_size': 327, 'activation': 'LeakyReLU', 'dropout': 0.15479887367354267, 'optimizer': 'Adagrad', 'lr': 0.03437036477499342}. Best is trial 109 with value: 0.589271417133707.\u001b[0m\n"
     ]
    },
    {
     "name": "stdout",
     "output_type": "stream",
     "text": [
      "Epoch: 15 Train Loss: 0.4015135193705559 Test Loss: 0.41447455676409384\n",
      "Epoch: 1 Train Loss: 0.8657118068695069 Test Loss: 0.6214082844722004\n",
      "Epoch: 2 Train Loss: 0.6099807305335998 Test Loss: 0.5791090334566257\n",
      "Epoch: 3 Train Loss: 0.5792639339208603 Test Loss: 0.5657041851228799\n",
      "Epoch: 4 Train Loss: 0.5591287964820861 Test Loss: 0.5500256701494558\n",
      "Epoch: 5 Train Loss: 0.5415469679117203 Test Loss: 0.5269404941092665\n",
      "Epoch: 6 Train Loss: 0.5210281479120255 Test Loss: 0.5037829079947913\n",
      "Epoch: 7 Train Loss: 0.5040522017717362 Test Loss: 0.5390312001347161\n",
      "Epoch: 8 Train Loss: 0.4928018796920776 Test Loss: 0.5139438228104443\n",
      "Epoch: 9 Train Loss: 0.47583484709262847 Test Loss: 0.4954328418920596\n",
      "Epoch: 10 Train Loss: 0.46730641745328905 Test Loss: 0.45711104276652537\n",
      "Epoch: 11 Train Loss: 0.46199595494270324 Test Loss: 0.46637282513391476\n",
      "Epoch: 12 Train Loss: 0.4499418807387352 Test Loss: 0.4588569048018501\n",
      "Epoch: 13 Train Loss: 0.4447330210328102 Test Loss: 0.4462507270252743\n",
      "Epoch: 14 Train Loss: 0.44974054622650145 Test Loss: 0.4471778806310873\n"
     ]
    },
    {
     "name": "stderr",
     "output_type": "stream",
     "text": [
      "\u001b[32m[I 2023-05-07 16:36:43,458]\u001b[0m Trial 178 finished with value: 0.4996876951905058 and parameters: {'hidden_size': 350, 'activation': 'LeakyReLU', 'dropout': 0.04410809676088698, 'optimizer': 'SGD', 'lr': 0.027844255418504823}. Best is trial 109 with value: 0.589271417133707.\u001b[0m\n"
     ]
    },
    {
     "name": "stdout",
     "output_type": "stream",
     "text": [
      "Epoch: 15 Train Loss: 0.43659403380155565 Test Loss: 0.4358275578425715\n",
      "Epoch: 1 Train Loss: 1.7524348533153533 Test Loss: 0.593737187953041\n",
      "Epoch: 2 Train Loss: 0.5795054362535477 Test Loss: 0.5497279474720026\n",
      "Epoch: 3 Train Loss: 0.5529977042675018 Test Loss: 0.5331512675784267\n",
      "Epoch: 4 Train Loss: 0.5322000455856323 Test Loss: 0.5355424737682739\n",
      "Epoch: 5 Train Loss: 0.5083303507566452 Test Loss: 0.4816095989447432\n",
      "Epoch: 6 Train Loss: 0.4877948194265366 Test Loss: 0.4664391379196423\n",
      "Epoch: 7 Train Loss: 0.4608718186855316 Test Loss: 0.46239923340634415\n",
      "Epoch: 8 Train Loss: 0.4410879544019699 Test Loss: 0.43377981708643915\n",
      "Epoch: 9 Train Loss: 0.4353364531993866 Test Loss: 0.4331885835233207\n",
      "Epoch: 10 Train Loss: 0.4207495441198349 Test Loss: 0.4434918390390591\n",
      "Epoch: 11 Train Loss: 0.41384971890449523 Test Loss: 0.4257269975619194\n",
      "Epoch: 12 Train Loss: 0.4097177901864052 Test Loss: 0.4304485309857149\n",
      "Epoch: 13 Train Loss: 0.4055509812951088 Test Loss: 0.4251672644584705\n",
      "Epoch: 14 Train Loss: 0.40517368273735044 Test Loss: 0.4229500927388097\n"
     ]
    },
    {
     "name": "stderr",
     "output_type": "stream",
     "text": [
      "\u001b[32m[I 2023-05-07 16:37:33,200]\u001b[0m Trial 179 finished with value: 0.5225342913128674 and parameters: {'hidden_size': 300, 'activation': 'LeakyReLU', 'dropout': 0.06167514797351959, 'optimizer': 'Adagrad', 'lr': 0.03675474855525047}. Best is trial 109 with value: 0.589271417133707.\u001b[0m\n"
     ]
    },
    {
     "name": "stdout",
     "output_type": "stream",
     "text": [
      "Epoch: 15 Train Loss: 0.389936257147789 Test Loss: 0.415353700423393\n",
      "Epoch: 1 Train Loss: 0.9872440862178803 Test Loss: 0.5760114129644613\n",
      "Epoch: 2 Train Loss: 0.6009482891559601 Test Loss: 0.5183623790169676\n",
      "Epoch: 3 Train Loss: 0.5325629383563996 Test Loss: 0.49983401882191436\n",
      "Epoch: 4 Train Loss: 0.4938109409332275 Test Loss: 0.47081155108567624\n",
      "Epoch: 5 Train Loss: 0.4709467783093452 Test Loss: 0.4564835803624921\n",
      "Epoch: 6 Train Loss: 0.4507834411263466 Test Loss: 0.4402029649042093\n",
      "Epoch: 7 Train Loss: 0.4372258637666702 Test Loss: 0.43728979755514347\n",
      "Epoch: 8 Train Loss: 0.43180952179431914 Test Loss: 0.4608636097119639\n",
      "Epoch: 9 Train Loss: 0.4215528903245926 Test Loss: 0.42742591924941575\n",
      "Epoch: 10 Train Loss: 0.42881264008283615 Test Loss: 0.431234673498728\n",
      "Epoch: 11 Train Loss: 0.41424646912813184 Test Loss: 0.41783819169091724\n",
      "Epoch: 12 Train Loss: 0.4088991188764572 Test Loss: 0.41675209589659595\n",
      "Epoch: 13 Train Loss: 0.4076115689754486 Test Loss: 0.43796806790815374\n",
      "Epoch: 14 Train Loss: 0.3950965322136879 Test Loss: 0.4165872387802258\n"
     ]
    },
    {
     "name": "stderr",
     "output_type": "stream",
     "text": [
      "\u001b[32m[I 2023-05-07 16:38:23,855]\u001b[0m Trial 180 finished with value: 0.5712050078247262 and parameters: {'hidden_size': 337, 'activation': 'LeakyReLU', 'dropout': 0.12658659335436895, 'optimizer': 'Adagrad', 'lr': 0.0429386667515066}. Best is trial 109 with value: 0.589271417133707.\u001b[0m\n"
     ]
    },
    {
     "name": "stdout",
     "output_type": "stream",
     "text": [
      "Epoch: 15 Train Loss: 0.394654998934269 Test Loss: 0.4128721180482033\n",
      "Epoch: 1 Train Loss: 2.0797151713848114 Test Loss: 0.5595521994006519\n",
      "Epoch: 2 Train Loss: 0.5725167768478393 Test Loss: 0.5361170661144744\n",
      "Epoch: 3 Train Loss: 0.5334622430086136 Test Loss: 0.5037336451843524\n",
      "Epoch: 4 Train Loss: 0.4954225193977356 Test Loss: 0.4673254943598574\n",
      "Epoch: 5 Train Loss: 0.47143454718589783 Test Loss: 0.45195577129388387\n",
      "Epoch: 6 Train Loss: 0.4505627798676491 Test Loss: 0.439508997879851\n",
      "Epoch: 7 Train Loss: 0.44078421097993853 Test Loss: 0.43128192624725853\n",
      "Epoch: 8 Train Loss: 0.4288962234258652 Test Loss: 0.43035397162071815\n",
      "Epoch: 9 Train Loss: 0.4205650106310844 Test Loss: 0.42423351232807477\n",
      "Epoch: 10 Train Loss: 0.41161967675685884 Test Loss: 0.42074755096016603\n",
      "Epoch: 11 Train Loss: 0.406758222424984 Test Loss: 0.4157285882404056\n",
      "Epoch: 12 Train Loss: 0.40113696612119676 Test Loss: 0.43864615228229437\n",
      "Epoch: 13 Train Loss: 0.39622068103551866 Test Loss: 0.41468891330039537\n",
      "Epoch: 14 Train Loss: 0.3955549938440323 Test Loss: 0.41382144036860513\n"
     ]
    },
    {
     "name": "stderr",
     "output_type": "stream",
     "text": [
      "\u001b[32m[I 2023-05-07 16:39:15,507]\u001b[0m Trial 181 finished with value: 0.5030599755201959 and parameters: {'hidden_size': 335, 'activation': 'LeakyReLU', 'dropout': 0.051095083323374174, 'optimizer': 'Adagrad', 'lr': 0.04750941072465051}. Best is trial 109 with value: 0.589271417133707.\u001b[0m\n"
     ]
    },
    {
     "name": "stdout",
     "output_type": "stream",
     "text": [
      "Epoch: 15 Train Loss: 0.3916278284907341 Test Loss: 0.41165089238280306\n",
      "Epoch: 1 Train Loss: 1.834956329536438 Test Loss: 0.5691779551033775\n",
      "Epoch: 2 Train Loss: 0.5924520026922226 Test Loss: 0.5451795503068656\n",
      "Epoch: 3 Train Loss: 0.5572823471069336 Test Loss: 0.5123607604362713\n",
      "Epoch: 4 Train Loss: 0.5309130779743194 Test Loss: 0.507341513999354\n",
      "Epoch: 5 Train Loss: 0.49863253366947174 Test Loss: 0.46787401907645854\n",
      "Epoch: 6 Train Loss: 0.4731040589094162 Test Loss: 0.47502469033383715\n",
      "Epoch: 7 Train Loss: 0.46534680033922193 Test Loss: 0.44352214652509353\n",
      "Epoch: 8 Train Loss: 0.4585858855843544 Test Loss: 0.4581202707780055\n",
      "Epoch: 9 Train Loss: 0.44243769446611403 Test Loss: 0.44346362633255726\n",
      "Epoch: 10 Train Loss: 0.4321646622300148 Test Loss: 0.41794743327001416\n",
      "Epoch: 11 Train Loss: 0.43071507881879806 Test Loss: 0.46744245281234714\n",
      "Epoch: 12 Train Loss: 0.42664530806541445 Test Loss: 0.4226147842626221\n",
      "Epoch: 13 Train Loss: 0.42212021210193634 Test Loss: 0.4161199082058078\n",
      "Epoch: 14 Train Loss: 0.40800301587581633 Test Loss: 0.41358953174025104\n"
     ]
    },
    {
     "name": "stderr",
     "output_type": "stream",
     "text": [
      "\u001b[32m[I 2023-05-07 16:40:06,763]\u001b[0m Trial 182 finished with value: 0.5343915343915344 and parameters: {'hidden_size': 339, 'activation': 'LeakyReLU', 'dropout': 0.16374452926796657, 'optimizer': 'Adagrad', 'lr': 0.04238416789306797}. Best is trial 109 with value: 0.589271417133707.\u001b[0m\n"
     ]
    },
    {
     "name": "stdout",
     "output_type": "stream",
     "text": [
      "Epoch: 15 Train Loss: 0.40817268669605256 Test Loss: 0.41457275444040664\n",
      "Epoch: 1 Train Loss: 0.7608178515434265 Test Loss: 0.5663308688341239\n",
      "Epoch: 2 Train Loss: 0.566641251540184 Test Loss: 0.5386369276922732\n",
      "Epoch: 3 Train Loss: 0.5416932720661163 Test Loss: 0.5051859574386487\n",
      "Epoch: 4 Train Loss: 0.5055446105360984 Test Loss: 0.4834147701724269\n",
      "Epoch: 5 Train Loss: 0.486728006362915 Test Loss: 0.4622981544976798\n",
      "Epoch: 6 Train Loss: 0.47358119959831235 Test Loss: 0.47586532960684536\n",
      "Epoch: 7 Train Loss: 0.4581421602010727 Test Loss: 0.4490114991990522\n",
      "Epoch: 8 Train Loss: 0.4499810985803604 Test Loss: 0.43044921793876745\n",
      "Epoch: 9 Train Loss: 0.4369838105916977 Test Loss: 0.42881258831808744\n",
      "Epoch: 10 Train Loss: 0.43755183027982714 Test Loss: 0.43636335013583066\n",
      "Epoch: 11 Train Loss: 0.42795160846710206 Test Loss: 0.4216855153346214\n",
      "Epoch: 12 Train Loss: 0.4363480070114136 Test Loss: 0.4279911540710507\n",
      "Epoch: 13 Train Loss: 0.42094149769544603 Test Loss: 0.430466411498408\n",
      "Epoch: 14 Train Loss: 0.41584985835552213 Test Loss: 0.42282608953622963\n"
     ]
    },
    {
     "name": "stderr",
     "output_type": "stream",
     "text": [
      "\u001b[32m[I 2023-05-07 16:40:55,501]\u001b[0m Trial 183 finished with value: 0.5305039787798409 and parameters: {'hidden_size': 128, 'activation': 'LeakyReLU', 'dropout': 0.13114029560981422, 'optimizer': 'Adagrad', 'lr': 0.04425243085472843}. Best is trial 109 with value: 0.589271417133707.\u001b[0m\n"
     ]
    },
    {
     "name": "stdout",
     "output_type": "stream",
     "text": [
      "Epoch: 15 Train Loss: 0.4096613393902779 Test Loss: 0.41054932404154787\n",
      "Epoch: 1 Train Loss: 0.8939545800328255 Test Loss: 0.5742065063871133\n",
      "Epoch: 2 Train Loss: 0.6039651090621948 Test Loss: 0.5620818051476829\n",
      "Epoch: 3 Train Loss: 0.5614494582176208 Test Loss: 0.6133985198772373\n",
      "Epoch: 4 Train Loss: 0.5365741401433944 Test Loss: 0.4977492701512175\n",
      "Epoch: 5 Train Loss: 0.5071506379842758 Test Loss: 0.4805486306500511\n",
      "Epoch: 6 Train Loss: 0.4863066107273102 Test Loss: 0.47740676380194036\n",
      "Epoch: 7 Train Loss: 0.4682218178033829 Test Loss: 0.5141261789840631\n",
      "Epoch: 8 Train Loss: 0.4546541239976883 Test Loss: 0.4414054781865007\n",
      "Epoch: 9 Train Loss: 0.4414574414491653 Test Loss: 0.4260873614599149\n",
      "Epoch: 10 Train Loss: 0.4375891864180565 Test Loss: 0.4308185864228029\n",
      "Epoch: 11 Train Loss: 0.43017732924222946 Test Loss: 0.4281633591023497\n",
      "Epoch: 12 Train Loss: 0.429643421459198 Test Loss: 0.4166986080594718\n",
      "Epoch: 13 Train Loss: 0.41183615752458574 Test Loss: 0.4238144686094488\n",
      "Epoch: 14 Train Loss: 0.41526661305427554 Test Loss: 0.42391379677449553\n"
     ]
    },
    {
     "name": "stderr",
     "output_type": "stream",
     "text": [
      "\u001b[32m[I 2023-05-07 16:41:46,446]\u001b[0m Trial 184 finished with value: 0.5031545741324921 and parameters: {'hidden_size': 326, 'activation': 'LeakyReLU', 'dropout': 0.11523158188411937, 'optimizer': 'Adagrad', 'lr': 0.0404858702952486}. Best is trial 109 with value: 0.589271417133707.\u001b[0m\n"
     ]
    },
    {
     "name": "stdout",
     "output_type": "stream",
     "text": [
      "Epoch: 15 Train Loss: 0.4032981640100479 Test Loss: 0.4112753864770499\n",
      "Epoch: 1 Train Loss: 0.7570272820472718 Test Loss: 0.5838493172067423\n",
      "Epoch: 2 Train Loss: 0.5657706777572632 Test Loss: 0.5406129637750955\n",
      "Epoch: 3 Train Loss: 0.5327495643615723 Test Loss: 0.5112058533171114\n",
      "Epoch: 4 Train Loss: 0.492551856136322 Test Loss: 0.4920514050525979\n",
      "Epoch: 5 Train Loss: 0.4613278708457947 Test Loss: 0.4859236304561932\n",
      "Epoch: 6 Train Loss: 0.44428093692064285 Test Loss: 0.44615718731864956\n",
      "Epoch: 7 Train Loss: 0.4276962354183197 Test Loss: 0.4375165022028902\n",
      "Epoch: 8 Train Loss: 0.4258062032580376 Test Loss: 0.4253162681437529\n",
      "Epoch: 9 Train Loss: 0.4119629435896873 Test Loss: 0.42221570452943014\n",
      "Epoch: 10 Train Loss: 0.4028792487025261 Test Loss: 0.43587562291862103\n",
      "Epoch: 11 Train Loss: 0.39788112699985506 Test Loss: 0.41734000840506996\n",
      "Epoch: 12 Train Loss: 0.3999483634233475 Test Loss: 0.41590248095913057\n",
      "Epoch: 13 Train Loss: 0.3961715704083443 Test Loss: 0.4264950667516873\n",
      "Epoch: 14 Train Loss: 0.3859700718998909 Test Loss: 0.41129955620811387\n"
     ]
    },
    {
     "name": "stderr",
     "output_type": "stream",
     "text": [
      "\u001b[32m[I 2023-05-07 16:42:36,187]\u001b[0m Trial 185 finished with value: 0.527369826435247 and parameters: {'hidden_size': 312, 'activation': 'LeakyReLU', 'dropout': 0.10463141073855226, 'optimizer': 'Adagrad', 'lr': 0.029714361587606004}. Best is trial 109 with value: 0.589271417133707.\u001b[0m\n"
     ]
    },
    {
     "name": "stdout",
     "output_type": "stream",
     "text": [
      "Epoch: 15 Train Loss: 0.3842874958872795 Test Loss: 0.4113039903747388\n",
      "Epoch: 1 Train Loss: 0.9782043801307678 Test Loss: 0.693147175228253\n",
      "Epoch: 2 Train Loss: 0.6931471988677979 Test Loss: 0.6931471698962081\n",
      "Epoch: 3 Train Loss: 0.6931471919059753 Test Loss: 0.693147180750728\n",
      "Epoch: 4 Train Loss: 0.6931471972465515 Test Loss: 0.6931471938904101\n",
      "Epoch: 5 Train Loss: 0.6931471933364868 Test Loss: 0.6931471904626669\n",
      "Epoch: 6 Train Loss: 0.6931471891403198 Test Loss: 0.6931471876062143\n",
      "Epoch: 7 Train Loss: 0.6931472002983093 Test Loss: 0.6931471895105161\n",
      "Epoch: 8 Train Loss: 0.6931472003936767 Test Loss: 0.6931471889392256\n",
      "Epoch: 9 Train Loss: 0.6931472002983093 Test Loss: 0.6931471843689013\n",
      "Epoch: 10 Train Loss: 0.693147192287445 Test Loss: 0.6931471961755722\n",
      "Epoch: 11 Train Loss: 0.6931472042083741 Test Loss: 0.6931472005554662\n",
      "Epoch: 12 Train Loss: 0.693147193813324 Test Loss: 0.6931471940808402\n",
      "Epoch: 13 Train Loss: 0.6931471913337708 Test Loss: 0.693147188367935\n",
      "Epoch: 14 Train Loss: 0.693147193813324 Test Loss: 0.6931471847497617\n"
     ]
    },
    {
     "name": "stderr",
     "output_type": "stream",
     "text": [
      "\u001b[32m[I 2023-05-07 16:43:29,721]\u001b[0m Trial 186 finished with value: 0.0 and parameters: {'hidden_size': 359, 'activation': 'ReLU', 'dropout': 0.03193819606840057, 'optimizer': 'Adam', 'lr': 0.038185732350417965}. Best is trial 109 with value: 0.589271417133707.\u001b[0m\n"
     ]
    },
    {
     "name": "stdout",
     "output_type": "stream",
     "text": [
      "Epoch: 15 Train Loss: 0.6931472032546997 Test Loss: 0.6931471904626669\n",
      "Epoch: 1 Train Loss: 0.6759697655677795 Test Loss: 0.5716112139887704\n",
      "Epoch: 2 Train Loss: 0.588837172794342 Test Loss: 0.5251143399042825\n",
      "Epoch: 3 Train Loss: 0.5271023518323898 Test Loss: 0.5231060856542649\n",
      "Epoch: 4 Train Loss: 0.49871920866966246 Test Loss: 0.4732046342505434\n",
      "Epoch: 5 Train Loss: 0.4580512607693672 Test Loss: 0.4575876168930492\n",
      "Epoch: 6 Train Loss: 0.45468836051225664 Test Loss: 0.4308579215607323\n",
      "Epoch: 7 Train Loss: 0.4388340399861336 Test Loss: 0.4254574674053695\n",
      "Epoch: 8 Train Loss: 0.4338119265079498 Test Loss: 0.4331694148933164\n",
      "Epoch: 9 Train Loss: 0.4176850487947464 Test Loss: 0.4841569263380937\n",
      "Epoch: 10 Train Loss: 0.42083023487329485 Test Loss: 0.424834010223992\n",
      "Epoch: 11 Train Loss: 0.4093114785194397 Test Loss: 0.4126679061319881\n",
      "Epoch: 12 Train Loss: 0.40535107792615893 Test Loss: 0.40836962279134664\n",
      "Epoch: 13 Train Loss: 0.39370825781822205 Test Loss: 0.4069669482092888\n",
      "Epoch: 14 Train Loss: 0.392455304479599 Test Loss: 0.40637152151653944\n"
     ]
    },
    {
     "name": "stderr",
     "output_type": "stream",
     "text": [
      "\u001b[32m[I 2023-05-07 16:44:20,330]\u001b[0m Trial 187 finished with value: 0.5759162303664921 and parameters: {'hidden_size': 432, 'activation': 'LeakyReLU', 'dropout': 0.2007030946945859, 'optimizer': 'Adagrad', 'lr': 0.03253404896851648}. Best is trial 109 with value: 0.589271417133707.\u001b[0m\n"
     ]
    },
    {
     "name": "stdout",
     "output_type": "stream",
     "text": [
      "Epoch: 15 Train Loss: 0.3898961294531822 Test Loss: 0.4031772932972009\n",
      "Epoch: 1 Train Loss: 0.7592751120090485 Test Loss: 0.616041179377431\n",
      "Epoch: 2 Train Loss: 0.61491192445755 Test Loss: 0.5875095645554911\n",
      "Epoch: 3 Train Loss: 0.6752998253345489 Test Loss: 0.6952674743085624\n",
      "Epoch: 4 Train Loss: 0.743718902683258 Test Loss: 0.5799349072737435\n",
      "Epoch: 5 Train Loss: 0.9097587250232696 Test Loss: 0.5922973667756437\n",
      "Epoch: 6 Train Loss: 0.5953332481384277 Test Loss: 0.5444393651173137\n",
      "Epoch: 7 Train Loss: 0.5340718450069427 Test Loss: 0.5067869891373875\n",
      "Epoch: 8 Train Loss: 0.5517569779157638 Test Loss: 0.5230149989977432\n",
      "Epoch: 9 Train Loss: 0.5672030982971191 Test Loss: 0.6033518957063413\n",
      "Epoch: 10 Train Loss: 0.5544359947085381 Test Loss: 0.4997239397547116\n",
      "Epoch: 11 Train Loss: 227.97873357943297 Test Loss: 103.34325772123977\n",
      "Epoch: 12 Train Loss: 67.11426331218095 Test Loss: 13.851401982156112\n",
      "Epoch: 13 Train Loss: 60.933262314652765 Test Loss: 11.350894920284953\n",
      "Epoch: 14 Train Loss: nan Test Loss: nan\n"
     ]
    },
    {
     "name": "stderr",
     "output_type": "stream",
     "text": [
      "\u001b[32m[I 2023-05-07 16:45:02,559]\u001b[0m Trial 188 finished with value: 0.4616564417177914 and parameters: {'hidden_size': 238, 'activation': 'LeakyReLU', 'dropout': 0.1297561851498431, 'optimizer': 'SGD', 'lr': 0.03283693627097339}. Best is trial 109 with value: 0.589271417133707.\u001b[0m\n"
     ]
    },
    {
     "name": "stdout",
     "output_type": "stream",
     "text": [
      "Epoch: 15 Train Loss: nan Test Loss: nan\n",
      "Epoch: 1 Train Loss: 0.8643884450912476 Test Loss: 0.5862460133557121\n",
      "Epoch: 2 Train Loss: 0.5628148409843445 Test Loss: 0.5458645633043954\n",
      "Epoch: 3 Train Loss: 0.5293307646989822 Test Loss: 0.5054018351311882\n",
      "Epoch: 4 Train Loss: 0.4940938712835312 Test Loss: 0.4975587702787722\n",
      "Epoch: 5 Train Loss: 0.47539360811710357 Test Loss: 0.4826789216968579\n",
      "Epoch: 6 Train Loss: 0.4565166093826294 Test Loss: 0.46735159045876784\n",
      "Epoch: 7 Train Loss: 0.43956922681331634 Test Loss: 0.46108708613977645\n",
      "Epoch: 8 Train Loss: 0.4255665446400642 Test Loss: 0.4423728575959754\n",
      "Epoch: 9 Train Loss: 0.4224754327535629 Test Loss: 0.4258878930165364\n",
      "Epoch: 10 Train Loss: 0.407626498234272 Test Loss: 0.41431733737357507\n",
      "Epoch: 11 Train Loss: 0.4062621941566467 Test Loss: 0.4096033142540402\n",
      "Epoch: 12 Train Loss: 0.3951982286930084 Test Loss: 0.418131019574956\n",
      "Epoch: 13 Train Loss: 0.41744248752593993 Test Loss: 0.4078841617408271\n",
      "Epoch: 14 Train Loss: 0.39909421639442444 Test Loss: 0.44688431180704136\n"
     ]
    },
    {
     "name": "stderr",
     "output_type": "stream",
     "text": [
      "\u001b[32m[I 2023-05-07 16:45:52,973]\u001b[0m Trial 189 finished with value: 0.5755725190839696 and parameters: {'hidden_size': 433, 'activation': 'LeakyReLU', 'dropout': 0.17221944629449576, 'optimizer': 'Adagrad', 'lr': 0.03172077997215399}. Best is trial 109 with value: 0.589271417133707.\u001b[0m\n"
     ]
    },
    {
     "name": "stdout",
     "output_type": "stream",
     "text": [
      "Epoch: 15 Train Loss: 0.38758434748649595 Test Loss: 0.4084269028787796\n",
      "Epoch: 1 Train Loss: 0.7251568430423737 Test Loss: 0.6884480691946353\n",
      "Epoch: 2 Train Loss: 0.6837612798452377 Test Loss: 0.6836228462072987\n",
      "Epoch: 3 Train Loss: 0.6668545944213867 Test Loss: 0.6376858720192894\n",
      "Epoch: 4 Train Loss: 0.6296986761569977 Test Loss: 0.6133907565864892\n",
      "Epoch: 5 Train Loss: 0.6008865867853165 Test Loss: 0.5602490025968216\n",
      "Epoch: 6 Train Loss: 0.5702792395353318 Test Loss: 0.5527024446204066\n",
      "Epoch: 7 Train Loss: 0.559420184469223 Test Loss: 0.5465825649496084\n",
      "Epoch: 8 Train Loss: 0.5408384871721268 Test Loss: 0.5323695356663043\n",
      "Epoch: 9 Train Loss: 0.5424025414466858 Test Loss: 0.5214552060007668\n",
      "Epoch: 10 Train Loss: 0.5319663484811783 Test Loss: 0.532524051043553\n",
      "Epoch: 11 Train Loss: 0.5375036043405533 Test Loss: 0.5192978274993623\n",
      "Epoch: 12 Train Loss: 0.523216107082367 Test Loss: 0.5169965109219566\n",
      "Epoch: 13 Train Loss: 0.5162223167181015 Test Loss: 0.5028922377874295\n",
      "Epoch: 14 Train Loss: 0.515295210981369 Test Loss: 0.5011272888880568\n"
     ]
    },
    {
     "name": "stderr",
     "output_type": "stream",
     "text": [
      "\u001b[32m[I 2023-05-07 16:46:42,994]\u001b[0m Trial 190 finished with value: 0.46371681415929206 and parameters: {'hidden_size': 351, 'activation': 'Tanh', 'dropout': 0.18765380736244686, 'optimizer': 'Adagrad', 'lr': 0.030880704832578782}. Best is trial 109 with value: 0.589271417133707.\u001b[0m\n"
     ]
    },
    {
     "name": "stdout",
     "output_type": "stream",
     "text": [
      "Epoch: 15 Train Loss: 0.5180226315259934 Test Loss: 0.5044151292727016\n",
      "Epoch: 1 Train Loss: 0.7998346907138825 Test Loss: 0.5938653885937346\n",
      "Epoch: 2 Train Loss: 0.5776677743911743 Test Loss: 0.5344872081908174\n",
      "Epoch: 3 Train Loss: 0.5290468766212464 Test Loss: 0.4959385910163672\n",
      "Epoch: 4 Train Loss: 0.492718155837059 Test Loss: 0.47989530423388316\n",
      "Epoch: 5 Train Loss: 0.4644739218711853 Test Loss: 0.45135473498045064\n",
      "Epoch: 6 Train Loss: 0.4502842801570892 Test Loss: 0.4352008769401727\n",
      "Epoch: 7 Train Loss: 0.4315417781829834 Test Loss: 0.4305489391040878\n",
      "Epoch: 8 Train Loss: 0.42505394961833953 Test Loss: 0.42422192284283927\n",
      "Epoch: 9 Train Loss: 0.4204807051181793 Test Loss: 0.4172654787477213\n",
      "Epoch: 10 Train Loss: 0.4152861459374428 Test Loss: 0.42418007133677366\n",
      "Epoch: 11 Train Loss: 0.4061508095383644 Test Loss: 0.4183980712827783\n",
      "Epoch: 12 Train Loss: 0.3976149237751961 Test Loss: 0.41616319555539294\n",
      "Epoch: 13 Train Loss: 0.4062963770031929 Test Loss: 0.4167113056102881\n",
      "Epoch: 14 Train Loss: 0.38519075788259505 Test Loss: 0.40916028792580095\n"
     ]
    },
    {
     "name": "stderr",
     "output_type": "stream",
     "text": [
      "\u001b[32m[I 2023-05-07 16:47:33,888]\u001b[0m Trial 191 finished with value: 0.5585585585585585 and parameters: {'hidden_size': 427, 'activation': 'LeakyReLU', 'dropout': 0.19990390344717754, 'optimizer': 'Adagrad', 'lr': 0.03357258704194836}. Best is trial 109 with value: 0.589271417133707.\u001b[0m\n"
     ]
    },
    {
     "name": "stdout",
     "output_type": "stream",
     "text": [
      "Epoch: 15 Train Loss: 0.3842545145750046 Test Loss: 0.4097617569680031\n",
      "Epoch: 1 Train Loss: 0.9398847580909729 Test Loss: 0.5728000469577198\n",
      "Epoch: 2 Train Loss: 0.5734420030355454 Test Loss: 0.5560545480955904\n",
      "Epoch: 3 Train Loss: 0.5430187507629395 Test Loss: 0.5125358853572474\n",
      "Epoch: 4 Train Loss: 0.5099616778254509 Test Loss: 0.49726161375022926\n",
      "Epoch: 5 Train Loss: 0.47691282074451447 Test Loss: 0.4595611761934079\n",
      "Epoch: 6 Train Loss: 0.45940011596679686 Test Loss: 0.45945472639208784\n",
      "Epoch: 7 Train Loss: 0.44662487347126006 Test Loss: 0.43996388448503454\n",
      "Epoch: 8 Train Loss: 0.45046146064996717 Test Loss: 0.433232007030481\n",
      "Epoch: 9 Train Loss: 0.4275695961117744 Test Loss: 0.43737784880228314\n",
      "Epoch: 10 Train Loss: 0.4227189341664314 Test Loss: 0.4304895609045943\n",
      "Epoch: 11 Train Loss: 0.4174890590429306 Test Loss: 0.42413714923226414\n",
      "Epoch: 12 Train Loss: 0.42601278560161593 Test Loss: 0.4302329020663953\n",
      "Epoch: 13 Train Loss: 0.40941790968179703 Test Loss: 0.4180582959811908\n",
      "Epoch: 14 Train Loss: 0.4096072973251343 Test Loss: 0.41890250748624436\n"
     ]
    },
    {
     "name": "stderr",
     "output_type": "stream",
     "text": [
      "\u001b[32m[I 2023-05-07 16:48:23,536]\u001b[0m Trial 192 finished with value: 0.5839188134270101 and parameters: {'hidden_size': 440, 'activation': 'LeakyReLU', 'dropout': 0.1803910998027639, 'optimizer': 'Adagrad', 'lr': 0.028915475690089815}. Best is trial 109 with value: 0.589271417133707.\u001b[0m\n"
     ]
    },
    {
     "name": "stdout",
     "output_type": "stream",
     "text": [
      "Epoch: 15 Train Loss: 0.4103289731383324 Test Loss: 0.4425257281563914\n",
      "Epoch: 1 Train Loss: 0.8641557543039322 Test Loss: 0.5695737012849448\n",
      "Epoch: 2 Train Loss: 0.5820102563142776 Test Loss: 0.5515654966854059\n",
      "Epoch: 3 Train Loss: 0.5507646456480026 Test Loss: 0.5176540621743796\n",
      "Epoch: 4 Train Loss: 0.5294779666900635 Test Loss: 0.52133850915173\n",
      "Epoch: 5 Train Loss: 0.5014020502090454 Test Loss: 0.4768158948649994\n",
      "Epoch: 6 Train Loss: 0.47069525319337846 Test Loss: 0.46212425580420813\n",
      "Epoch: 7 Train Loss: 0.4542617513537407 Test Loss: 0.44899201255065563\n",
      "Epoch: 8 Train Loss: 0.44136991679668425 Test Loss: 0.44802384930677686\n",
      "Epoch: 9 Train Loss: 0.43325555452108383 Test Loss: 0.4289249722093058\n",
      "Epoch: 10 Train Loss: 0.42259130305051806 Test Loss: 0.42190581610122807\n",
      "Epoch: 11 Train Loss: 0.42263080983161927 Test Loss: 0.43398220189653647\n",
      "Epoch: 12 Train Loss: 0.40970708680152895 Test Loss: 0.4513983867657832\n",
      "Epoch: 13 Train Loss: 0.40540379848480224 Test Loss: 0.43398097664498675\n",
      "Epoch: 14 Train Loss: 0.4033927315592766 Test Loss: 0.42711097958941047\n"
     ]
    },
    {
     "name": "stderr",
     "output_type": "stream",
     "text": [
      "\u001b[32m[I 2023-05-07 16:49:15,146]\u001b[0m Trial 193 finished with value: 0.5602365114560236 and parameters: {'hidden_size': 434, 'activation': 'LeakyReLU', 'dropout': 0.17324831704097937, 'optimizer': 'Adagrad', 'lr': 0.029513440428251436}. Best is trial 109 with value: 0.589271417133707.\u001b[0m\n"
     ]
    },
    {
     "name": "stdout",
     "output_type": "stream",
     "text": [
      "Epoch: 15 Train Loss: 0.4006777478218079 Test Loss: 0.41991049115554974\n",
      "Epoch: 1 Train Loss: 1.6071470861434936 Test Loss: 0.5723499263437412\n",
      "Epoch: 2 Train Loss: 0.5942411861181259 Test Loss: 0.5496224017855459\n",
      "Epoch: 3 Train Loss: 0.5485096670389176 Test Loss: 0.5289500652791593\n",
      "Epoch: 4 Train Loss: 0.5279298407554627 Test Loss: 0.5058225166207304\n",
      "Epoch: 5 Train Loss: 0.5182767675876617 Test Loss: 0.49081959772985967\n",
      "Epoch: 6 Train Loss: 0.4888467461824417 Test Loss: 0.48036590075721375\n",
      "Epoch: 7 Train Loss: 0.4810757026910782 Test Loss: 0.45985480495535147\n",
      "Epoch: 8 Train Loss: 0.4620083706855774 Test Loss: 0.46887303488894394\n",
      "Epoch: 9 Train Loss: 0.4574553325653076 Test Loss: 0.4648531432540272\n",
      "Epoch: 10 Train Loss: 0.4547068913936615 Test Loss: 0.4455293039925182\n",
      "Epoch: 11 Train Loss: 0.4413553724050522 Test Loss: 0.43537279658805067\n",
      "Epoch: 12 Train Loss: 0.43563080815076827 Test Loss: 0.43704083140570515\n",
      "Epoch: 13 Train Loss: 0.43147244095802306 Test Loss: 0.4276282675683308\n",
      "Epoch: 14 Train Loss: 0.4229098082065582 Test Loss: 0.4265436770531316\n"
     ]
    },
    {
     "name": "stderr",
     "output_type": "stream",
     "text": [
      "\u001b[32m[I 2023-05-07 16:50:06,613]\u001b[0m Trial 194 finished with value: 0.5231939163498099 and parameters: {'hidden_size': 443, 'activation': 'LeakyReLU', 'dropout': 0.1999345647836459, 'optimizer': 'Adagrad', 'lr': 0.02674771260806842}. Best is trial 109 with value: 0.589271417133707.\u001b[0m\n"
     ]
    },
    {
     "name": "stdout",
     "output_type": "stream",
     "text": [
      "Epoch: 15 Train Loss: 0.4267328014016151 Test Loss: 0.425628423786011\n",
      "Epoch: 1 Train Loss: 2.2863147876620293 Test Loss: 0.573668152855608\n",
      "Epoch: 2 Train Loss: 0.5741877270460128 Test Loss: 0.5486066641803747\n",
      "Epoch: 3 Train Loss: 0.5382611599445343 Test Loss: 0.5121860590320044\n",
      "Epoch: 4 Train Loss: 0.5020593763828277 Test Loss: 0.47296950806634497\n",
      "Epoch: 5 Train Loss: 0.4809203822374344 Test Loss: 0.4573513715031048\n",
      "Epoch: 6 Train Loss: 0.4683399357557297 Test Loss: 0.4532447248554458\n",
      "Epoch: 7 Train Loss: 0.4518962215423584 Test Loss: 0.4452055926425769\n",
      "Epoch: 8 Train Loss: 0.4304579268336296 Test Loss: 0.43321244063944864\n",
      "Epoch: 9 Train Loss: 0.42278580260276794 Test Loss: 0.4241374703927543\n",
      "Epoch: 10 Train Loss: 0.42066025068759916 Test Loss: 0.4195634985027222\n",
      "Epoch: 11 Train Loss: 0.4228137923359871 Test Loss: 0.42436991332057183\n",
      "Epoch: 12 Train Loss: 0.4167022333264351 Test Loss: 0.43152427425780615\n",
      "Epoch: 13 Train Loss: 0.42224072701931 Test Loss: 0.42498634715145006\n",
      "Epoch: 14 Train Loss: 0.4127691081881523 Test Loss: 0.42136808532400255\n"
     ]
    },
    {
     "name": "stderr",
     "output_type": "stream",
     "text": [
      "\u001b[32m[I 2023-05-07 16:50:57,533]\u001b[0m Trial 195 finished with value: 0.532608695652174 and parameters: {'hidden_size': 462, 'activation': 'LeakyReLU', 'dropout': 0.17557329128674842, 'optimizer': 'Adagrad', 'lr': 0.03526548594777329}. Best is trial 109 with value: 0.589271417133707.\u001b[0m\n"
     ]
    },
    {
     "name": "stdout",
     "output_type": "stream",
     "text": [
      "Epoch: 15 Train Loss: 0.4019777806162834 Test Loss: 0.4157793041520987\n",
      "Epoch: 1 Train Loss: 0.7261025452375413 Test Loss: 0.6300425907483878\n",
      "Epoch: 2 Train Loss: 0.5624353017568589 Test Loss: 0.5201758739476006\n",
      "Epoch: 3 Train Loss: 0.5326937376737595 Test Loss: 0.5240455101282833\n",
      "Epoch: 4 Train Loss: 0.4878684853553772 Test Loss: 0.45307246259987927\n",
      "Epoch: 5 Train Loss: 0.46405781531333923 Test Loss: 0.44568291087500966\n",
      "Epoch: 6 Train Loss: 0.46407531664371493 Test Loss: 0.44244220510077553\n",
      "Epoch: 7 Train Loss: 0.4328339478492737 Test Loss: 0.4408444310910405\n",
      "Epoch: 8 Train Loss: 0.42826376866102217 Test Loss: 0.42487935555247835\n",
      "Epoch: 9 Train Loss: 0.4204221341729164 Test Loss: 0.41988329106150346\n",
      "Epoch: 10 Train Loss: 0.41403182820081713 Test Loss: 0.44138111612096\n",
      "Epoch: 11 Train Loss: 0.4033225177168846 Test Loss: 0.414056716968838\n",
      "Epoch: 12 Train Loss: 0.4039643823623657 Test Loss: 0.4145837128400422\n",
      "Epoch: 13 Train Loss: 0.40325102714300154 Test Loss: 0.4190442858936307\n",
      "Epoch: 14 Train Loss: 0.4001786016464233 Test Loss: 0.4123580482916329\n"
     ]
    },
    {
     "name": "stderr",
     "output_type": "stream",
     "text": [
      "\u001b[32m[I 2023-05-07 16:51:18,817]\u001b[0m Trial 196 finished with value: 0.5680473372781064 and parameters: {'hidden_size': 480, 'activation': 'LeakyReLU', 'dropout': 0.210664885497287, 'optimizer': 'Adagrad', 'lr': 0.03158954612659335}. Best is trial 109 with value: 0.589271417133707.\u001b[0m\n"
     ]
    },
    {
     "name": "stdout",
     "output_type": "stream",
     "text": [
      "Epoch: 15 Train Loss: 0.39226100499629973 Test Loss: 0.40800490865882594\n",
      "Epoch: 1 Train Loss: 1.3535285713195802 Test Loss: 0.5798764490662291\n",
      "Epoch: 2 Train Loss: 0.592705778837204 Test Loss: 0.5585896752703304\n",
      "Epoch: 3 Train Loss: 0.5514066785573959 Test Loss: 0.5334111804874561\n",
      "Epoch: 4 Train Loss: 0.5296821378707885 Test Loss: 0.5067495647996378\n",
      "Epoch: 5 Train Loss: 0.5100513715028763 Test Loss: 0.49310962270243097\n",
      "Epoch: 6 Train Loss: 0.48850408650636673 Test Loss: 0.46501386327484545\n",
      "Epoch: 7 Train Loss: 0.4666924168109894 Test Loss: 0.44573365732694203\n",
      "Epoch: 8 Train Loss: 0.4543543967008591 Test Loss: 0.4579292893314514\n",
      "Epoch: 9 Train Loss: 0.43825235018730163 Test Loss: 0.428774227873205\n",
      "Epoch: 10 Train Loss: 0.43531415951251984 Test Loss: 0.43271156155263274\n",
      "Epoch: 11 Train Loss: 0.4267886985182762 Test Loss: 0.43313744371405805\n",
      "Epoch: 12 Train Loss: 0.4233789320230484 Test Loss: 0.42443744962017377\n",
      "Epoch: 13 Train Loss: 0.4134697657823563 Test Loss: 0.4206789134742734\n",
      "Epoch: 14 Train Loss: 0.42877392793893815 Test Loss: 0.4301560992440477\n"
     ]
    },
    {
     "name": "stderr",
     "output_type": "stream",
     "text": [
      "\u001b[32m[I 2023-05-07 16:51:52,367]\u001b[0m Trial 197 finished with value: 0.5263861055444222 and parameters: {'hidden_size': 494, 'activation': 'LeakyReLU', 'dropout': 0.22281601547995727, 'optimizer': 'Adagrad', 'lr': 0.031561920879592066}. Best is trial 109 with value: 0.589271417133707.\u001b[0m\n"
     ]
    },
    {
     "name": "stdout",
     "output_type": "stream",
     "text": [
      "Epoch: 15 Train Loss: 0.41247813024520874 Test Loss: 0.4124343507110882\n",
      "Epoch: 1 Train Loss: 1.3585446173191071 Test Loss: 0.5824130485994747\n",
      "Epoch: 2 Train Loss: 0.5871468840360642 Test Loss: 0.5468873527769844\n",
      "Epoch: 3 Train Loss: 0.5537616027593613 Test Loss: 0.532020090249019\n",
      "Epoch: 4 Train Loss: 0.5258457185506821 Test Loss: 0.49885292041796847\n",
      "Epoch: 5 Train Loss: 0.5023154943227768 Test Loss: 0.4774059878941923\n",
      "Epoch: 6 Train Loss: 0.4814822160243988 Test Loss: 0.45738755180812873\n",
      "Epoch: 7 Train Loss: 0.46913523943424223 Test Loss: 0.44240781150686853\n",
      "Epoch: 8 Train Loss: 0.4496990247964859 Test Loss: 0.4442345073904854\n",
      "Epoch: 9 Train Loss: 0.4465422449231148 Test Loss: 0.43077989084461626\n",
      "Epoch: 10 Train Loss: 0.4357603879094124 Test Loss: 0.42176561271801544\n",
      "Epoch: 11 Train Loss: 0.4284901980996132 Test Loss: 0.43663564505287633\n",
      "Epoch: 12 Train Loss: 0.4220614624619484 Test Loss: 0.43442435453113276\n",
      "Epoch: 13 Train Loss: 0.41312569744586947 Test Loss: 0.41571343771089764\n",
      "Epoch: 14 Train Loss: 0.4138892478466034 Test Loss: 0.41403963264470667\n"
     ]
    },
    {
     "name": "stderr",
     "output_type": "stream",
     "text": [
      "\u001b[32m[I 2023-05-07 16:52:33,241]\u001b[0m Trial 198 finished with value: 0.5226526592252134 and parameters: {'hidden_size': 450, 'activation': 'LeakyReLU', 'dropout': 0.19452825594700518, 'optimizer': 'Adagrad', 'lr': 0.028366991984760854}. Best is trial 109 with value: 0.589271417133707.\u001b[0m\n"
     ]
    },
    {
     "name": "stdout",
     "output_type": "stream",
     "text": [
      "Epoch: 15 Train Loss: 0.41024492452144623 Test Loss: 0.40932207071362214\n",
      "Epoch: 1 Train Loss: 0.8680499945878982 Test Loss: 0.5937136108406816\n",
      "Epoch: 2 Train Loss: 0.5657930061101913 Test Loss: 0.5489855632900049\n",
      "Epoch: 3 Train Loss: 0.5387687282323838 Test Loss: 0.5086951309594864\n",
      "Epoch: 4 Train Loss: 0.5109715758800507 Test Loss: 0.47956249136894274\n",
      "Epoch: 5 Train Loss: 0.4853761806964874 Test Loss: 0.4738389434048924\n",
      "Epoch: 6 Train Loss: 0.4551183807373047 Test Loss: 0.4529019189528383\n",
      "Epoch: 7 Train Loss: 0.43970883662700655 Test Loss: 0.44240968438763967\n",
      "Epoch: 8 Train Loss: 0.43682265951633453 Test Loss: 0.4308564255650813\n",
      "Epoch: 9 Train Loss: 0.4184826468467712 Test Loss: 0.42047934231761924\n",
      "Epoch: 10 Train Loss: 0.4212713126063347 Test Loss: 0.4222606710922985\n",
      "Epoch: 11 Train Loss: 0.4126757705807686 Test Loss: 0.410258671869866\n",
      "Epoch: 12 Train Loss: 0.40467727534770964 Test Loss: 0.41633610227427925\n",
      "Epoch: 13 Train Loss: 0.3953990778684616 Test Loss: 0.4121924464742597\n",
      "Epoch: 14 Train Loss: 0.39541976025104525 Test Loss: 0.409519226715778\n"
     ]
    },
    {
     "name": "stderr",
     "output_type": "stream",
     "text": [
      "\u001b[32m[I 2023-05-07 16:52:59,122]\u001b[0m Trial 199 finished with value: 0.49415887850467294 and parameters: {'hidden_size': 483, 'activation': 'LeakyReLU', 'dropout': 0.20895067480299911, 'optimizer': 'Adagrad', 'lr': 0.03300004926508013}. Best is trial 109 with value: 0.589271417133707.\u001b[0m\n"
     ]
    },
    {
     "name": "stdout",
     "output_type": "stream",
     "text": [
      "Epoch: 15 Train Loss: 0.39100522878170013 Test Loss: 0.41282808647369046\n"
     ]
    }
   ],
   "source": [
    "\n",
    "def objective(trial):\n",
    "    epochs = 15\n",
    "    hidden_size = trial.suggest_int('hidden_size', 32, 512)\n",
    "    activation = trial.suggest_categorical('activation', ['ReLU', 'LeakyReLU', 'Tanh', 'Sigmoid'])\n",
    "    dropout = trial.suggest_float('dropout', 0, 0.5)\n",
    "    model = Model(hidden_size=hidden_size, activation=activation, dropout=dropout).to(device)\n",
    "    optimizer_name = trial.suggest_categorical('optimizer', ['Adam', 'Adagrad', 'SGD'])\n",
    "    lr = trial.suggest_float('lr', 1e-5, 1e-1)\n",
    "    optimizer = getattr(torch.optim, optimizer_name)(model.parameters(), lr=lr)\n",
    "    loss = nn.CrossEntropyLoss(weight=torch.tensor([count_zero/count_zero, count_zero/count_one]).to(device))\n",
    "    train_losses, test_losses, train_f1_scores, test_f1_scores = train(loss, optimizer, model, train_dataloader, test_dataloader, device, epochs)\n",
    "    return max(test_f1_scores)\n",
    "\n",
    "study = optuna.create_study(direction='maximize')\n",
    "study.optimize(objective, n_trials=200)"
   ]
  },
  {
   "cell_type": "code",
   "execution_count": 124,
   "metadata": {},
   "outputs": [
    {
     "data": {
      "text/plain": [
       "{'hidden_size': 339,\n",
       " 'activation': 'LeakyReLU',\n",
       " 'dropout': 0.0452953515714292,\n",
       " 'optimizer': 'Adagrad',\n",
       " 'lr': 0.03580171856349014}"
      ]
     },
     "execution_count": 124,
     "metadata": {},
     "output_type": "execute_result"
    }
   ],
   "source": [
    "study.best_params"
   ]
  },
  {
   "cell_type": "code",
   "execution_count": 130,
   "metadata": {},
   "outputs": [
    {
     "name": "stdout",
     "output_type": "stream",
     "text": [
      "Epoch: 1 Train Loss: 0.3211586001545191 Test Loss: 0.2055786839974955\n",
      "Epoch: 2 Train Loss: 0.20146376315057277 Test Loss: 0.19869262558488418\n",
      "Epoch: 3 Train Loss: 0.1901552586913109 Test Loss: 0.18412863819029765\n",
      "Epoch: 4 Train Loss: 0.17852876434922219 Test Loss: 0.17559208104404778\n",
      "Epoch: 5 Train Loss: 0.1666487129151821 Test Loss: 0.16802228361475297\n",
      "Epoch: 6 Train Loss: 0.16191586409062148 Test Loss: 0.1645799099494474\n",
      "Epoch: 7 Train Loss: 0.16275775049328803 Test Loss: 0.16325553636640883\n",
      "Epoch: 8 Train Loss: 0.1560207929313183 Test Loss: 0.1580584981499579\n",
      "Epoch: 9 Train Loss: 0.1533660919159651 Test Loss: 0.1550979817780062\n",
      "Epoch: 10 Train Loss: 0.1500604490235448 Test Loss: 0.1532418677172722\n",
      "Epoch: 11 Train Loss: 0.14608961194455625 Test Loss: 0.1526939199445918\n",
      "Epoch: 12 Train Loss: 0.14688833805918694 Test Loss: 0.14944438656536155\n",
      "Epoch: 13 Train Loss: 0.14649776582717897 Test Loss: 0.1485886296953637\n",
      "Epoch: 14 Train Loss: 0.14305531613826752 Test Loss: 0.14681274538484815\n",
      "Epoch: 15 Train Loss: 0.14225787882357835 Test Loss: 0.14980773008264864\n",
      "Epoch: 16 Train Loss: 0.1405187164321542 Test Loss: 0.14575459476643668\n",
      "Epoch: 17 Train Loss: 0.1388840780377388 Test Loss: 0.14543390721558763\n",
      "Epoch: 18 Train Loss: 0.13777916148602962 Test Loss: 0.1453410100798828\n",
      "Epoch: 19 Train Loss: 0.13748787568211557 Test Loss: 0.14417610402567127\n",
      "Epoch: 20 Train Loss: 0.13722749434411527 Test Loss: 0.14305658191561507\n",
      "Epoch: 21 Train Loss: 0.13440424542427062 Test Loss: 0.14276883174507574\n",
      "Epoch: 22 Train Loss: 0.13334399692118168 Test Loss: 0.14115724575738556\n",
      "Epoch: 23 Train Loss: 0.1332823565632105 Test Loss: 0.14108973387450266\n",
      "Epoch: 24 Train Loss: 0.13263068534880876 Test Loss: 0.14124362947591862\n",
      "Epoch: 25 Train Loss: 0.1311498670950532 Test Loss: 0.139918073874931\n",
      "Epoch: 26 Train Loss: 0.13131033190339803 Test Loss: 0.1407969314128922\n",
      "Epoch: 27 Train Loss: 0.1282214566588402 Test Loss: 0.1399865618671853\n",
      "Epoch: 28 Train Loss: 0.12985185658186674 Test Loss: 0.14489959948026715\n",
      "Epoch: 29 Train Loss: 0.1287315289348364 Test Loss: 0.13927129513848893\n",
      "Epoch: 30 Train Loss: 0.13020192991942167 Test Loss: 0.13954543447294554\n",
      "Epoch: 31 Train Loss: 0.1275075152784586 Test Loss: 0.140012562364197\n",
      "Epoch: 32 Train Loss: 0.1232117221146822 Test Loss: 0.14064681354445963\n",
      "Epoch: 33 Train Loss: 0.12482163942158223 Test Loss: 0.13873280641941216\n",
      "Epoch: 34 Train Loss: 0.12679554086625577 Test Loss: 0.14270141626151797\n",
      "Epoch: 35 Train Loss: 0.1257335850775242 Test Loss: 0.1387266961072152\n",
      "Epoch: 36 Train Loss: 0.12438419817090035 Test Loss: 0.13821091612997338\n",
      "Epoch: 37 Train Loss: 0.12511569461524485 Test Loss: 0.13914345870740688\n",
      "Epoch: 38 Train Loss: 0.12301613797396421 Test Loss: 0.1370013644651007\n",
      "Epoch: 39 Train Loss: 0.12317817448675633 Test Loss: 0.1380602629266132\n",
      "Epoch: 40 Train Loss: 0.12988143022358417 Test Loss: 0.13905344544329679\n",
      "Epoch: 41 Train Loss: 0.12333820856064558 Test Loss: 0.13956619989864838\n",
      "Epoch: 42 Train Loss: 0.12262612561434508 Test Loss: 0.13993069015074366\n",
      "Epoch: 43 Train Loss: 0.12374012896567584 Test Loss: 0.13783442986587557\n",
      "Epoch: 44 Train Loss: 0.12171711761951447 Test Loss: 0.13916767171967906\n",
      "Epoch: 45 Train Loss: 0.12092631127685309 Test Loss: 0.14176766132525268\n",
      "Epoch: 46 Train Loss: 0.1202988126218319 Test Loss: 0.1398955234073507\n",
      "Epoch: 47 Train Loss: 0.12013678181692958 Test Loss: 0.14431717474245653\n",
      "Epoch: 48 Train Loss: 0.11801702136993408 Test Loss: 0.13844814997749588\n",
      "Epoch: 49 Train Loss: 0.11837369263321161 Test Loss: 0.13843697141677427\n",
      "Epoch: 50 Train Loss: 0.11662993103712797 Test Loss: 0.1409767865941238\n",
      "Epoch: 51 Train Loss: 0.11471437955051661 Test Loss: 0.1399070121877538\n",
      "Epoch: 52 Train Loss: 0.11722390489429235 Test Loss: 0.1423661543574101\n",
      "Epoch: 53 Train Loss: 0.11698615108430385 Test Loss: 0.13985602296412752\n",
      "Epoch: 54 Train Loss: 0.11781957842856645 Test Loss: 0.13971329501237922\n",
      "Epoch: 55 Train Loss: 0.11549300181865692 Test Loss: 0.13914070084405403\n",
      "Epoch: 56 Train Loss: 0.11649601125717163 Test Loss: 0.14214256343643028\n",
      "Epoch: 57 Train Loss: 0.11396851014494896 Test Loss: 0.13766545024566568\n",
      "Epoch: 58 Train Loss: 0.11380254829972983 Test Loss: 0.1414855524939232\n",
      "Epoch: 59 Train Loss: 0.11598139432519675 Test Loss: 0.1421657708702615\n",
      "Epoch: 60 Train Loss: 0.11426864867657423 Test Loss: 0.1383640771440138\n",
      "Epoch: 61 Train Loss: 0.11471820600032806 Test Loss: 0.1402237594437104\n",
      "Epoch: 62 Train Loss: 0.11271633440554142 Test Loss: 0.14094451430161445\n",
      "Epoch: 63 Train Loss: 0.11231825392693282 Test Loss: 0.14246346836927504\n",
      "Epoch: 64 Train Loss: 0.11388224664777517 Test Loss: 0.13811258442354754\n",
      "Epoch: 65 Train Loss: 0.11148253580480814 Test Loss: 0.1432187817157648\n",
      "Epoch: 66 Train Loss: 0.11244926271885633 Test Loss: 0.14190286210776804\n",
      "Epoch: 67 Train Loss: 0.11145007777363061 Test Loss: 0.1483413291419633\n",
      "Epoch: 68 Train Loss: 0.10874962750077248 Test Loss: 0.14265524526944937\n",
      "Epoch: 69 Train Loss: 0.11227252382785081 Test Loss: 0.14287613325427992\n",
      "Epoch: 70 Train Loss: 0.10989085371270776 Test Loss: 0.1472113787407835\n",
      "Epoch: 71 Train Loss: 0.10928605113327504 Test Loss: 0.14362807184184034\n",
      "Epoch: 72 Train Loss: 0.1097978491857648 Test Loss: 0.14095782376409244\n",
      "Epoch: 73 Train Loss: 0.10919492895901203 Test Loss: 0.14266805778653285\n",
      "Epoch: 74 Train Loss: 0.10950624508112669 Test Loss: 0.1468068064598087\n",
      "Epoch: 75 Train Loss: 0.1081549306795001 Test Loss: 0.14641652117890958\n",
      "Epoch: 76 Train Loss: 0.10806163557246327 Test Loss: 0.15100188810562792\n",
      "Epoch: 77 Train Loss: 0.10923030123114585 Test Loss: 0.14467035661847255\n",
      "Epoch: 78 Train Loss: 0.10684841545373201 Test Loss: 0.14582502242987053\n",
      "Epoch: 79 Train Loss: 0.1072288082510233 Test Loss: 0.1466409793516365\n",
      "Epoch: 80 Train Loss: 0.10587099909633398 Test Loss: 0.14366160363803943\n",
      "Epoch: 81 Train Loss: 0.10592221947461367 Test Loss: 0.1433475228478781\n",
      "Epoch: 82 Train Loss: 0.10926969731301069 Test Loss: 0.13998993523061848\n",
      "Epoch: 83 Train Loss: 0.10695232509672642 Test Loss: 0.14402046575606725\n",
      "Epoch: 84 Train Loss: 0.10543538756296039 Test Loss: 0.1423258948238037\n",
      "Epoch: 85 Train Loss: 0.10732520691305399 Test Loss: 0.14842698205643282\n",
      "Epoch: 86 Train Loss: 0.10482822782471776 Test Loss: 0.1427871540855295\n",
      "Epoch: 87 Train Loss: 0.10452798188477755 Test Loss: 0.14432669877589416\n",
      "Epoch: 88 Train Loss: 0.10336318697333335 Test Loss: 0.14376964443883958\n",
      "Epoch: 89 Train Loss: 0.10578387566804885 Test Loss: 0.1433952959557882\n",
      "Epoch: 90 Train Loss: 0.10463688515424728 Test Loss: 0.152145208302921\n",
      "Epoch: 91 Train Loss: 0.10303391030579806 Test Loss: 0.1472981938818535\n",
      "Epoch: 92 Train Loss: 0.10117762118950487 Test Loss: 0.15064504872501705\n",
      "Epoch: 93 Train Loss: 0.1043850409977138 Test Loss: 0.14591814696003264\n",
      "Epoch: 94 Train Loss: 0.10394793503135442 Test Loss: 0.15095033472368177\n",
      "Epoch: 95 Train Loss: 0.10299214483946562 Test Loss: 0.14705109850357706\n",
      "Epoch: 96 Train Loss: 0.10137199190184475 Test Loss: 0.1453977893091762\n",
      "Epoch: 97 Train Loss: 0.10223048585504294 Test Loss: 0.15625487761155438\n",
      "Epoch: 98 Train Loss: 0.10417871668785811 Test Loss: 0.1533986327384179\n",
      "Epoch: 99 Train Loss: 0.1003800617069006 Test Loss: 0.14933599520938845\n",
      "Epoch: 100 Train Loss: 0.10045758006051182 Test Loss: 0.15167285205302433\n"
     ]
    }
   ],
   "source": [
    "best_params = {'hidden_size': 339,\n",
    " 'activation': 'LeakyReLU',\n",
    " 'dropout': 0.0452953515714292,\n",
    " 'optimizer': 'Adagrad',\n",
    " 'lr': 0.03580171856349014}\n",
    "epochs = 100\n",
    "model = Model(hidden_size=best_params['hidden_size'], activation=best_params['activation']).to(device)\n",
    "optimizer = getattr(torch.optim, best_params['optimizer'])(model.parameters(), lr=best_params['lr'])\n",
    "loss = nn.CrossEntropyLoss()\n",
    "train_losses, test_losses, train_f1_scores, test_f1_scores = train(loss, optimizer, model, train_dataloader, test_dataloader, epochs=epochs, save_best=True, save_name='best_baseline_model.pt')"
   ]
  },
  {
   "cell_type": "code",
   "execution_count": 132,
   "metadata": {},
   "outputs": [
    {
     "data": {
      "text/plain": [
       "0.6292548298068077"
      ]
     },
     "execution_count": 132,
     "metadata": {},
     "output_type": "execute_result"
    }
   ],
   "source": [
    "max(test_f1_scores)"
   ]
  },
  {
   "cell_type": "code",
   "execution_count": 122,
   "metadata": {},
   "outputs": [
    {
     "name": "stdout",
     "output_type": "stream",
     "text": [
      "0.5908699397071491\n",
      "torch.Size([10000, 40])\n"
     ]
    },
    {
     "ename": "RuntimeError",
     "evalue": "The size of tensor a (223) must match the size of tensor b (2) at non-singleton dimension 1",
     "output_type": "error",
     "traceback": [
      "\u001b[1;31m---------------------------------------------------------------------------\u001b[0m",
      "\u001b[1;31mRuntimeError\u001b[0m                              Traceback (most recent call last)",
      "Cell \u001b[1;32mIn[122], line 7\u001b[0m\n\u001b[0;32m      5\u001b[0m e \u001b[39m=\u001b[39m shap\u001b[39m.\u001b[39mDeepExplainer(model, torch\u001b[39m.\u001b[39mcat(train_set\u001b[39m.\u001b[39mdata)\u001b[39m.\u001b[39mview(\u001b[39m20000\u001b[39m, \u001b[39m40\u001b[39m)\u001b[39m.\u001b[39mto(device))\n\u001b[0;32m      6\u001b[0m \u001b[39mprint\u001b[39m(torch\u001b[39m.\u001b[39mcat(test_set\u001b[39m.\u001b[39mdata)\u001b[39m.\u001b[39mview(\u001b[39m-\u001b[39m\u001b[39m1\u001b[39m, \u001b[39m40\u001b[39m)\u001b[39m.\u001b[39mshape)\n\u001b[1;32m----> 7\u001b[0m shap_values \u001b[39m=\u001b[39m e\u001b[39m.\u001b[39;49mshap_values(torch\u001b[39m.\u001b[39;49mcat(train_set\u001b[39m.\u001b[39;49mdata)\u001b[39m.\u001b[39;49mview(\u001b[39m-\u001b[39;49m\u001b[39m1\u001b[39;49m, \u001b[39m40\u001b[39;49m)\u001b[39m.\u001b[39;49mto(device))\n\u001b[0;32m      8\u001b[0m shap\u001b[39m.\u001b[39msummary_plot(shap_values, train_dataloader)\n",
      "File \u001b[1;32mc:\\Users\\10\\anaconda3\\envs\\hw1_env\\lib\\site-packages\\shap\\explainers\\_deep\\__init__.py:124\u001b[0m, in \u001b[0;36mDeep.shap_values\u001b[1;34m(self, X, ranked_outputs, output_rank_order, check_additivity)\u001b[0m\n\u001b[0;32m     90\u001b[0m \u001b[39mdef\u001b[39;00m \u001b[39mshap_values\u001b[39m(\u001b[39mself\u001b[39m, X, ranked_outputs\u001b[39m=\u001b[39m\u001b[39mNone\u001b[39;00m, output_rank_order\u001b[39m=\u001b[39m\u001b[39m'\u001b[39m\u001b[39mmax\u001b[39m\u001b[39m'\u001b[39m, check_additivity\u001b[39m=\u001b[39m\u001b[39mTrue\u001b[39;00m):\n\u001b[0;32m     91\u001b[0m \u001b[39m    \u001b[39m\u001b[39m\"\"\" Return approximate SHAP values for the model applied to the data given by X.\u001b[39;00m\n\u001b[0;32m     92\u001b[0m \n\u001b[0;32m     93\u001b[0m \u001b[39m    Parameters\u001b[39;00m\n\u001b[1;32m   (...)\u001b[0m\n\u001b[0;32m    122\u001b[0m \u001b[39m        were chosen as \"top\".\u001b[39;00m\n\u001b[0;32m    123\u001b[0m \u001b[39m    \"\"\"\u001b[39;00m\n\u001b[1;32m--> 124\u001b[0m     \u001b[39mreturn\u001b[39;00m \u001b[39mself\u001b[39;49m\u001b[39m.\u001b[39;49mexplainer\u001b[39m.\u001b[39;49mshap_values(X, ranked_outputs, output_rank_order, check_additivity\u001b[39m=\u001b[39;49mcheck_additivity)\n",
      "File \u001b[1;32mc:\\Users\\10\\anaconda3\\envs\\hw1_env\\lib\\site-packages\\shap\\explainers\\_deep\\deep_pytorch.py:185\u001b[0m, in \u001b[0;36mPyTorchDeep.shap_values\u001b[1;34m(self, X, ranked_outputs, output_rank_order, check_additivity)\u001b[0m\n\u001b[0;32m    183\u001b[0m \u001b[39m# run attribution computation graph\u001b[39;00m\n\u001b[0;32m    184\u001b[0m feature_ind \u001b[39m=\u001b[39m model_output_ranks[j, i]\n\u001b[1;32m--> 185\u001b[0m sample_phis \u001b[39m=\u001b[39m \u001b[39mself\u001b[39;49m\u001b[39m.\u001b[39;49mgradient(feature_ind, joint_x)\n\u001b[0;32m    186\u001b[0m \u001b[39m# assign the attributions to the right part of the output arrays\u001b[39;00m\n\u001b[0;32m    187\u001b[0m \u001b[39mif\u001b[39;00m \u001b[39mself\u001b[39m\u001b[39m.\u001b[39minterim:\n",
      "File \u001b[1;32mc:\\Users\\10\\anaconda3\\envs\\hw1_env\\lib\\site-packages\\shap\\explainers\\_deep\\deep_pytorch.py:121\u001b[0m, in \u001b[0;36mPyTorchDeep.gradient\u001b[1;34m(self, idx, inputs)\u001b[0m\n\u001b[0;32m    119\u001b[0m \u001b[39melse\u001b[39;00m:\n\u001b[0;32m    120\u001b[0m     \u001b[39mfor\u001b[39;00m idx, x \u001b[39min\u001b[39;00m \u001b[39menumerate\u001b[39m(X):\n\u001b[1;32m--> 121\u001b[0m         grad \u001b[39m=\u001b[39m torch\u001b[39m.\u001b[39;49mautograd\u001b[39m.\u001b[39;49mgrad(selected, x,\n\u001b[0;32m    122\u001b[0m                                    retain_graph\u001b[39m=\u001b[39;49m\u001b[39mTrue\u001b[39;49;00m \u001b[39mif\u001b[39;49;00m idx \u001b[39m+\u001b[39;49m \u001b[39m1\u001b[39;49m \u001b[39m<\u001b[39;49m \u001b[39mlen\u001b[39;49m(X) \u001b[39melse\u001b[39;49;00m \u001b[39mNone\u001b[39;49;00m,\n\u001b[0;32m    123\u001b[0m                                    allow_unused\u001b[39m=\u001b[39;49m\u001b[39mTrue\u001b[39;49;00m)[\u001b[39m0\u001b[39m]\n\u001b[0;32m    124\u001b[0m         \u001b[39mif\u001b[39;00m grad \u001b[39mis\u001b[39;00m \u001b[39mnot\u001b[39;00m \u001b[39mNone\u001b[39;00m:\n\u001b[0;32m    125\u001b[0m             grad \u001b[39m=\u001b[39m grad\u001b[39m.\u001b[39mcpu()\u001b[39m.\u001b[39mnumpy()\n",
      "File \u001b[1;32mc:\\Users\\10\\anaconda3\\envs\\hw1_env\\lib\\site-packages\\torch\\autograd\\__init__.py:303\u001b[0m, in \u001b[0;36mgrad\u001b[1;34m(outputs, inputs, grad_outputs, retain_graph, create_graph, only_inputs, allow_unused, is_grads_batched)\u001b[0m\n\u001b[0;32m    301\u001b[0m     \u001b[39mreturn\u001b[39;00m _vmap_internals\u001b[39m.\u001b[39m_vmap(vjp, \u001b[39m0\u001b[39m, \u001b[39m0\u001b[39m, allow_none_pass_through\u001b[39m=\u001b[39m\u001b[39mTrue\u001b[39;00m)(grad_outputs_)\n\u001b[0;32m    302\u001b[0m \u001b[39melse\u001b[39;00m:\n\u001b[1;32m--> 303\u001b[0m     \u001b[39mreturn\u001b[39;00m Variable\u001b[39m.\u001b[39;49m_execution_engine\u001b[39m.\u001b[39;49mrun_backward(  \u001b[39m# Calls into the C++ engine to run the backward pass\u001b[39;49;00m\n\u001b[0;32m    304\u001b[0m         t_outputs, grad_outputs_, retain_graph, create_graph, t_inputs,\n\u001b[0;32m    305\u001b[0m         allow_unused, accumulate_grad\u001b[39m=\u001b[39;49m\u001b[39mFalse\u001b[39;49;00m)\n",
      "File \u001b[1;32mc:\\Users\\10\\anaconda3\\envs\\hw1_env\\lib\\site-packages\\torch\\nn\\modules\\module.py:69\u001b[0m, in \u001b[0;36m_WrappedHook.__call__\u001b[1;34m(self, *args, **kwargs)\u001b[0m\n\u001b[0;32m     67\u001b[0m     \u001b[39mif\u001b[39;00m module \u001b[39mis\u001b[39;00m \u001b[39mNone\u001b[39;00m:\n\u001b[0;32m     68\u001b[0m         \u001b[39mraise\u001b[39;00m \u001b[39mRuntimeError\u001b[39;00m(\u001b[39m\"\u001b[39m\u001b[39mYou are trying to call the hook of a dead Module!\u001b[39m\u001b[39m\"\u001b[39m)\n\u001b[1;32m---> 69\u001b[0m     \u001b[39mreturn\u001b[39;00m \u001b[39mself\u001b[39;49m\u001b[39m.\u001b[39;49mhook(module, \u001b[39m*\u001b[39;49margs, \u001b[39m*\u001b[39;49m\u001b[39m*\u001b[39;49mkwargs)\n\u001b[0;32m     70\u001b[0m \u001b[39mreturn\u001b[39;00m \u001b[39mself\u001b[39m\u001b[39m.\u001b[39mhook(\u001b[39m*\u001b[39margs, \u001b[39m*\u001b[39m\u001b[39m*\u001b[39mkwargs)\n",
      "File \u001b[1;32mc:\\Users\\10\\anaconda3\\envs\\hw1_env\\lib\\site-packages\\shap\\explainers\\_deep\\deep_pytorch.py:226\u001b[0m, in \u001b[0;36mdeeplift_grad\u001b[1;34m(module, grad_input, grad_output)\u001b[0m\n\u001b[0;32m    224\u001b[0m \u001b[39mif\u001b[39;00m module_type \u001b[39min\u001b[39;00m op_handler:\n\u001b[0;32m    225\u001b[0m     \u001b[39mif\u001b[39;00m op_handler[module_type]\u001b[39m.\u001b[39m\u001b[39m__name__\u001b[39m \u001b[39mnot\u001b[39;00m \u001b[39min\u001b[39;00m [\u001b[39m'\u001b[39m\u001b[39mpassthrough\u001b[39m\u001b[39m'\u001b[39m, \u001b[39m'\u001b[39m\u001b[39mlinear_1d\u001b[39m\u001b[39m'\u001b[39m]:\n\u001b[1;32m--> 226\u001b[0m         \u001b[39mreturn\u001b[39;00m op_handler[module_type](module, grad_input, grad_output)\n\u001b[0;32m    227\u001b[0m \u001b[39melse\u001b[39;00m:\n\u001b[0;32m    228\u001b[0m     \u001b[39mprint\u001b[39m(\u001b[39m'\u001b[39m\u001b[39mWarning: unrecognized nn.Module: \u001b[39m\u001b[39m{}\u001b[39;00m\u001b[39m'\u001b[39m\u001b[39m.\u001b[39mformat(module_type))\n",
      "File \u001b[1;32mc:\\Users\\10\\anaconda3\\envs\\hw1_env\\lib\\site-packages\\shap\\explainers\\_deep\\deep_pytorch.py:358\u001b[0m, in \u001b[0;36mnonlinear_1d\u001b[1;34m(module, grad_input, grad_output)\u001b[0m\n\u001b[0;32m    354\u001b[0m \u001b[39m# handles numerical instabilities where delta_in is very small by\u001b[39;00m\n\u001b[0;32m    355\u001b[0m \u001b[39m# just taking the gradient in those cases\u001b[39;00m\n\u001b[0;32m    356\u001b[0m grads \u001b[39m=\u001b[39m [\u001b[39mNone\u001b[39;00m \u001b[39mfor\u001b[39;00m _ \u001b[39min\u001b[39;00m grad_input]\n\u001b[0;32m    357\u001b[0m grads[\u001b[39m0\u001b[39m] \u001b[39m=\u001b[39m torch\u001b[39m.\u001b[39mwhere(torch\u001b[39m.\u001b[39mabs(delta_in\u001b[39m.\u001b[39mrepeat(dup0)) \u001b[39m<\u001b[39m \u001b[39m1e-6\u001b[39m, grad_input[\u001b[39m0\u001b[39m],\n\u001b[1;32m--> 358\u001b[0m                        grad_output[\u001b[39m0\u001b[39;49m] \u001b[39m*\u001b[39;49m (delta_out \u001b[39m/\u001b[39;49m delta_in)\u001b[39m.\u001b[39;49mrepeat(dup0))\n\u001b[0;32m    359\u001b[0m \u001b[39mreturn\u001b[39;00m \u001b[39mtuple\u001b[39m(grads)\n",
      "\u001b[1;31mRuntimeError\u001b[0m: The size of tensor a (223) must match the size of tensor b (2) at non-singleton dimension 1"
     ]
    }
   ],
   "source": [
    "model = torch.load('best_baseline_model.pt').to(device)\n",
    "model.eval()\n",
    "f = f1_score(np.array(test_set.target), np.argmax(model(torch.cat(test_set.data).view(-1, 40).to(device)).to(torch.device('cpu')).detach().numpy(), axis=1))\n",
    "print(f)\n",
    "e = shap.DeepExplainer(model, torch.cat(train_set.data).view(20000, 40).to(device))\n",
    "print(torch.cat(test_set.data).view(-1, 40).shape)\n",
    "shap_values = e.shap_values(torch.cat(train_set.data).view(-1, 40).to(device))\n",
    "shap.summary_plot(shap_values, train_dataloader)"
   ]
  },
  {
   "cell_type": "code",
   "execution_count": 89,
   "metadata": {},
   "outputs": [
    {
     "data": {
      "text/plain": [
       "10000"
      ]
     },
     "execution_count": 89,
     "metadata": {},
     "output_type": "execute_result"
    }
   ],
   "source": [
    "len(test_set.data)"
   ]
  },
  {
   "cell_type": "code",
   "execution_count": 133,
   "metadata": {},
   "outputs": [
    {
     "data": {
      "image/png": "[encoded data removed]",
      "text/plain": [
       "<Figure size 640x480 with 1 Axes>"
      ]
     },
     "metadata": {},
     "output_type": "display_data"
    }
   ],
   "source": [
    "plt.plot(range(epochs), train_losses, label='train')\n",
    "plt.plot(range(epochs), test_losses, label='test')\n",
    "plt.legend()\n",
    "plt.title('Loss Over Epochs')\n",
    "plt.show()"
   ]
  },
  {
   "cell_type": "code",
   "execution_count": 134,
   "metadata": {},
   "outputs": [
    {
     "data": {
      "image/png": "[encoded data removed]",
      "text/plain": [
       "<Figure size 640x480 with 1 Axes>"
      ]
     },
     "metadata": {},
     "output_type": "display_data"
    }
   ],
   "source": [
    "plt.plot(range(epochs), train_f1_scores, label='train')\n",
    "plt.plot(range(epochs), test_f1_scores, label='test')\n",
    "plt.legend()\n",
    "plt.title('F1 Score Over Epochs')\n",
    "plt.show()"
   ]
  },
  {
   "cell_type": "code",
   "execution_count": 135,
   "metadata": {},
   "outputs": [
    {
     "name": "stdout",
     "output_type": "stream",
     "text": [
      "Best model achieved at epoch 67 with F1 score 0.6292548298068077\n"
     ]
    }
   ],
   "source": [
    "print(f'Best model achieved at epoch {np.argmax(test_f1_scores)} with F1 score {np.max(test_f1_scores)}')"
   ]
  },
  {
   "attachments": {},
   "cell_type": "markdown",
   "metadata": {},
   "source": [
    "# Xgboost\n",
    "### Dataset"
   ]
  },
  {
   "cell_type": "code",
   "execution_count": null,
   "metadata": {},
   "outputs": [],
   "source": [
    "train_set = BaselineDataset()\n",
    "test_set = BaselineDataset(path=TEST_PATH)"
   ]
  },
  {
   "cell_type": "code",
   "execution_count": 41,
   "metadata": {},
   "outputs": [],
   "source": [
    "dtrain = xgb.DMatrix(torch.vstack(train_set.data).numpy(), label=train_set.target)\n",
    "dtest = xgb.DMatrix(torch.vstack(test_set.data).numpy(), label=test_set.target)"
   ]
  },
  {
   "attachments": {},
   "cell_type": "markdown",
   "metadata": {},
   "source": [
    "### Model & Hyperparameter Tuning"
   ]
  },
  {
   "cell_type": "code",
   "execution_count": 9,
   "metadata": {},
   "outputs": [],
   "source": [
    "def f1_calculator(pred, data):\n",
    "    labels = data.get_label()\n",
    "    pred = pred > 0.5\n",
    "    return 'f1', f1_score(labels, pred)"
   ]
  },
  {
   "cell_type": "code",
   "execution_count": 70,
   "metadata": {},
   "outputs": [
    {
     "name": "stderr",
     "output_type": "stream",
     "text": [
      "\u001b[32m[I 2023-04-27 12:37:08,014]\u001b[0m A new study created in memory with name: no-name-6991b5c1-a06c-4294-8ffa-ec66497484f8\u001b[0m\n",
      "\u001b[32m[I 2023-04-27 12:37:08,797]\u001b[0m Trial 0 finished with value: 0.672978 and parameters: {'max_depth': 6, 'eta': 0.019398710310971956, 'gamma': 0.0278367935408146, 'alpha': 0.06437350628872666, 'lambda': 0.04640652003940772, 'subsample': 0.6098177641574065, 'sampling_method': 'uniform'}. Best is trial 0 with value: 0.672978.\u001b[0m\n",
      "\u001b[32m[I 2023-04-27 12:37:09,310]\u001b[0m Trial 1 finished with value: 0.659686 and parameters: {'max_depth': 3, 'eta': 0.02734503742396819, 'gamma': 0.00329052174322656, 'alpha': 0.09260136046301892, 'lambda': 0.04890020437861617, 'subsample': 0.6942280156792708, 'sampling_method': 'gradient_based'}. Best is trial 0 with value: 0.672978.\u001b[0m\n",
      "\u001b[32m[I 2023-04-27 12:37:09,900]\u001b[0m Trial 2 finished with value: 0.71346 and parameters: {'max_depth': 5, 'eta': 0.08302025409399177, 'gamma': 0.07458985062194029, 'alpha': 0.06450998980283751, 'lambda': 0.07141379523561849, 'subsample': 0.623894638020468, 'sampling_method': 'uniform'}. Best is trial 2 with value: 0.71346.\u001b[0m\n",
      "\u001b[32m[I 2023-04-27 12:37:10,615]\u001b[0m Trial 3 finished with value: 0.692953 and parameters: {'max_depth': 7, 'eta': 0.03667955049747989, 'gamma': 0.013762335939168514, 'alpha': 0.0333978379153678, 'lambda': 0.03782125960495111, 'subsample': 0.6549697119102965, 'sampling_method': 'gradient_based'}. Best is trial 2 with value: 0.71346.\u001b[0m\n",
      "\u001b[32m[I 2023-04-27 12:37:11,505]\u001b[0m Trial 4 finished with value: 0.705298 and parameters: {'max_depth': 10, 'eta': 0.09095706453013386, 'gamma': 0.07203514537196061, 'alpha': 0.030516989027225706, 'lambda': 0.053971787394282225, 'subsample': 0.8304667910549091, 'sampling_method': 'uniform'}. Best is trial 2 with value: 0.71346.\u001b[0m\n",
      "\u001b[32m[I 2023-04-27 12:37:12,014]\u001b[0m Trial 5 finished with value: 0.687606 and parameters: {'max_depth': 3, 'eta': 0.0685310578442154, 'gamma': 0.05934206928801159, 'alpha': 0.09777287168115849, 'lambda': 0.06129472408380026, 'subsample': 0.987807305646985, 'sampling_method': 'uniform'}. Best is trial 2 with value: 0.71346.\u001b[0m\n",
      "\u001b[32m[I 2023-04-27 12:37:12,821]\u001b[0m Trial 6 finished with value: 0.665517 and parameters: {'max_depth': 9, 'eta': 0.0066284545745434525, 'gamma': 0.005554645819794324, 'alpha': 0.02198199126519096, 'lambda': 0.020064224040274505, 'subsample': 0.521523102871819, 'sampling_method': 'uniform'}. Best is trial 2 with value: 0.71346.\u001b[0m\n",
      "\u001b[32m[I 2023-04-27 12:37:13,366]\u001b[0m Trial 7 finished with value: 0.687822 and parameters: {'max_depth': 4, 'eta': 0.039333955650408176, 'gamma': 0.05077101406236176, 'alpha': 0.06220726253457973, 'lambda': 0.05983230503561513, 'subsample': 0.9238208662509473, 'sampling_method': 'gradient_based'}. Best is trial 2 with value: 0.71346.\u001b[0m\n",
      "\u001b[32m[I 2023-04-27 12:37:14,077]\u001b[0m Trial 8 finished with value: 0.663778 and parameters: {'max_depth': 8, 'eta': 0.006877740578715164, 'gamma': 0.09535418540746746, 'alpha': 0.05716659062989254, 'lambda': 0.0797530833804983, 'subsample': 0.7549422841689267, 'sampling_method': 'gradient_based'}. Best is trial 2 with value: 0.71346.\u001b[0m\n",
      "\u001b[32m[I 2023-04-27 12:37:14,591]\u001b[0m Trial 9 finished with value: 0.661445 and parameters: {'max_depth': 3, 'eta': 0.03260242320131962, 'gamma': 0.038085234116091965, 'alpha': 0.06491452956862599, 'lambda': 0.028790796243156072, 'subsample': 0.9103475118216462, 'sampling_method': 'uniform'}. Best is trial 2 with value: 0.71346.\u001b[0m\n",
      "\u001b[32m[I 2023-04-27 12:37:15,199]\u001b[0m Trial 10 finished with value: 0.707256 and parameters: {'max_depth': 5, 'eta': 0.06577080978975815, 'gamma': 0.0796633211923864, 'alpha': 0.003744097724099074, 'lambda': 0.09769506976046916, 'subsample': 0.5009300480721894, 'sampling_method': 'uniform'}. Best is trial 2 with value: 0.71346.\u001b[0m\n",
      "\u001b[32m[I 2023-04-27 12:37:15,798]\u001b[0m Trial 11 finished with value: 0.702341 and parameters: {'max_depth': 5, 'eta': 0.065377130191858, 'gamma': 0.08199740955356394, 'alpha': 0.0006458617285201931, 'lambda': 0.0943183762755427, 'subsample': 0.508654958219781, 'sampling_method': 'uniform'}. Best is trial 2 with value: 0.71346.\u001b[0m\n",
      "\u001b[32m[I 2023-04-27 12:37:16,392]\u001b[0m Trial 12 finished with value: 0.719472 and parameters: {'max_depth': 5, 'eta': 0.0979869878565909, 'gamma': 0.06855496594286332, 'alpha': 0.04339970574061897, 'lambda': 0.09806582073677783, 'subsample': 0.5936227561996894, 'sampling_method': 'uniform'}. Best is trial 12 with value: 0.719472.\u001b[0m\n",
      "\u001b[32m[I 2023-04-27 12:37:17,054]\u001b[0m Trial 13 finished with value: 0.707921 and parameters: {'max_depth': 6, 'eta': 0.09958506103472509, 'gamma': 0.0639032176108052, 'alpha': 0.044245837401587704, 'lambda': 0.08032926155682278, 'subsample': 0.6099196047699422, 'sampling_method': 'uniform'}. Best is trial 12 with value: 0.719472.\u001b[0m\n",
      "\u001b[32m[I 2023-04-27 12:37:17,664]\u001b[0m Trial 14 finished with value: 0.71464 and parameters: {'max_depth': 5, 'eta': 0.08583296672571332, 'gamma': 0.09399387561861056, 'alpha': 0.08031366316077407, 'lambda': 0.00271423864416228, 'subsample': 0.5823344794462069, 'sampling_method': 'uniform'}. Best is trial 12 with value: 0.719472.\u001b[0m\n",
      "\u001b[32m[I 2023-04-27 12:37:18,383]\u001b[0m Trial 15 finished with value: 0.712059 and parameters: {'max_depth': 7, 'eta': 0.09901153451750097, 'gamma': 0.0975615940293189, 'alpha': 0.08063857705198568, 'lambda': 0.0003656833469489807, 'subsample': 0.5575775129253996, 'sampling_method': 'uniform'}. Best is trial 12 with value: 0.719472.\u001b[0m\n",
      "\u001b[32m[I 2023-04-27 12:37:18,952]\u001b[0m Trial 16 finished with value: 0.708054 and parameters: {'max_depth': 4, 'eta': 0.0807821780999572, 'gamma': 0.08709744874494071, 'alpha': 0.07888521152399952, 'lambda': 0.0034255466589666744, 'subsample': 0.569326894918462, 'sampling_method': 'uniform'}. Best is trial 12 with value: 0.719472.\u001b[0m\n",
      "\u001b[32m[I 2023-04-27 12:37:19,519]\u001b[0m Trial 17 finished with value: 0.698816 and parameters: {'max_depth': 4, 'eta': 0.0546799512443035, 'gamma': 0.09877952277684672, 'alpha': 0.05003459984738187, 'lambda': 0.015538088263736675, 'subsample': 0.6856581939580998, 'sampling_method': 'uniform'}. Best is trial 12 with value: 0.719472.\u001b[0m\n",
      "\u001b[32m[I 2023-04-27 12:37:20,184]\u001b[0m Trial 18 finished with value: 0.711948 and parameters: {'max_depth': 6, 'eta': 0.08129607692954174, 'gamma': 0.08659557967368585, 'alpha': 0.07539679995412349, 'lambda': 0.038552301168403844, 'subsample': 0.7234312207034148, 'sampling_method': 'gradient_based'}. Best is trial 12 with value: 0.719472.\u001b[0m\n",
      "\u001b[32m[I 2023-04-27 12:37:20,961]\u001b[0m Trial 19 finished with value: 0.707054 and parameters: {'max_depth': 8, 'eta': 0.09161601089936816, 'gamma': 0.06658319395087056, 'alpha': 0.09023792138558318, 'lambda': 0.011245535281661403, 'subsample': 0.5772544776131814, 'sampling_method': 'uniform'}. Best is trial 12 with value: 0.719472.\u001b[0m\n",
      "\u001b[32m[I 2023-04-27 12:37:21,594]\u001b[0m Trial 20 finished with value: 0.706078 and parameters: {'max_depth': 5, 'eta': 0.07523594417851079, 'gamma': 0.07315976193568964, 'alpha': 0.04540773575917715, 'lambda': 0.024712351115366904, 'subsample': 0.6627527220401445, 'sampling_method': 'uniform'}. Best is trial 12 with value: 0.719472.\u001b[0m\n",
      "\u001b[32m[I 2023-04-27 12:37:22,184]\u001b[0m Trial 21 finished with value: 0.717481 and parameters: {'max_depth': 5, 'eta': 0.0851153307332589, 'gamma': 0.0753925852103341, 'alpha': 0.07115848907797798, 'lambda': 0.07093082596864941, 'subsample': 0.6286675045596624, 'sampling_method': 'uniform'}. Best is trial 12 with value: 0.719472.\u001b[0m\n",
      "\u001b[32m[I 2023-04-27 12:37:22,760]\u001b[0m Trial 22 finished with value: 0.708924 and parameters: {'max_depth': 4, 'eta': 0.09026624681324874, 'gamma': 0.08772353276170797, 'alpha': 0.070961632383589, 'lambda': 0.08822270326829286, 'subsample': 0.6326517131036372, 'sampling_method': 'uniform'}. Best is trial 12 with value: 0.719472.\u001b[0m\n",
      "\u001b[32m[I 2023-04-27 12:37:23,368]\u001b[0m Trial 23 finished with value: 0.709091 and parameters: {'max_depth': 5, 'eta': 0.09946348151437048, 'gamma': 0.056392393762395146, 'alpha': 0.08227410799555519, 'lambda': 0.07161509087001051, 'subsample': 0.5618469367177995, 'sampling_method': 'uniform'}. Best is trial 12 with value: 0.719472.\u001b[0m\n",
      "\u001b[32m[I 2023-04-27 12:37:24,108]\u001b[0m Trial 24 finished with value: 0.705394 and parameters: {'max_depth': 6, 'eta': 0.055148624840847996, 'gamma': 0.06644894472374592, 'alpha': 0.07311531612470284, 'lambda': 0.08923847338487625, 'subsample': 0.5966892481894057, 'sampling_method': 'uniform'}. Best is trial 12 with value: 0.719472.\u001b[0m\n",
      "\u001b[32m[I 2023-04-27 12:37:24,930]\u001b[0m Trial 25 finished with value: 0.708023 and parameters: {'max_depth': 7, 'eta': 0.07336068558482804, 'gamma': 0.08043414420811044, 'alpha': 0.08647386784437525, 'lambda': 0.09672212628366222, 'subsample': 0.5456544037436681, 'sampling_method': 'uniform'}. Best is trial 12 with value: 0.719472.\u001b[0m\n",
      "\u001b[32m[I 2023-04-27 12:37:25,538]\u001b[0m Trial 26 finished with value: 0.707358 and parameters: {'max_depth': 4, 'eta': 0.08755537974148181, 'gamma': 0.0897048594115195, 'alpha': 0.056004376904491136, 'lambda': 0.06307965696223114, 'subsample': 0.6347282704434399, 'sampling_method': 'uniform'}. Best is trial 12 with value: 0.719472.\u001b[0m\n",
      "\u001b[32m[I 2023-04-27 12:37:26,174]\u001b[0m Trial 27 finished with value: 0.712625 and parameters: {'max_depth': 5, 'eta': 0.0769370658675035, 'gamma': 0.07400541442910373, 'alpha': 0.07273306405694277, 'lambda': 0.09949858020590668, 'subsample': 0.5378218173535151, 'sampling_method': 'gradient_based'}. Best is trial 12 with value: 0.719472.\u001b[0m\n",
      "\u001b[32m[I 2023-04-27 12:37:26,892]\u001b[0m Trial 28 finished with value: 0.716735 and parameters: {'max_depth': 6, 'eta': 0.08585450140604885, 'gamma': 0.050237275857905134, 'alpha': 0.09926158182510496, 'lambda': 0.03159988558017488, 'subsample': 0.5915508810467247, 'sampling_method': 'uniform'}. Best is trial 12 with value: 0.719472.\u001b[0m\n",
      "\u001b[32m[I 2023-04-27 12:37:27,606]\u001b[0m Trial 29 finished with value: 0.715686 and parameters: {'max_depth': 6, 'eta': 0.09456558143349214, 'gamma': 0.04232157941778196, 'alpha': 0.09423268006992676, 'lambda': 0.03712856525406752, 'subsample': 0.6022465647949438, 'sampling_method': 'uniform'}. Best is trial 12 with value: 0.719472.\u001b[0m\n",
      "\u001b[32m[I 2023-04-27 12:37:28,329]\u001b[0m Trial 30 finished with value: 0.717907 and parameters: {'max_depth': 6, 'eta': 0.08552456817515772, 'gamma': 0.05296820528088893, 'alpha': 0.09740126387562104, 'lambda': 0.044166704660213794, 'subsample': 0.661562323935473, 'sampling_method': 'uniform'}. Best is trial 12 with value: 0.719472.\u001b[0m\n",
      "\u001b[32m[I 2023-04-27 12:37:29,036]\u001b[0m Trial 31 finished with value: 0.708986 and parameters: {'max_depth': 6, 'eta': 0.08416067643424516, 'gamma': 0.053447339175931266, 'alpha': 0.09825546428431713, 'lambda': 0.042245074343944075, 'subsample': 0.6458350978826704, 'sampling_method': 'uniform'}. Best is trial 12 with value: 0.719472.\u001b[0m\n",
      "\u001b[32m[I 2023-04-27 12:37:29,809]\u001b[0m Trial 32 finished with value: 0.718033 and parameters: {'max_depth': 7, 'eta': 0.09351045164844285, 'gamma': 0.04520955228858793, 'alpha': 0.09998655251643221, 'lambda': 0.04828818104527001, 'subsample': 0.6850552225784006, 'sampling_method': 'uniform'}. Best is trial 12 with value: 0.719472.\u001b[0m\n",
      "\u001b[32m[I 2023-04-27 12:37:30,649]\u001b[0m Trial 33 finished with value: 0.709942 and parameters: {'max_depth': 8, 'eta': 0.09516922076140676, 'gamma': 0.06009099989349248, 'alpha': 0.0905452217359191, 'lambda': 0.048186279475534194, 'subsample': 0.689735793476052, 'sampling_method': 'uniform'}. Best is trial 12 with value: 0.719472.\u001b[0m\n",
      "\u001b[32m[I 2023-04-27 12:37:31,396]\u001b[0m Trial 34 finished with value: 0.708986 and parameters: {'max_depth': 7, 'eta': 0.09191799649898298, 'gamma': 0.04501417385050668, 'alpha': 0.08710068264225376, 'lambda': 0.052651160785863446, 'subsample': 0.7154076590979627, 'sampling_method': 'gradient_based'}. Best is trial 12 with value: 0.719472.\u001b[0m\n",
      "\u001b[32m[I 2023-04-27 12:37:32,138]\u001b[0m Trial 35 finished with value: 0.708402 and parameters: {'max_depth': 7, 'eta': 0.08028776847756351, 'gamma': 0.032433577871943814, 'alpha': 0.09156396119987, 'lambda': 0.04596508828810309, 'subsample': 0.6718313973724446, 'sampling_method': 'uniform'}. Best is trial 12 with value: 0.719472.\u001b[0m\n",
      "\u001b[32m[I 2023-04-27 12:37:32,978]\u001b[0m Trial 36 finished with value: 0.706468 and parameters: {'max_depth': 9, 'eta': 0.09442838366080843, 'gamma': 0.056059786930771606, 'alpha': 0.09881179150442684, 'lambda': 0.053696448313872186, 'subsample': 0.624910877863062, 'sampling_method': 'uniform'}. Best is trial 12 with value: 0.719472.\u001b[0m\n",
      "\u001b[32m[I 2023-04-27 12:37:33,690]\u001b[0m Trial 37 finished with value: 0.708882 and parameters: {'max_depth': 7, 'eta': 0.08732227217136312, 'gamma': 0.04491356980218724, 'alpha': 0.08630510681773304, 'lambda': 0.06988354352959503, 'subsample': 0.6414201784607568, 'sampling_method': 'uniform'}. Best is trial 12 with value: 0.719472.\u001b[0m\n",
      "\u001b[32m[I 2023-04-27 12:37:34,537]\u001b[0m Trial 38 finished with value: 0.703642 and parameters: {'max_depth': 8, 'eta': 0.07173652274350549, 'gamma': 0.0691317086688168, 'alpha': 0.09257075411150138, 'lambda': 0.058323937607562104, 'subsample': 0.6632109942777789, 'sampling_method': 'gradient_based'}. Best is trial 12 with value: 0.719472.\u001b[0m\n",
      "\u001b[32m[I 2023-04-27 12:37:35,259]\u001b[0m Trial 39 finished with value: 0.714286 and parameters: {'max_depth': 6, 'eta': 0.07799349824286347, 'gamma': 0.061685314137802524, 'alpha': 0.06913314127726113, 'lambda': 0.0475228049153916, 'subsample': 0.7071059212337075, 'sampling_method': 'uniform'}. Best is trial 12 with value: 0.719472.\u001b[0m\n",
      "\u001b[32m[I 2023-04-27 12:37:36,115]\u001b[0m Trial 40 finished with value: 0.70462 and parameters: {'max_depth': 9, 'eta': 0.08964817713010075, 'gamma': 0.02567086884519821, 'alpha': 0.08473953162276353, 'lambda': 0.06597073691532306, 'subsample': 0.7528429341533086, 'sampling_method': 'uniform'}. Best is trial 12 with value: 0.719472.\u001b[0m\n",
      "\u001b[32m[I 2023-04-27 12:37:36,768]\u001b[0m Trial 41 finished with value: 0.720588 and parameters: {'max_depth': 6, 'eta': 0.08342851842224507, 'gamma': 0.047523847714503915, 'alpha': 0.09903834456886614, 'lambda': 0.03250384788986177, 'subsample': 0.6128586192887734, 'sampling_method': 'uniform'}. Best is trial 41 with value: 0.720588.\u001b[0m\n",
      "\u001b[32m[I 2023-04-27 12:37:37,376]\u001b[0m Trial 42 finished with value: 0.705394 and parameters: {'max_depth': 5, 'eta': 0.0831266104050504, 'gamma': 0.04909771739823525, 'alpha': 0.09526781845531754, 'lambda': 0.05785007916866025, 'subsample': 0.61298093956239, 'sampling_method': 'uniform'}. Best is trial 41 with value: 0.720588.\u001b[0m\n",
      "\u001b[32m[I 2023-04-27 12:37:38,024]\u001b[0m Trial 43 finished with value: 0.720588 and parameters: {'max_depth': 6, 'eta': 0.0954751513323222, 'gamma': 0.058752150622844515, 'alpha': 0.09427698129786995, 'lambda': 0.0518117523524804, 'subsample': 0.6630847350034406, 'sampling_method': 'uniform'}. Best is trial 41 with value: 0.720588.\u001b[0m\n",
      "\u001b[32m[I 2023-04-27 12:37:38,741]\u001b[0m Trial 44 finished with value: 0.713115 and parameters: {'max_depth': 7, 'eta': 0.09547127285324683, 'gamma': 0.05673901552371764, 'alpha': 0.0953753952814414, 'lambda': 0.042962560716968905, 'subsample': 0.6758312077395867, 'sampling_method': 'uniform'}. Best is trial 41 with value: 0.720588.\u001b[0m\n",
      "\u001b[32m[I 2023-04-27 12:37:39,391]\u001b[0m Trial 45 finished with value: 0.718241 and parameters: {'max_depth': 6, 'eta': 0.09734821481680735, 'gamma': 0.06182458812380499, 'alpha': 0.09457868749815011, 'lambda': 0.0526759590035194, 'subsample': 0.660957653004137, 'sampling_method': 'uniform'}. Best is trial 41 with value: 0.720588.\u001b[0m\n",
      "\u001b[32m[I 2023-04-27 12:37:40,041]\u001b[0m Trial 46 finished with value: 0.712531 and parameters: {'max_depth': 6, 'eta': 0.09973825832836085, 'gamma': 0.06280204657958383, 'alpha': 0.089794866910284, 'lambda': 0.05243147978929062, 'subsample': 0.7289565997350194, 'sampling_method': 'gradient_based'}. Best is trial 41 with value: 0.720588.\u001b[0m\n",
      "\u001b[32m[I 2023-04-27 12:37:40,752]\u001b[0m Trial 47 finished with value: 0.716271 and parameters: {'max_depth': 7, 'eta': 0.09445271265579133, 'gamma': 0.06005829006187488, 'alpha': 0.09479699731214646, 'lambda': 0.03267818669138471, 'subsample': 0.6924137507391711, 'sampling_method': 'uniform'}. Best is trial 41 with value: 0.720588.\u001b[0m\n",
      "\u001b[32m[I 2023-04-27 12:37:41,416]\u001b[0m Trial 48 finished with value: 0.715807 and parameters: {'max_depth': 6, 'eta': 0.09243685706900884, 'gamma': 0.06860310828548953, 'alpha': 0.07860099401027414, 'lambda': 0.055603386636219644, 'subsample': 0.6151660938911309, 'sampling_method': 'uniform'}. Best is trial 41 with value: 0.720588.\u001b[0m\n",
      "\u001b[32m[I 2023-04-27 12:37:42,198]\u001b[0m Trial 49 finished with value: 0.706173 and parameters: {'max_depth': 8, 'eta': 0.08935313432052852, 'gamma': 0.06377214031474264, 'alpha': 0.08387685114508432, 'lambda': 0.038778879386049736, 'subsample': 0.7737815321027016, 'sampling_method': 'uniform'}. Best is trial 41 with value: 0.720588.\u001b[0m\n",
      "\u001b[32m[I 2023-04-27 12:37:42,739]\u001b[0m Trial 50 finished with value: 0.701843 and parameters: {'max_depth': 3, 'eta': 0.09989020008128088, 'gamma': 0.04773971711297127, 'alpha': 0.09920020260721889, 'lambda': 0.05052371148268026, 'subsample': 0.6511187921394811, 'sampling_method': 'uniform'}. Best is trial 41 with value: 0.720588.\u001b[0m\n",
      "\u001b[32m[I 2023-04-27 12:37:43,400]\u001b[0m Trial 51 finished with value: 0.716735 and parameters: {'max_depth': 6, 'eta': 0.08822026272858302, 'gamma': 0.05275170967664461, 'alpha': 0.0993134322929915, 'lambda': 0.04298064143354813, 'subsample': 0.6616779091307786, 'sampling_method': 'uniform'}. Best is trial 41 with value: 0.720588.\u001b[0m\n",
      "\u001b[32m[I 2023-04-27 12:37:44,019]\u001b[0m Trial 52 finished with value: 0.712284 and parameters: {'max_depth': 5, 'eta': 0.09595135140557298, 'gamma': 0.04026815288806865, 'alpha': 0.08831632755443783, 'lambda': 0.06252864180405208, 'subsample': 0.5871154372173654, 'sampling_method': 'uniform'}. Best is trial 41 with value: 0.720588.\u001b[0m\n",
      "\u001b[32m[I 2023-04-27 12:37:44,686]\u001b[0m Trial 53 finished with value: 0.708299 and parameters: {'max_depth': 6, 'eta': 0.08210529529787763, 'gamma': 0.05367783264352776, 'alpha': 0.09356668236835648, 'lambda': 0.05004705548598048, 'subsample': 0.6794246396085767, 'sampling_method': 'uniform'}. Best is trial 41 with value: 0.720588.\u001b[0m\n",
      "\u001b[32m[I 2023-04-27 12:37:45,403]\u001b[0m Trial 54 finished with value: 0.712059 and parameters: {'max_depth': 7, 'eta': 0.0900297133890245, 'gamma': 0.058326162713819914, 'alpha': 0.0954168965291054, 'lambda': 0.027705451284424896, 'subsample': 0.6492120188747659, 'sampling_method': 'uniform'}. Best is trial 41 with value: 0.720588.\u001b[0m\n",
      "\u001b[32m[I 2023-04-27 12:37:46,015]\u001b[0m Trial 55 finished with value: 0.71723 and parameters: {'max_depth': 5, 'eta': 0.0962420575808664, 'gamma': 0.04737509775507963, 'alpha': 0.09007862801551059, 'lambda': 0.03576377311643976, 'subsample': 0.7030924451140341, 'sampling_method': 'uniform'}. Best is trial 41 with value: 0.720588.\u001b[0m\n",
      "\u001b[32m[I 2023-04-27 12:37:46,682]\u001b[0m Trial 56 finished with value: 0.715807 and parameters: {'max_depth': 6, 'eta': 0.0853199361528387, 'gamma': 0.051239750028808616, 'alpha': 0.08379131814883137, 'lambda': 0.05676222821469732, 'subsample': 0.605734592147886, 'sampling_method': 'uniform'}. Best is trial 41 with value: 0.720588.\u001b[0m\n",
      "\u001b[32m[I 2023-04-27 12:37:47,319]\u001b[0m Trial 57 finished with value: 0.709091 and parameters: {'max_depth': 5, 'eta': 0.07884138026932527, 'gamma': 0.03781760767265524, 'alpha': 0.09620324594751513, 'lambda': 0.023941989899062478, 'subsample': 0.6216091932735947, 'sampling_method': 'gradient_based'}. Best is trial 41 with value: 0.720588.\u001b[0m\n",
      "\u001b[32m[I 2023-04-27 12:37:48,325]\u001b[0m Trial 58 finished with value: 0.713001 and parameters: {'max_depth': 10, 'eta': 0.09214260408895578, 'gamma': 0.06551226244196946, 'alpha': 0.0998139184788594, 'lambda': 0.07730176255700419, 'subsample': 0.5814638909916334, 'sampling_method': 'uniform'}. Best is trial 41 with value: 0.720588.\u001b[0m\n",
      "\u001b[32m[I 2023-04-27 12:37:48,912]\u001b[0m Trial 59 finished with value: 0.710109 and parameters: {'max_depth': 4, 'eta': 0.0981762721819843, 'gamma': 0.07095693653549624, 'alpha': 0.09187006275488079, 'lambda': 0.04497818078517738, 'subsample': 0.6610401761434628, 'sampling_method': 'uniform'}. Best is trial 41 with value: 0.720588.\u001b[0m\n",
      "\u001b[32m[I 2023-04-27 12:37:49,641]\u001b[0m Trial 60 finished with value: 0.712171 and parameters: {'max_depth': 7, 'eta': 0.0824998399555437, 'gamma': 0.0566703406614101, 'alpha': 0.076998255328039, 'lambda': 0.059799091699110365, 'subsample': 0.6366891823561367, 'sampling_method': 'uniform'}. Best is trial 41 with value: 0.720588.\u001b[0m\n",
      "\u001b[32m[I 2023-04-27 12:37:50,303]\u001b[0m Trial 61 finished with value: 0.710963 and parameters: {'max_depth': 5, 'eta': 0.08622572951026809, 'gamma': 0.07381764343785528, 'alpha': 0.08219563998881806, 'lambda': 0.04860600707803847, 'subsample': 0.6307902845474144, 'sampling_method': 'uniform'}. Best is trial 41 with value: 0.720588.\u001b[0m\n",
      "\u001b[32m[I 2023-04-27 12:37:50,993]\u001b[0m Trial 62 finished with value: 0.716639 and parameters: {'max_depth': 6, 'eta': 0.09263437341911981, 'gamma': 0.07643034790193355, 'alpha': 0.08894227138552689, 'lambda': 0.05505537688153553, 'subsample': 0.6066284638065458, 'sampling_method': 'uniform'}. Best is trial 41 with value: 0.720588.\u001b[0m\n",
      "\u001b[32m[I 2023-04-27 12:37:51,649]\u001b[0m Trial 63 finished with value: 0.712739 and parameters: {'max_depth': 5, 'eta': 0.07594230253889737, 'gamma': 0.07765218232399322, 'alpha': 0.08022724996607332, 'lambda': 0.0849858734012398, 'subsample': 0.5651658642790205, 'sampling_method': 'uniform'}. Best is trial 41 with value: 0.720588.\u001b[0m\n",
      "\u001b[32m[I 2023-04-27 12:37:52,283]\u001b[0m Trial 64 finished with value: 0.710526 and parameters: {'max_depth': 5, 'eta': 0.08888798569345645, 'gamma': 0.06870799467597957, 'alpha': 0.09632981655398187, 'lambda': 0.09292095809246086, 'subsample': 0.6773370426078568, 'sampling_method': 'uniform'}. Best is trial 41 with value: 0.720588.\u001b[0m\n",
      "\u001b[32m[I 2023-04-27 12:37:52,968]\u001b[0m Trial 65 finished with value: 0.713706 and parameters: {'max_depth': 6, 'eta': 0.09687087832665363, 'gamma': 0.06093482904136839, 'alpha': 0.08590373449639552, 'lambda': 0.040263982439487776, 'subsample': 0.6514088101322945, 'sampling_method': 'uniform'}. Best is trial 41 with value: 0.720588.\u001b[0m\n",
      "\u001b[32m[I 2023-04-27 12:37:53,556]\u001b[0m Trial 66 finished with value: 0.706276 and parameters: {'max_depth': 4, 'eta': 0.08433718171479743, 'gamma': 0.06350803775541011, 'alpha': 0.0925596535507954, 'lambda': 0.04466074313226268, 'subsample': 0.6261995526556061, 'sampling_method': 'uniform'}. Best is trial 41 with value: 0.720588.\u001b[0m\n",
      "\u001b[32m[I 2023-04-27 12:37:54,280]\u001b[0m Trial 67 finished with value: 0.717695 and parameters: {'max_depth': 6, 'eta': 0.07017250011023204, 'gamma': 0.054641604306719646, 'alpha': 0.0881415434562674, 'lambda': 0.0408473665689302, 'subsample': 0.5934217589410444, 'sampling_method': 'uniform'}. Best is trial 41 with value: 0.720588.\u001b[0m\n",
      "\u001b[32m[I 2023-04-27 12:37:55,021]\u001b[0m Trial 68 finished with value: 0.705688 and parameters: {'max_depth': 7, 'eta': 0.06750365719706712, 'gamma': 0.05385100432302573, 'alpha': 0.0881596127836133, 'lambda': 0.03376435101226334, 'subsample': 0.5958626350659905, 'sampling_method': 'uniform'}. Best is trial 41 with value: 0.720588.\u001b[0m\n",
      "\u001b[32m[I 2023-04-27 12:37:55,704]\u001b[0m Trial 69 finished with value: 0.718494 and parameters: {'max_depth': 6, 'eta': 0.09224599608031105, 'gamma': 0.049997037524408844, 'alpha': 0.09749858450995512, 'lambda': 0.039910231392048, 'subsample': 0.5764796425316302, 'sampling_method': 'gradient_based'}. Best is trial 41 with value: 0.720588.\u001b[0m\n",
      "\u001b[32m[I 2023-04-27 12:37:56,394]\u001b[0m Trial 70 finished with value: 0.719083 and parameters: {'max_depth': 6, 'eta': 0.09765798080372665, 'gamma': 0.051278419982984234, 'alpha': 0.09740048518215254, 'lambda': 0.037970292943640765, 'subsample': 0.5426790206643539, 'sampling_method': 'gradient_based'}. Best is trial 41 with value: 0.720588.\u001b[0m\n",
      "\u001b[32m[I 2023-04-27 12:37:57,075]\u001b[0m Trial 71 finished with value: 0.715807 and parameters: {'max_depth': 6, 'eta': 0.09693837898786958, 'gamma': 0.05109468853569139, 'alpha': 0.09646442443672566, 'lambda': 0.03630950901965663, 'subsample': 0.549616417586723, 'sampling_method': 'gradient_based'}. Best is trial 41 with value: 0.720588.\u001b[0m\n",
      "\u001b[32m[I 2023-04-27 12:37:57,770]\u001b[0m Trial 72 finished with value: 0.722359 and parameters: {'max_depth': 6, 'eta': 0.0926822554290707, 'gamma': 0.05830643334114811, 'alpha': 0.09990643040310486, 'lambda': 0.03927107985332941, 'subsample': 0.5725550975367891, 'sampling_method': 'gradient_based'}. Best is trial 72 with value: 0.722359.\u001b[0m\n",
      "\u001b[32m[I 2023-04-27 12:37:58,520]\u001b[0m Trial 73 finished with value: 0.715102 and parameters: {'max_depth': 7, 'eta': 0.09263074319293543, 'gamma': 0.04392205001691498, 'alpha': 0.09302243641677813, 'lambda': 0.028969276915744073, 'subsample': 0.5309388825794814, 'sampling_method': 'gradient_based'}. Best is trial 72 with value: 0.722359.\u001b[0m\n",
      "\u001b[32m[I 2023-04-27 12:37:59,207]\u001b[0m Trial 74 finished with value: 0.716393 and parameters: {'max_depth': 6, 'eta': 0.09753881155627372, 'gamma': 0.05972655744382062, 'alpha': 0.09918246841220059, 'lambda': 0.03925471745179904, 'subsample': 0.5695010710321531, 'sampling_method': 'gradient_based'}. Best is trial 72 with value: 0.722359.\u001b[0m\n",
      "\u001b[32m[I 2023-04-27 12:37:59,936]\u001b[0m Trial 75 finished with value: 0.715686 and parameters: {'max_depth': 7, 'eta': 0.093566789426442, 'gamma': 0.047257256357573614, 'alpha': 0.09263538155602968, 'lambda': 0.033831571077265414, 'subsample': 0.519687248983916, 'sampling_method': 'gradient_based'}. Best is trial 72 with value: 0.722359.\u001b[0m\n",
      "\u001b[32m[I 2023-04-27 12:38:00,616]\u001b[0m Trial 76 finished with value: 0.713936 and parameters: {'max_depth': 6, 'eta': 0.09957086247768385, 'gamma': 0.05055379357319149, 'alpha': 0.09647503831138725, 'lambda': 0.047243336125589425, 'subsample': 0.553121272350082, 'sampling_method': 'gradient_based'}. Best is trial 72 with value: 0.722359.\u001b[0m\n",
      "\u001b[32m[I 2023-04-27 12:38:01,256]\u001b[0m Trial 77 finished with value: 0.706369 and parameters: {'max_depth': 5, 'eta': 0.09086782131760598, 'gamma': 0.05880336960482699, 'alpha': 0.09156343837425915, 'lambda': 0.04093609016115057, 'subsample': 0.5759955665455139, 'sampling_method': 'gradient_based'}. Best is trial 72 with value: 0.722359.\u001b[0m\n",
      "\u001b[32m[I 2023-04-27 12:38:01,919]\u001b[0m Trial 78 finished with value: 0.714873 and parameters: {'max_depth': 6, 'eta': 0.08772035788223398, 'gamma': 0.05675757243718372, 'alpha': 0.09431688598173318, 'lambda': 0.036823455801173625, 'subsample': 0.5577433690564766, 'sampling_method': 'gradient_based'}. Best is trial 72 with value: 0.722359.\u001b[0m\n",
      "\u001b[32m[I 2023-04-27 12:38:02,655]\u001b[0m Trial 79 finished with value: 0.716049 and parameters: {'max_depth': 7, 'eta': 0.09470775056780463, 'gamma': 0.0644333674541952, 'alpha': 0.09946970529336281, 'lambda': 0.03064238058699536, 'subsample': 0.5388630005629739, 'sampling_method': 'gradient_based'}. Best is trial 72 with value: 0.722359.\u001b[0m\n",
      "\u001b[32m[I 2023-04-27 12:38:03,327]\u001b[0m Trial 80 finished with value: 0.716858 and parameters: {'max_depth': 6, 'eta': 0.09066704034719539, 'gamma': 0.04901339482397096, 'alpha': 0.09693089359438507, 'lambda': 0.05167115815520226, 'subsample': 0.5039468005008255, 'sampling_method': 'gradient_based'}. Best is trial 72 with value: 0.722359.\u001b[0m\n",
      "\u001b[32m[I 2023-04-27 12:38:04,011]\u001b[0m Trial 81 finished with value: 0.719083 and parameters: {'max_depth': 6, 'eta': 0.09563084493972712, 'gamma': 0.052364891209388066, 'alpha': 0.09724373840621259, 'lambda': 0.043486767954276036, 'subsample': 0.5834327643847453, 'sampling_method': 'gradient_based'}. Best is trial 72 with value: 0.722359.\u001b[0m\n",
      "\u001b[32m[I 2023-04-27 12:38:04,683]\u001b[0m Trial 82 finished with value: 0.716858 and parameters: {'max_depth': 6, 'eta': 0.09684519859399582, 'gamma': 0.05581209658500519, 'alpha': 0.09018797134249826, 'lambda': 0.04537739557044653, 'subsample': 0.5854473500971022, 'sampling_method': 'gradient_based'}. Best is trial 72 with value: 0.722359.\u001b[0m\n",
      "\u001b[32m[I 2023-04-27 12:38:05,349]\u001b[0m Trial 83 finished with value: 0.720588 and parameters: {'max_depth': 6, 'eta': 0.0998446340606063, 'gamma': 0.060797729524799664, 'alpha': 0.09403379634326074, 'lambda': 0.04204814997487894, 'subsample': 0.5708015069964303, 'sampling_method': 'gradient_based'}. Best is trial 72 with value: 0.722359.\u001b[0m\n",
      "\u001b[32m[I 2023-04-27 12:38:06,012]\u001b[0m Trial 84 finished with value: 0.711948 and parameters: {'max_depth': 6, 'eta': 0.09987797432007035, 'gamma': 0.061976348919373425, 'alpha': 0.08655767869034697, 'lambda': 0.04157241015321509, 'subsample': 0.5722579951676958, 'sampling_method': 'gradient_based'}. Best is trial 72 with value: 0.722359.\u001b[0m\n",
      "\u001b[32m[I 2023-04-27 12:38:06,644]\u001b[0m Trial 85 finished with value: 0.71464 and parameters: {'max_depth': 5, 'eta': 0.0974387001754804, 'gamma': 0.0671345999517441, 'alpha': 0.09421265841302941, 'lambda': 0.034733830406041145, 'subsample': 0.5437030335671246, 'sampling_method': 'gradient_based'}. Best is trial 72 with value: 0.722359.\u001b[0m\n",
      "\u001b[32m[I 2023-04-27 12:38:07,301]\u001b[0m Trial 86 finished with value: 0.719342 and parameters: {'max_depth': 6, 'eta': 0.09426355220952308, 'gamma': 0.052302169035599345, 'alpha': 0.09675394053637412, 'lambda': 0.03884884501358225, 'subsample': 0.6010791400979235, 'sampling_method': 'gradient_based'}. Best is trial 72 with value: 0.722359.\u001b[0m\n",
      "\u001b[32m[I 2023-04-27 12:38:07,957]\u001b[0m Trial 87 finished with value: 0.721044 and parameters: {'max_depth': 6, 'eta': 0.09322396954938136, 'gamma': 0.051733518830669865, 'alpha': 0.09691650989218455, 'lambda': 0.03842122686143527, 'subsample': 0.599878124843862, 'sampling_method': 'gradient_based'}. Best is trial 72 with value: 0.722359.\u001b[0m\n",
      "\u001b[32m[I 2023-04-27 12:38:08,644]\u001b[0m Trial 88 finished with value: 0.716858 and parameters: {'max_depth': 6, 'eta': 0.09471116293403985, 'gamma': 0.057968966210556146, 'alpha': 0.09077614949629345, 'lambda': 0.03714109907255731, 'subsample': 0.6028158557713216, 'sampling_method': 'gradient_based'}. Best is trial 72 with value: 0.722359.\u001b[0m\n",
      "\u001b[32m[I 2023-04-27 12:38:09,289]\u001b[0m Trial 89 finished with value: 0.710635 and parameters: {'max_depth': 5, 'eta': 0.08870971551550293, 'gamma': 0.05416859350547644, 'alpha': 0.040836669691573374, 'lambda': 0.03184937946168026, 'subsample': 0.5589564535218895, 'sampling_method': 'gradient_based'}. Best is trial 72 with value: 0.722359.\u001b[0m\n",
      "\u001b[32m[I 2023-04-27 12:38:09,997]\u001b[0m Trial 90 finished with value: 0.714754 and parameters: {'max_depth': 6, 'eta': 0.09040144240450447, 'gamma': 0.05293982197231509, 'alpha': 0.09761225308554146, 'lambda': 0.043042339133237975, 'subsample': 0.588941277444548, 'sampling_method': 'gradient_based'}. Best is trial 72 with value: 0.722359.\u001b[0m\n",
      "\u001b[32m[I 2023-04-27 12:38:10,710]\u001b[0m Trial 91 finished with value: 0.716271 and parameters: {'max_depth': 6, 'eta': 0.09299942620778004, 'gamma': 0.051035397372012514, 'alpha': 0.09688221725691307, 'lambda': 0.03832735339359937, 'subsample': 0.6148497842025359, 'sampling_method': 'gradient_based'}. Best is trial 72 with value: 0.722359.\u001b[0m\n",
      "\u001b[32m[I 2023-04-27 12:38:11,424]\u001b[0m Trial 92 finished with value: 0.711475 and parameters: {'max_depth': 6, 'eta': 0.08676169501630543, 'gamma': 0.04679009139983815, 'alpha': 0.09371734696890749, 'lambda': 0.039048113282043155, 'subsample': 0.5756196503564102, 'sampling_method': 'gradient_based'}. Best is trial 72 with value: 0.722359.\u001b[0m\n",
      "\u001b[32m[I 2023-04-27 12:38:12,144]\u001b[0m Trial 93 finished with value: 0.715566 and parameters: {'max_depth': 6, 'eta': 0.09490549455505148, 'gamma': 0.04947643484292584, 'alpha': 0.09721359184652607, 'lambda': 0.03484963857822486, 'subsample': 0.5666584985153542, 'sampling_method': 'gradient_based'}. Best is trial 72 with value: 0.722359.\u001b[0m\n",
      "\u001b[32m[I 2023-04-27 12:38:12,876]\u001b[0m Trial 94 finished with value: 0.716612 and parameters: {'max_depth': 6, 'eta': 0.09123378465613889, 'gamma': 0.05843534107033542, 'alpha': 0.09984883483059769, 'lambda': 0.04256426445283639, 'subsample': 0.5819911103227489, 'sampling_method': 'gradient_based'}. Best is trial 72 with value: 0.722359.\u001b[0m\n",
      "\u001b[32m[I 2023-04-27 12:38:13,537]\u001b[0m Trial 95 finished with value: 0.715702 and parameters: {'max_depth': 5, 'eta': 0.09702538876852938, 'gamma': 0.052089896663344945, 'alpha': 0.09110246197985578, 'lambda': 0.0466017971819494, 'subsample': 0.6049210978208927, 'sampling_method': 'gradient_based'}. Best is trial 72 with value: 0.722359.\u001b[0m\n",
      "\u001b[32m[I 2023-04-27 12:38:14,270]\u001b[0m Trial 96 finished with value: 0.713584 and parameters: {'max_depth': 6, 'eta': 0.09963320843111342, 'gamma': 0.0549230413354806, 'alpha': 0.09446085104600876, 'lambda': 0.03733474146766509, 'subsample': 0.5309182022401376, 'sampling_method': 'gradient_based'}. Best is trial 72 with value: 0.722359.\u001b[0m\n",
      "\u001b[32m[I 2023-04-27 12:38:15,101]\u001b[0m Trial 97 finished with value: 0.711111 and parameters: {'max_depth': 7, 'eta': 0.0937110057688822, 'gamma': 0.043097075967032196, 'alpha': 0.08743083220618085, 'lambda': 0.05016917206865161, 'subsample': 0.6171032420756482, 'sampling_method': 'gradient_based'}. Best is trial 72 with value: 0.722359.\u001b[0m\n",
      "\u001b[32m[I 2023-04-27 12:38:15,840]\u001b[0m Trial 98 finished with value: 0.713115 and parameters: {'max_depth': 6, 'eta': 0.08393651996778398, 'gamma': 0.04670621489051029, 'alpha': 0.08931171384390091, 'lambda': 0.03290226976646406, 'subsample': 0.5966554610715891, 'sampling_method': 'gradient_based'}. Best is trial 72 with value: 0.722359.\u001b[0m\n",
      "\u001b[32m[I 2023-04-27 12:38:16,570]\u001b[0m Trial 99 finished with value: 0.716735 and parameters: {'max_depth': 6, 'eta': 0.08945032281156723, 'gamma': 0.060638216337278075, 'alpha': 0.0845572961565251, 'lambda': 0.03991632985704412, 'subsample': 0.5544293787261542, 'sampling_method': 'gradient_based'}. Best is trial 72 with value: 0.722359.\u001b[0m\n",
      "\u001b[32m[I 2023-04-27 12:38:17,234]\u001b[0m Trial 100 finished with value: 0.711443 and parameters: {'max_depth': 5, 'eta': 0.09546305710443147, 'gamma': 0.05596620688591085, 'alpha': 0.09748845675798068, 'lambda': 0.04404178981281354, 'subsample': 0.6385601678845069, 'sampling_method': 'gradient_based'}. Best is trial 72 with value: 0.722359.\u001b[0m\n",
      "\u001b[32m[I 2023-04-27 12:38:17,946]\u001b[0m Trial 101 finished with value: 0.71732 and parameters: {'max_depth': 6, 'eta': 0.0974826387104766, 'gamma': 0.06249043312625525, 'alpha': 0.09484023304967253, 'lambda': 0.05451138835582814, 'subsample': 0.5886108985607155, 'sampling_method': 'gradient_based'}. Best is trial 72 with value: 0.722359.\u001b[0m\n",
      "\u001b[32m[I 2023-04-27 12:38:18,670]\u001b[0m Trial 102 finished with value: 0.720721 and parameters: {'max_depth': 6, 'eta': 0.0923024284092508, 'gamma': 0.06550178545839087, 'alpha': 0.09331171244119617, 'lambda': 0.045881764261900555, 'subsample': 0.6192266579286327, 'sampling_method': 'gradient_based'}. Best is trial 72 with value: 0.722359.\u001b[0m\n",
      "\u001b[32m[I 2023-04-27 12:38:19,400]\u001b[0m Trial 103 finished with value: 0.714286 and parameters: {'max_depth': 6, 'eta': 0.09205964918449676, 'gamma': 0.06532490900378825, 'alpha': 0.09251728060996767, 'lambda': 0.04721986402856279, 'subsample': 0.6197657547711677, 'sampling_method': 'gradient_based'}. Best is trial 72 with value: 0.722359.\u001b[0m\n",
      "\u001b[32m[I 2023-04-27 12:38:20,194]\u001b[0m Trial 104 finished with value: 0.714286 and parameters: {'max_depth': 7, 'eta': 0.08701530644308034, 'gamma': 0.04877466187564644, 'alpha': 0.0981670603849245, 'lambda': 0.035479012731799126, 'subsample': 0.5987527054432199, 'sampling_method': 'gradient_based'}. Best is trial 72 with value: 0.722359.\u001b[0m\n",
      "\u001b[32m[I 2023-04-27 12:38:20,914]\u001b[0m Trial 105 finished with value: 0.712531 and parameters: {'max_depth': 6, 'eta': 0.08070235750158715, 'gamma': 0.05815588012906417, 'alpha': 0.09999998374106428, 'lambda': 0.040837592821448554, 'subsample': 0.5644383038437638, 'sampling_method': 'gradient_based'}. Best is trial 72 with value: 0.722359.\u001b[0m\n",
      "\u001b[32m[I 2023-04-27 12:38:21,566]\u001b[0m Trial 106 finished with value: 0.711808 and parameters: {'max_depth': 5, 'eta': 0.09349670751191481, 'gamma': 0.0711113261132633, 'alpha': 0.0955785749518512, 'lambda': 0.044969103376871704, 'subsample': 0.5732758026989517, 'sampling_method': 'gradient_based'}. Best is trial 72 with value: 0.722359.\u001b[0m\n",
      "\u001b[32m[I 2023-04-27 12:38:22,280]\u001b[0m Trial 107 finished with value: 0.714754 and parameters: {'max_depth': 6, 'eta': 0.09805560310374455, 'gamma': 0.051277608089067624, 'alpha': 0.09196065876502381, 'lambda': 0.04903311538225867, 'subsample': 0.6082970369866931, 'sampling_method': 'gradient_based'}. Best is trial 72 with value: 0.722359.\u001b[0m\n",
      "\u001b[32m[I 2023-04-27 12:38:22,945]\u001b[0m Trial 108 finished with value: 0.713101 and parameters: {'max_depth': 5, 'eta': 0.08812582409066133, 'gamma': 0.06736034900261373, 'alpha': 0.09583063531617134, 'lambda': 0.029991543165839313, 'subsample': 0.6273373296934422, 'sampling_method': 'gradient_based'}. Best is trial 72 with value: 0.722359.\u001b[0m\n",
      "\u001b[32m[I 2023-04-27 12:38:23,757]\u001b[0m Trial 109 finished with value: 0.721903 and parameters: {'max_depth': 7, 'eta': 0.09529492337276885, 'gamma': 0.060383133449212895, 'alpha': 0.08930139919416265, 'lambda': 0.03846254743832035, 'subsample': 0.5804840575133454, 'sampling_method': 'gradient_based'}. Best is trial 72 with value: 0.722359.\u001b[0m\n",
      "\u001b[32m[I 2023-04-27 12:38:24,571]\u001b[0m Trial 110 finished with value: 0.707718 and parameters: {'max_depth': 7, 'eta': 0.09814622539764016, 'gamma': 0.06491040455145977, 'alpha': 0.08562372623396117, 'lambda': 0.026797460740351026, 'subsample': 0.549937381778751, 'sampling_method': 'gradient_based'}. Best is trial 72 with value: 0.722359.\u001b[0m\n",
      "\u001b[32m[I 2023-04-27 12:38:25,377]\u001b[0m Trial 111 finished with value: 0.712059 and parameters: {'max_depth': 7, 'eta': 0.09550870358958315, 'gamma': 0.06003477203262842, 'alpha': 0.0980901689386011, 'lambda': 0.038680842722452084, 'subsample': 0.5833919749368486, 'sampling_method': 'gradient_based'}. Best is trial 72 with value: 0.722359.\u001b[0m\n",
      "\u001b[32m[I 2023-04-27 12:38:26,130]\u001b[0m Trial 112 finished with value: 0.717781 and parameters: {'max_depth': 6, 'eta': 0.09068518917835405, 'gamma': 0.05435735287027902, 'alpha': 0.08972471775500207, 'lambda': 0.042273139618510605, 'subsample': 0.5929023318890925, 'sampling_method': 'gradient_based'}. Best is trial 72 with value: 0.722359.\u001b[0m\n",
      "\u001b[32m[I 2023-04-27 12:38:27,011]\u001b[0m Trial 113 finished with value: 0.707921 and parameters: {'max_depth': 8, 'eta': 0.09534664720501561, 'gamma': 0.05709953562730398, 'alpha': 0.09231206538023669, 'lambda': 0.03318819929776948, 'subsample': 0.5773428634328545, 'sampling_method': 'gradient_based'}. Best is trial 72 with value: 0.722359.\u001b[0m\n",
      "\u001b[32m[I 2023-04-27 12:38:27,733]\u001b[0m Trial 114 finished with value: 0.708986 and parameters: {'max_depth': 6, 'eta': 0.09242352241776866, 'gamma': 0.06284476165549609, 'alpha': 0.09813114478451818, 'lambda': 0.03598355298896579, 'subsample': 0.6100027180344381, 'sampling_method': 'gradient_based'}. Best is trial 72 with value: 0.722359.\u001b[0m\n",
      "\u001b[32m[I 2023-04-27 12:38:28,448]\u001b[0m Trial 115 finished with value: 0.711948 and parameters: {'max_depth': 6, 'eta': 0.0999861156729357, 'gamma': 0.05250075983442439, 'alpha': 0.09399163579474339, 'lambda': 0.031018915120475585, 'subsample': 0.5604371612820623, 'sampling_method': 'gradient_based'}. Best is trial 72 with value: 0.722359.\u001b[0m\n",
      "\u001b[32m[I 2023-04-27 12:38:29,220]\u001b[0m Trial 116 finished with value: 0.702791 and parameters: {'max_depth': 7, 'eta': 0.08888051151922596, 'gamma': 0.059508000525956596, 'alpha': 0.08787215742395714, 'lambda': 0.0459822250857691, 'subsample': 0.6432711011362903, 'sampling_method': 'gradient_based'}. Best is trial 72 with value: 0.722359.\u001b[0m\n",
      "\u001b[32m[I 2023-04-27 12:38:29,921]\u001b[0m Trial 117 finished with value: 0.713816 and parameters: {'max_depth': 6, 'eta': 0.08464593337277665, 'gamma': 0.049664203633536484, 'alpha': 0.0959544898707913, 'lambda': 0.04015015826899923, 'subsample': 0.6000233700004646, 'sampling_method': 'gradient_based'}. Best is trial 72 with value: 0.722359.\u001b[0m\n",
      "\u001b[32m[I 2023-04-27 12:38:30,644]\u001b[0m Trial 118 finished with value: 0.720528 and parameters: {'max_depth': 6, 'eta': 0.09354376595119339, 'gamma': 0.06948250458157287, 'alpha': 0.0825994180304915, 'lambda': 0.04347535383548861, 'subsample': 0.6201552320486069, 'sampling_method': 'gradient_based'}. Best is trial 72 with value: 0.722359.\u001b[0m\n",
      "\u001b[32m[I 2023-04-27 12:38:31,636]\u001b[0m Trial 119 finished with value: 0.711002 and parameters: {'max_depth': 7, 'eta': 0.09589326137555199, 'gamma': 0.06949270533959839, 'alpha': 0.08317064966098359, 'lambda': 0.04322082824400589, 'subsample': 0.6233363460235091, 'sampling_method': 'gradient_based'}. Best is trial 72 with value: 0.722359.\u001b[0m\n",
      "\u001b[32m[I 2023-04-27 12:38:32,435]\u001b[0m Trial 120 finished with value: 0.697402 and parameters: {'max_depth': 3, 'eta': 0.09410230252998483, 'gamma': 0.07282762589030496, 'alpha': 0.09039302259746859, 'lambda': 0.050641126737752035, 'subsample': 0.6340604530154796, 'sampling_method': 'gradient_based'}. Best is trial 72 with value: 0.722359.\u001b[0m\n",
      "\u001b[32m[I 2023-04-27 12:38:33,400]\u001b[0m Trial 121 finished with value: 0.724166 and parameters: {'max_depth': 6, 'eta': 0.09081514003358984, 'gamma': 0.06642929982914873, 'alpha': 0.0940319005665157, 'lambda': 0.03697634500529317, 'subsample': 0.6137676048529289, 'sampling_method': 'gradient_based'}. Best is trial 121 with value: 0.724166.\u001b[0m\n",
      "\u001b[32m[I 2023-04-27 12:38:34,372]\u001b[0m Trial 122 finished with value: 0.714286 and parameters: {'max_depth': 6, 'eta': 0.09095106176768603, 'gamma': 0.0658402225365909, 'alpha': 0.0937125435398964, 'lambda': 0.03745698555478097, 'subsample': 0.6130777455670017, 'sampling_method': 'gradient_based'}. Best is trial 121 with value: 0.724166.\u001b[0m\n",
      "\u001b[32m[I 2023-04-27 12:38:35,351]\u001b[0m Trial 123 finished with value: 0.711256 and parameters: {'max_depth': 6, 'eta': 0.09775245237212939, 'gamma': 0.07027609571635147, 'alpha': 0.08846477776822653, 'lambda': 0.04212487617466994, 'subsample': 0.5877216124479643, 'sampling_method': 'gradient_based'}. Best is trial 121 with value: 0.724166.\u001b[0m\n",
      "\u001b[32m[I 2023-04-27 12:38:36,340]\u001b[0m Trial 124 finished with value: 0.716271 and parameters: {'max_depth': 6, 'eta': 0.08643252871502467, 'gamma': 0.06769268758135893, 'alpha': 0.09192284277915702, 'lambda': 0.03460932926531541, 'subsample': 0.6212969355093035, 'sampling_method': 'gradient_based'}. Best is trial 121 with value: 0.724166.\u001b[0m\n",
      "\u001b[32m[I 2023-04-27 12:38:37,312]\u001b[0m Trial 125 finished with value: 0.721177 and parameters: {'max_depth': 6, 'eta': 0.0934698090777456, 'gamma': 0.061632975891999335, 'alpha': 0.09568055254519078, 'lambda': 0.04793979618950784, 'subsample': 0.5973672445370375, 'sampling_method': 'gradient_based'}. Best is trial 121 with value: 0.724166.\u001b[0m\n",
      "\u001b[32m[I 2023-04-27 12:38:38,283]\u001b[0m Trial 126 finished with value: 0.709465 and parameters: {'max_depth': 6, 'eta': 0.0929226104192351, 'gamma': 0.06352411391047391, 'alpha': 0.0860398636013005, 'lambda': 0.04808020821492405, 'subsample': 0.6446665976060509, 'sampling_method': 'gradient_based'}. Best is trial 121 with value: 0.724166.\u001b[0m\n",
      "\u001b[32m[I 2023-04-27 12:38:39,347]\u001b[0m Trial 127 finished with value: 0.713344 and parameters: {'max_depth': 7, 'eta': 0.08857211106511811, 'gamma': 0.06172367520079869, 'alpha': 0.09519407193428443, 'lambda': 0.06499354041922772, 'subsample': 0.6041911443671855, 'sampling_method': 'gradient_based'}. Best is trial 121 with value: 0.724166.\u001b[0m\n",
      "\u001b[32m[I 2023-04-27 12:38:40,327]\u001b[0m Trial 128 finished with value: 0.715221 and parameters: {'max_depth': 6, 'eta': 0.09041935282551243, 'gamma': 0.07224073598885879, 'alpha': 0.08249977931462685, 'lambda': 0.05301907988195882, 'subsample': 0.6296996082039893, 'sampling_method': 'gradient_based'}. Best is trial 121 with value: 0.724166.\u001b[0m\n",
      "\u001b[32m[I 2023-04-27 12:38:41,296]\u001b[0m Trial 129 finished with value: 0.713229 and parameters: {'max_depth': 6, 'eta': 0.0981213448383595, 'gamma': 0.0666412500744585, 'alpha': 0.09988213157686114, 'lambda': 0.032168134951478536, 'subsample': 0.5994313397343816, 'sampling_method': 'gradient_based'}. Best is trial 121 with value: 0.724166.\u001b[0m\n",
      "\u001b[32m[I 2023-04-27 12:38:42,292]\u001b[0m Trial 130 finished with value: 0.710049 and parameters: {'max_depth': 6, 'eta': 0.08275606526539288, 'gamma': 0.06876217356528194, 'alpha': 0.09327583670401372, 'lambda': 0.09761519860873176, 'subsample': 0.5675471677511935, 'sampling_method': 'gradient_based'}. Best is trial 121 with value: 0.724166.\u001b[0m\n",
      "\u001b[32m[I 2023-04-27 12:38:43,273]\u001b[0m Trial 131 finished with value: 0.715102 and parameters: {'max_depth': 6, 'eta': 0.09564207078187117, 'gamma': 0.06102274513232202, 'alpha': 0.09722917083969025, 'lambda': 0.03772969703156027, 'subsample': 0.5840723632273882, 'sampling_method': 'gradient_based'}. Best is trial 121 with value: 0.724166.\u001b[0m\n",
      "\u001b[32m[I 2023-04-27 12:38:44,276]\u001b[0m Trial 132 finished with value: 0.714052 and parameters: {'max_depth': 6, 'eta': 0.09447660888254286, 'gamma': 0.056024274853078856, 'alpha': 0.09552924136580211, 'lambda': 0.04446249448812641, 'subsample': 0.6138331258705998, 'sampling_method': 'gradient_based'}. Best is trial 121 with value: 0.724166.\u001b[0m\n",
      "\u001b[32m[I 2023-04-27 12:38:45,269]\u001b[0m Trial 133 finished with value: 0.714992 and parameters: {'max_depth': 6, 'eta': 0.09170569924397048, 'gamma': 0.06433580084037457, 'alpha': 0.08969186779288339, 'lambda': 0.0746017220820321, 'subsample': 0.5905604390789745, 'sampling_method': 'gradient_based'}. Best is trial 121 with value: 0.724166.\u001b[0m\n",
      "\u001b[32m[I 2023-04-27 12:38:46,182]\u001b[0m Trial 134 finished with value: 0.702568 and parameters: {'max_depth': 5, 'eta': 0.09987677801727579, 'gamma': 0.05814708196855738, 'alpha': 0.09185347988044995, 'lambda': 0.04104554274067029, 'subsample': 0.5421552409567275, 'sampling_method': 'gradient_based'}. Best is trial 121 with value: 0.724166.\u001b[0m\n",
      "\u001b[32m[I 2023-04-27 12:38:47,206]\u001b[0m Trial 135 finished with value: 0.71875 and parameters: {'max_depth': 6, 'eta': 0.09652271095850726, 'gamma': 0.055033539324170676, 'alpha': 0.09778049394712927, 'lambda': 0.08266268151700545, 'subsample': 0.5762312061233883, 'sampling_method': 'gradient_based'}. Best is trial 121 with value: 0.724166.\u001b[0m\n",
      "\u001b[32m[I 2023-04-27 12:38:48,235]\u001b[0m Trial 136 finished with value: 0.716393 and parameters: {'max_depth': 6, 'eta': 0.09374968298695502, 'gamma': 0.07495559351911286, 'alpha': 0.0936628106998863, 'lambda': 0.044927194077199306, 'subsample': 0.6064420778481584, 'sampling_method': 'gradient_based'}. Best is trial 121 with value: 0.724166.\u001b[0m\n",
      "\u001b[32m[I 2023-04-27 12:38:49,228]\u001b[0m Trial 137 finished with value: 0.718494 and parameters: {'max_depth': 6, 'eta': 0.08601869903904753, 'gamma': 0.060009527668404616, 'alpha': 0.09606345412279098, 'lambda': 0.0590580936470684, 'subsample': 0.6522817834856038, 'sampling_method': 'gradient_based'}. Best is trial 121 with value: 0.724166.\u001b[0m\n",
      "\u001b[32m[I 2023-04-27 12:38:50,298]\u001b[0m Trial 138 finished with value: 0.714636 and parameters: {'max_depth': 7, 'eta': 0.08956809770933752, 'gamma': 0.06595866928716308, 'alpha': 0.09982774941334689, 'lambda': 0.05676077793120286, 'subsample': 0.5950300646351726, 'sampling_method': 'gradient_based'}. Best is trial 121 with value: 0.724166.\u001b[0m\n",
      "\u001b[32m[I 2023-04-27 12:38:51,289]\u001b[0m Trial 139 finished with value: 0.713584 and parameters: {'max_depth': 6, 'eta': 0.09655232739027449, 'gamma': 0.06234560248422125, 'alpha': 0.09035636153954073, 'lambda': 0.09115922794235123, 'subsample': 0.6326708781848852, 'sampling_method': 'gradient_based'}. Best is trial 121 with value: 0.724166.\u001b[0m\n",
      "\u001b[32m[I 2023-04-27 12:38:52,216]\u001b[0m Trial 140 finished with value: 0.71476 and parameters: {'max_depth': 5, 'eta': 0.09273708265235436, 'gamma': 0.05307935398328609, 'alpha': 0.06336490446782275, 'lambda': 0.04682185876581812, 'subsample': 0.563849912116117, 'sampling_method': 'uniform'}. Best is trial 121 with value: 0.724166.\u001b[0m\n",
      "\u001b[32m[I 2023-04-27 12:38:53,204]\u001b[0m Trial 141 finished with value: 0.715928 and parameters: {'max_depth': 6, 'eta': 0.09559734266239392, 'gamma': 0.05542026438439531, 'alpha': 0.09791999061135258, 'lambda': 0.03880379426742666, 'subsample': 0.5783141369146154, 'sampling_method': 'gradient_based'}. Best is trial 121 with value: 0.724166.\u001b[0m\n",
      "\u001b[32m[I 2023-04-27 12:38:54,234]\u001b[0m Trial 142 finished with value: 0.713469 and parameters: {'max_depth': 6, 'eta': 0.09794757030819248, 'gamma': 0.05820464001454815, 'alpha': 0.09786533144342813, 'lambda': 0.07966830306997877, 'subsample': 0.5564006116405842, 'sampling_method': 'gradient_based'}. Best is trial 121 with value: 0.724166.\u001b[0m\n",
      "\u001b[32m[I 2023-04-27 12:38:55,221]\u001b[0m Trial 143 finished with value: 0.711948 and parameters: {'max_depth': 6, 'eta': 0.09405756161418824, 'gamma': 0.05391672389334535, 'alpha': 0.0949101709673865, 'lambda': 0.09568073120359229, 'subsample': 0.5747871087012426, 'sampling_method': 'gradient_based'}. Best is trial 121 with value: 0.724166.\u001b[0m\n",
      "\u001b[32m[I 2023-04-27 12:38:56,257]\u001b[0m Trial 144 finished with value: 0.715928 and parameters: {'max_depth': 6, 'eta': 0.09778191107503195, 'gamma': 0.056703801173757604, 'alpha': 0.0965331569838678, 'lambda': 0.0891298421915781, 'subsample': 0.6143842666104882, 'sampling_method': 'gradient_based'}. Best is trial 121 with value: 0.724166.\u001b[0m\n",
      "\u001b[32m[I 2023-04-27 12:38:57,508]\u001b[0m Trial 145 finished with value: 0.721446 and parameters: {'max_depth': 6, 'eta': 0.09069941956918952, 'gamma': 0.06443690000981783, 'alpha': 0.09307035492635335, 'lambda': 0.09494256774613358, 'subsample': 0.5975763793934404, 'sampling_method': 'gradient_based'}. Best is trial 121 with value: 0.724166.\u001b[0m\n",
      "\u001b[32m[I 2023-04-27 12:38:59,001]\u001b[0m Trial 146 finished with value: 0.711002 and parameters: {'max_depth': 7, 'eta': 0.09125742146699502, 'gamma': 0.0706790632730241, 'alpha': 0.09313012371258121, 'lambda': 0.04300125141320266, 'subsample': 0.5944210284448436, 'sampling_method': 'gradient_based'}. Best is trial 121 with value: 0.724166.\u001b[0m\n",
      "\u001b[32m[I 2023-04-27 12:39:00,095]\u001b[0m Trial 147 finished with value: 0.70903 and parameters: {'max_depth': 4, 'eta': 0.08727070898024464, 'gamma': 0.06380001750342075, 'alpha': 0.09104261783525866, 'lambda': 0.09916097759542467, 'subsample': 0.6231571808039638, 'sampling_method': 'gradient_based'}. Best is trial 121 with value: 0.724166.\u001b[0m\n",
      "\u001b[32m[I 2023-04-27 12:39:01,441]\u001b[0m Trial 148 finished with value: 0.712059 and parameters: {'max_depth': 6, 'eta': 0.0894370623060804, 'gamma': 0.06804341930430532, 'alpha': 0.08740970647462865, 'lambda': 0.09233528727425082, 'subsample': 0.606976353782339, 'sampling_method': 'uniform'}. Best is trial 121 with value: 0.724166.\u001b[0m\n",
      "\u001b[32m[I 2023-04-27 12:39:02,810]\u001b[0m Trial 149 finished with value: 0.713115 and parameters: {'max_depth': 6, 'eta': 0.09997135335774959, 'gamma': 0.0649414160851164, 'alpha': 0.05867502813328694, 'lambda': 0.036381160168019955, 'subsample': 0.589689583786464, 'sampling_method': 'gradient_based'}. Best is trial 121 with value: 0.724166.\u001b[0m\n",
      "\u001b[32m[I 2023-04-27 12:39:04,296]\u001b[0m Trial 150 finished with value: 0.710157 and parameters: {'max_depth': 6, 'eta': 0.061790841638670456, 'gamma': 0.06187720786175111, 'alpha': 0.06754820200493446, 'lambda': 0.09931372202764842, 'subsample': 0.5459744219017953, 'sampling_method': 'gradient_based'}. Best is trial 121 with value: 0.724166.\u001b[0m\n",
      "\u001b[32m[I 2023-04-27 12:39:05,719]\u001b[0m Trial 151 finished with value: 0.716981 and parameters: {'max_depth': 6, 'eta': 0.09680277914472984, 'gamma': 0.05966466453929532, 'alpha': 0.09998819597077996, 'lambda': 0.09538865247055092, 'subsample': 0.5682453152625065, 'sampling_method': 'gradient_based'}. Best is trial 121 with value: 0.724166.\u001b[0m\n",
      "\u001b[32m[I 2023-04-27 12:39:07,020]\u001b[0m Trial 152 finished with value: 0.716981 and parameters: {'max_depth': 6, 'eta': 0.09357052185636992, 'gamma': 0.051748301318217935, 'alpha': 0.09445412439400279, 'lambda': 0.08258104932954816, 'subsample': 0.5846704740068153, 'sampling_method': 'gradient_based'}. Best is trial 121 with value: 0.724166.\u001b[0m\n",
      "\u001b[32m[I 2023-04-27 12:39:08,285]\u001b[0m Trial 153 finished with value: 0.712418 and parameters: {'max_depth': 6, 'eta': 0.09597671906351654, 'gamma': 0.04503431289117461, 'alpha': 0.09770042016508879, 'lambda': 0.040759696043568265, 'subsample': 0.6010435092613005, 'sampling_method': 'gradient_based'}. Best is trial 121 with value: 0.724166.\u001b[0m\n",
      "\u001b[32m[I 2023-04-27 12:39:09,548]\u001b[0m Trial 154 finished with value: 0.714169 and parameters: {'max_depth': 6, 'eta': 0.09160480549967816, 'gamma': 0.0576994952591341, 'alpha': 0.09248607731907083, 'lambda': 0.08639202240260707, 'subsample': 0.5766372533117956, 'sampling_method': 'gradient_based'}. Best is trial 121 with value: 0.724166.\u001b[0m\n",
      "\u001b[32m[I 2023-04-27 12:39:11,303]\u001b[0m Trial 155 finished with value: 0.712757 and parameters: {'max_depth': 6, 'eta': 0.07936731541125555, 'gamma': 0.05416658027896984, 'alpha': 0.09626499870275401, 'lambda': 0.09405808105945034, 'subsample': 0.6167905866011161, 'sampling_method': 'gradient_based'}. Best is trial 121 with value: 0.724166.\u001b[0m\n",
      "\u001b[32m[I 2023-04-27 12:39:12,365]\u001b[0m Trial 156 finished with value: 0.721633 and parameters: {'max_depth': 6, 'eta': 0.09430545578011831, 'gamma': 0.048398257341817685, 'alpha': 0.0892583297781144, 'lambda': 0.0903423800605083, 'subsample': 0.6413568216788099, 'sampling_method': 'gradient_based'}. Best is trial 121 with value: 0.724166.\u001b[0m\n",
      "\u001b[32m[I 2023-04-27 12:39:13,326]\u001b[0m Trial 157 finished with value: 0.717781 and parameters: {'max_depth': 6, 'eta': 0.09343676301455496, 'gamma': 0.049833515656336355, 'alpha': 0.08878490907905756, 'lambda': 0.049255968563795716, 'subsample': 0.6387949563394035, 'sampling_method': 'uniform'}. Best is trial 121 with value: 0.724166.\u001b[0m\n",
      "\u001b[32m[I 2023-04-27 12:39:14,218]\u001b[0m Trial 158 finished with value: 0.712033 and parameters: {'max_depth': 5, 'eta': 0.08799671972978139, 'gamma': 0.04809081003785327, 'alpha': 0.08427889396413488, 'lambda': 0.03373332735590122, 'subsample': 0.6315159610116469, 'sampling_method': 'gradient_based'}. Best is trial 121 with value: 0.724166.\u001b[0m\n",
      "\u001b[32m[I 2023-04-27 12:39:15,178]\u001b[0m Trial 159 finished with value: 0.716516 and parameters: {'max_depth': 6, 'eta': 0.08480850055805415, 'gamma': 0.04686825633407781, 'alpha': 0.09072305216885436, 'lambda': 0.06106387172467082, 'subsample': 0.6229400595162602, 'sampling_method': 'gradient_based'}. Best is trial 121 with value: 0.724166.\u001b[0m\n",
      "\u001b[32m[I 2023-04-27 12:39:16,209]\u001b[0m Trial 160 finished with value: 0.709465 and parameters: {'max_depth': 7, 'eta': 0.09056245454878843, 'gamma': 0.06807562029276845, 'alpha': 0.08055524456383067, 'lambda': 0.09633946772078522, 'subsample': 0.6727845310093421, 'sampling_method': 'uniform'}. Best is trial 121 with value: 0.724166.\u001b[0m\n",
      "\u001b[32m[I 2023-04-27 12:39:17,183]\u001b[0m Trial 161 finished with value: 0.722772 and parameters: {'max_depth': 6, 'eta': 0.09636355122128555, 'gamma': 0.05187146247694667, 'alpha': 0.09402901045305026, 'lambda': 0.09743399447044984, 'subsample': 0.601232211226774, 'sampling_method': 'gradient_based'}. Best is trial 121 with value: 0.724166.\u001b[0m\n",
      "\u001b[32m[I 2023-04-27 12:39:18,149]\u001b[0m Trial 162 finished with value: 0.714873 and parameters: {'max_depth': 6, 'eta': 0.09545411993215827, 'gamma': 0.05182841181949032, 'alpha': 0.09483606961356769, 'lambda': 0.0975843357954588, 'subsample': 0.6115912150979896, 'sampling_method': 'gradient_based'}. Best is trial 121 with value: 0.724166.\u001b[0m\n",
      "\u001b[32m[I 2023-04-27 12:39:19,166]\u001b[0m Trial 163 finished with value: 0.714992 and parameters: {'max_depth': 6, 'eta': 0.09808384030029214, 'gamma': 0.04528508939126857, 'alpha': 0.07370167399823563, 'lambda': 0.09363410723872587, 'subsample': 0.6007254976760112, 'sampling_method': 'gradient_based'}. Best is trial 121 with value: 0.724166.\u001b[0m\n",
      "\u001b[32m[I 2023-04-27 12:39:20,186]\u001b[0m Trial 164 finished with value: 0.716858 and parameters: {'max_depth': 6, 'eta': 0.09246053143449463, 'gamma': 0.0413988859834815, 'alpha': 0.09229257013326854, 'lambda': 0.09094155458188678, 'subsample': 0.6432267438610751, 'sampling_method': 'gradient_based'}. Best is trial 121 with value: 0.724166.\u001b[0m\n",
      "\u001b[32m[I 2023-04-27 12:39:21,144]\u001b[0m Trial 165 finished with value: 0.714519 and parameters: {'max_depth': 6, 'eta': 0.09413499450345572, 'gamma': 0.049041858386934443, 'alpha': 0.051125537382250716, 'lambda': 0.09445611968684457, 'subsample': 0.5897469877175899, 'sampling_method': 'gradient_based'}. Best is trial 121 with value: 0.724166.\u001b[0m\n",
      "\u001b[32m[I 2023-04-27 12:39:22,108]\u001b[0m Trial 166 finished with value: 0.71615 and parameters: {'max_depth': 6, 'eta': 0.07388890814735112, 'gamma': 0.06577300339061154, 'alpha': 0.08691846744941441, 'lambda': 0.09936897626786566, 'subsample': 0.608817673915008, 'sampling_method': 'gradient_based'}. Best is trial 121 with value: 0.724166.\u001b[0m\n",
      "\u001b[32m[I 2023-04-27 12:39:23,110]\u001b[0m Trial 167 finished with value: 0.713229 and parameters: {'max_depth': 6, 'eta': 0.09866318533895385, 'gamma': 0.06064278347550925, 'alpha': 0.09383049848147751, 'lambda': 0.03801770963618288, 'subsample': 0.6221171117327882, 'sampling_method': 'gradient_based'}. Best is trial 121 with value: 0.724166.\u001b[0m\n",
      "\u001b[32m[I 2023-04-27 12:39:24,075]\u001b[0m Trial 168 finished with value: 0.723856 and parameters: {'max_depth': 6, 'eta': 0.09512043703913156, 'gamma': 0.056273685988384975, 'alpha': 0.08894804185020548, 'lambda': 0.035350335819841344, 'subsample': 0.6542076183752967, 'sampling_method': 'gradient_based'}. Best is trial 121 with value: 0.724166.\u001b[0m\n",
      "\u001b[32m[I 2023-04-27 12:39:25,071]\u001b[0m Trial 169 finished with value: 0.715102 and parameters: {'max_depth': 6, 'eta': 0.09139291669109592, 'gamma': 0.06328497130672965, 'alpha': 0.089690329321617, 'lambda': 0.034703468776696805, 'subsample': 0.6601509912114015, 'sampling_method': 'gradient_based'}. Best is trial 121 with value: 0.724166.\u001b[0m\n",
      "\u001b[32m[I 2023-04-27 12:39:25,971]\u001b[0m Trial 170 finished with value: 0.712986 and parameters: {'max_depth': 5, 'eta': 0.08959572657370121, 'gamma': 0.07154285972075035, 'alpha': 0.08494333496720817, 'lambda': 0.06859335291548023, 'subsample': 0.6545101905234116, 'sampling_method': 'uniform'}. Best is trial 121 with value: 0.724166.\u001b[0m\n",
      "\u001b[32m[I 2023-04-27 12:39:26,941]\u001b[0m Trial 171 finished with value: 0.705012 and parameters: {'max_depth': 6, 'eta': 0.09507906718772735, 'gamma': 0.05276757105324478, 'alpha': 0.08875208753954267, 'lambda': 0.04193757607866272, 'subsample': 0.6363311026323129, 'sampling_method': 'gradient_based'}. Best is trial 121 with value: 0.724166.\u001b[0m\n",
      "\u001b[32m[I 2023-04-27 12:39:27,903]\u001b[0m Trial 172 finished with value: 0.717073 and parameters: {'max_depth': 6, 'eta': 0.09651739781832906, 'gamma': 0.056049946491027916, 'alpha': 0.041879304906997504, 'lambda': 0.03919824978624322, 'subsample': 0.5976521423628841, 'sampling_method': 'gradient_based'}. Best is trial 121 with value: 0.724166.\u001b[0m\n",
      "\u001b[32m[I 2023-04-27 12:39:28,880]\u001b[0m Trial 173 finished with value: 0.718494 and parameters: {'max_depth': 6, 'eta': 0.0935177936101928, 'gamma': 0.05088621400513992, 'alpha': 0.09617400219308597, 'lambda': 0.02883462004800466, 'subsample': 0.6656048710504048, 'sampling_method': 'gradient_based'}. Best is trial 121 with value: 0.724166.\u001b[0m\n",
      "\u001b[32m[I 2023-04-27 12:39:29,862]\u001b[0m Trial 174 finished with value: 0.718033 and parameters: {'max_depth': 6, 'eta': 0.09870250015332066, 'gamma': 0.05750133656258525, 'alpha': 0.09283463901755691, 'lambda': 0.03613670526088796, 'subsample': 0.5847940216802017, 'sampling_method': 'gradient_based'}. Best is trial 121 with value: 0.724166.\u001b[0m\n",
      "\u001b[32m[I 2023-04-27 12:39:30,840]\u001b[0m Trial 175 finished with value: 0.714052 and parameters: {'max_depth': 6, 'eta': 0.09608230231098637, 'gamma': 0.059215016444763895, 'alpha': 0.07585357742083655, 'lambda': 0.044126433512790345, 'subsample': 0.5178866674076028, 'sampling_method': 'gradient_based'}. Best is trial 121 with value: 0.724166.\u001b[0m\n",
      "\u001b[32m[I 2023-04-27 12:39:31,801]\u001b[0m Trial 176 finished with value: 0.714052 and parameters: {'max_depth': 6, 'eta': 0.09201146019139703, 'gamma': 0.061798861843125115, 'alpha': 0.09820433077741716, 'lambda': 0.03242740223435704, 'subsample': 0.6126386009275856, 'sampling_method': 'gradient_based'}. Best is trial 121 with value: 0.724166.\u001b[0m\n",
      "\u001b[32m[I 2023-04-27 12:39:32,761]\u001b[0m Trial 177 finished with value: 0.708299 and parameters: {'max_depth': 6, 'eta': 0.09993291006888146, 'gamma': 0.04797596880770599, 'alpha': 0.09116748400222517, 'lambda': 0.05176653511197438, 'subsample': 0.646894923282023, 'sampling_method': 'gradient_based'}. Best is trial 121 with value: 0.724166.\u001b[0m\n",
      "\u001b[32m[I 2023-04-27 12:39:33,822]\u001b[0m Trial 178 finished with value: 0.698333 and parameters: {'max_depth': 7, 'eta': 0.047704430830510326, 'gamma': 0.054196148635172456, 'alpha': 0.09503908396826727, 'lambda': 0.09690565879744267, 'subsample': 0.6298619033177173, 'sampling_method': 'gradient_based'}. Best is trial 121 with value: 0.724166.\u001b[0m\n",
      "\u001b[32m[I 2023-04-27 12:39:34,775]\u001b[0m Trial 179 finished with value: 0.720263 and parameters: {'max_depth': 6, 'eta': 0.09396238123079571, 'gamma': 0.06377500308448827, 'alpha': 0.07933542547663776, 'lambda': 0.04552792122601612, 'subsample': 0.5615548371868455, 'sampling_method': 'uniform'}. Best is trial 121 with value: 0.724166.\u001b[0m\n",
      "\u001b[32m[I 2023-04-27 12:39:35,732]\u001b[0m Trial 180 finished with value: 0.708778 and parameters: {'max_depth': 6, 'eta': 0.08825731887041868, 'gamma': 0.06411504743125679, 'alpha': 0.07826526783933116, 'lambda': 0.040476854125325326, 'subsample': 0.5300257720737693, 'sampling_method': 'uniform'}. Best is trial 121 with value: 0.724166.\u001b[0m\n",
      "\u001b[32m[I 2023-04-27 12:39:36,686]\u001b[0m Trial 181 finished with value: 0.715928 and parameters: {'max_depth': 6, 'eta': 0.09460003083961221, 'gamma': 0.06923349996673347, 'alpha': 0.0882025883451055, 'lambda': 0.046448024040705575, 'subsample': 0.5535843097390694, 'sampling_method': 'uniform'}. Best is trial 121 with value: 0.724166.\u001b[0m\n",
      "\u001b[32m[I 2023-04-27 12:39:37,639]\u001b[0m Trial 182 finished with value: 0.718494 and parameters: {'max_depth': 6, 'eta': 0.09242735025953305, 'gamma': 0.06633635138005904, 'alpha': 0.08172923502259812, 'lambda': 0.045112834925136215, 'subsample': 0.5672638643242086, 'sampling_method': 'uniform'}. Best is trial 121 with value: 0.724166.\u001b[0m\n",
      "\u001b[32m[I 2023-04-27 12:39:38,592]\u001b[0m Trial 183 finished with value: 0.716049 and parameters: {'max_depth': 6, 'eta': 0.09738300051219444, 'gamma': 0.06152634675398509, 'alpha': 0.07983898717418868, 'lambda': 0.042562241566965434, 'subsample': 0.5961502921060808, 'sampling_method': 'uniform'}. Best is trial 121 with value: 0.724166.\u001b[0m\n",
      "\u001b[32m[I 2023-04-27 12:39:39,544]\u001b[0m Trial 184 finished with value: 0.723716 and parameters: {'max_depth': 6, 'eta': 0.09430483911391926, 'gamma': 0.05942974558835273, 'alpha': 0.08634128801403547, 'lambda': 0.04845016701987787, 'subsample': 0.5804880395316765, 'sampling_method': 'uniform'}. Best is trial 121 with value: 0.724166.\u001b[0m\n",
      "\u001b[32m[I 2023-04-27 12:39:40,500]\u001b[0m Trial 185 finished with value: 0.710204 and parameters: {'max_depth': 6, 'eta': 0.08996619371087385, 'gamma': 0.059852144397300376, 'alpha': 0.0859632024628439, 'lambda': 0.04931524694326916, 'subsample': 0.6051631841030948, 'sampling_method': 'uniform'}. Best is trial 121 with value: 0.724166.\u001b[0m\n",
      "\u001b[32m[I 2023-04-27 12:39:41,452]\u001b[0m Trial 186 finished with value: 0.715686 and parameters: {'max_depth': 6, 'eta': 0.09381455228302045, 'gamma': 0.06348087024803208, 'alpha': 0.085293398778057, 'lambda': 0.07251522790238162, 'subsample': 0.5655757988099409, 'sampling_method': 'uniform'}. Best is trial 121 with value: 0.724166.\u001b[0m\n",
      "\u001b[32m[I 2023-04-27 12:39:42,409]\u001b[0m Trial 187 finished with value: 0.716393 and parameters: {'max_depth': 6, 'eta': 0.09095471580138353, 'gamma': 0.057769566194460546, 'alpha': 0.08347031944925243, 'lambda': 0.03765450198189151, 'subsample': 0.5814463695636551, 'sampling_method': 'uniform'}. Best is trial 121 with value: 0.724166.\u001b[0m\n",
      "\u001b[32m[I 2023-04-27 12:39:43,704]\u001b[0m Trial 188 finished with value: 0.697521 and parameters: {'max_depth': 10, 'eta': 0.0948705847737521, 'gamma': 0.06722965732798925, 'alpha': 0.09097962653020066, 'lambda': 0.053528684260202866, 'subsample': 0.6183261299375955, 'sampling_method': 'uniform'}. Best is trial 121 with value: 0.724166.\u001b[0m\n",
      "\u001b[32m[I 2023-04-27 12:39:44,661]\u001b[0m Trial 189 finished with value: 0.709836 and parameters: {'max_depth': 6, 'eta': 0.0810442767945126, 'gamma': 0.06534034839885336, 'alpha': 0.08704926347392115, 'lambda': 0.04633078153644358, 'subsample': 0.552872921195746, 'sampling_method': 'uniform'}. Best is trial 121 with value: 0.724166.\u001b[0m\n",
      "\u001b[32m[I 2023-04-27 12:39:45,690]\u001b[0m Trial 190 finished with value: 0.712644 and parameters: {'max_depth': 7, 'eta': 0.08658513925047437, 'gamma': 0.0558238605142115, 'alpha': 0.0817759690775707, 'lambda': 0.0874442322889015, 'subsample': 0.697781950170367, 'sampling_method': 'uniform'}. Best is trial 121 with value: 0.724166.\u001b[0m\n",
      "\u001b[32m[I 2023-04-27 12:39:46,652]\u001b[0m Trial 191 finished with value: 0.71615 and parameters: {'max_depth': 6, 'eta': 0.07699387962019405, 'gamma': 0.05219407808198226, 'alpha': 0.0935562796315884, 'lambda': 0.047715849602646694, 'subsample': 0.5841614296744332, 'sampling_method': 'gradient_based'}. Best is trial 121 with value: 0.724166.\u001b[0m\n",
      "\u001b[32m[I 2023-04-27 12:39:47,610]\u001b[0m Trial 192 finished with value: 0.714873 and parameters: {'max_depth': 6, 'eta': 0.09653917405734022, 'gamma': 0.05976922432831443, 'alpha': 0.09804339127615798, 'lambda': 0.04347977269303931, 'subsample': 0.5963802257764035, 'sampling_method': 'gradient_based'}. Best is trial 121 with value: 0.724166.\u001b[0m\n",
      "\u001b[32m[I 2023-04-27 12:39:48,569]\u001b[0m Trial 193 finished with value: 0.715566 and parameters: {'max_depth': 6, 'eta': 0.09274041544741538, 'gamma': 0.05100749094960987, 'alpha': 0.09592627199865336, 'lambda': 0.09031593145071638, 'subsample': 0.573992092011657, 'sampling_method': 'gradient_based'}. Best is trial 121 with value: 0.724166.\u001b[0m\n",
      "\u001b[32m[I 2023-04-27 12:39:49,762]\u001b[0m Trial 194 finished with value: 0.710635 and parameters: {'max_depth': 9, 'eta': 0.09819751743409835, 'gamma': 0.06250099180176502, 'alpha': 0.03528390650314092, 'lambda': 0.0395319201898343, 'subsample': 0.5911772588184054, 'sampling_method': 'gradient_based'}. Best is trial 121 with value: 0.724166.\u001b[0m\n",
      "\u001b[32m[I 2023-04-27 12:39:50,725]\u001b[0m Trial 195 finished with value: 0.710049 and parameters: {'max_depth': 6, 'eta': 0.09534307541871329, 'gamma': 0.05440537502294761, 'alpha': 0.09393714138936532, 'lambda': 0.05065241859078014, 'subsample': 0.6875978140147619, 'sampling_method': 'uniform'}. Best is trial 121 with value: 0.724166.\u001b[0m\n",
      "\u001b[32m[I 2023-04-27 12:39:51,679]\u001b[0m Trial 196 finished with value: 0.716393 and parameters: {'max_depth': 6, 'eta': 0.09410996971414146, 'gamma': 0.05745903935081515, 'alpha': 0.089629704018866, 'lambda': 0.03582316307174854, 'subsample': 0.5601209473261277, 'sampling_method': 'gradient_based'}. Best is trial 121 with value: 0.724166.\u001b[0m\n",
      "\u001b[32m[I 2023-04-27 12:39:52,637]\u001b[0m Trial 197 finished with value: 0.714169 and parameters: {'max_depth': 6, 'eta': 0.09685084564103834, 'gamma': 0.0738302342819893, 'alpha': 0.09970747111834907, 'lambda': 0.09226714728040021, 'subsample': 0.6067078326957336, 'sampling_method': 'gradient_based'}. Best is trial 121 with value: 0.724166.\u001b[0m\n",
      "\u001b[32m[I 2023-04-27 12:39:53,593]\u001b[0m Trial 198 finished with value: 0.721365 and parameters: {'max_depth': 6, 'eta': 0.09140968556217229, 'gamma': 0.06963205101214381, 'alpha': 0.09651936641292999, 'lambda': 0.07634185684401111, 'subsample': 0.538416298727503, 'sampling_method': 'gradient_based'}. Best is trial 121 with value: 0.724166.\u001b[0m\n",
      "\u001b[32m[I 2023-04-27 12:39:54,556]\u001b[0m Trial 199 finished with value: 0.719672 and parameters: {'max_depth': 6, 'eta': 0.08962058131836795, 'gamma': 0.06624859956497588, 'alpha': 0.09241319394554501, 'lambda': 0.0890258514336126, 'subsample': 0.5510939721125317, 'sampling_method': 'uniform'}. Best is trial 121 with value: 0.724166.\u001b[0m\n"
     ]
    }
   ],
   "source": [
    "\n",
    "\n",
    "\n",
    "def objective_2(trial):\n",
    "    evals_results = {}\n",
    "    param = {'objective': 'binary:logistic', 'tree_method': 'gpu_hist', 'verbosity': 0}\n",
    "    param['max_depth'] = trial.suggest_int('max_depth', 3, 10)\n",
    "    param['eta'] = trial.suggest_float('eta', 0, 1e-1)\n",
    "    param['gamma'] = trial.suggest_float('gamma', 0, 1e-1)\n",
    "    param['alpha'] = trial.suggest_float('alpha', 0, 1e-1)\n",
    "    param['lambda'] = trial.suggest_float('lambda', 0, 1e-1)\n",
    "    param['subsamplea'] = trial.suggest_float('subsample', 0.5, 1)\n",
    "    param['sampling_method'] = trial.suggest_categorical('sampling_method', ['uniform', 'gradient_based'])\n",
    "    num_rounds = 100\n",
    "    bst = xgb.train(param, dtrain, num_rounds, evals=[(dtest, 'test')], feval=f1_calculator, verbose_eval=False, evals_result=evals_results)\n",
    "    return evals_results['test']['f1'][-1]\n",
    "\n",
    "\n",
    "study = optuna.create_study(direction='maximize')\n",
    "study.optimize(objective_2, n_trials=200)"
   ]
  },
  {
   "cell_type": "code",
   "execution_count": 71,
   "metadata": {},
   "outputs": [
    {
     "data": {
      "text/plain": [
       "{'max_depth': 6,\n",
       " 'eta': 0.09081514003358984,\n",
       " 'gamma': 0.06642929982914873,\n",
       " 'alpha': 0.0940319005665157,\n",
       " 'lambda': 0.03697634500529317,\n",
       " 'subsample': 0.6137676048529289,\n",
       " 'sampling_method': 'gradient_based'}"
      ]
     },
     "execution_count": 71,
     "metadata": {},
     "output_type": "execute_result"
    }
   ],
   "source": [
    "study.best_params"
   ]
  },
  {
   "cell_type": "code",
   "execution_count": 10,
   "metadata": {},
   "outputs": [],
   "source": [
    "evals_results = {}\n",
    "param = {'objective': 'binary:logistic', 'tree_method': 'gpu_hist', 'verbosity': 0, 'max_depth': 6,\n",
    " 'eta': 0.09081514003358984,\n",
    " 'gamma': 0.06642929982914873,\n",
    " 'alpha': 0.0940319005665157,\n",
    " 'lambda': 0.03697634500529317,\n",
    " 'subsample': 0.6137676048529289,\n",
    " 'sampling_method': 'gradient_based'}\n",
    "num_rounds = 100\n",
    "bst = xgb.train(param, dtrain, num_rounds, evals=[(dtrain, 'train'), (dtest, 'test')], verbose_eval=False, feval=f1_calculator, evals_result=evals_results, maximize=True)"
   ]
  },
  {
   "cell_type": "code",
   "execution_count": 85,
   "metadata": {},
   "outputs": [
    {
     "data": {
      "image/png": "[encoded data removed]",
      "text/plain": [
       "<Figure size 640x480 with 1 Axes>"
      ]
     },
     "metadata": {},
     "output_type": "display_data"
    }
   ],
   "source": [
    "plt.plot(range(num_rounds), evals_results['train']['logloss'], label='train')\n",
    "plt.plot(range(num_rounds), evals_results['test']['logloss'], label='test')\n",
    "plt.legend()\n",
    "plt.title('Loss Over Epochs')\n",
    "plt.show()"
   ]
  },
  {
   "cell_type": "code",
   "execution_count": 86,
   "metadata": {},
   "outputs": [
    {
     "data": {
      "image/png": "[encoded data removed]",
      "text/plain": [
       "<Figure size 640x480 with 1 Axes>"
      ]
     },
     "metadata": {},
     "output_type": "display_data"
    }
   ],
   "source": [
    "plt.plot(range(num_rounds), evals_results['train']['f1'], label='train')\n",
    "plt.plot(range(num_rounds), evals_results['test']['f1'], label='test')\n",
    "plt.legend()\n",
    "plt.title('F1 Score Over Epochs')\n",
    "plt.show()"
   ]
  },
  {
   "cell_type": "code",
   "execution_count": 1,
   "metadata": {},
   "outputs": [
    {
     "ename": "NameError",
     "evalue": "name 'bst' is not defined",
     "output_type": "error",
     "traceback": [
      "\u001b[1;31m---------------------------------------------------------------------------\u001b[0m",
      "\u001b[1;31mNameError\u001b[0m                                 Traceback (most recent call last)",
      "Cell \u001b[1;32mIn[1], line 1\u001b[0m\n\u001b[1;32m----> 1\u001b[0m preds \u001b[39m=\u001b[39m [\u001b[39m1\u001b[39m \u001b[39mif\u001b[39;00m item \u001b[39m>\u001b[39m \u001b[39m0.5\u001b[39m \u001b[39melse\u001b[39;00m \u001b[39m0\u001b[39m \u001b[39mfor\u001b[39;00m item \u001b[39min\u001b[39;00m bst\u001b[39m.\u001b[39mpredict(dtest)]\n\u001b[0;32m      2\u001b[0m f1_score(test_set\u001b[39m.\u001b[39mtarget, preds)\n",
      "\u001b[1;31mNameError\u001b[0m: name 'bst' is not defined"
     ]
    }
   ],
   "source": [
    "preds = [1 if item > 0.5 else 0 for item in bst.predict(dtest)]\n",
    "f1_score(test_set.target, preds)"
   ]
  },
  {
   "cell_type": "code",
   "execution_count": 88,
   "metadata": {},
   "outputs": [],
   "source": [
    "bst.save_model('xgb.model')"
   ]
  },
  {
   "cell_type": "code",
   "execution_count": 5,
   "metadata": {},
   "outputs": [],
   "source": [
    "bst = xgb.Booster()\n",
    "bst.load_model('xgb.model')"
   ]
  },
  {
   "cell_type": "code",
   "execution_count": 9,
   "metadata": {},
   "outputs": [
    {
     "name": "stdout",
     "output_type": "stream",
     "text": [
      "Index(['ICULOS', 'Temp', 'SBP', 'HospAdmTime', 'WBC', 'HR', 'MAP', 'DBP',\n",
      "       'O2Sat', 'Resp'],\n",
      "      dtype='object')\n"
     ]
    },
    {
     "data": {
      "image/png": "[encoded data removed]",
      "text/plain": [
       "<Figure size 1000x1000 with 1 Axes>"
      ]
     },
     "metadata": {},
     "output_type": "display_data"
    }
   ],
   "source": [
    "dic = bst.get_score()\n",
    "columns = pd.read_csv(TRAIN_PATH + 'patient_0.psv', sep='|').columns\n",
    "dic = {columns[int(key[1:])]: value for key, value in dic.items()}\n",
    "df = pd.DataFrame(dic.values(), index=dic.keys(), columns=['importance'])\n",
    "best_features_weight = df.nlargest(10, 'importance').index\n",
    "print(df.nlargest(10, 'importance'))\n",
    "df.plot(kind='barh', figsize=(10, 10))\n",
    "plt.show()"
   ]
  },
  {
   "cell_type": "code",
   "execution_count": 7,
   "metadata": {},
   "outputs": [
    {
     "name": "stdout",
     "output_type": "stream",
     "text": [
      "            importance\n",
      "ICULOS       54.291149\n",
      "Unit2        12.916007\n",
      "HCO3         11.680109\n",
      "pH            9.166693\n",
      "FiO2          8.769042\n",
      "Lactate       8.311134\n",
      "Temp          7.887246\n",
      "SBP           7.371395\n",
      "BaseExcess    6.268581\n",
      "EtCO2         6.263094\n"
     ]
    },
    {
     "data": {
      "image/png": "[encoded data removed]",
      "text/plain": [
       "<Figure size 1000x1000 with 1 Axes>"
      ]
     },
     "metadata": {},
     "output_type": "display_data"
    }
   ],
   "source": [
    "dic = bst.get_score(importance_type='gain')\n",
    "columns = pd.read_csv(TRAIN_PATH + 'patient_0.psv', sep='|').columns\n",
    "dic = {columns[int(key[1:])]: value for key, value in dic.items()}\n",
    "df = pd.DataFrame(dic.values(), index=dic.keys(), columns=['importance'])\n",
    "df.plot(kind='barh', figsize=(10, 10))\n",
    "best_features_gain = df.nlargest(10, 'importance').index\n",
    "print(df.nlargest(10, 'importance'))\n",
    "plt.show()"
   ]
  },
  {
   "attachments": {},
   "cell_type": "markdown",
   "metadata": {},
   "source": [
    "# LSTM\n",
    "### Dataset"
   ]
  },
  {
   "cell_type": "code",
   "execution_count": 138,
   "metadata": {},
   "outputs": [],
   "source": [
    "class LSTMDataset(Dataset):\n",
    "    def __init__(self, path=TRAIN_PATH, pad_to=50, pad=True, pad_value=0, features=None):\n",
    "        self.data = []\n",
    "        self.targets = []\n",
    "        for file in os.listdir(path):\n",
    "            df = pd.read_csv(os.path.join(path, file), sep='|')\n",
    "            sepsis_index = df[df['SepsisLabel'] == 1].first_valid_index()\n",
    "            df = df.drop('SepsisLabel', axis=1)\n",
    "            if features is not None:\n",
    "                df = df[features]\n",
    "            if sepsis_index is not None:\n",
    "                df = df.iloc[:sepsis_index+1]\n",
    "                self.targets.append(1)\n",
    "            else:\n",
    "                self.targets.append(0)\n",
    "            df = df.fillna(method='ffill').fillna(method='bfill').fillna(0)\n",
    "            df['length'] = df.shape[0]\n",
    "            data = torch.tensor(df.values, dtype=torch.float32)\n",
    "            self.data.append(data)\n",
    "            if pad:\n",
    "                if len(self.data[-1]) < pad_to:\n",
    "                    self.data[-1] = nn.functional.pad(self.data[-1], (0, 0, 0, pad_to - self.data[-1].shape[0]), value=pad_value)\n",
    "                else:\n",
    "                    self.data[-1] = self.data[-1][-pad_to:]\n",
    "\n",
    "    def __len__(self):\n",
    "        return len(self.data)\n",
    "    \n",
    "    def __getitem__(self, idx):\n",
    "        return self.data[idx], self.targets[idx]"
   ]
  },
  {
   "cell_type": "code",
   "execution_count": 153,
   "metadata": {},
   "outputs": [],
   "source": [
    "lstm_train_dataset = LSTMDataset(pad_to=400)\n",
    "lstm_test_dataset = LSTMDataset(path=TEST_PATH, pad_to=400)\n",
    "lstm_train_dataloader = DataLoader(lstm_train_dataset, batch_size=32, shuffle=True)\n",
    "lstm_test_dataloader = DataLoader(lstm_test_dataset, batch_size=32, shuffle=True)\n",
    "count_zero = sum([1 for x in lstm_train_dataset.targets if x == 0])\n",
    "count_one = 20000 - count_zero"
   ]
  },
  {
   "attachments": {},
   "cell_type": "markdown",
   "metadata": {},
   "source": [
    "### Model"
   ]
  },
  {
   "cell_type": "code",
   "execution_count": 154,
   "metadata": {},
   "outputs": [],
   "source": [
    "class LSTMModel(nn.Module):\n",
    "    def __init__(self, embedding_size=40, in_channels=400, out_channels=40, hidden_size=128, num_layers=2, lstm_dropout=0.1, fc_dropout=0.1, bidirectional=True, conv_dropout=0.1):\n",
    "        super().__init__()\n",
    "        self.hidden_size = hidden_size\n",
    "        self.num_layers = num_layers\n",
    "        self.maxpool = nn.MaxPool1d(4)\n",
    "        self.conv = nn.Sequential(nn.Conv1d(in_channels, out_channels, 3, padding=1), self.maxpool, nn.ReLU(), nn.Dropout(conv_dropout))\n",
    "        self.lstm = nn.LSTM(int(embedding_size/4), hidden_size, num_layers, dropout=lstm_dropout, batch_first=True, bidirectional=bidirectional)\n",
    "        self.fc_dropout = nn.Dropout(fc_dropout)\n",
    "        self.fc = nn.Linear(out_channels*(int(2*hidden_size) if bidirectional else int(hidden_size)), 2)\n",
    "\n",
    "    def forward(self, x):\n",
    "        out = self.conv(x)\n",
    "        out, _ = self.lstm(out)\n",
    "        out = self.fc_dropout(out)\n",
    "        out = self.fc(out.reshape(x.shape[0], -1))\n",
    "        return out"
   ]
  },
  {
   "cell_type": "code",
   "execution_count": 28,
   "metadata": {},
   "outputs": [
    {
     "name": "stderr",
     "output_type": "stream",
     "text": [
      "\u001b[32m[I 2023-05-04 16:28:17,548]\u001b[0m A new study created in memory with name: no-name-31483355-90ea-4fa6-87d2-9de95e1b915d\u001b[0m\n"
     ]
    },
    {
     "name": "stdout",
     "output_type": "stream",
     "text": [
      "Epoch: 1 Train Loss: 8.594797021222115 Test Loss: 5.546076706674221\n",
      "Epoch: 2 Train Loss: 8.380803801531345 Test Loss: 7.665185094752867\n",
      "Epoch: 3 Train Loss: 9.522974356085882 Test Loss: 3.4272890584156537\n",
      "Epoch: 4 Train Loss: 8.482236680424197 Test Loss: 13.691410859310995\n",
      "Epoch: 5 Train Loss: 9.312136276643223 Test Loss: 10.913170675291601\n",
      "Epoch: 6 Train Loss: 8.367004083591583 Test Loss: 12.826751063397902\n",
      "Epoch: 7 Train Loss: 7.377964137311069 Test Loss: 7.352889929732119\n",
      "Epoch: 8 Train Loss: 7.312007855468971 Test Loss: 6.118878662091696\n",
      "Epoch: 9 Train Loss: 7.397880266631511 Test Loss: 12.624009706616775\n",
      "Epoch: 10 Train Loss: 8.288627397162351 Test Loss: 4.922699598681219\n",
      "Epoch: 11 Train Loss: 7.676010857224185 Test Loss: 2.470712558530009\n",
      "Epoch: 12 Train Loss: 7.85689916003308 Test Loss: 2.9532113885298705\n",
      "Epoch: 13 Train Loss: 7.767226268958766 Test Loss: 3.2038418120985774\n",
      "Epoch: 14 Train Loss: 7.8305049304246905 Test Loss: 4.147968319908585\n"
     ]
    },
    {
     "name": "stderr",
     "output_type": "stream",
     "text": [
      "\u001b[32m[I 2023-05-04 16:29:02,547]\u001b[0m Trial 0 finished with value: 0.5413402959094864 and parameters: {'hidden_size': 45, 'num_layers': 1, 'lstm_dropout': 0.43137705206491556, 'fc_dropout': 0.47646808704037263, 'bidirectional': True, 'conv_dropout': 0.4065848803765894, 'out_channels': 19, 'lr': 0.07710096326715982}. Best is trial 0 with value: 0.5413402959094864.\u001b[0m\n"
     ]
    },
    {
     "name": "stdout",
     "output_type": "stream",
     "text": [
      "Epoch: 15 Train Loss: 7.643454411679507 Test Loss: 6.464163801466963\n",
      "Epoch: 1 Train Loss: 0.4595933825612068 Test Loss: 0.41295174161751813\n",
      "Epoch: 2 Train Loss: 0.40749446564912795 Test Loss: 0.42567724625047404\n",
      "Epoch: 3 Train Loss: 0.40088148475885393 Test Loss: 0.40127166704581185\n",
      "Epoch: 4 Train Loss: 0.39890213032364846 Test Loss: 0.42999844023356804\n",
      "Epoch: 5 Train Loss: 0.3929576393485069 Test Loss: 0.37949450634205684\n",
      "Epoch: 6 Train Loss: 0.3989578432917595 Test Loss: 0.3953748320619138\n",
      "Epoch: 7 Train Loss: 0.40214486006498334 Test Loss: 0.3875649887294815\n",
      "Epoch: 8 Train Loss: 0.3955847009718418 Test Loss: 0.38044381358276924\n",
      "Epoch: 9 Train Loss: 0.38839554253816605 Test Loss: 0.4153427383698785\n",
      "Epoch: 10 Train Loss: 0.39216132558584216 Test Loss: 0.37435643108317646\n",
      "Epoch: 11 Train Loss: 0.3871123900294304 Test Loss: 0.3846576838447644\n",
      "Epoch: 12 Train Loss: 0.3891987151503563 Test Loss: 0.3758724769369101\n",
      "Epoch: 13 Train Loss: 0.3797819668769836 Test Loss: 0.38811491083460875\n",
      "Epoch: 14 Train Loss: 0.38411174095273015 Test Loss: 0.3834966374590945\n"
     ]
    },
    {
     "name": "stderr",
     "output_type": "stream",
     "text": [
      "\u001b[32m[I 2023-05-04 16:29:49,140]\u001b[0m Trial 1 finished with value: 0.6925329428989752 and parameters: {'hidden_size': 47, 'num_layers': 2, 'lstm_dropout': 0.2572139714946476, 'fc_dropout': 0.46111857554514946, 'bidirectional': False, 'conv_dropout': 0.1226616013926623, 'out_channels': 33, 'lr': 0.00197701894259796}. Best is trial 1 with value: 0.6925329428989752.\u001b[0m\n"
     ]
    },
    {
     "name": "stdout",
     "output_type": "stream",
     "text": [
      "Epoch: 15 Train Loss: 0.38126833226680756 Test Loss: 0.37914540442510153\n",
      "Epoch: 1 Train Loss: 18.005121337225013 Test Loss: 2.416194126015148\n",
      "Epoch: 2 Train Loss: 16.745602019851127 Test Loss: 9.25155320182776\n",
      "Epoch: 3 Train Loss: 18.9438821320096 Test Loss: 5.793195716766588\n",
      "Epoch: 4 Train Loss: 19.736238018783506 Test Loss: 1.4586541838467884\n",
      "Epoch: 5 Train Loss: 20.859788850536383 Test Loss: 7.161001411776047\n",
      "Epoch: 6 Train Loss: 22.731278842004187 Test Loss: 16.744191790006106\n",
      "Epoch: 7 Train Loss: 20.037078052690894 Test Loss: 22.632287061063394\n",
      "Epoch: 8 Train Loss: 22.67069105889035 Test Loss: 46.10271698217422\n",
      "Epoch: 9 Train Loss: 23.887435158474844 Test Loss: 5.0762398479083854\n",
      "Epoch: 10 Train Loss: 23.68883568522945 Test Loss: 94.14435786561083\n",
      "Epoch: 11 Train Loss: 28.860539671353962 Test Loss: 4.533321338748949\n",
      "Epoch: 12 Train Loss: 28.275140519369092 Test Loss: 9.619204236926457\n",
      "Epoch: 13 Train Loss: 28.46022362677291 Test Loss: 2.227684261170201\n",
      "Epoch: 14 Train Loss: 25.95862162977713 Test Loss: 6.16465776240115\n"
     ]
    },
    {
     "name": "stderr",
     "output_type": "stream",
     "text": [
      "\u001b[32m[I 2023-05-04 16:31:31,946]\u001b[0m Trial 2 finished with value: 0.5736981465136805 and parameters: {'hidden_size': 243, 'num_layers': 2, 'lstm_dropout': 0.3587372467694111, 'fc_dropout': 0.39123875794564805, 'bidirectional': False, 'conv_dropout': 0.09370373859764936, 'out_channels': 31, 'lr': 0.07650994765000606}. Best is trial 1 with value: 0.6925329428989752.\u001b[0m\n"
     ]
    },
    {
     "name": "stdout",
     "output_type": "stream",
     "text": [
      "Epoch: 15 Train Loss: 23.581777681801565 Test Loss: 5.261113152926273\n",
      "Epoch: 1 Train Loss: 2.0256034624814987 Test Loss: 1.8069590657712153\n",
      "Epoch: 2 Train Loss: 1.1060206205911935 Test Loss: 0.5384252700990382\n",
      "Epoch: 3 Train Loss: 1.159028431813419 Test Loss: 1.0879246671550191\n",
      "Epoch: 4 Train Loss: 1.0372047825723887 Test Loss: 0.8399650288846927\n",
      "Epoch: 5 Train Loss: 0.9241907647818327 Test Loss: 0.6163938539668014\n",
      "Epoch: 6 Train Loss: 0.8262587426900864 Test Loss: 0.5640515671751369\n",
      "Epoch: 7 Train Loss: 0.7338485226571559 Test Loss: 0.7417941257809869\n",
      "Epoch: 8 Train Loss: 0.8673434915199876 Test Loss: 0.5173178771719004\n",
      "Epoch: 9 Train Loss: 0.9988869895935059 Test Loss: 0.5787069805133076\n",
      "Epoch: 10 Train Loss: 1.189457522945106 Test Loss: 0.7490398043248886\n",
      "Epoch: 11 Train Loss: 1.1479051653541625 Test Loss: 1.9227427313268481\n",
      "Epoch: 12 Train Loss: 1.6210112265255303 Test Loss: 0.7282620892077446\n",
      "Epoch: 13 Train Loss: 1.6046673965334892 Test Loss: 0.7028871983789597\n",
      "Epoch: 14 Train Loss: 1.5788658563554288 Test Loss: 1.546449121946213\n"
     ]
    },
    {
     "name": "stderr",
     "output_type": "stream",
     "text": [
      "\u001b[32m[I 2023-05-04 16:33:10,965]\u001b[0m Trial 3 finished with value: 0.6229508196721312 and parameters: {'hidden_size': 173, 'num_layers': 2, 'lstm_dropout': 0.2787647147449923, 'fc_dropout': 0.4726263805086861, 'bidirectional': False, 'conv_dropout': 0.008709492256589735, 'out_channels': 9, 'lr': 0.07040390231329481}. Best is trial 1 with value: 0.6925329428989752.\u001b[0m\n"
     ]
    },
    {
     "name": "stdout",
     "output_type": "stream",
     "text": [
      "Epoch: 15 Train Loss: 1.6782371363297104 Test Loss: 0.6338391698206576\n",
      "Epoch: 1 Train Loss: 0.8496956696331501 Test Loss: 0.6277004779337313\n",
      "Epoch: 2 Train Loss: 0.7664224601681344 Test Loss: 0.7374232258980933\n",
      "Epoch: 3 Train Loss: 0.8803490100094117 Test Loss: 0.561229441802913\n",
      "Epoch: 4 Train Loss: 1.1173816935948095 Test Loss: 0.6070438527856201\n",
      "Epoch: 5 Train Loss: 0.7590346745951101 Test Loss: 0.6422870304233159\n",
      "Epoch: 6 Train Loss: 0.5994508216272109 Test Loss: 0.5487310640728131\n",
      "Epoch: 7 Train Loss: 0.6508056547857821 Test Loss: 0.47266465104140415\n",
      "Epoch: 8 Train Loss: 0.744264001995977 Test Loss: 1.1058875240456945\n",
      "Epoch: 9 Train Loss: 1.1432626333968714 Test Loss: 2.131289265824505\n",
      "Epoch: 10 Train Loss: 1.0520847355261445 Test Loss: 0.7171979412888757\n",
      "Epoch: 11 Train Loss: 1.320088116224465 Test Loss: 1.2378761925445958\n",
      "Epoch: 12 Train Loss: 1.0268817878522911 Test Loss: 1.793352137204816\n",
      "Epoch: 13 Train Loss: 1.1743704665231693 Test Loss: 0.6353231821054468\n",
      "Epoch: 14 Train Loss: 0.9963518767150119 Test Loss: 0.944279803834207\n"
     ]
    },
    {
     "name": "stderr",
     "output_type": "stream",
     "text": [
      "\u001b[32m[I 2023-05-04 16:34:15,525]\u001b[0m Trial 4 finished with value: 0.6417352281226627 and parameters: {'hidden_size': 116, 'num_layers': 1, 'lstm_dropout': 0.09450529543622249, 'fc_dropout': 0.17112694422054342, 'bidirectional': False, 'conv_dropout': 0.03103554232063921, 'out_channels': 12, 'lr': 0.022969016829629173}. Best is trial 1 with value: 0.6925329428989752.\u001b[0m\n"
     ]
    },
    {
     "name": "stdout",
     "output_type": "stream",
     "text": [
      "Epoch: 15 Train Loss: 0.917763315210864 Test Loss: 0.8184106621843653\n",
      "Epoch: 1 Train Loss: 1.3624023737096256 Test Loss: 0.5096496072011634\n",
      "Epoch: 2 Train Loss: 0.5789451429843903 Test Loss: 0.527386718902725\n",
      "Epoch: 3 Train Loss: 0.687478259730339 Test Loss: 0.6027654945469512\n",
      "Epoch: 4 Train Loss: 0.8020789291113615 Test Loss: 2.4694350403017116\n",
      "Epoch: 5 Train Loss: 3.644797950740494 Test Loss: 3.518362377523115\n",
      "Epoch: 6 Train Loss: 5.533451927384306 Test Loss: 2.9504402284366424\n",
      "Epoch: 7 Train Loss: 4.7672190642537755 Test Loss: 10.426423138964417\n",
      "Epoch: 8 Train Loss: 4.322497944811857 Test Loss: 3.4580234364126574\n",
      "Epoch: 9 Train Loss: 4.980051066687603 Test Loss: 7.355436992053645\n",
      "Epoch: 10 Train Loss: 5.411373639881451 Test Loss: 2.8573841306292054\n",
      "Epoch: 11 Train Loss: 3.5271128178665507 Test Loss: 1.2133203724893138\n",
      "Epoch: 12 Train Loss: 4.390750862276503 Test Loss: 2.3188913580342954\n",
      "Epoch: 13 Train Loss: 4.81728231110873 Test Loss: 4.000788278761237\n",
      "Epoch: 14 Train Loss: 6.002628030713838 Test Loss: 8.827444793428002\n"
     ]
    },
    {
     "name": "stderr",
     "output_type": "stream",
     "text": [
      "\u001b[32m[I 2023-05-04 16:37:26,709]\u001b[0m Trial 5 finished with value: 0.6317596566523606 and parameters: {'hidden_size': 171, 'num_layers': 2, 'lstm_dropout': 0.42716070055008654, 'fc_dropout': 0.33655509613628803, 'bidirectional': True, 'conv_dropout': 0.31517885656586875, 'out_channels': 25, 'lr': 0.029687368432037956}. Best is trial 1 with value: 0.6925329428989752.\u001b[0m\n"
     ]
    },
    {
     "name": "stdout",
     "output_type": "stream",
     "text": [
      "Epoch: 15 Train Loss: 7.390691096444076 Test Loss: 6.411249316663258\n",
      "Epoch: 1 Train Loss: 0.6433828420877457 Test Loss: 0.6220686874641016\n",
      "Epoch: 2 Train Loss: 0.6289916877269744 Test Loss: 0.6019487804212509\n",
      "Epoch: 3 Train Loss: 0.6546089387774467 Test Loss: 0.5899255420453251\n",
      "Epoch: 4 Train Loss: 0.6584240575194359 Test Loss: 0.6118142501995586\n",
      "Epoch: 5 Train Loss: 0.6556833379209042 Test Loss: 0.6420356201858947\n",
      "Epoch: 6 Train Loss: 0.6408365086436272 Test Loss: 0.5915502141268489\n",
      "Epoch: 7 Train Loss: 0.6760275681883097 Test Loss: 0.595008726794118\n",
      "Epoch: 8 Train Loss: 0.6572842495024204 Test Loss: 0.6326532693335805\n",
      "Epoch: 9 Train Loss: 0.730668386644125 Test Loss: 1.0380637837401308\n",
      "Epoch: 10 Train Loss: 0.8598803185559809 Test Loss: 0.6165568207780393\n",
      "Epoch: 11 Train Loss: 0.8099479931600392 Test Loss: 0.9721706863909293\n",
      "Epoch: 12 Train Loss: 0.738596066018939 Test Loss: 0.6005566221551774\n",
      "Epoch: 13 Train Loss: 0.7594319887980818 Test Loss: 1.027991465438669\n",
      "Epoch: 14 Train Loss: 0.7666435016572476 Test Loss: 1.1444882264914222\n"
     ]
    },
    {
     "name": "stderr",
     "output_type": "stream",
     "text": [
      "\u001b[32m[I 2023-05-04 16:39:01,840]\u001b[0m Trial 6 finished with value: 0.4295991778006167 and parameters: {'hidden_size': 43, 'num_layers': 2, 'lstm_dropout': 0.01073328400818363, 'fc_dropout': 0.22593064606955454, 'bidirectional': True, 'conv_dropout': 0.14948259029188948, 'out_channels': 3, 'lr': 0.07796347517858734}. Best is trial 1 with value: 0.6925329428989752.\u001b[0m\n"
     ]
    },
    {
     "name": "stdout",
     "output_type": "stream",
     "text": [
      "Epoch: 15 Train Loss: 0.7566906821697951 Test Loss: 0.8136183972747181\n",
      "Epoch: 1 Train Loss: 9.967738472533226 Test Loss: 6.4751110713042435\n",
      "Epoch: 2 Train Loss: 13.756997927313732 Test Loss: 9.203172022778402\n",
      "Epoch: 3 Train Loss: 14.579023038202275 Test Loss: 9.468476191166202\n",
      "Epoch: 4 Train Loss: 15.98761108809566 Test Loss: 10.26710489126111\n",
      "Epoch: 5 Train Loss: 16.197921595629783 Test Loss: 9.871881831723407\n",
      "Epoch: 6 Train Loss: 16.410402126288904 Test Loss: 15.163929357118672\n",
      "Epoch: 7 Train Loss: 16.960025709696712 Test Loss: 10.707970371587646\n",
      "Epoch: 8 Train Loss: 17.469705278349313 Test Loss: 15.913997226637868\n",
      "Epoch: 9 Train Loss: 18.0187561919168 Test Loss: 9.239074984151854\n",
      "Epoch: 10 Train Loss: 16.45225711440444 Test Loss: 9.838417790249832\n",
      "Epoch: 11 Train Loss: 15.95759241408169 Test Loss: 5.050479143120039\n",
      "Epoch: 12 Train Loss: 18.03873810184328 Test Loss: 8.336668843257224\n",
      "Epoch: 13 Train Loss: 21.149223596306392 Test Loss: 16.08335703812687\n",
      "Epoch: 14 Train Loss: 21.396282041994443 Test Loss: 11.41910522042088\n"
     ]
    },
    {
     "name": "stderr",
     "output_type": "stream",
     "text": [
      "\u001b[32m[I 2023-05-04 16:41:15,176]\u001b[0m Trial 7 finished with value: 0.6309937456567061 and parameters: {'hidden_size': 177, 'num_layers': 1, 'lstm_dropout': 0.2005599236019816, 'fc_dropout': 0.44926577544596885, 'bidirectional': True, 'conv_dropout': 0.19962527725993479, 'out_channels': 24, 'lr': 0.033807875223926996}. Best is trial 1 with value: 0.6925329428989752.\u001b[0m\n"
     ]
    },
    {
     "name": "stdout",
     "output_type": "stream",
     "text": [
      "Epoch: 15 Train Loss: 20.31769897387028 Test Loss: 29.311508163476525\n",
      "Epoch: 1 Train Loss: 0.8083187715649605 Test Loss: 0.48034241157598767\n",
      "Epoch: 2 Train Loss: 0.5136236246705055 Test Loss: 0.45505150098103686\n",
      "Epoch: 3 Train Loss: 0.5238264413297177 Test Loss: 0.4845665375264689\n",
      "Epoch: 4 Train Loss: 0.5103771368026734 Test Loss: 0.526298452394839\n",
      "Epoch: 5 Train Loss: 0.5246179147601128 Test Loss: 0.45747771225988676\n",
      "Epoch: 6 Train Loss: 0.5002740972042083 Test Loss: 0.49193666625422794\n",
      "Epoch: 7 Train Loss: 0.5215855711460113 Test Loss: 0.4702615038560221\n"
     ]
    },
    {
     "name": "stderr",
     "output_type": "stream",
     "text": [
      "\u001b[33m[W 2023-05-04 16:41:39,934]\u001b[0m Trial 8 failed with parameters: {'hidden_size': 78, 'num_layers': 2, 'lstm_dropout': 0.20118176487289324, 'fc_dropout': 0.19197887489787457, 'bidirectional': False, 'conv_dropout': 0.25368279718045106, 'out_channels': 33, 'lr': 0.05449422385444316} because of the following error: KeyboardInterrupt().\u001b[0m\n",
      "Traceback (most recent call last):\n",
      "  File \"c:\\Users\\10\\anaconda3\\envs\\hw1_env\\lib\\site-packages\\optuna\\study\\_optimize.py\", line 200, in _run_trial\n",
      "    value_or_values = func(trial)\n",
      "  File \"C:\\Users\\10\\AppData\\Local\\Temp\\ipykernel_24960\\4027523501.py\", line 15, in lstm_objective\n",
      "    train_losses, test_losses, train_f1_scores, test_f1_scores = train(criterion, optimizer, model, lstm_train_dataloader, lstm_test_dataloader, epochs=num_epochs, save_best=False)\n",
      "  File \"C:\\Users\\10\\AppData\\Local\\Temp\\ipykernel_24960\\3933135263.py\", line 32, in train\n",
      "    test_loss, test_f1_score = activity(model, test_dataloader, loss_fn, device)\n",
      "  File \"C:\\Users\\10\\AppData\\Local\\Temp\\ipykernel_24960\\3933135263.py\", line 49, in activity\n",
      "    for data in test_dataloader:\n",
      "  File \"c:\\Users\\10\\anaconda3\\envs\\hw1_env\\lib\\site-packages\\torch\\utils\\data\\dataloader.py\", line 630, in __next__\n",
      "    with torch.autograd.profiler.record_function(self._profile_name):\n",
      "  File \"c:\\Users\\10\\anaconda3\\envs\\hw1_env\\lib\\site-packages\\torch\\autograd\\profiler.py\", line 492, in __enter__\n",
      "    self.record = torch.ops.profiler._record_function_enter_new(self.name, self.args)\n",
      "  File \"c:\\Users\\10\\anaconda3\\envs\\hw1_env\\lib\\site-packages\\torch\\_ops.py\", line 502, in __call__\n",
      "    return self._op(*args, **kwargs or {})\n",
      "KeyboardInterrupt\n",
      "\u001b[33m[W 2023-05-04 16:41:39,942]\u001b[0m Trial 8 failed with value None.\u001b[0m\n"
     ]
    },
    {
     "ename": "KeyboardInterrupt",
     "evalue": "",
     "output_type": "error",
     "traceback": [
      "\u001b[1;31m---------------------------------------------------------------------------\u001b[0m",
      "\u001b[1;31mKeyboardInterrupt\u001b[0m                         Traceback (most recent call last)",
      "Cell \u001b[1;32mIn[28], line 19\u001b[0m\n\u001b[0;32m     16\u001b[0m     \u001b[39mreturn\u001b[39;00m \u001b[39mmax\u001b[39m(test_f1_scores)\n\u001b[0;32m     18\u001b[0m study_lstm \u001b[39m=\u001b[39m optuna\u001b[39m.\u001b[39mcreate_study(direction\u001b[39m=\u001b[39m\u001b[39m'\u001b[39m\u001b[39mmaximize\u001b[39m\u001b[39m'\u001b[39m)\n\u001b[1;32m---> 19\u001b[0m study_lstm\u001b[39m.\u001b[39;49moptimize(lstm_objective, n_trials\u001b[39m=\u001b[39;49m\u001b[39m200\u001b[39;49m)\n",
      "File \u001b[1;32mc:\\Users\\10\\anaconda3\\envs\\hw1_env\\lib\\site-packages\\optuna\\study\\study.py:425\u001b[0m, in \u001b[0;36mStudy.optimize\u001b[1;34m(self, func, n_trials, timeout, n_jobs, catch, callbacks, gc_after_trial, show_progress_bar)\u001b[0m\n\u001b[0;32m    321\u001b[0m \u001b[39mdef\u001b[39;00m \u001b[39moptimize\u001b[39m(\n\u001b[0;32m    322\u001b[0m     \u001b[39mself\u001b[39m,\n\u001b[0;32m    323\u001b[0m     func: ObjectiveFuncType,\n\u001b[1;32m   (...)\u001b[0m\n\u001b[0;32m    330\u001b[0m     show_progress_bar: \u001b[39mbool\u001b[39m \u001b[39m=\u001b[39m \u001b[39mFalse\u001b[39;00m,\n\u001b[0;32m    331\u001b[0m ) \u001b[39m-\u001b[39m\u001b[39m>\u001b[39m \u001b[39mNone\u001b[39;00m:\n\u001b[0;32m    332\u001b[0m \u001b[39m    \u001b[39m\u001b[39m\"\"\"Optimize an objective function.\u001b[39;00m\n\u001b[0;32m    333\u001b[0m \n\u001b[0;32m    334\u001b[0m \u001b[39m    Optimization is done by choosing a suitable set of hyperparameter values from a given\u001b[39;00m\n\u001b[1;32m   (...)\u001b[0m\n\u001b[0;32m    422\u001b[0m \u001b[39m            If nested invocation of this method occurs.\u001b[39;00m\n\u001b[0;32m    423\u001b[0m \u001b[39m    \"\"\"\u001b[39;00m\n\u001b[1;32m--> 425\u001b[0m     _optimize(\n\u001b[0;32m    426\u001b[0m         study\u001b[39m=\u001b[39;49m\u001b[39mself\u001b[39;49m,\n\u001b[0;32m    427\u001b[0m         func\u001b[39m=\u001b[39;49mfunc,\n\u001b[0;32m    428\u001b[0m         n_trials\u001b[39m=\u001b[39;49mn_trials,\n\u001b[0;32m    429\u001b[0m         timeout\u001b[39m=\u001b[39;49mtimeout,\n\u001b[0;32m    430\u001b[0m         n_jobs\u001b[39m=\u001b[39;49mn_jobs,\n\u001b[0;32m    431\u001b[0m         catch\u001b[39m=\u001b[39;49m\u001b[39mtuple\u001b[39;49m(catch) \u001b[39mif\u001b[39;49;00m \u001b[39misinstance\u001b[39;49m(catch, Iterable) \u001b[39melse\u001b[39;49;00m (catch,),\n\u001b[0;32m    432\u001b[0m         callbacks\u001b[39m=\u001b[39;49mcallbacks,\n\u001b[0;32m    433\u001b[0m         gc_after_trial\u001b[39m=\u001b[39;49mgc_after_trial,\n\u001b[0;32m    434\u001b[0m         show_progress_bar\u001b[39m=\u001b[39;49mshow_progress_bar,\n\u001b[0;32m    435\u001b[0m     )\n",
      "File \u001b[1;32mc:\\Users\\10\\anaconda3\\envs\\hw1_env\\lib\\site-packages\\optuna\\study\\_optimize.py:66\u001b[0m, in \u001b[0;36m_optimize\u001b[1;34m(study, func, n_trials, timeout, n_jobs, catch, callbacks, gc_after_trial, show_progress_bar)\u001b[0m\n\u001b[0;32m     64\u001b[0m \u001b[39mtry\u001b[39;00m:\n\u001b[0;32m     65\u001b[0m     \u001b[39mif\u001b[39;00m n_jobs \u001b[39m==\u001b[39m \u001b[39m1\u001b[39m:\n\u001b[1;32m---> 66\u001b[0m         _optimize_sequential(\n\u001b[0;32m     67\u001b[0m             study,\n\u001b[0;32m     68\u001b[0m             func,\n\u001b[0;32m     69\u001b[0m             n_trials,\n\u001b[0;32m     70\u001b[0m             timeout,\n\u001b[0;32m     71\u001b[0m             catch,\n\u001b[0;32m     72\u001b[0m             callbacks,\n\u001b[0;32m     73\u001b[0m             gc_after_trial,\n\u001b[0;32m     74\u001b[0m             reseed_sampler_rng\u001b[39m=\u001b[39;49m\u001b[39mFalse\u001b[39;49;00m,\n\u001b[0;32m     75\u001b[0m             time_start\u001b[39m=\u001b[39;49m\u001b[39mNone\u001b[39;49;00m,\n\u001b[0;32m     76\u001b[0m             progress_bar\u001b[39m=\u001b[39;49mprogress_bar,\n\u001b[0;32m     77\u001b[0m         )\n\u001b[0;32m     78\u001b[0m     \u001b[39melse\u001b[39;00m:\n\u001b[0;32m     79\u001b[0m         \u001b[39mif\u001b[39;00m n_jobs \u001b[39m==\u001b[39m \u001b[39m-\u001b[39m\u001b[39m1\u001b[39m:\n",
      "File \u001b[1;32mc:\\Users\\10\\anaconda3\\envs\\hw1_env\\lib\\site-packages\\optuna\\study\\_optimize.py:163\u001b[0m, in \u001b[0;36m_optimize_sequential\u001b[1;34m(study, func, n_trials, timeout, catch, callbacks, gc_after_trial, reseed_sampler_rng, time_start, progress_bar)\u001b[0m\n\u001b[0;32m    160\u001b[0m         \u001b[39mbreak\u001b[39;00m\n\u001b[0;32m    162\u001b[0m \u001b[39mtry\u001b[39;00m:\n\u001b[1;32m--> 163\u001b[0m     frozen_trial \u001b[39m=\u001b[39m _run_trial(study, func, catch)\n\u001b[0;32m    164\u001b[0m \u001b[39mfinally\u001b[39;00m:\n\u001b[0;32m    165\u001b[0m     \u001b[39m# The following line mitigates memory problems that can be occurred in some\u001b[39;00m\n\u001b[0;32m    166\u001b[0m     \u001b[39m# environments (e.g., services that use computing containers such as GitHub Actions).\u001b[39;00m\n\u001b[0;32m    167\u001b[0m     \u001b[39m# Please refer to the following PR for further details:\u001b[39;00m\n\u001b[0;32m    168\u001b[0m     \u001b[39m# https://github.com/optuna/optuna/pull/325.\u001b[39;00m\n\u001b[0;32m    169\u001b[0m     \u001b[39mif\u001b[39;00m gc_after_trial:\n",
      "File \u001b[1;32mc:\\Users\\10\\anaconda3\\envs\\hw1_env\\lib\\site-packages\\optuna\\study\\_optimize.py:251\u001b[0m, in \u001b[0;36m_run_trial\u001b[1;34m(study, func, catch)\u001b[0m\n\u001b[0;32m    244\u001b[0m         \u001b[39massert\u001b[39;00m \u001b[39mFalse\u001b[39;00m, \u001b[39m\"\u001b[39m\u001b[39mShould not reach.\u001b[39m\u001b[39m\"\u001b[39m\n\u001b[0;32m    246\u001b[0m \u001b[39mif\u001b[39;00m (\n\u001b[0;32m    247\u001b[0m     frozen_trial\u001b[39m.\u001b[39mstate \u001b[39m==\u001b[39m TrialState\u001b[39m.\u001b[39mFAIL\n\u001b[0;32m    248\u001b[0m     \u001b[39mand\u001b[39;00m func_err \u001b[39mis\u001b[39;00m \u001b[39mnot\u001b[39;00m \u001b[39mNone\u001b[39;00m\n\u001b[0;32m    249\u001b[0m     \u001b[39mand\u001b[39;00m \u001b[39mnot\u001b[39;00m \u001b[39misinstance\u001b[39m(func_err, catch)\n\u001b[0;32m    250\u001b[0m ):\n\u001b[1;32m--> 251\u001b[0m     \u001b[39mraise\u001b[39;00m func_err\n\u001b[0;32m    252\u001b[0m \u001b[39mreturn\u001b[39;00m frozen_trial\n",
      "File \u001b[1;32mc:\\Users\\10\\anaconda3\\envs\\hw1_env\\lib\\site-packages\\optuna\\study\\_optimize.py:200\u001b[0m, in \u001b[0;36m_run_trial\u001b[1;34m(study, func, catch)\u001b[0m\n\u001b[0;32m    198\u001b[0m \u001b[39mwith\u001b[39;00m get_heartbeat_thread(trial\u001b[39m.\u001b[39m_trial_id, study\u001b[39m.\u001b[39m_storage):\n\u001b[0;32m    199\u001b[0m     \u001b[39mtry\u001b[39;00m:\n\u001b[1;32m--> 200\u001b[0m         value_or_values \u001b[39m=\u001b[39m func(trial)\n\u001b[0;32m    201\u001b[0m     \u001b[39mexcept\u001b[39;00m exceptions\u001b[39m.\u001b[39mTrialPruned \u001b[39mas\u001b[39;00m e:\n\u001b[0;32m    202\u001b[0m         \u001b[39m# TODO(mamu): Handle multi-objective cases.\u001b[39;00m\n\u001b[0;32m    203\u001b[0m         state \u001b[39m=\u001b[39m TrialState\u001b[39m.\u001b[39mPRUNED\n",
      "Cell \u001b[1;32mIn[28], line 15\u001b[0m, in \u001b[0;36mlstm_objective\u001b[1;34m(trial)\u001b[0m\n\u001b[0;32m     13\u001b[0m optimizer \u001b[39m=\u001b[39m torch\u001b[39m.\u001b[39moptim\u001b[39m.\u001b[39mAdam(model\u001b[39m.\u001b[39mparameters(), lr\u001b[39m=\u001b[39mlr)\n\u001b[0;32m     14\u001b[0m num_epochs \u001b[39m=\u001b[39m \u001b[39m15\u001b[39m\n\u001b[1;32m---> 15\u001b[0m train_losses, test_losses, train_f1_scores, test_f1_scores \u001b[39m=\u001b[39m train(criterion, optimizer, model, lstm_train_dataloader, lstm_test_dataloader, epochs\u001b[39m=\u001b[39;49mnum_epochs, save_best\u001b[39m=\u001b[39;49m\u001b[39mFalse\u001b[39;49;00m)\n\u001b[0;32m     16\u001b[0m \u001b[39mreturn\u001b[39;00m \u001b[39mmax\u001b[39m(test_f1_scores)\n",
      "Cell \u001b[1;32mIn[21], line 32\u001b[0m, in \u001b[0;36mtrain\u001b[1;34m(loss_fn, optimizer, model, train_dataloader, test_dataloader, device, epochs, save_best, save_name, accumulate_grad, batch_size)\u001b[0m\n\u001b[0;32m     30\u001b[0m train_f1_scores\u001b[39m.\u001b[39mappend(train_f1_score\u001b[39m/\u001b[39m\u001b[39mlen\u001b[39m(train_dataloader))\n\u001b[0;32m     31\u001b[0m train_losses\u001b[39m.\u001b[39mappend(train_loss\u001b[39m/\u001b[39m\u001b[39mlen\u001b[39m(train_dataloader))\n\u001b[1;32m---> 32\u001b[0m test_loss, test_f1_score \u001b[39m=\u001b[39m activity(model, test_dataloader, loss_fn, device)\n\u001b[0;32m     33\u001b[0m test_losses\u001b[39m.\u001b[39mappend(test_loss)\n\u001b[0;32m     34\u001b[0m test_f1_scores\u001b[39m.\u001b[39mappend(test_f1_score)\n",
      "Cell \u001b[1;32mIn[21], line 49\u001b[0m, in \u001b[0;36mactivity\u001b[1;34m(model, test_dataloader, loss_fn, device)\u001b[0m\n\u001b[0;32m     47\u001b[0m test_f1_score \u001b[39m=\u001b[39m \u001b[39m0\u001b[39m\n\u001b[0;32m     48\u001b[0m \u001b[39mwith\u001b[39;00m torch\u001b[39m.\u001b[39mno_grad():\n\u001b[1;32m---> 49\u001b[0m     \u001b[39mfor\u001b[39;00m data \u001b[39min\u001b[39;00m test_dataloader:\n\u001b[0;32m     50\u001b[0m         \u001b[39minput\u001b[39m, target \u001b[39m=\u001b[39m data\n\u001b[0;32m     51\u001b[0m         \u001b[39minput\u001b[39m \u001b[39m=\u001b[39m \u001b[39minput\u001b[39m\u001b[39m.\u001b[39mto(device)\n",
      "File \u001b[1;32mc:\\Users\\10\\anaconda3\\envs\\hw1_env\\lib\\site-packages\\torch\\utils\\data\\dataloader.py:630\u001b[0m, in \u001b[0;36m_BaseDataLoaderIter.__next__\u001b[1;34m(self)\u001b[0m\n\u001b[0;32m    629\u001b[0m \u001b[39mdef\u001b[39;00m \u001b[39m__next__\u001b[39m(\u001b[39mself\u001b[39m) \u001b[39m-\u001b[39m\u001b[39m>\u001b[39m Any:\n\u001b[1;32m--> 630\u001b[0m     \u001b[39mwith\u001b[39;00m torch\u001b[39m.\u001b[39mautograd\u001b[39m.\u001b[39mprofiler\u001b[39m.\u001b[39mrecord_function(\u001b[39mself\u001b[39m\u001b[39m.\u001b[39m_profile_name):\n\u001b[0;32m    631\u001b[0m         \u001b[39mif\u001b[39;00m \u001b[39mself\u001b[39m\u001b[39m.\u001b[39m_sampler_iter \u001b[39mis\u001b[39;00m \u001b[39mNone\u001b[39;00m:\n\u001b[0;32m    632\u001b[0m             \u001b[39m# TODO(https://github.com/pytorch/pytorch/issues/76750)\u001b[39;00m\n\u001b[0;32m    633\u001b[0m             \u001b[39mself\u001b[39m\u001b[39m.\u001b[39m_reset()  \u001b[39m# type: ignore[call-arg]\u001b[39;00m\n",
      "File \u001b[1;32mc:\\Users\\10\\anaconda3\\envs\\hw1_env\\lib\\site-packages\\torch\\autograd\\profiler.py:492\u001b[0m, in \u001b[0;36mrecord_function.__enter__\u001b[1;34m(self)\u001b[0m\n\u001b[0;32m    491\u001b[0m \u001b[39mdef\u001b[39;00m \u001b[39m__enter__\u001b[39m(\u001b[39mself\u001b[39m):\n\u001b[1;32m--> 492\u001b[0m     \u001b[39mself\u001b[39m\u001b[39m.\u001b[39mrecord \u001b[39m=\u001b[39m torch\u001b[39m.\u001b[39;49mops\u001b[39m.\u001b[39;49mprofiler\u001b[39m.\u001b[39;49m_record_function_enter_new(\u001b[39mself\u001b[39;49m\u001b[39m.\u001b[39;49mname, \u001b[39mself\u001b[39;49m\u001b[39m.\u001b[39;49margs)\n\u001b[0;32m    493\u001b[0m     \u001b[39mreturn\u001b[39;00m \u001b[39mself\u001b[39m\n",
      "File \u001b[1;32mc:\\Users\\10\\anaconda3\\envs\\hw1_env\\lib\\site-packages\\torch\\_ops.py:502\u001b[0m, in \u001b[0;36mOpOverloadPacket.__call__\u001b[1;34m(self, *args, **kwargs)\u001b[0m\n\u001b[0;32m    497\u001b[0m \u001b[39mdef\u001b[39;00m \u001b[39m__call__\u001b[39m(\u001b[39mself\u001b[39m, \u001b[39m*\u001b[39margs, \u001b[39m*\u001b[39m\u001b[39m*\u001b[39mkwargs):\n\u001b[0;32m    498\u001b[0m     \u001b[39m# overloading __call__ to ensure torch.ops.foo.bar()\u001b[39;00m\n\u001b[0;32m    499\u001b[0m     \u001b[39m# is still callable from JIT\u001b[39;00m\n\u001b[0;32m    500\u001b[0m     \u001b[39m# We save the function ptr as the `op` attribute on\u001b[39;00m\n\u001b[0;32m    501\u001b[0m     \u001b[39m# OpOverloadPacket to access it here.\u001b[39;00m\n\u001b[1;32m--> 502\u001b[0m     \u001b[39mreturn\u001b[39;00m \u001b[39mself\u001b[39;49m\u001b[39m.\u001b[39;49m_op(\u001b[39m*\u001b[39;49margs, \u001b[39m*\u001b[39;49m\u001b[39m*\u001b[39;49mkwargs \u001b[39mor\u001b[39;49;00m {})\n",
      "\u001b[1;31mKeyboardInterrupt\u001b[0m: "
     ]
    }
   ],
   "source": [
    "def lstm_objective(trial):\n",
    "    hidden_size = trial.suggest_int('hidden_size', 32, 256)\n",
    "    num_layers = trial.suggest_int('num_layers', 1, 3)\n",
    "    lstm_dropout = trial.suggest_float('lstm_dropout', 0, 0.5)\n",
    "    fc_dropout = trial.suggest_float('fc_dropout', 0, 0.5)\n",
    "    bidirectional = trial.suggest_categorical('bidirectional', [True, False])\n",
    "    conv_dropout = trial.suggest_float('conv_dropout', 0, 0.5)\n",
    "    out_channels = trial.suggest_int('out_channels', 1, 40)\n",
    "    lr = trial.suggest_float('lr', 1e-4, 1e-1)\n",
    "    model = LSTMModel(hidden_size=hidden_size, num_layers=num_layers, lstm_dropout=lstm_dropout, fc_dropout=fc_dropout, bidirectional=bidirectional, conv_dropout=conv_dropout, out_channels=out_channels)\n",
    "    model.to(device)\n",
    "    criterion = nn.CrossEntropyLoss(weight=torch.Tensor([count_zero/count_zero, count_zero/count_one]).to(device))\n",
    "    optimizer = torch.optim.Adam(model.parameters(), lr=lr)\n",
    "    num_epochs = 15\n",
    "    train_losses, test_losses, train_f1_scores, test_f1_scores = train(criterion, optimizer, model, lstm_train_dataloader, lstm_test_dataloader, epochs=num_epochs, save_best=False)\n",
    "    return max(test_f1_scores)\n",
    "\n",
    "study_lstm = optuna.create_study(direction='maximize')\n",
    "study_lstm.optimize(lstm_objective, n_trials=200)"
   ]
  },
  {
   "cell_type": "code",
   "execution_count": 15,
   "metadata": {},
   "outputs": [],
   "source": [
    "params = {'hidden_size': 100, 'num_layers': 1, 'lstm_dropout': 0.037362422729387564, 'fc_dropout': 0.056950385586254704, 'bidirectional': True, 'conv_dropout': 0.03382773386464591, 'out_channels': 23}\n",
    "lr = 0.00017556097900833128"
   ]
  },
  {
   "cell_type": "code",
   "execution_count": 21,
   "metadata": {},
   "outputs": [
    {
     "name": "stdout",
     "output_type": "stream",
     "text": [
      "Epoch: 1 Train Loss: 0.15775358920693397 Test Loss: 0.13945070011451982\n",
      "Epoch: 2 Train Loss: 0.13153264140337706 Test Loss: 0.1356905595170328\n",
      "Epoch: 3 Train Loss: 0.12760779098719358 Test Loss: 0.13241761476813127\n",
      "Epoch: 4 Train Loss: 0.12434698716774582 Test Loss: 0.13772318799334307\n",
      "Epoch: 5 Train Loss: 0.12146178620755672 Test Loss: 0.1339522316700782\n",
      "Epoch: 6 Train Loss: 0.11988770780563354 Test Loss: 0.13076347864854831\n",
      "Epoch: 7 Train Loss: 0.11655283272266388 Test Loss: 0.13099912149956622\n",
      "Epoch: 8 Train Loss: 0.11543762973099947 Test Loss: 0.13369365034702296\n",
      "Epoch: 9 Train Loss: 0.11243001575767994 Test Loss: 0.13813609065720067\n",
      "Epoch: 10 Train Loss: 0.11031396798789501 Test Loss: 0.1329856232082406\n",
      "Epoch: 11 Train Loss: 0.10807826085239648 Test Loss: 0.1325424310956567\n",
      "Epoch: 12 Train Loss: 0.10734562361985445 Test Loss: 0.13862164418983716\n",
      "Epoch: 13 Train Loss: 0.10525199927911162 Test Loss: 0.13541892017966833\n",
      "Epoch: 14 Train Loss: 0.10402527977079153 Test Loss: 0.13608507010431145\n",
      "Epoch: 15 Train Loss: 0.10100379752591253 Test Loss: 0.1350677604801929\n",
      "Epoch: 16 Train Loss: 0.09985543918386101 Test Loss: 0.13784030108703688\n",
      "Epoch: 17 Train Loss: 0.0978092227473855 Test Loss: 0.13894622481782168\n",
      "Epoch: 18 Train Loss: 0.0941484222561121 Test Loss: 0.141758433090874\n",
      "Epoch: 19 Train Loss: 0.09426547352299094 Test Loss: 0.13773400596857738\n",
      "Epoch: 20 Train Loss: 0.0918401287600398 Test Loss: 0.13916753342273994\n",
      "Epoch: 21 Train Loss: 0.08968509521633386 Test Loss: 0.14030908528096475\n",
      "Epoch: 22 Train Loss: 0.0868618788048625 Test Loss: 0.14869571561975697\n",
      "Epoch: 23 Train Loss: 0.08592069292441011 Test Loss: 0.14610581573830864\n",
      "Epoch: 24 Train Loss: 0.08443276832401753 Test Loss: 0.1411263623599189\n",
      "Epoch: 25 Train Loss: 0.0852539024412632 Test Loss: 0.15238869946580916\n",
      "Epoch: 26 Train Loss: 0.0817776330947876 Test Loss: 0.14724496810342938\n",
      "Epoch: 27 Train Loss: 0.08051687105186284 Test Loss: 0.1514079633046882\n",
      "Epoch: 28 Train Loss: 0.07945034653767943 Test Loss: 0.15205039611806315\n",
      "Epoch: 29 Train Loss: 0.07774132010377943 Test Loss: 0.15506098432519946\n",
      "Epoch: 30 Train Loss: 0.07445895730666817 Test Loss: 0.1511117670232781\n",
      "Epoch: 31 Train Loss: 0.07351862128973007 Test Loss: 0.15519813388681258\n",
      "Epoch: 32 Train Loss: 0.07016677135638892 Test Loss: 0.15772671594073218\n",
      "Epoch: 33 Train Loss: 0.07169301580749451 Test Loss: 0.15667444006644024\n",
      "Epoch: 34 Train Loss: 0.06881596796028316 Test Loss: 0.16206595895755382\n",
      "Epoch: 35 Train Loss: 0.06753112430907786 Test Loss: 0.16136583737350596\n",
      "Epoch: 36 Train Loss: 0.06649965437874197 Test Loss: 0.16771055109346636\n",
      "Epoch: 37 Train Loss: 0.06521095643788576 Test Loss: 0.16901121491465135\n",
      "Epoch: 38 Train Loss: 0.06299164396543055 Test Loss: 0.1633204999022757\n",
      "Epoch: 39 Train Loss: 0.061091507940366864 Test Loss: 0.17106976385225361\n",
      "Epoch: 40 Train Loss: 0.06076599117740989 Test Loss: 0.175462258355573\n",
      "Epoch: 41 Train Loss: 0.06006760771721602 Test Loss: 0.1694611669324648\n",
      "Epoch: 42 Train Loss: 0.05983133613318205 Test Loss: 0.17891273396342589\n",
      "Epoch: 43 Train Loss: 0.05655643544457853 Test Loss: 0.17722322285687103\n",
      "Epoch: 44 Train Loss: 0.05526516207475215 Test Loss: 0.18391812385354464\n",
      "Epoch: 45 Train Loss: 0.05337527511641383 Test Loss: 0.18131330477582594\n",
      "Epoch: 46 Train Loss: 0.0533375545475632 Test Loss: 0.1852195338262751\n",
      "Epoch: 47 Train Loss: 0.05304843862671405 Test Loss: 0.18982088782068807\n",
      "Epoch: 48 Train Loss: 0.05080816543530673 Test Loss: 0.18766095271905342\n",
      "Epoch: 49 Train Loss: 0.04873756284490228 Test Loss: 0.19677034092207138\n",
      "Epoch: 50 Train Loss: 0.0502309336848557 Test Loss: 0.19291838291235053\n",
      "Epoch: 51 Train Loss: 0.04656198915243149 Test Loss: 0.19496156207357232\n",
      "Epoch: 52 Train Loss: 0.04690794936995953 Test Loss: 0.19723325416731377\n",
      "Epoch: 53 Train Loss: 0.0460691808222793 Test Loss: 0.1977451831971209\n",
      "Epoch: 54 Train Loss: 0.04353041396616027 Test Loss: 0.2035062502587613\n",
      "Epoch: 55 Train Loss: 0.04550760815441608 Test Loss: 0.19953100587994146\n",
      "Epoch: 56 Train Loss: 0.04603587050717324 Test Loss: 0.2103132237062846\n",
      "Epoch: 57 Train Loss: 0.04323415997941047 Test Loss: 0.21002847787599785\n",
      "Epoch: 58 Train Loss: 0.042749565853364764 Test Loss: 0.21351983700748742\n",
      "Epoch: 59 Train Loss: 0.041003780498169363 Test Loss: 0.20529246408664903\n",
      "Epoch: 60 Train Loss: 0.039350110393762586 Test Loss: 0.2158573229208413\n",
      "Epoch: 61 Train Loss: 0.03997334135510027 Test Loss: 0.20785589497714949\n",
      "Epoch: 62 Train Loss: 0.03766131100105122 Test Loss: 0.21974182939424683\n",
      "Epoch: 63 Train Loss: 0.037945447933115065 Test Loss: 0.22276537582953684\n",
      "Epoch: 64 Train Loss: 0.040001764123421164 Test Loss: 0.2193658142436159\n",
      "Epoch: 65 Train Loss: 0.04065025643538683 Test Loss: 0.22101052352837242\n",
      "Epoch: 66 Train Loss: 0.034036243808548895 Test Loss: 0.2258765718381935\n",
      "Epoch: 67 Train Loss: 0.03483342924034223 Test Loss: 0.2320018962889273\n",
      "Epoch: 68 Train Loss: 0.0368284944945015 Test Loss: 0.22609937874177774\n",
      "Epoch: 69 Train Loss: 0.032238776097353546 Test Loss: 0.22590481424083064\n",
      "Epoch: 70 Train Loss: 0.03643413294167258 Test Loss: 0.2467130376535584\n",
      "Epoch: 71 Train Loss: 0.03592784156743437 Test Loss: 0.229852832268742\n",
      "Epoch: 72 Train Loss: 0.03181756451171823 Test Loss: 0.23711131568276547\n",
      "Epoch: 73 Train Loss: 0.031244658144935964 Test Loss: 0.22868751668104956\n",
      "Epoch: 74 Train Loss: 0.032948483900167046 Test Loss: 0.23759963868123393\n",
      "Epoch: 75 Train Loss: 0.028490524063818155 Test Loss: 0.24996750437325022\n",
      "Epoch: 76 Train Loss: 0.03016380119798705 Test Loss: 0.24266706859788145\n",
      "Epoch: 77 Train Loss: 0.030576186991971916 Test Loss: 0.24504963528385726\n",
      "Epoch: 78 Train Loss: 0.031183374958112835 Test Loss: 0.24378378186248445\n",
      "Epoch: 79 Train Loss: 0.027923569186241365 Test Loss: 0.26680043670001996\n",
      "Epoch: 80 Train Loss: 0.02599694225047715 Test Loss: 0.2436340187163726\n",
      "Epoch: 81 Train Loss: 0.030303129383781924 Test Loss: 0.24901909441069756\n",
      "Epoch: 82 Train Loss: 0.02852551821116358 Test Loss: 0.2631692842429001\n",
      "Epoch: 83 Train Loss: 0.029006547605013474 Test Loss: 0.25249464735916904\n",
      "Epoch: 84 Train Loss: 0.025621441392274572 Test Loss: 0.26930399894541035\n",
      "Epoch: 85 Train Loss: 0.027127390168514103 Test Loss: 0.26199712133694875\n",
      "Epoch: 86 Train Loss: 0.024128335992689244 Test Loss: 0.25508160929540735\n",
      "Epoch: 87 Train Loss: 0.03079152371333912 Test Loss: 0.2572672964194038\n",
      "Epoch: 88 Train Loss: 0.02741011609118432 Test Loss: 0.2576440305673345\n",
      "Epoch: 89 Train Loss: 0.027201572032179683 Test Loss: 0.25908263208223326\n",
      "Epoch: 90 Train Loss: 0.025950685177510605 Test Loss: 0.26666718564898567\n",
      "Epoch: 91 Train Loss: 0.023250481557729654 Test Loss: 0.2728052054410622\n",
      "Epoch: 92 Train Loss: 0.025869289763411508 Test Loss: 0.2527973967070242\n",
      "Epoch: 93 Train Loss: 0.024197270477795973 Test Loss: 0.2617627954788911\n",
      "Epoch: 94 Train Loss: 0.023340983016462997 Test Loss: 0.26335929748219117\n",
      "Epoch: 95 Train Loss: 0.024987781984743197 Test Loss: 0.2679862756938183\n",
      "Epoch: 96 Train Loss: 0.025372046994883567 Test Loss: 0.2663329912510629\n",
      "Epoch: 97 Train Loss: 0.022642783666821195 Test Loss: 0.2803114199874768\n",
      "Epoch: 98 Train Loss: 0.022528722402523273 Test Loss: 0.27031418460532103\n",
      "Epoch: 99 Train Loss: 0.022998726222338155 Test Loss: 0.27291764333299673\n",
      "Epoch: 100 Train Loss: 0.02285049078920856 Test Loss: 0.2683954642156322\n"
     ]
    }
   ],
   "source": [
    "epochs = 100\n",
    "lstm = LSTMModel(**params).to(device)\n",
    "criterion = nn.CrossEntropyLoss()\n",
    "optimizer = torch.optim.Adam(lstm.parameters(), lr=lr)\n",
    "train_losses, test_losses, train_f1_scores, test_f1_scores = train(criterion, optimizer, lstm, lstm_train_dataloader, lstm_test_dataloader, epochs=epochs, save_best=True, save_name='best_rnn_model.pt')"
   ]
  },
  {
   "cell_type": "code",
   "execution_count": 157,
   "metadata": {},
   "outputs": [
    {
     "data": {
      "image/png": "[encoded data removed]",
      "text/plain": [
       "<Figure size 640x480 with 1 Axes>"
      ]
     },
     "metadata": {},
     "output_type": "display_data"
    }
   ],
   "source": [
    "plt.plot(range(epochs), train_losses, label='train')\n",
    "plt.plot(range(epochs), test_losses, label='test')\n",
    "plt.legend()\n",
    "plt.title('Loss Over Epochs')\n",
    "plt.show()"
   ]
  },
  {
   "cell_type": "code",
   "execution_count": 158,
   "metadata": {},
   "outputs": [
    {
     "data": {
      "image/png": "[encoded data removed]",
      "text/plain": [
       "<Figure size 640x480 with 1 Axes>"
      ]
     },
     "metadata": {},
     "output_type": "display_data"
    }
   ],
   "source": [
    "plt.plot(range(epochs), train_f1_scores, label='train')\n",
    "plt.plot(range(epochs), test_f1_scores, label='test')\n",
    "plt.legend()\n",
    "plt.title('F1 Score Over Epochs')\n",
    "plt.show()"
   ]
  },
  {
   "cell_type": "code",
   "execution_count": 24,
   "metadata": {},
   "outputs": [
    {
     "data": {
      "text/plain": [
       "0.702446724546172"
      ]
     },
     "execution_count": 24,
     "metadata": {},
     "output_type": "execute_result"
    }
   ],
   "source": [
    "max(test_f1_scores)"
   ]
  },
  {
   "cell_type": "code",
   "execution_count": 35,
   "metadata": {},
   "outputs": [],
   "source": [
    "lstm_train_dataloader3 = DataLoader(LSTMDataset(features=df.nlargest(10, 'importance').index), batch_size=32, shuffle=True)\n",
    "lstm_test_dataloader3 = DataLoader(LSTMDataset(path=TEST_PATH, features=df.nlargest(10, 'importance').index), batch_size=32, shuffle=True)"
   ]
  },
  {
   "cell_type": "code",
   "execution_count": 155,
   "metadata": {},
   "outputs": [
    {
     "name": "stdout",
     "output_type": "stream",
     "text": [
      "Epoch: 1 Train Loss: 0.1532091199710965 Test Loss: 0.14068002540011185\n",
      "Epoch: 2 Train Loss: 0.13703212705105544 Test Loss: 0.14151643850385381\n",
      "Epoch: 3 Train Loss: 0.13333791456222535 Test Loss: 0.13809909639409937\n",
      "Epoch: 4 Train Loss: 0.13176967944949866 Test Loss: 0.13413118850439787\n",
      "Epoch: 5 Train Loss: 0.12922085776627062 Test Loss: 0.1365699957068355\n",
      "Epoch: 6 Train Loss: 0.12960670840367675 Test Loss: 0.13629322162213417\n",
      "Epoch: 7 Train Loss: 0.12696852442771198 Test Loss: 0.13413526762586336\n",
      "Epoch: 8 Train Loss: 0.12564261081516742 Test Loss: 0.13367237439884927\n",
      "Epoch: 9 Train Loss: 0.1242445779159665 Test Loss: 0.1315829984117716\n",
      "Epoch: 10 Train Loss: 0.12394265040010213 Test Loss: 0.129652757036943\n",
      "Epoch: 11 Train Loss: 0.12406043267399072 Test Loss: 0.1310053303980599\n",
      "Epoch: 12 Train Loss: 0.12474633820652961 Test Loss: 0.13694092787849826\n",
      "Epoch: 13 Train Loss: 0.1239358311727643 Test Loss: 0.1334758955009353\n",
      "Epoch: 14 Train Loss: 0.12304127736538649 Test Loss: 0.13392124004281178\n",
      "Epoch: 15 Train Loss: 0.12141938644200563 Test Loss: 0.13345072983195796\n",
      "Epoch: 16 Train Loss: 0.1218476642087102 Test Loss: 0.13132278268305828\n",
      "Epoch: 17 Train Loss: 0.12176719681248069 Test Loss: 0.1311315505857618\n",
      "Epoch: 18 Train Loss: 0.12053736584037543 Test Loss: 0.1338756138655229\n",
      "Epoch: 19 Train Loss: 0.12188573430478573 Test Loss: 0.13268253746659706\n",
      "Epoch: 20 Train Loss: 0.12191228064447641 Test Loss: 0.13154921301316244\n",
      "Epoch: 21 Train Loss: 0.12158214688748122 Test Loss: 0.1320744144161955\n",
      "Epoch: 22 Train Loss: 0.12039618195295333 Test Loss: 0.13320960747167326\n",
      "Epoch: 23 Train Loss: 0.12004233726710081 Test Loss: 0.13104113815025017\n",
      "Epoch: 24 Train Loss: 0.11901414990723133 Test Loss: 0.13247153691102426\n",
      "Epoch: 25 Train Loss: 0.12089989632964135 Test Loss: 0.13353369019318598\n",
      "Epoch: 26 Train Loss: 0.11881971773132682 Test Loss: 0.13312357559669227\n",
      "Epoch: 27 Train Loss: 0.11939446409791708 Test Loss: 0.1279796663040932\n",
      "Epoch: 28 Train Loss: 0.1177453319311142 Test Loss: 0.13182583454544075\n",
      "Epoch: 29 Train Loss: 0.11709756775796414 Test Loss: 0.13325832901409448\n",
      "Epoch: 30 Train Loss: 0.11953904914259911 Test Loss: 0.13424690010639045\n",
      "Epoch: 31 Train Loss: 0.12086064675301314 Test Loss: 0.13069374102075546\n",
      "Epoch: 32 Train Loss: 0.12016896931827069 Test Loss: 0.13511005894670758\n",
      "Epoch: 33 Train Loss: 0.12122380560487508 Test Loss: 0.13052067739335588\n",
      "Epoch: 34 Train Loss: 0.11976237821131945 Test Loss: 0.1307555419413712\n",
      "Epoch: 35 Train Loss: 0.11698643150329589 Test Loss: 0.13275476787298823\n",
      "Epoch: 36 Train Loss: 0.11926679446846247 Test Loss: 0.13351247683405496\n",
      "Epoch: 37 Train Loss: 0.11894884831607341 Test Loss: 0.1358596506400611\n",
      "Epoch: 38 Train Loss: 0.12058744423836469 Test Loss: 0.1300022323041583\n",
      "Epoch: 39 Train Loss: 0.11810929502099753 Test Loss: 0.1302505639402535\n",
      "Epoch: 40 Train Loss: 0.11811830144226551 Test Loss: 0.1354913531204525\n",
      "Epoch: 41 Train Loss: 0.11867081537991762 Test Loss: 0.1347143817603731\n",
      "Epoch: 42 Train Loss: 0.11820905921012163 Test Loss: 0.13388431249573207\n",
      "Epoch: 43 Train Loss: 0.11730727226734161 Test Loss: 0.13246029381530164\n",
      "Epoch: 44 Train Loss: 0.11755751587077976 Test Loss: 0.13192136977582028\n",
      "Epoch: 45 Train Loss: 0.11653415066450834 Test Loss: 0.1400048427176647\n",
      "Epoch: 46 Train Loss: 0.11527555154412984 Test Loss: 0.13176304330460178\n",
      "Epoch: 47 Train Loss: 0.115561320489645 Test Loss: 0.13612303642121654\n",
      "Epoch: 48 Train Loss: 0.11522085863649845 Test Loss: 0.13491056060579162\n",
      "Epoch: 49 Train Loss: 0.1167252653285861 Test Loss: 0.13998769124606833\n",
      "Epoch: 50 Train Loss: 0.11495504997968674 Test Loss: 0.13444974343069255\n",
      "Epoch: 51 Train Loss: 0.1138522386342287 Test Loss: 0.13824439846193448\n",
      "Epoch: 52 Train Loss: 0.11645143216997385 Test Loss: 0.13382570377101724\n",
      "Epoch: 53 Train Loss: 0.1161647680774331 Test Loss: 0.13203630046532178\n",
      "Epoch: 54 Train Loss: 0.1156416487812996 Test Loss: 0.13947774432063959\n",
      "Epoch: 55 Train Loss: 0.11641695752441883 Test Loss: 0.13694436091798753\n",
      "Epoch: 56 Train Loss: 0.11425042594373226 Test Loss: 0.1383243163827414\n",
      "Epoch: 57 Train Loss: 0.11525020995885134 Test Loss: 0.14052930463569613\n",
      "Epoch: 58 Train Loss: 0.115253590105474 Test Loss: 0.1359285956677109\n",
      "Epoch: 59 Train Loss: 0.11579981741905213 Test Loss: 0.1341116667543642\n",
      "Epoch: 60 Train Loss: 0.11439407234936953 Test Loss: 0.13629125769788655\n",
      "Epoch: 61 Train Loss: 0.1158674878537655 Test Loss: 0.13255782667309426\n",
      "Epoch: 62 Train Loss: 0.11370976745784282 Test Loss: 0.1346790987593583\n",
      "Epoch: 63 Train Loss: 0.11250187092423439 Test Loss: 0.1331967058273169\n",
      "Epoch: 64 Train Loss: 0.11145029845386743 Test Loss: 0.13472960295435338\n",
      "Epoch: 65 Train Loss: 0.11084873198270798 Test Loss: 0.14026878371882362\n",
      "Epoch: 66 Train Loss: 0.11296518348231911 Test Loss: 0.13507588120540395\n",
      "Epoch: 67 Train Loss: 0.1132662859596312 Test Loss: 0.13236375363133016\n",
      "Epoch: 68 Train Loss: 0.11208468084931374 Test Loss: 0.13646949047204882\n",
      "Epoch: 69 Train Loss: 0.110502845916152 Test Loss: 0.13612264074301852\n",
      "Epoch: 70 Train Loss: 0.11267255435436964 Test Loss: 0.13707433356501805\n",
      "Epoch: 71 Train Loss: 0.11255334745198488 Test Loss: 0.13198482315130414\n",
      "Epoch: 72 Train Loss: 0.11185981617569923 Test Loss: 0.1347481620411713\n",
      "Epoch: 73 Train Loss: 0.1117721325919032 Test Loss: 0.13725171006394746\n",
      "Epoch: 74 Train Loss: 0.1116252239972353 Test Loss: 0.1372930607951868\n",
      "Epoch: 75 Train Loss: 0.11432867331206799 Test Loss: 0.13688661917127645\n",
      "Epoch: 76 Train Loss: 0.11381432868018747 Test Loss: 0.1374249697600405\n",
      "Epoch: 77 Train Loss: 0.11276977669745683 Test Loss: 0.13871854967988148\n",
      "Epoch: 78 Train Loss: 0.11300553826987743 Test Loss: 0.14008881680417462\n",
      "Epoch: 79 Train Loss: 0.11334909240081906 Test Loss: 0.1350195923605904\n",
      "Epoch: 80 Train Loss: 0.11197160069569945 Test Loss: 0.1451785821890155\n",
      "Epoch: 81 Train Loss: 0.11140859415084124 Test Loss: 0.13703802246719407\n",
      "Epoch: 82 Train Loss: 0.11191575437933207 Test Loss: 0.13941072659215892\n",
      "Epoch: 83 Train Loss: 0.11179244980663061 Test Loss: 0.13827227723127167\n",
      "Epoch: 84 Train Loss: 0.11420152520239353 Test Loss: 0.1337907286331105\n",
      "Epoch: 85 Train Loss: 0.11129859696030617 Test Loss: 0.13824993715630457\n",
      "Epoch: 86 Train Loss: 0.1119261218637228 Test Loss: 0.13823198488416572\n",
      "Epoch: 87 Train Loss: 0.11221677875816823 Test Loss: 0.13660619018998105\n",
      "Epoch: 88 Train Loss: 0.1104987436927855 Test Loss: 0.13947238142010027\n",
      "Epoch: 89 Train Loss: 0.11368336756378412 Test Loss: 0.13943702379723613\n",
      "Epoch: 90 Train Loss: 0.11345753018260002 Test Loss: 0.1341544277162645\n",
      "Epoch: 91 Train Loss: 0.11170763803124428 Test Loss: 0.13823218005129134\n",
      "Epoch: 92 Train Loss: 0.11129545982182026 Test Loss: 0.1370781691381916\n",
      "Epoch: 93 Train Loss: 0.11092432553470134 Test Loss: 0.1363716406104997\n",
      "Epoch: 94 Train Loss: 0.11029386387467384 Test Loss: 0.1386536330181046\n",
      "Epoch: 95 Train Loss: 0.11234534766674041 Test Loss: 0.13751155562317982\n",
      "Epoch: 96 Train Loss: 0.1082652322769165 Test Loss: 0.13806147106027547\n",
      "Epoch: 97 Train Loss: 0.11027788821905851 Test Loss: 0.13977096876956688\n",
      "Epoch: 98 Train Loss: 0.11109906280860304 Test Loss: 0.13827040456770995\n",
      "Epoch: 99 Train Loss: 0.11056524865925312 Test Loss: 0.13932624203673663\n",
      "Epoch: 100 Train Loss: 0.11067701088637114 Test Loss: 0.13942271368369794\n"
     ]
    }
   ],
   "source": [
    "epochs = 100\n",
    "lstm = LSTMModel().to(device)\n",
    "criterion = nn.CrossEntropyLoss()\n",
    "optimizer = torch.optim.Adam(lstm.parameters())\n",
    "train_losses, test_losses, train_f1_scores, test_f1_scores = train(criterion, optimizer, lstm, lstm_train_dataloader, lstm_test_dataloader, epochs=epochs, save_best=True, save_name='best_rnn_model3.pt')"
   ]
  },
  {
   "cell_type": "code",
   "execution_count": 156,
   "metadata": {},
   "outputs": [
    {
     "data": {
      "text/plain": [
       "0.7136150234741785"
      ]
     },
     "execution_count": 156,
     "metadata": {},
     "output_type": "execute_result"
    }
   ],
   "source": [
    "max(test_f1_scores)"
   ]
  },
  {
   "cell_type": "code",
   "execution_count": 256,
   "metadata": {},
   "outputs": [
    {
     "name": "stdout",
     "output_type": "stream",
     "text": [
      "0.7133956386292835\n"
     ]
    }
   ],
   "source": [
    "model = torch.load('best_rnn_model2.pt')\n",
    "model.eval()\n",
    "real = []\n",
    "pred = [] \n",
    "for x, y in lstm_test_dataloader3:\n",
    "    x = x.to(device)\n",
    "    y = y.to(device)\n",
    "    real.append(y)\n",
    "    out = model(x)\n",
    "    pred.append(torch.argmax(out, dim=1))\n",
    "print(f1_score(torch.cat(real).cpu(), torch.cat(pred).cpu()))"
   ]
  }
 ],
 "metadata": {
  "kernelspec": {
   "display_name": "hw1_env",
   "language": "python",
   "name": "python3"
  },
  "language_info": {
   "codemirror_mode": {
    "name": "ipython",
    "version": 3
   },
   "file_extension": ".py",
   "mimetype": "text/x-python",
   "name": "python",
   "nbconvert_exporter": "python",
   "pygments_lexer": "ipython3",
   "version": "3.8.16"
  },
  "orig_nbformat": 4
 },
 "nbformat": 4,
 "nbformat_minor": 2
}
