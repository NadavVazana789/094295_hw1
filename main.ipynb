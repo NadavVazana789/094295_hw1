{
 "cells": [
  {
   "cell_type": "code",
   "execution_count": 5,
   "metadata": {},
   "outputs": [],
   "source": [
    "import pandas as pd\n",
    "import numpy as np\n",
    "import torch\n",
    "import os\n",
    "from torch.utils.data import Dataset, DataLoader\n",
    "from torchvision import transforms, utils"
   ]
  },
  {
   "cell_type": "code",
   "execution_count": 8,
   "metadata": {},
   "outputs": [
    {
     "name": "stdout",
     "output_type": "stream",
     "text": [
      "h\n"
     ]
    }
   ],
   "source": [
    "TRAIN_PATH = 'data/train/'\n",
    "TEST_PATH = 'data/test/'"
   ]
  },
  {
   "attachments": {},
   "cell_type": "markdown",
   "metadata": {},
   "source": [
    "# Creating Dataset - Baseline Model"
   ]
  },
  {
   "cell_type": "code",
   "execution_count": 25,
   "metadata": {},
   "outputs": [],
   "source": [
    "class BaselineDataset(Dataset):\n",
    "    def __init__(self, transform=None):\n",
    "        self.data = []\n",
    "        self.target = []\n",
    "        for file in os.listdir(TRAIN_PATH):\n",
    "            df = pd.read_csv(TRAIN_PATH + file, sep='|')\n",
    "            df = df.fillna(method='ffill') # if possible fill with previous value\n",
    "            df = df.fillna(0) # else fill with 0\n",
    "            sepsis_discovered = df[df['SepsisLabel'] == 1].drop('SepsisLabel', axis=1)\n",
    "            self.target.append(1 if not sepsis_discovered.empty else 0)\n",
    "            self.data.append(torch.Tensor(df.drop('SepsisLabel', axis=1).iloc[-1] if sepsis_discovered.empty else sepsis_discovered.iloc[0]))\n",
    "        self.transform = transform\n",
    "\n",
    "    def __len__(self):\n",
    "        return len(self.data)\n",
    "\n",
    "    def __getitem__(self, idx):\n",
    "        return self.data[idx], self.target[idx]"
   ]
  },
  {
   "cell_type": "code",
   "execution_count": 26,
   "metadata": {},
   "outputs": [
    {
     "data": {
      "text/plain": [
       "(tensor([ 55.0000,  95.0000,  36.1100, 114.0000,  51.0000,  36.0000,  11.0000,\n",
       "           0.0000,   0.0000,  22.0000,   0.0000,   0.0000,   0.0000,   0.0000,\n",
       "           0.0000, 100.0000,   0.0000,   7.9000, 113.0000,   2.5000,   0.0000,\n",
       "          78.0000,   0.0000,   2.5000,   4.4000,   5.1000,   0.0000,   0.0000,\n",
       "          27.8000,   9.7000,   0.0000,  11.0000,   0.0000, 158.0000,  75.9100,\n",
       "           0.0000,   0.0000,   1.0000, -98.6000,  23.0000]),\n",
       " 0)"
      ]
     },
     "execution_count": 26,
     "metadata": {},
     "output_type": "execute_result"
    }
   ],
   "source": [
    "dataset = BaselineDataset()\n",
    "dataset[0]"
   ]
  },
  {
   "cell_type": "code",
   "execution_count": 27,
   "metadata": {},
   "outputs": [
    {
     "data": {
      "text/plain": [
       "(tensor([ 9.8000e+01,  1.0000e+02,  3.7560e+01,  1.4700e+02,  8.6000e+01,\n",
       "          5.9000e+01,  2.1000e+01,  0.0000e+00,  1.0000e+00,  2.3000e+01,\n",
       "          4.0000e-01,  7.4300e+00,  3.7000e+01,  0.0000e+00,  0.0000e+00,\n",
       "          1.7000e+01,  0.0000e+00,  8.5000e+00,  1.0900e+02,  1.0000e+00,\n",
       "          0.0000e+00,  1.2700e+02,  1.1000e+00,  2.4000e+00,  3.9000e+00,\n",
       "          3.8000e+00,  0.0000e+00,  0.0000e+00,  3.3200e+01,  1.2200e+01,\n",
       "          2.4900e+01,  1.0600e+01,  0.0000e+00,  1.8500e+02,  6.5790e+01,\n",
       "          1.0000e+00,  0.0000e+00,  0.0000e+00, -2.0000e-02,  2.6000e+01]),\n",
       " 1)"
      ]
     },
     "execution_count": 27,
     "metadata": {},
     "output_type": "execute_result"
    }
   ],
   "source": [
    "dataset[1]"
   ]
  }
 ],
 "metadata": {
  "kernelspec": {
   "display_name": "hw1_env",
   "language": "python",
   "name": "python3"
  },
  "language_info": {
   "codemirror_mode": {
    "name": "ipython",
    "version": 3
   },
   "file_extension": ".py",
   "mimetype": "text/x-python",
   "name": "python",
   "nbconvert_exporter": "python",
   "pygments_lexer": "ipython3",
   "version": "3.8.16"
  },
  "orig_nbformat": 4
 },
 "nbformat": 4,
 "nbformat_minor": 2
}
